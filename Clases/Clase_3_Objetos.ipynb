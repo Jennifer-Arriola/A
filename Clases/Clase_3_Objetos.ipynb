{
  "cells": [
    {
      "cell_type": "markdown",
      "metadata": {
        "id": "view-in-github",
        "colab_type": "text"
      },
      "source": [
        "<a href=\"https://colab.research.google.com/github/Jennifer-Arriola/Algoritmos/blob/main/Clases/Clase_3_Objetos.ipynb\" target=\"_parent\"><img src=\"https://colab.research.google.com/assets/colab-badge.svg\" alt=\"Open In Colab\"/></a>"
      ]
    },
    {
      "cell_type": "markdown",
      "metadata": {
        "id": "5r5Fekqmniyx"
      },
      "source": [
        "# Algoritmos y Estructuras de Datos.\n",
        "\n",
        "## - Clase 3 - Objetos  -"
      ]
    },
    {
      "cell_type": "markdown",
      "metadata": {
        "id": "dOGBblMynizD"
      },
      "source": [
        "# Clases en Python\n",
        "\n",
        "En Python, una $\\textit{Clase}$ nos permite definir nuestros propies tipos de objetos. Debemos pensar en una Clase, cómo un \"template\" de nuestros objetos, donde definiremos sus **atributos** (variables internas) y/o **métodos** (funciones internas). Ambas pueden ser invoacadas regularmente utilizando $\\texttt{obj.name}$.\n"
      ]
    },
    {
      "cell_type": "markdown",
      "metadata": {
        "id": "h3FoRfWknizD"
      },
      "source": [
        "## Definición"
      ]
    },
    {
      "cell_type": "code",
      "execution_count": null,
      "metadata": {
        "id": "PowhCzJznizE"
      },
      "outputs": [],
      "source": [
        "class MyfirstClass(): pass\n",
        "    # Atributos\n",
        "    # Métodos\n",
        "\n",
        "x = MyfirstClass() # Define un objecto del Tipo 'MyfirstClass'\n",
        "type(x)"
      ]
    },
    {
      "cell_type": "code",
      "execution_count": null,
      "metadata": {
        "id": "NO8rpxeQnizE"
      },
      "outputs": [],
      "source": [
        "xy=MyfirstClass()\n",
        "xy.name='Pierre' # Luego de realizada esta asignación \"xy.name\" es el \"name\" del objeto 'xy'\n",
        "print(xy.name)          # Notar que el atributo 'name' no estaba definido anteriormente en MyfirstClass.\n",
        "z=xy\n",
        "z.name='Paul' # los atributos son objetos mutables.\n",
        "print(xy.name)"
      ]
    },
    {
      "cell_type": "markdown",
      "metadata": {
        "id": "YVt4R9y-nizE"
      },
      "source": [
        "De manera similar a las funciones, podremos definir valores por defecto, para la instanciación de un nuevo objeto:\n"
      ]
    },
    {
      "cell_type": "code",
      "execution_count": null,
      "metadata": {
        "id": "HQrfrNCfnizE"
      },
      "outputs": [],
      "source": [
        "class Ratio():\n",
        "    \"Número Racional\"\n",
        "    def __init__(self,numerator,denominator): # Siempre usar \"self\" para referirse a los atributos\n",
        "                                              # del objeto (variables internas)\n",
        "        self.num=numerator\n",
        "        self.den=denominator"
      ]
    },
    {
      "cell_type": "code",
      "execution_count": null,
      "metadata": {
        "id": "vlsHwVhsnizE",
        "scrolled": true
      },
      "outputs": [],
      "source": [
        "q=Ratio(0,1) # Crea una variable \"q\" de tipo \"Ratio\" , donde el numerador es 0 y el denominador es 1\n",
        "print(q.num)\n",
        "print(q.den)"
      ]
    },
    {
      "cell_type": "markdown",
      "metadata": {
        "id": "a6mOjXKznizE"
      },
      "source": [
        "## Métodos asociados al objeto\n",
        "\n",
        "Dentro de la Clase definimos los métodos (funciones internas a los objetos) que los objetos requieren para realizar computaciones, acciones, etc.\n"
      ]
    },
    {
      "cell_type": "code",
      "execution_count": null,
      "metadata": {
        "id": "zCiFabFZnizF"
      },
      "outputs": [],
      "source": [
        "class Ratio():\n",
        "    \"rational number\"\n",
        "    def __init__(self,numerator,denominator):\n",
        "        self.num=numerator\n",
        "        self.den=denominator\n",
        "    def val(self):\n",
        "        return self.num/self.den"
      ]
    },
    {
      "cell_type": "code",
      "execution_count": null,
      "metadata": {
        "id": "K6T0ocb2nizF"
      },
      "outputs": [],
      "source": [
        "val(Ratio(0,1)) # Esto no funciona, recordar que 'val' es un método y no una función."
      ]
    },
    {
      "cell_type": "code",
      "execution_count": null,
      "metadata": {
        "id": "Y1Udle5FnizF"
      },
      "outputs": [],
      "source": [
        "q=Ratio(0,1)\n",
        "print(q.val())\n",
        "print(Ratio.val(q))"
      ]
    },
    {
      "cell_type": "markdown",
      "metadata": {
        "id": "ijj3NLYtnizG"
      },
      "source": [
        "## Sobrecarga de operadores/comandos (Overloading)\n",
        "\n",
        "La \"sobrecarga\" de una función, operador, método, ya definido nos permite cambiar su significado. Por ejemplo, nos gustaria re-definir el operador \"suma\" $\\textit{\"+\"}$, para nuestra nueva clase de objetos.    \n"
      ]
    },
    {
      "cell_type": "code",
      "execution_count": null,
      "metadata": {
        "id": "xc7Hpp1vnizG"
      },
      "outputs": [],
      "source": [
        "class Ratio():\n",
        "    \"rational number\"\n",
        "    def __init__(self,numerator=0,denominator=1):\n",
        "        self.num=numerator\n",
        "        self.den=denominator\n",
        "\n",
        "    # Methods\n",
        "    def val(self):\n",
        "        return self.num/self.den\n",
        "\n",
        "    #Overloading operators\n",
        "    def __add__(self,other):    # Sobrecarga del operador '+'.\n",
        "        return Ratio(self.num*other.den+self.den*other.num,self.den*other.den)\n",
        "\n",
        "    def suma(self,other):    # Sobrecarga del operador '+'.\n",
        "        return Ratio(self.num*other.den+self.den*other.num,self.den*other.den)\n",
        "\n",
        "    def __str__(self):          # Sobrecarga necesaria para la función 'print'.\n",
        "        return str(self.num)+'/'+str(self.den)  #Cómo devolvemos una cadena de caracteres, para que\n",
        "                                                #la función print muestre algo para nuestro objeto.\n",
        "    def __mul__(self,other):    # Sobrecarga del operador '*'.\n",
        "        return Ratio(self.num*other.num,self.den*other.den)\n",
        "    def __int__(self): #Sobrecarga de la función 'int'.\n",
        "        return int(self.val())\n",
        "\n",
        "    def __eq__(self, other): pass\n",
        "  #print(obj)----> print(str(obj))"
      ]
    },
    {
      "cell_type": "code",
      "execution_count": null,
      "metadata": {
        "id": "-vAC2MO4nizG"
      },
      "outputs": [],
      "source": [
        "q1=Ratio(2,3)\n",
        "q2=Ratio(1,3)\n",
        "q3 = q1 + q2\n",
        "#q3 = q1.suma(q2)\n",
        "#q3 = Ratio.suma(q1,q2)\n",
        "print(q3.num,q3.den) # No es muy bonito, podemos arreglarlo?\n",
        "print(q3)\n"
      ]
    }
  ],
  "metadata": {
    "colab": {
      "collapsed_sections": [
        "F5LEFMy1niy9",
        "vmdXzC7oniy_",
        "8XoYLGFknizB",
        "Rp7ZseF7nizC"
      ],
      "provenance": [],
      "include_colab_link": true
    },
    "kernelspec": {
      "display_name": "Python 3",
      "language": "python",
      "name": "python3"
    },
    "language_info": {
      "codemirror_mode": {
        "name": "ipython",
        "version": 3
      },
      "file_extension": ".py",
      "mimetype": "text/x-python",
      "name": "python",
      "nbconvert_exporter": "python",
      "pygments_lexer": "ipython3",
      "version": "3.8.3"
    }
  },
  "nbformat": 4,
  "nbformat_minor": 0
}