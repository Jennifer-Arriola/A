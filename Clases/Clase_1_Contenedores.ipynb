{
  "cells": [
    {
      "cell_type": "markdown",
      "metadata": {
        "id": "view-in-github",
        "colab_type": "text"
      },
      "source": [
        "<a href=\"https://colab.research.google.com/github/Jennifer-Arriola/Algoritmos/blob/main/Clases/Clase_1_Contenedores.ipynb\" target=\"_parent\"><img src=\"https://colab.research.google.com/assets/colab-badge.svg\" alt=\"Open In Colab\"/></a>"
      ]
    },
    {
      "cell_type": "markdown",
      "metadata": {
        "id": "X5BgC31_VADt"
      },
      "source": [
        "# Algoritmos y Estructuras de Datos.\n",
        "\n",
        "## - Clase 1 - Parte 2 - Contenedores -"
      ]
    },
    {
      "cell_type": "markdown",
      "metadata": {
        "id": "-FrdsCnUVAD1"
      },
      "source": [
        "En la lección anterior hemos visto:\n",
        "\n",
        "- Algunos typos de datos basicos:\n",
        "    - Enteros Integers (int)\n",
        "    - Números Reales (float)\n",
        "    - Valores Booleanos (bool)\n",
        "    - Cademas de caracteres (strings, 'str')\n",
        "<br></br>\n",
        "    \n",
        "- Algunas Funciones:\n",
        "    - <code>print</code>\n",
        "    - <code>input</code>\n",
        "<br></br>\n",
        "- Condicionales: <code>if, elif, else</code>\n",
        "\n",
        "- Ciclos y Repeticiones: <code>for, while</code>"
      ]
    },
    {
      "cell_type": "markdown",
      "metadata": {
        "id": "RdW7yW49VAD3"
      },
      "source": [
        "Hoy veremos los siguiente:\n",
        "\n",
        "-  Más de Tipos de Datos:\n",
        "    - Cademas de caracterres (strings, <code>'str'</code>)\n",
        "    - Tuplas (<code>'tuple'</code>)\n",
        "    - Conjuntos (<code>'set'</code>)\n",
        "    - Diccionarios (<code>'dict'</code>)\n",
        "    - Listas (<code>'list'</code>)\n",
        "<br></br>    \n",
        "\n",
        "- Definición y uso de Rangos\n",
        "\n",
        "- Direfencias entre *funciones* y *métodos*\n"
      ]
    },
    {
      "cell_type": "markdown",
      "metadata": {
        "id": "CssstBheVAD4"
      },
      "source": [
        "## Cadena de Carácteres (Strings)"
      ]
    },
    {
      "cell_type": "markdown",
      "metadata": {
        "id": "8ztJZaUoVAD4"
      },
      "source": [
        "Una cadena de carácteres (string) es una secuencia ordenada de carácteres. El $i$-ésimo elemento del string <code>c</code> puede ser accessado (siempre que el índice no este furea de rango) escribiendo <code>c[i]</code>.\n"
      ]
    },
    {
      "cell_type": "code",
      "execution_count": null,
      "metadata": {
        "id": "2cOQxJTwVAD5",
        "outputId": "b578697c-2ccf-4d00-b6fd-7c82044e9108"
      },
      "outputs": [
        {
          "name": "stdout",
          "output_type": "stream",
          "text": [
            "n t r o d\n",
            "I\n"
          ]
        }
      ],
      "source": [
        "c='Introducción'\n",
        "print(c[1],c[2],c[3],c[4],c[5])# Los índices comienzan en 0.\n",
        "print(c[-1]) # Python nos permite el uso de 'indices negativos'."
      ]
    },
    {
      "cell_type": "markdown",
      "metadata": {
        "id": "bN-qWpZ7VAD8"
      },
      "source": [
        "**En Python, todos los indices comienzan en 0**."
      ]
    },
    {
      "cell_type": "code",
      "execution_count": null,
      "metadata": {
        "id": "1IBp2X2CVAD9",
        "outputId": "e665f6bd-0e91-4b54-c36f-aa87cc3926c1"
      },
      "outputs": [
        {
          "data": {
            "text/plain": [
              "12"
            ]
          },
          "execution_count": 3,
          "metadata": {},
          "output_type": "execute_result"
        }
      ],
      "source": [
        "len(c) # La función len nos devuelve la longitud (cardinalidad) del contenedor."
      ]
    },
    {
      "cell_type": "code",
      "execution_count": null,
      "metadata": {
        "id": "IjsDT2_JVAD-",
        "outputId": "02818efa-8e7d-4e03-bbbe-8e97f461e55f"
      },
      "outputs": [
        {
          "name": "stdout",
          "output_type": "stream",
          "text": [
            "  E j e m p l o\n",
            "  0 1 2 3 4 5 6\n",
            "- 7 6 5 4 3 2 1\n"
          ]
        }
      ],
      "source": [
        "c='Ejemplo'\n",
        "print(' ',c[0],c[1],c[2],c[3],c[4],c[5],c[6])\n",
        "print(' ',0,1,2,3,4,5,6)\n",
        "print('-',7,6,5,4,3,2,1)"
      ]
    },
    {
      "cell_type": "code",
      "execution_count": null,
      "metadata": {
        "id": "revskSEdVAD_",
        "outputId": "411ca709-1767-4686-dd03-95bd3ad61275"
      },
      "outputs": [
        {
          "data": {
            "text/plain": [
              "'Ejemplo de unión de carácteres'"
            ]
          },
          "execution_count": 5,
          "metadata": {},
          "output_type": "execute_result"
        }
      ],
      "source": [
        "c='Ejemplo'\n",
        "c+=' de unión de carácteres' # El commando '+' applicado a una cadena de carácteres\n",
        "                             # es usado para la concatenación.\n",
        "c"
      ]
    },
    {
      "cell_type": "markdown",
      "metadata": {
        "id": "LTlzokKtVAD_"
      },
      "source": [
        "Ya habrán notado que para definir cadenas de carácteres podemos usar comillas simples <code>' '</code> o comillas dobles <code>\" \"</code>. No hay diferencia entre ambas de manera formal. Sin embargo, la convención normal es la siguiente:\n",
        "\n",
        "- Utilizamos comillas dobles cuando queremos imprimir una frase, e.g. <code>print</code> o <code>input</code>.\n",
        "\n",
        "- Utilizamos comillas simples cuando definimoms una variable del tipo cadena de carácteres.\n"
      ]
    },
    {
      "cell_type": "code",
      "execution_count": null,
      "metadata": {
        "id": "tLJx5fLcVAEA",
        "outputId": "26f48b8a-b7f7-4fcc-bec3-f4947776cf94"
      },
      "outputs": [
        {
          "name": "stdout",
          "output_type": "stream",
          "text": [
            "un string\n",
            "un string\n",
            "un string muy muy muy muy muy muy muy muy \n",
            "muy muy muy muy muy muy muy muy\n",
            "muy muy muy muy muy muy muy muy largo \n",
            "un string muy muy muy muy muy muy muy muy \n",
            "muy muy muy muy muy muy muy muy\n",
            "muy muy muy muy muy muy muy muy largo \n"
          ]
        }
      ],
      "source": [
        "#Uso de una, dos, o tres comillas simples, ó dobles.\n",
        "c='un string'\n",
        "print(c)\n",
        "c=\"un string\" #comillas simples, ó dobles, tienen el mismo efecto.\n",
        "print(c)\n",
        "\n",
        "c='''un string muy muy muy muy muy muy muy muy\n",
        "muy muy muy muy muy muy muy muy\n",
        "muy muy muy muy muy muy muy muy largo '''   #Las triple comillas nos permite agregar de forma directa\n",
        "                                            #un salto de linea.\n",
        "print(c)\n",
        "c=\"\"\"un string muy muy muy muy muy muy muy muy\n",
        "muy muy muy muy muy muy muy muy\n",
        "muy muy muy muy muy muy muy muy largo \"\"\"\n",
        "print(c)"
      ]
    },
    {
      "cell_type": "code",
      "execution_count": null,
      "metadata": {
        "id": "VfOkKQ3QVAEA",
        "outputId": "66571c7d-7cd0-4958-8108-422c2bad5722"
      },
      "outputs": [
        {
          "name": "stdout",
          "output_type": "stream",
          "text": [
            "True\n",
            "False\n"
          ]
        }
      ],
      "source": [
        "#Pertenencia, ulitzamos el operador \"in\"\n",
        "\n",
        "print('s' in c)\n",
        "print('z' in c)"
      ]
    },
    {
      "cell_type": "markdown",
      "metadata": {
        "id": "ouK_UyvcVAEB"
      },
      "source": [
        "**No se puede** cambiar el valor del contenido del la variable <code>c</code>, mediante indexación."
      ]
    },
    {
      "cell_type": "code",
      "execution_count": null,
      "metadata": {
        "id": "AYn8tn21VAEB",
        "outputId": "ad38db03-41d4-450d-fa24-318f78f6dd0f"
      },
      "outputs": [
        {
          "ename": "TypeError",
          "evalue": "'str' object does not support item assignment",
          "output_type": "error",
          "traceback": [
            "\u001b[0;31m---------------------------------------------------------------------------\u001b[0m",
            "\u001b[0;31mTypeError\u001b[0m                                 Traceback (most recent call last)",
            "Cell \u001b[0;32mIn[8], line 2\u001b[0m\n\u001b[1;32m      1\u001b[0m \u001b[39m#La asignación de un valor utilizando el indice esta prohibido.\u001b[39;00m\n\u001b[0;32m----> 2\u001b[0m c[\u001b[39m2\u001b[39;49m]\u001b[39m=\u001b[39m\u001b[39m'\u001b[39m\u001b[39ms\u001b[39m\u001b[39m'\u001b[39m\n",
            "\u001b[0;31mTypeError\u001b[0m: 'str' object does not support item assignment"
          ]
        }
      ],
      "source": [
        "#La asignación de un valor utilizando el indice esta prohibido.\n",
        "c[2]='s'"
      ]
    },
    {
      "cell_type": "code",
      "execution_count": null,
      "metadata": {
        "id": "YKyeeAJRVAEC",
        "outputId": "41ad6a4d-f257-487e-cda5-7096ed8594de"
      },
      "outputs": [
        {
          "name": "stdout",
          "output_type": "stream",
          "text": [
            "un string muy muy muy muy muy muy muy muy \n",
            "muy muy muy muy muy muy muy muy\n",
            "muy muy muy muy muy muy muy muy largo \n"
          ]
        },
        {
          "data": {
            "text/plain": [
              "' string '"
            ]
          },
          "execution_count": 9,
          "metadata": {},
          "output_type": "execute_result"
        }
      ],
      "source": [
        "#Pdemos accedder a un sub-conjunto de los valores del string.\n",
        "print(c)\n",
        "c[2:10]"
      ]
    },
    {
      "cell_type": "markdown",
      "metadata": {
        "id": "Yi4OZ77uVAEC"
      },
      "source": [
        "Aquí podemos ver alunos métodos útiles (para más información ulilizar la función <code>help(str)</code> o referirse a la documentación de Python).\n",
        "Sea $\\texttt{c}$ una cadena de carácteres:\n",
        "\n",
        "- $\\texttt{c * n}$ (donde $\\texttt{n}$ es un entero) retornará $\\texttt{n}$ copias de $\\texttt{c}$ concatenadas. Es equivalente a $\\underbrace{\\texttt{c + } \\cdots \\texttt{ + c}}_{\\texttt{n } \\text{ veces}}$.\n",
        "\n",
        "- $c.\\texttt{find('car')}$  retorna el primer indice $\\texttt{i}$ (si es que existe) para el cual $\\texttt{c[i]='car'}$.\n",
        "\n",
        "- Pdemos comparar cadenas de carácteres. Se utilizara el ordern lexicográfico.\n",
        "\n",
        "- $\\texttt{c.count(st)}$ cuenta el número de occurrencias del string $\\texttt{st}$ en $\\texttt{c}$ (sin contar los que se superponen).\n",
        "\n",
        "- $\\texttt{c.replace(st1,st2)}$ retornará una copia de $\\texttt{c}$ donde cada ocurrencia del string $\\texttt{'st1'}$ ha sido reeplazada por $\\texttt{'st2'}$."
      ]
    },
    {
      "cell_type": "code",
      "execution_count": null,
      "metadata": {
        "id": "zOKMsRo0VAEC",
        "outputId": "bcde68eb-1522-4143-f71b-1eb23daf3eb8"
      },
      "outputs": [
        {
          "name": "stdout",
          "output_type": "stream",
          "text": [
            "111111\n"
          ]
        },
        {
          "data": {
            "text/plain": [
              "3"
            ]
          },
          "execution_count": 10,
          "metadata": {},
          "output_type": "execute_result"
        }
      ],
      "source": [
        "#Ejemplos\n",
        "c = 3 * '11'\n",
        "print(c)\n",
        "c.count('11')"
      ]
    },
    {
      "cell_type": "code",
      "execution_count": null,
      "metadata": {
        "id": "wVTMxobwVAED",
        "outputId": "bb59f669-23f0-42a2-b865-88826e80e068"
      },
      "outputs": [
        {
          "data": {
            "text/plain": [
              "'ababab'"
            ]
          },
          "execution_count": 12,
          "metadata": {},
          "output_type": "execute_result"
        }
      ],
      "source": [
        "c = c.replace('11','ab')\n",
        "c"
      ]
    },
    {
      "cell_type": "code",
      "execution_count": null,
      "metadata": {
        "id": "RQzkVhJPVAED",
        "outputId": "43951df5-1468-4e82-f4aa-4fc2fc66bc4d"
      },
      "outputs": [
        {
          "name": "stdout",
          "output_type": "stream",
          "text": [
            "Los enteros 4 y 2 son pares. 4 \n",
            "Los enteros 0 y 2 son pares. algo \n",
            "Los enteros  0  y  2  son pares.  algo\n"
          ]
        }
      ],
      "source": [
        "#El método \"format\" nos permite realizar inseciones en un string.\n",
        "\n",
        "c = \"Los enteros {1} y {0} son pares. {1} \"\n",
        "\n",
        "print(c.format(2,4)) # Inserta los valores en el string, en el lugar reservado\n",
        "                     # por el número de argumento entre llaves.\n",
        "\n",
        "c=\"Los enteros {} y {} son pares. {} \"\n",
        "print(c.format(0,2,'algo'))  # Inserción directa (posicional) de valores en un string.\n",
        "\n",
        "print(\"Los enteros \", 0, \" y \", 2, \" son pares. \", 'algo' \"\")"
      ]
    },
    {
      "cell_type": "markdown",
      "metadata": {
        "id": "l5ZHRG6nVAEE"
      },
      "source": [
        "# Contenedores"
      ]
    },
    {
      "cell_type": "markdown",
      "metadata": {
        "id": "x6Kc7DHkVAEE"
      },
      "source": [
        "Informalmente, un *'contenedor'* es un \"tipo de objeto\" que contiene otros *'objetos'*. Python nos provee con distintos tipos de contenedores predefinidos.  \n",
        "\n",
        "A continuación veremos algunas propiedades de los contenedores más usados. Finalmente, haremos una rápida comparación de estos distintos tipos de estructuras de datos.   \n"
      ]
    },
    {
      "cell_type": "markdown",
      "metadata": {
        "id": "0l4MWIjpVAEE"
      },
      "source": [
        "## Tuplas"
      ]
    },
    {
      "cell_type": "markdown",
      "metadata": {
        "id": "SRdPj8qxVAEE"
      },
      "source": [
        "Una *tupla* es una secuencia finita de objetos, los cuales pueden ser de distintos tipos. Genralmente, definimos una tupla, escribiendo una secuencia de objetos entre *paréntesis* y separados entre *comas*. Esta es una estructura de datos *rígida*, es decir, no podemos modificar una tupla. Sin embargo, las tuplas pueden ser concatenadas, de manera similar a la concatenación de strings. Podemos obtener la logitud de una tupla, utilizando la función <code>len()</code>. También podemos acceder a los elementos de la tupla usando indices.\n"
      ]
    },
    {
      "cell_type": "code",
      "execution_count": null,
      "metadata": {
        "id": "1Ja_JC6qVAEE",
        "outputId": "8e26bab6-4f06-469d-fe41-c792d87e2ce1"
      },
      "outputs": [
        {
          "data": {
            "text/plain": [
              "tuple"
            ]
          },
          "execution_count": 15,
          "metadata": {},
          "output_type": "execute_result"
        }
      ],
      "source": [
        "# Definición de una tupla.\n",
        "x=(0,1,2,'obj',(1,2))\n",
        "# Tipo\n",
        "type(x)"
      ]
    },
    {
      "cell_type": "code",
      "execution_count": null,
      "metadata": {
        "id": "tTHhhZ3zVAEF",
        "outputId": "cfc70832-6123-43e4-d333-bb20589e5383"
      },
      "outputs": [
        {
          "data": {
            "text/plain": [
              "5"
            ]
          },
          "execution_count": 16,
          "metadata": {},
          "output_type": "execute_result"
        }
      ],
      "source": [
        "# Longitud de la tupla\n",
        "len(x)"
      ]
    },
    {
      "cell_type": "code",
      "execution_count": null,
      "metadata": {
        "id": "koDPRJHLVAEF",
        "outputId": "069a9368-759c-4bd5-bb2d-ec0fcb2ac514"
      },
      "outputs": [
        {
          "data": {
            "text/plain": [
              "1"
            ]
          },
          "execution_count": 17,
          "metadata": {},
          "output_type": "execute_result"
        }
      ],
      "source": [
        "# Acceso mediante indices\n",
        "x[1]"
      ]
    },
    {
      "cell_type": "code",
      "execution_count": null,
      "metadata": {
        "id": "4KcLLKAAVAEF",
        "outputId": "0c4fed16-48ad-4969-9d0d-375d18d4096f"
      },
      "outputs": [
        {
          "data": {
            "text/plain": [
              "(0, 1, 2, 'obj', (1, 2), 2, 3, 4)"
            ]
          },
          "execution_count": 18,
          "metadata": {},
          "output_type": "execute_result"
        }
      ],
      "source": [
        "# Concatenación\n",
        "x=x+(2,3,4)\n",
        "x"
      ]
    },
    {
      "cell_type": "code",
      "execution_count": null,
      "metadata": {
        "id": "LI1tMMI6VAEG",
        "outputId": "c51902c5-198a-4789-a197-e767e65cee12"
      },
      "outputs": [
        {
          "ename": "TypeError",
          "evalue": "'tuple' object does not support item assignment",
          "output_type": "error",
          "traceback": [
            "\u001b[0;31m---------------------------------------------------------------------------\u001b[0m",
            "\u001b[0;31mTypeError\u001b[0m                                 Traceback (most recent call last)",
            "Cell \u001b[0;32mIn[19], line 2\u001b[0m\n\u001b[1;32m      1\u001b[0m \u001b[39m# No podemos asignar valores directamente usando indices\u001b[39;00m\n\u001b[0;32m----> 2\u001b[0m x[\u001b[39m1\u001b[39;49m]\u001b[39m=\u001b[39m\u001b[39m100\u001b[39m\n",
            "\u001b[0;31mTypeError\u001b[0m: 'tuple' object does not support item assignment"
          ]
        }
      ],
      "source": [
        "# No podemos asignar valores directamente usando indices\n",
        "x[1] = 100"
      ]
    },
    {
      "cell_type": "code",
      "execution_count": null,
      "metadata": {
        "id": "3qWxOrowVAEG",
        "outputId": "0e3c9c78-2e19-4c0d-f4a1-da2a84eb326e"
      },
      "outputs": [
        {
          "data": {
            "text/plain": [
              "True"
            ]
          },
          "execution_count": 20,
          "metadata": {},
          "output_type": "execute_result"
        }
      ],
      "source": [
        "(0,1,3) < (1,1,0)"
      ]
    },
    {
      "cell_type": "markdown",
      "metadata": {
        "id": "RuiBNOnhVAEG"
      },
      "source": [
        "No hay muchos métodos específicos asociados a las tuplas.\n",
        "\n",
        "- <code>x.count(obj)</code> retorna el número de occurencias del objeto <code>'obj'</code> en <code>'x'</code>.\n",
        "- <code>x.index(obj)</code> retorna el indice de la primer occurencia del objeto <code>'obj'</code> en <code>'x'</code>."
      ]
    },
    {
      "cell_type": "code",
      "execution_count": null,
      "metadata": {
        "id": "-qXauGwxVAEG",
        "outputId": "b4bfe068-7661-409d-cacc-8f9ae2252364"
      },
      "outputs": [
        {
          "name": "stdout",
          "output_type": "stream",
          "text": [
            "2\n",
            "2\n"
          ]
        }
      ],
      "source": [
        "print(x.count(2))\n",
        "print(x.index(2))"
      ]
    },
    {
      "cell_type": "markdown",
      "metadata": {
        "id": "D21HwKzXVAEH"
      },
      "source": [
        "## Conjuntos"
      ]
    },
    {
      "cell_type": "markdown",
      "metadata": {
        "id": "FNtQLB3AVAEH"
      },
      "source": [
        "Un ***conjunto*** es una colección finita de objetos denotados entre *llaves* y separados por *comas*. Los conjuntos tienen (deben cumplir) todas las propiedades de los conjuntos matemáticos.\n"
      ]
    },
    {
      "cell_type": "code",
      "execution_count": null,
      "metadata": {
        "id": "e_K12kDiVAEH",
        "outputId": "e4a0525c-97a7-493d-f7d1-690946ce146d"
      },
      "outputs": [
        {
          "data": {
            "text/plain": [
              "set"
            ]
          },
          "execution_count": 22,
          "metadata": {},
          "output_type": "execute_result"
        }
      ],
      "source": [
        "# Definición de un conjunto.\n",
        "A={1,2,4,5,6}\n",
        "# Tipo.\n",
        "type(A)"
      ]
    },
    {
      "cell_type": "code",
      "execution_count": null,
      "metadata": {
        "id": "3aJ9e3ymVAEH",
        "outputId": "1617df9f-3125-4e62-dbca-a01e577029ef"
      },
      "outputs": [
        {
          "data": {
            "text/plain": [
              "True"
            ]
          },
          "execution_count": 23,
          "metadata": {},
          "output_type": "execute_result"
        }
      ],
      "source": [
        "# Al igual que en los conjuntos matemáticos, no aceptan repticiones.\n",
        "A=={1,1,2,2,5,5,4,4,4,6}"
      ]
    },
    {
      "cell_type": "code",
      "execution_count": null,
      "metadata": {
        "id": "Ky0Im_gKVAEI",
        "outputId": "712ec09d-ec24-4669-8542-4ebf1939915a"
      },
      "outputs": [
        {
          "ename": "TypeError",
          "evalue": "'set' object is not subscriptable",
          "output_type": "error",
          "traceback": [
            "\u001b[0;31m---------------------------------------------------------------------------\u001b[0m",
            "\u001b[0;31mTypeError\u001b[0m                                 Traceback (most recent call last)",
            "Cell \u001b[0;32mIn[24], line 2\u001b[0m\n\u001b[1;32m      1\u001b[0m \u001b[39m# Los conjuntos no soportan indexación directa. \u001b[39;00m\n\u001b[0;32m----> 2\u001b[0m A[\u001b[39m1\u001b[39;49m]\n",
            "\u001b[0;31mTypeError\u001b[0m: 'set' object is not subscriptable"
          ]
        }
      ],
      "source": [
        "# Los conjuntos no soportan indexación directa.\n",
        "A[1]"
      ]
    },
    {
      "cell_type": "code",
      "execution_count": null,
      "metadata": {
        "id": "2Pl_tShcVAEI",
        "outputId": "1bb7050e-9cc4-4387-f4ed-f60de4d39ce2"
      },
      "outputs": [
        {
          "data": {
            "text/plain": [
              "{' ', 'c', 'e', 'j', 'n', 'o', 'r', 's', 't', 'u', 'á'}"
            ]
          },
          "execution_count": 25,
          "metadata": {},
          "output_type": "execute_result"
        }
      ],
      "source": [
        "# Conversión de un string a un conjunto (de letras).\n",
        "c='será un conjunto'\n",
        "set(c)"
      ]
    },
    {
      "cell_type": "code",
      "execution_count": null,
      "metadata": {
        "id": "_mBFaAfeVAEI",
        "outputId": "30b9589d-781b-4b75-b332-ef826b5d298b"
      },
      "outputs": [
        {
          "data": {
            "text/plain": [
              "5"
            ]
          },
          "execution_count": 26,
          "metadata": {},
          "output_type": "execute_result"
        }
      ],
      "source": [
        "# La función len nos retorna la cardinalidad del conjunto.\n",
        "len(A)"
      ]
    },
    {
      "cell_type": "markdown",
      "metadata": {
        "id": "dcOhauXfVAER"
      },
      "source": [
        "Aquí hemos provisto una lista (no completa) de métodos útiles para el manejo de conjuntos:\n",
        "\n",
        "\n",
        "- <code>A.intersection(B)</code> retorna la intersección de los conjuntos <code>A</code> y <code>B</code>.\n",
        "- <code>A.union(B)</code> retorna la unión de los conjuntos <code>A</code> y <code>B</code>.\n",
        "- <code>A.difference(B)</code> retorna la diferencia simetrica de conjuntos ($\\texttt{A}\\cap \\texttt{B}^c$).\n",
        "- <code>A.copy()</code> retorna una copia del conjunto <code>A</code>.\n",
        "- Podemos comparar dos conjuntos (seguiendo el orden de inclusión).\n",
        "\n",
        "\n",
        "También podemoms realizar cambios directamente sobre un conjunto:\n",
        "\n",
        "- <code>A.add(a)</code> reemplaza el conjunto $\\texttt{A}$ por $\\texttt{A} \\cup \\{a\\}$ (no tiene efecto si el elemento $a$ pertenece al conjunto $\\texttt{A}$).\n",
        "- <code>A.discard(a)</code> reeplaza el conjunto $\\texttt{A}$ por $\\texttt{A}$ removiendo el elemento $a$ (no tiene efecto si el elemento $a$ no pertenece al conjunto $\\texttt{A}$).\n",
        "- <code>A.difference_update(B)</code> reemplazara el conjunto $\\texttt{A}$ por $\\texttt{A} \\cap \\texttt{B}^c$.\n"
      ]
    },
    {
      "cell_type": "code",
      "execution_count": null,
      "metadata": {
        "id": "a6F8v7YeVAES",
        "outputId": "e662dfb1-b6c7-4113-9783-da5c761eebf4"
      },
      "outputs": [
        {
          "name": "stdout",
          "output_type": "stream",
          "text": [
            "{1, 2, 4} {1, 2, 4}\n",
            "{1, 2, 4} {1, 4}\n"
          ]
        }
      ],
      "source": [
        "A={1,2,4}\n",
        "B=A.copy()\n",
        "print(A,B)\n",
        "B.discard(2)\n",
        "print(A,B)"
      ]
    },
    {
      "cell_type": "markdown",
      "metadata": {
        "id": "j7xDrwjkVAES"
      },
      "source": [
        "Una manera útil de definir conjuntos matemáticamente es por comprensión (en vez de definirlos por \"extensión\").\n",
        "\n",
        "$$\\texttt{B:=}\\{\\texttt{f(x)}\\mid \\texttt{x} \\in \\texttt{A}\\}$$\n",
        "\n",
        "En Python lo escribimos es la siguiente forma:\n",
        "\n",
        "$$\\texttt{B=} \\{ \\texttt{funcion(x)} \\normalsize \\color{green}{\\textsf{ for }} \\texttt{ x } \\normalsize \\color{green}{\\textsf{ in }} \\texttt{A} \\}$$\n"
      ]
    },
    {
      "cell_type": "code",
      "execution_count": null,
      "metadata": {
        "id": "wJ5jLzxdVAET",
        "outputId": "b0023e42-4868-4da0-a000-cbe25b922817"
      },
      "outputs": [
        {
          "data": {
            "text/plain": [
              "{' 1', 'c1', 'e1', 'j1', 'n1', 'o1', 'r1', 's1', 't1', 'u1', 'á1'}"
            ]
          },
          "execution_count": 30,
          "metadata": {},
          "output_type": "execute_result"
        }
      ],
      "source": [
        "# Ejemplo de cómo definir un conjunto por comprensión.\n",
        "B={ x + '1' for x in c}\n",
        "B"
      ]
    },
    {
      "cell_type": "markdown",
      "metadata": {
        "id": "1mA7S2tiVAET"
      },
      "source": [
        "## Diccionarios.\n",
        "\n",
        "Un diccionario o \"tabla associativa\" es un contenedor muy particular y de amplio uso (estan optimizados al igual que cualquier tipo \"hashable\" en Python).\n",
        "Es una colección de items $\\texttt{\"llave:valor\"}$ donde la *\"llave\"* y el *\"valor* pueden ser cualquier tipo de objeto, y los escribimos de la siguiente forma:\n",
        "\n",
        "$$\\texttt{c =} \\{ \\texttt{l}_1 : \\texttt{v}_1 , \\texttt{l}_2 : \\texttt{v}_2, \\ldots \\} $$\n"
      ]
    },
    {
      "cell_type": "code",
      "execution_count": null,
      "metadata": {
        "id": "c-m9b6-WVAET",
        "outputId": "1cdbe779-2c1e-4455-aad8-6229ee379c7d"
      },
      "outputs": [
        {
          "name": "stdout",
          "output_type": "stream",
          "text": [
            "<class 'dict'>\n"
          ]
        }
      ],
      "source": [
        "dicc1={'Jean Paul':'jeanpaul@mail.com',\\\n",
        "'Fanny':'fanny@mail.com',\\\n",
        "'Robert':'robert@mail.com',\\\n",
        "'Stephanie': (6812424239),\\\n",
        "0:2}\n",
        "\n",
        "# Tipo\n",
        "print(type(dicc1))"
      ]
    },
    {
      "cell_type": "markdown",
      "metadata": {
        "id": "F2TBdLE-VAEU"
      },
      "source": [
        "- La función  <code>len()</code> nos devuelve la cardinalidad.\n",
        "- No podemoms indexarlos de manera habitual, es decir de manera posicional, deberemo usar las llaves de diccionario para retornar los valores correspondientes.\n",
        "- Es posible asignar nuevos valores a una las llaves."
      ]
    },
    {
      "cell_type": "code",
      "execution_count": null,
      "metadata": {
        "id": "ypOXY0K3VAEU",
        "outputId": "2adf8220-d6c7-4e76-ff2b-abef684f3896"
      },
      "outputs": [
        {
          "name": "stdout",
          "output_type": "stream",
          "text": [
            "5\n",
            "jeanpaul@mail.com\n",
            "2\n"
          ]
        }
      ],
      "source": [
        "dicc1={'Jean Paul':'jeanpaul@mail.com',\\\n",
        "'Fanny':'fanny@mail.com',\\\n",
        "'Robert':'robert@mail.com',\\\n",
        "'Stephanie': (6812424239),\\\n",
        "0:2}\n",
        "# Es posible obtener la cardinalidad.\n",
        "print(len(dicc1))\n",
        "# Los diccionarios no pueden ser indexados posicionalmente. Debemos proveer la llave del valor que deseamos.\n",
        "print(dicc1['Jean Paul'])\n",
        "print(dicc1[0])"
      ]
    },
    {
      "cell_type": "code",
      "execution_count": null,
      "metadata": {
        "id": "h0GK3bOsVAEU",
        "outputId": "700bb16d-f838-4826-94ad-46b11ce4607f"
      },
      "outputs": [
        {
          "data": {
            "text/plain": [
              "dict"
            ]
          },
          "execution_count": 34,
          "metadata": {},
          "output_type": "execute_result"
        }
      ],
      "source": [
        "# Tipo\n",
        "type(dicc1)"
      ]
    },
    {
      "cell_type": "code",
      "execution_count": null,
      "metadata": {
        "id": "LxMQKmsrVAEU",
        "outputId": "147d80fc-33b3-4c94-b11f-c0918aa09509"
      },
      "outputs": [
        {
          "name": "stdout",
          "output_type": "stream",
          "text": [
            "stephanie@mail.com\n"
          ]
        }
      ],
      "source": [
        "dicc1={'Jean Paul':'jeanpaul@mail.com',\\\n",
        "'Fanny':'fanny@mail.com',\\\n",
        "'Robert':'robert@mail.com',\\\n",
        "'Stephanie': (6812424239),\\\n",
        "0:2}\n",
        "# Podemoms cambiar los valores associados a un llave mediante asignación.\n",
        "dicc1['Stephanie'] = 'stephanie@mail.com'\n",
        "print(dicc1)"
      ]
    },
    {
      "cell_type": "code",
      "execution_count": null,
      "metadata": {
        "id": "qhqM530lVAEV",
        "outputId": "a134a255-1ea9-4781-940b-33564e0fd867"
      },
      "outputs": [
        {
          "name": "stdout",
          "output_type": "stream",
          "text": [
            "{0: 3, 'x': 'x@mail.lu'}\n"
          ]
        }
      ],
      "source": [
        "# Cual es el efecto de tener una llave duplicada?\n",
        "dicc2={0:7,'x':'x@mail.lu', 0:3}\n",
        "print(dicc2)\n",
        "# La segunda (o última) llave definida, sobrescribira el valor anterior."
      ]
    },
    {
      "cell_type": "code",
      "execution_count": null,
      "metadata": {
        "id": "1omuCUaDVAEV",
        "outputId": "326e97ec-1619-4c26-ecbf-4897333767a7"
      },
      "outputs": [
        {
          "data": {
            "text/plain": [
              "{'Jean Paul': 'jeanpaul@mail.com',\n",
              " 'Fanny': 'fanny@mail.com',\n",
              " 'Robert': 'robert@mail.com',\n",
              " 'Stephanie': 'stephanie@mail.com',\n",
              " 0: 2}"
            ]
          },
          "execution_count": 38,
          "metadata": {},
          "output_type": "execute_result"
        }
      ],
      "source": [
        "# Podemos convertir un diccionario a una tupla\n",
        "tuple(dicc1)\n",
        "# No es posible en el sentido contrario (de tupla a diccionario).\n",
        "dict(dicc1)"
      ]
    },
    {
      "cell_type": "markdown",
      "metadata": {
        "id": "tJsqTjxeVAEW"
      },
      "source": [
        "Aquí tenemos algunos métodos útiles para usar diccionarios. Sea <code>dic</code> un diccionario.\n",
        "\n",
        "- <code>dic.item()</code> retorna una *lista* de los valores en el diccionario (las listas están definidas en la siguiente sección).\n",
        "- <code>dic.keys()</code> solo retorna los valores de las llaves del diccionario.\n",
        "- <code>dic.values()</code> solo retorna los valores del diccionario.\n",
        "- <code>dic.copy()</code> retorna una copia del diccionario <code>dic</code>.\n",
        "- <code>dic.pop(key)</code> retorna y quita del diccionario el valor que referido por la llave <code>key</code>\n",
        "- <code>dic.popitem()</code> retorna y quita del diccionario el último item ingresado/añadido.\n",
        "- <code>dic.update(newdic)</code> actualiza <code>dic</code> con los valores de otro diccionario <code>newdic</code>, solo para las llaves de <code>newdic</code> que no están en <code>dic</code>."
      ]
    },
    {
      "cell_type": "markdown",
      "metadata": {
        "id": "ypgZNX5dVAEW"
      },
      "source": [
        "- <code>dic[key]=value</code>\n",
        "\n",
        "Asignará un nuevo valor a la llave <code>key</code>, solo si la llave ya pertenece al diccionario. En caso de que la llave no exista en el diccionario, añadira el nuevo par <code>(key:value)</code> al diccionario.\n"
      ]
    },
    {
      "cell_type": "code",
      "execution_count": null,
      "metadata": {
        "id": "sGoFDWC2VAEW",
        "outputId": "146e610b-6d6c-4247-cf77-123fc8e5de62"
      },
      "outputs": [
        {
          "name": "stdout",
          "output_type": "stream",
          "text": [
            "{'Jean Paul': 'jeanpaul@mail.com', 'Fanny': 'fanny@mail.com', 'Robert': 'robert@mail.com', 'Stephanie': 'stephanie@mail.com', 0: 2, 'Carl': 'carl@mail.com'}\n"
          ]
        }
      ],
      "source": [
        "dicc1={'Jean Paul':'jeanpaul@mail.com',\\\n",
        "'Fanny':'fanny@mail.com',\\\n",
        "'Robert':'robert@mail.com',\\\n",
        "'Stephanie': (6812424239),\\\n",
        "0:2}\n",
        "dicc1['Stephanie']='stephanie@mail.com'\n",
        "dicc1['Carl']='carl@mail.com'\n",
        "print(dicc1)"
      ]
    },
    {
      "cell_type": "code",
      "execution_count": null,
      "metadata": {
        "id": "k7taK1CdVAEW",
        "outputId": "17c797a7-4594-4e68-cbe6-c80d966edb9e"
      },
      "outputs": [
        {
          "name": "stdout",
          "output_type": "stream",
          "text": [
            "{'Jean Paul': 'jeanpaul@mail.com', 'Fanny': 'fanny@mail.com', 'Robert': 'robert@mail.com', 'Stephanie': 6812424239, 0: 2} {0: 3, 'x': 'x@mail.com'}\n",
            "{'Jean Paul': 'jeanpaul@mail.com', 'Fanny': 'fanny@mail.com', 'Robert': 'robert@mail.com', 'Stephanie': 6812424239, 0: 3, 'x': 'x@mail.com'}\n"
          ]
        }
      ],
      "source": [
        "dicc1={'Jean Paul':'jeanpaul@mail.com',\\\n",
        "'Fanny':'fanny@mail.com',\\\n",
        "'Robert':'robert@mail.com',\\\n",
        "'Stephanie': (6812424239),\\\n",
        "0:2}\n",
        "dicc2={0:7,'x':'x@mail.com',0:3}\n",
        "print(dicc1,dicc2)\n",
        "dicc1.update(dicc2)\n",
        "print(dicc1)"
      ]
    },
    {
      "cell_type": "markdown",
      "metadata": {
        "id": "-fN3wIkjVAEX"
      },
      "source": [
        "## Listas\n",
        "\n",
        "Una lista es un contenedor ordenado de objetos (pueden ser de distinto tipo). Lo definimos ente *corchetes* y los objetos separados por *comas*.\n",
        "\n",
        "$$\\texttt{L = [ x, y,  }\\ldots \\texttt{ ]}$$"
      ]
    },
    {
      "cell_type": "code",
      "execution_count": null,
      "metadata": {
        "id": "fl-CEtLgVAEX",
        "outputId": "b74e18b1-724b-4465-ce7c-347d76b3b4c4"
      },
      "outputs": [
        {
          "data": {
            "text/plain": [
              "list"
            ]
          },
          "execution_count": 41,
          "metadata": {},
          "output_type": "execute_result"
        }
      ],
      "source": [
        "# Definición\n",
        "L=[2,3,4]\n",
        "# Tipo\n",
        "type(L)"
      ]
    },
    {
      "cell_type": "code",
      "execution_count": null,
      "metadata": {
        "id": "wwxGmANbVAEX",
        "outputId": "2e1fb60d-f0f6-48c1-873f-ddbe8cc3c10f"
      },
      "outputs": [
        {
          "data": {
            "text/plain": [
              "[0, 1, 4, 9, 16, 25, 36, 49, 64]"
            ]
          },
          "execution_count": 42,
          "metadata": {},
          "output_type": "execute_result"
        }
      ],
      "source": [
        "# También podemoms definir Listas por comprensión (al igual que los conjuntos).\n",
        "L=[ x**2 for x in range(0,9)]\n",
        "L"
      ]
    },
    {
      "cell_type": "markdown",
      "metadata": {
        "id": "5uKhAr5kVAEY"
      },
      "source": [
        "Podemos utilizar los indices de distintas maneras para poder acceder mas convenientemente a partes de una lista. Esta notación funciona para cualquier tipo de contenedor ordenado (i.e. strings, tuples, etc).\n",
        "\n",
        "- $\\texttt{L [ i ]}$ retorna el $i$-esimo elemento de la lista $\\texttt{L}$.\n",
        "- $\\texttt{L [ i : j ]}$ retorna los elementos desde el $i$-esimo (includido) hasta el $j$-esimo (excludido). El resultado tiene el mismo tipo que $\\texttt{L}$.\n",
        "- $\\texttt{L [ i : ]}$ es equivalente a: $\\texttt{L [ i : }$<code>len(L)</code>$\\texttt{ ]}$.\n",
        "- $\\texttt{L [ : j ]}$ es equivalente a: $\\texttt{L [ 0 : j ]}$.\n",
        "- $\\texttt{L [ i : : paso ]}$ retorna la lista de elemntos desde la $i$-esima posición progresando sobre los indices de acuerdo a $\\texttt{paso}$.\n",
        "\n",
        "También podemos concatenar listas usando el operador *'<code>+</code>'*\n"
      ]
    },
    {
      "cell_type": "code",
      "execution_count": null,
      "metadata": {
        "id": "TwLvXtYLVAEY",
        "outputId": "f9b00cd1-9492-4172-87a9-2c49beb6dbb3"
      },
      "outputs": [
        {
          "name": "stdout",
          "output_type": "stream",
          "text": [
            "[1, 2, 3, 12, 5, 6]\n"
          ]
        }
      ],
      "source": [
        "# Cambiar el i-ésimo elemento.\n",
        "L=[1,2,3,4,5,6]\n",
        "L[3]=12\n",
        "print(L)"
      ]
    },
    {
      "cell_type": "code",
      "execution_count": null,
      "metadata": {
        "id": "rTe6cW6pVAEY",
        "outputId": "25979fe5-52ed-429a-9398-f128a8ee8322"
      },
      "outputs": [
        {
          "data": {
            "text/plain": [
              "[3, 6]"
            ]
          },
          "execution_count": 44,
          "metadata": {},
          "output_type": "execute_result"
        }
      ],
      "source": [
        "# Podemoms acceder a la lista usando indices.\n",
        "L=[1,2,3,4,5,6]\n",
        "L[2::3]"
      ]
    },
    {
      "cell_type": "code",
      "execution_count": null,
      "metadata": {
        "id": "AI7AnxVHVAEZ",
        "outputId": "3838bc49-c396-4713-b1de-ac870d1d27ba"
      },
      "outputs": [
        {
          "name": "stdout",
          "output_type": "stream",
          "text": [
            "[1, 2, 3, 4, 5, 6, 'caballo', 'perro']\n"
          ]
        }
      ],
      "source": [
        "# Concatenación de Listas\n",
        "L=[1,2,3,4,5,6]\n",
        "M=['caballo','perro']\n",
        "N= L + M\n",
        "print(N)"
      ]
    },
    {
      "cell_type": "markdown",
      "metadata": {
        "id": "2F6b1mmDVAEZ"
      },
      "source": [
        "Aquí hay una breve lista de los métodos asociados al tipo *Lista*:\n",
        "\n",
        "- $\\texttt{L.count}(\\texttt{obj})$ retorna el número de ocurrencias del objeto $\\texttt{obj}$ en la $\\texttt{L}$.  \n",
        "- $\\texttt{L.index}(\\texttt{value})$  retorna el primer indice $i$ para el cual $\\texttt{L [ i ] = value}$.\n",
        "- $\\texttt{L.insert}(\\texttt{i, obj})$ inserta el objecto $\\texttt{obj}$ en la $i$-esima posición, moveindo el resto de los contenidos de la lista hacia la derecha.\n",
        "- $\\texttt{L.remove}(\\texttt{value})$ remueve de $\\texttt{L}$ laprimer ocurrencia de $\\texttt{value}$.\n",
        "- $\\texttt{L.pop}(\\texttt{index})$ retorna el valor indexado y lo remueve de $\\texttt{L}$.\n",
        "- $\\texttt{L.reverse}()$ escribe la lista $\\texttt{L}$ del revez (cambia $\\texttt{L}$).\n",
        "- $\\texttt{L.sort}(\\texttt{L})$ (re)ordena $\\texttt{L}$ de acuerdo al orden lexicográfico. Los elementos deben ser del mismo tipo.\n"
      ]
    },
    {
      "cell_type": "code",
      "execution_count": null,
      "metadata": {
        "id": "PZazKV6cVAEZ",
        "outputId": "716e761f-cefa-4601-bbae-332a73653f4e"
      },
      "outputs": [
        {
          "name": "stdout",
          "output_type": "stream",
          "text": [
            "['1', '2', '3', '5', 'caballo']\n"
          ]
        }
      ],
      "source": [
        "L=['1','5','2','caballo','3']\n",
        "L.sort()\n",
        "print(L)"
      ]
    },
    {
      "cell_type": "markdown",
      "metadata": {
        "id": "RRnSIP6UVAEa"
      },
      "source": [
        "## Rangos\n",
        "\n",
        "Los Rangos, son tipos especiales de contenedores. Generalmente, construiremos un rango de la siguiente forma:\n",
        "  <code>range(comienzo, fin, paso)</code>.\n",
        "\n",
        "Este commando generara un *rango* de números enteros desde $\\texttt{comienzo}$ (incluido) hasta $\\texttt{stop}$ (excluido) tomando en cuenta la \"longitud de salto\" definida por $\\texttt{paso}$.\n",
        "\n",
        "También pordemos invocar a <code>range(comienzo, fin)</code>. y el *'paso'* será por defecto 1, también podemos invocar <code>range(fin)</code>. donde el *'comienzo'* será por defecto 0."
      ]
    },
    {
      "cell_type": "code",
      "execution_count": null,
      "metadata": {
        "id": "Ov8cPJhpVAEa",
        "outputId": "3242fdbd-0154-4b59-b6c3-be92e9dd8bde"
      },
      "outputs": [
        {
          "data": {
            "text/plain": [
              "range(1, 100, 2)"
            ]
          },
          "execution_count": 47,
          "metadata": {},
          "output_type": "execute_result"
        }
      ],
      "source": [
        "# Por que no vemos un resultado?\n",
        "range(1,100,2)"
      ]
    },
    {
      "cell_type": "markdown",
      "metadata": {
        "id": "WqpAbMhDVAEa"
      },
      "source": [
        "El rango no es un objeto **per se**, podemos tratarlo como una *'potencial'* lista de enteros. Sin embargo, también es posible checkear que <code>'algo'</code> esta o pertenece a cierto rango utilizando <code>in</code>, i.e. <code>'algo' in range(comienzo, fin)</code>.\n"
      ]
    },
    {
      "cell_type": "markdown",
      "metadata": {
        "id": "Qk3PQ97LVAEb"
      },
      "source": [
        "## Differencias y relaciones entre estas Estructuras de Datos\n",
        "\n",
        "- Un diccionario es una forma conveniente de almacenar/actualizar/eliminar información sobre llaves esspecíficas. Sin embargo, es un objeto de mayor complejidad y debe ser utilizado con cuidado.\n",
        "\n",
        "- Una cadena de carácteres es un objeto especifico. Es una forma simple se comunicarse con el usuario, usando el método $\\texttt{format}$.\n",
        "\n",
        "- Los strings y la tuplas, son tipos inmutables. No existen métodos definidos para cambiar sus valores internos.\n"
      ]
    },
    {
      "cell_type": "code",
      "execution_count": null,
      "metadata": {
        "id": "feA38vGFVAEb"
      },
      "outputs": [],
      "source": [
        "# Es posible cambiar de 'str' a tipo 'tuple'.\n",
        "x=(1,2,3)\n",
        "x=x+x\n",
        "print(x)"
      ]
    },
    {
      "cell_type": "markdown",
      "metadata": {
        "id": "kHSQ8nPUVAEb"
      },
      "source": [
        "- Los Conjuntos, Diccionarios y Listas son tipos \"mutables\"\n",
        "\n",
        "Existen diversos métodos para manipularlos y debemos tener cuidado cuando utilizamos la asginación en tipos mutables, ya en generalmente sobrescribiremos el o los valores. Para copiar un objeto complejo debemos usar el método <code>copy</code> en ves del symbolo <code>=</code>.\n",
        "\n",
        "- Los objetos \"mutables\" tiene un tiempo de accesso mayor (son un poco más lentos).\n"
      ]
    },
    {
      "cell_type": "code",
      "execution_count": null,
      "metadata": {
        "id": "98sxf-JUVAEb",
        "outputId": "11767109-bbee-4361-844e-2f2c4900cd3a"
      },
      "outputs": [
        {
          "name": "stdout",
          "output_type": "stream",
          "text": [
            "[[1, 2], [3, 4]] [[1, 2], [3, 4], 1]\n",
            "[[1, 2], [3, 4]] [[1, 3], [3, 4], 1]\n"
          ]
        }
      ],
      "source": [
        "# Efecto del método copy().\n",
        "L=[1,2]\n",
        "M=[3,4]\n",
        "biglist=[L,M]\n",
        "copybiglist=biglist.copy()\n",
        "copybiglist.append(1)\n",
        "print(biglist,copybiglist)\n",
        "copybiglist[0]=[1,3]\n",
        "print(biglist,copybiglist)"
      ]
    },
    {
      "cell_type": "markdown",
      "metadata": {
        "id": "mh09Or5NVAEc"
      },
      "source": [
        "- La desventaja de usar tipos \"mutables\" es el accesso más lento a los datos."
      ]
    },
    {
      "cell_type": "code",
      "execution_count": null,
      "metadata": {
        "id": "w8c6DRh7VAEc",
        "outputId": "58780098-dc7b-4307-b038-5473b732175a"
      },
      "outputs": [
        {
          "name": "stdout",
          "output_type": "stream",
          "text": [
            "[1, 2, 3, 4]\n"
          ]
        }
      ],
      "source": [
        "# Efectos de los cambios de tipo (forzados).\n",
        "L=[1,2,1,2,1,3,4,2,3]\n",
        "c=list(set(L))\n",
        "print(c)"
      ]
    },
    {
      "cell_type": "markdown",
      "metadata": {
        "id": "kRwFZ8QNVAEc"
      },
      "source": [
        "### Punteros\n",
        "\n",
        "En otros lenguajes, como C o C++, existe un tipo de variable especial llamado puntero, que se comporta como una referencia a una variable, **como es el caso de las variables mutables**.\n",
        "\n",
        "En Python *no hay punteros* (como los de C o C++), pero todas las variables son referencias a objetos, es decir, la *dirección* de la porción de memoria, en donde el objeto está almacenado. De este modo cuando se asigna una variable a otra, lo que se está asignando es la dirección de la porción de memoria guarda el objeto. Si esa porción de memoria cambia, el cambio se puede ver en todas las variables que apuntan a esa porción."
      ]
    },
    {
      "cell_type": "markdown",
      "metadata": {
        "id": "JV8RvlEzVAEd"
      },
      "source": [
        "### Resumen Clasificación\n",
        "\n",
        "![python_mutable.png](attachment:python_mutable.png)"
      ]
    },
    {
      "cell_type": "markdown",
      "metadata": {
        "id": "dhVf4_QaVAEd"
      },
      "source": [
        "# Preliminares: Funciones vs. Métodos"
      ]
    },
    {
      "cell_type": "markdown",
      "metadata": {
        "id": "P2XWtGHzVAEd"
      },
      "source": [
        "En Python temnemos dos tipos differentes formas de retornar valores o realizar acciones, en base a parámetros enviados. Podemos llamar a una $\\textit función$ o usar un $\\textit método$ (luego quedará mas claro cuando veamos como Python define y utiliza objetos).    \n",
        "\n",
        "Ya hemos visto algunos ejemplos de funciones (i.e. $\\normalsize \\color{green}{\\textsf{print}}$, $\\normalsize \\color{green}{\\textsf{input}}$, $\\normalsize \\color{green}{\\textsf{len}}$, $\\dots$). Un *método* es especifico a un tipo y son invocados de forma diferente.\n",
        "\n",
        "Sea <code>'obj'</code> un ojeto de tipo <code>type</code> y <code>method</code> es un método asociado a al tipo $\\texttt{type}$, entonces invocamos al método de la siguiente forma: <code>obj.method()</code>, donde, <code>()</code> puede (o no) contener algunos parámetros.     "
      ]
    },
    {
      "cell_type": "code",
      "execution_count": null,
      "metadata": {
        "id": "rJxKy-MDVAEd",
        "outputId": "df660aec-3a4f-4441-9111-d67b7eb7def1"
      },
      "outputs": [
        {
          "name": "stdout",
          "output_type": "stream",
          "text": [
            "4\n"
          ]
        },
        {
          "data": {
            "text/plain": [
              "1"
            ]
          },
          "execution_count": 50,
          "metadata": {},
          "output_type": "execute_result"
        }
      ],
      "source": [
        "c='ertl'\n",
        "print(len(c)) # Funcción\n",
        "c.index('r')  # Método"
      ]
    },
    {
      "cell_type": "markdown",
      "metadata": {
        "id": "ItZPjYFpVAEe"
      },
      "source": [
        "De forma practica, no hay muchas diferencias, entre llamar a una función o invocar un método. Las funciones son definidas como objetos independientes, mientras que, un método esta simpre definido dentro de una tipo de objeto (i.e. una clase, \"template\" del objeto) y \"no existe\" fuera de dicho tipo (clase del objeto). Un método, puede tener el mismo nombre, ya que cada será distinto para cada tipo de objeto. De esta manera podemos proteger ciertos nombres de variables, funcioes, etc.\n",
        "Ejemplo:\n",
        " - Podemos definir en nuestro código <code>count=3</code>, sin embargo <code>c.count(val)</code> retornara el numero de ocurrencias del parámetro <code>val</code> en la variable <code>c</code>.\n",
        " - En cambio, si definimos <code>len=2</code>, luego cualquier uso de la función <code>len(c)</code> retornara un error.\n"
      ]
    },
    {
      "cell_type": "code",
      "execution_count": null,
      "metadata": {
        "id": "h523xAsnVAEe"
      },
      "outputs": [],
      "source": [
        "#len=2\n",
        "#len(c) #Ya no tendrá sentido invocar a la función.\n",
        "        #Hemos 'sobrescrito' el nombre de la función len(.),\n",
        "        #ahora el \"nombre de función 'len'\" esta asociado a un nombre de variable."
      ]
    },
    {
      "cell_type": "markdown",
      "metadata": {
        "id": "-Dv99gmxVAEf"
      },
      "source": [
        "Las funciones y métodos, pueden retornar un valor (e.g. <code>len</code>) o relizar una acción (e.g. <code>print</code>). También puede modificar el valor (o valores) de algunos objetos.\n"
      ]
    },
    {
      "cell_type": "code",
      "execution_count": null,
      "metadata": {
        "id": "sHBfLIS0VAEf"
      },
      "outputs": [],
      "source": [
        "type(print(c)) # La función print no tiene tipo."
      ]
    }
  ],
  "metadata": {
    "celltoolbar": "Slideshow",
    "kernelspec": {
      "display_name": "Python 3",
      "language": "python",
      "name": "python3"
    },
    "language_info": {
      "codemirror_mode": {
        "name": "ipython",
        "version": 3
      },
      "file_extension": ".py",
      "mimetype": "text/x-python",
      "name": "python",
      "nbconvert_exporter": "python",
      "pygments_lexer": "ipython3",
      "version": "3.8.9"
    },
    "colab": {
      "provenance": [],
      "include_colab_link": true
    }
  },
  "nbformat": 4,
  "nbformat_minor": 0
}