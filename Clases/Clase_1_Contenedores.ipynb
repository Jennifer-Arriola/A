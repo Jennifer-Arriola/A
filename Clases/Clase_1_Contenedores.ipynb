{
  "cells": [
    {
      "cell_type": "markdown",
      "metadata": {
        "id": "view-in-github",
        "colab_type": "text"
      },
      "source": [
        "<a href=\"https://colab.research.google.com/github/Jennifer-Arriola/Algoritmos/blob/main/Clases/Clase_1_Contenedores.ipynb\" target=\"_parent\"><img src=\"https://colab.research.google.com/assets/colab-badge.svg\" alt=\"Open In Colab\"/></a>"
      ]
    },
    {
      "cell_type": "markdown",
      "metadata": {
        "id": "k5j8LzAeyRg0"
      },
      "source": [
        "# Algoritmos y Estructuras de Datos.\n",
        "\n",
        "## - Clase 1 - Parte 2 - Contenedores -"
      ]
    },
    {
      "cell_type": "markdown",
      "metadata": {
        "id": "pReR-6sxyRg5"
      },
      "source": [
        "En la lección anterior hemos visto:\n",
        "\n",
        "- Algunos typos de datos basicos:\n",
        "    - Enteros Integers (int)\n",
        "    - Números Reales (float)\n",
        "    - Valores Booleanos (bool)\n",
        "    - Cademas de caracteres (strings, 'str')\n",
        "<br></br>\n",
        "    \n",
        "- Algunas Funciones:\n",
        "    - <code>print</code>\n",
        "    - <code>input</code>\n",
        "<br></br>\n",
        "- Condicionales: <code>if, elif, else</code>\n",
        "\n",
        "- Ciclos y Repeticiones: <code>for, while</code>"
      ]
    },
    {
      "cell_type": "markdown",
      "metadata": {
        "id": "qQ6RGOBsyRg6"
      },
      "source": [
        "Hoy veremos los siguiente:\n",
        "\n",
        "-  Más de Tipos de Datos:\n",
        "    - Cademas de caracterres (strings, <code>'str'</code>)\n",
        "    - Tuplas (<code>'tuple'</code>)\n",
        "    - Conjuntos (<code>'set'</code>)\n",
        "    - Diccionarios (<code>'dict'</code>)\n",
        "    - Listas (<code>'list'</code>)\n",
        "<br></br>    \n",
        "\n",
        "- Definición y uso de Rangos\n",
        "\n",
        "- Direfencias entre *funciones* y *métodos*\n"
      ]
    },
    {
      "cell_type": "markdown",
      "metadata": {
        "id": "JiqY-oRZyRg6"
      },
      "source": [
        "## Cadena de Carácteres (Strings)"
      ]
    },
    {
      "cell_type": "markdown",
      "metadata": {
        "id": "aK1KSWwRyRg6"
      },
      "source": [
        "Una cadena de carácteres (string) es una secuencia ordenada de carácteres. El $i$-ésimo elemento del string <code>c</code> puede ser accessado (siempre que el índice no este furea de rango) escribiendo <code>c[i]</code>.\n"
      ]
    },
    {
      "cell_type": "code",
      "execution_count": null,
      "metadata": {
        "id": "ctg0FjJ8yRg7",
        "outputId": "1494e7ec-0fa8-4f86-abca-4342a4b41a2a"
      },
      "outputs": [
        {
          "name": "stdout",
          "output_type": "stream",
          "text": [
            "n t r o d\n",
            "I\n"
          ]
        }
      ],
      "source": [
        "c='Introducción'\n",
        "print(c[1],c[2],c[3],c[4],c[5])# Los índices comienzan en 0.\n",
        "print(c[-1]) # Python nos permite el uso de 'indices negativos'."
      ]
    },
    {
      "cell_type": "markdown",
      "metadata": {
        "id": "STFLD1GwyRg-"
      },
      "source": [
        "**En Python, todos los indices comienzan en 0**."
      ]
    },
    {
      "cell_type": "code",
      "execution_count": null,
      "metadata": {
        "id": "aSwSTvzAyRg_",
        "outputId": "276798d3-f461-4ee3-8340-1a46adf4595b"
      },
      "outputs": [
        {
          "data": {
            "text/plain": [
              "12"
            ]
          },
          "execution_count": 3,
          "metadata": {},
          "output_type": "execute_result"
        }
      ],
      "source": [
        "len(c) # La función len nos devuelve la longitud (cardinalidad) del contenedor."
      ]
    },
    {
      "cell_type": "code",
      "execution_count": null,
      "metadata": {
        "id": "DxY_Aw5yyRg_",
        "outputId": "3e4eb0c0-1d6b-42e8-b4aa-865f5c7f4f32"
      },
      "outputs": [
        {
          "name": "stdout",
          "output_type": "stream",
          "text": [
            "  E j e m p l o\n",
            "  0 1 2 3 4 5 6\n",
            "- 7 6 5 4 3 2 1\n"
          ]
        }
      ],
      "source": [
        "c='Ejemplo'\n",
        "print(' ',c[0],c[1],c[2],c[3],c[4],c[5],c[6])\n",
        "print(' ',0,1,2,3,4,5,6)\n",
        "print('-',7,6,5,4,3,2,1)"
      ]
    },
    {
      "cell_type": "code",
      "execution_count": null,
      "metadata": {
        "id": "QI1RRIHYyRhA",
        "outputId": "be89b58e-167a-43c0-c756-111c52ff9138"
      },
      "outputs": [
        {
          "data": {
            "text/plain": [
              "'Ejemplo de unión de carácteres'"
            ]
          },
          "execution_count": 5,
          "metadata": {},
          "output_type": "execute_result"
        }
      ],
      "source": [
        "c='Ejemplo'\n",
        "c+=' de unión de carácteres' # El commando '+' applicado a una cadena de carácteres\n",
        "                             # es usado para la concatenación.\n",
        "c"
      ]
    },
    {
      "cell_type": "markdown",
      "metadata": {
        "id": "R7GHbE4lyRhB"
      },
      "source": [
        "Ya habrán notado que para definir cadenas de carácteres podemos usar comillas simples <code>' '</code> o comillas dobles <code>\" \"</code>. No hay diferencia entre ambas de manera formal. Sin embargo, la convención normal es la siguiente:\n",
        "\n",
        "- Utilizamos comillas dobles cuando queremos imprimir una frase, e.g. <code>print</code> o <code>input</code>.\n",
        "\n",
        "- Utilizamos comillas simples cuando definimoms una variable del tipo cadena de carácteres.\n"
      ]
    },
    {
      "cell_type": "code",
      "execution_count": null,
      "metadata": {
        "id": "5EkKj2SUyRhB",
        "outputId": "b5c2ec7c-bc4a-49a0-cd1e-713068e463b4"
      },
      "outputs": [
        {
          "name": "stdout",
          "output_type": "stream",
          "text": [
            "un string\n",
            "un string\n",
            "un string muy muy muy muy muy muy muy muy \n",
            "muy muy muy muy muy muy muy muy\n",
            "muy muy muy muy muy muy muy muy largo \n",
            "un string muy muy muy muy muy muy muy muy \n",
            "muy muy muy muy muy muy muy muy\n",
            "muy muy muy muy muy muy muy muy largo \n"
          ]
        }
      ],
      "source": [
        "#Uso de una, dos, o tres comillas simples, ó dobles.\n",
        "c='un string'\n",
        "print(c)\n",
        "c=\"un string\" #comillas simples, ó dobles, tienen el mismo efecto.\n",
        "print(c)\n",
        "\n",
        "c='''un string muy muy muy muy muy muy muy muy\n",
        "muy muy muy muy muy muy muy muy\n",
        "muy muy muy muy muy muy muy muy largo '''   #Las triple comillas nos permite agregar de forma directa\n",
        "                                            #un salto de linea.\n",
        "print(c)\n",
        "c=\"\"\"un string muy muy muy muy muy muy muy muy\n",
        "muy muy muy muy muy muy muy muy\n",
        "muy muy muy muy muy muy muy muy largo \"\"\"\n",
        "print(c)"
      ]
    },
    {
      "cell_type": "code",
      "execution_count": null,
      "metadata": {
        "id": "d1uAks50yRhB",
        "outputId": "cd993b39-056e-4868-d140-4ade2078edf1"
      },
      "outputs": [
        {
          "name": "stdout",
          "output_type": "stream",
          "text": [
            "True\n",
            "False\n"
          ]
        }
      ],
      "source": [
        "#Pertenencia, ulitzamos el operador \"in\"\n",
        "\n",
        "print('s' in c)\n",
        "print('z' in c)"
      ]
    },
    {
      "cell_type": "markdown",
      "metadata": {
        "id": "M6bFDRbYyRhC"
      },
      "source": [
        "**No se puede** cambiar el valor del contenido del la variable <code>c</code>, mediante indexación."
      ]
    },
    {
      "cell_type": "code",
      "execution_count": null,
      "metadata": {
        "id": "fIUb0tI_yRhC",
        "outputId": "18534b37-3f8a-42a9-facb-fae60136c125"
      },
      "outputs": [
        {
          "ename": "TypeError",
          "evalue": "'str' object does not support item assignment",
          "output_type": "error",
          "traceback": [
            "\u001b[0;31m---------------------------------------------------------------------------\u001b[0m",
            "\u001b[0;31mTypeError\u001b[0m                                 Traceback (most recent call last)",
            "Cell \u001b[0;32mIn[8], line 2\u001b[0m\n\u001b[1;32m      1\u001b[0m \u001b[39m#La asignación de un valor utilizando el indice esta prohibido.\u001b[39;00m\n\u001b[0;32m----> 2\u001b[0m c[\u001b[39m2\u001b[39;49m]\u001b[39m=\u001b[39m\u001b[39m'\u001b[39m\u001b[39ms\u001b[39m\u001b[39m'\u001b[39m\n",
            "\u001b[0;31mTypeError\u001b[0m: 'str' object does not support item assignment"
          ]
        }
      ],
      "source": [
        "#La asignación de un valor utilizando el indice esta prohibido.\n",
        "c[2]='s'"
      ]
    },
    {
      "cell_type": "code",
      "execution_count": null,
      "metadata": {
        "id": "KqkN8JSHyRhC",
        "outputId": "e5cee22a-3ffb-4f20-b833-f4c0df7a0d8d"
      },
      "outputs": [
        {
          "name": "stdout",
          "output_type": "stream",
          "text": [
            "un string muy muy muy muy muy muy muy muy \n",
            "muy muy muy muy muy muy muy muy\n",
            "muy muy muy muy muy muy muy muy largo \n"
          ]
        },
        {
          "data": {
            "text/plain": [
              "' string '"
            ]
          },
          "execution_count": 9,
          "metadata": {},
          "output_type": "execute_result"
        }
      ],
      "source": [
        "#Pdemos accedder a un sub-conjunto de los valores del string.\n",
        "print(c)\n",
        "c[2:10]"
      ]
    },
    {
      "cell_type": "markdown",
      "metadata": {
        "id": "qycmzFpZyRhD"
      },
      "source": [
        "Aquí podemos ver alunos métodos útiles (para más información ulilizar la función <code>help(str)</code> o referirse a la documentación de Python).\n",
        "Sea $\\texttt{c}$ una cadena de carácteres:\n",
        "\n",
        "- $\\texttt{c * n}$ (donde $\\texttt{n}$ es un entero) retornará $\\texttt{n}$ copias de $\\texttt{c}$ concatenadas. Es equivalente a $\\underbrace{\\texttt{c + } \\cdots \\texttt{ + c}}_{\\texttt{n } \\text{ veces}}$.\n",
        "\n",
        "- $c.\\texttt{find('car')}$  retorna el primer indice $\\texttt{i}$ (si es que existe) para el cual $\\texttt{c[i]='car'}$.\n",
        "\n",
        "- Pdemos comparar cadenas de carácteres. Se utilizara el ordern lexicográfico.\n",
        "\n",
        "- $\\texttt{c.count(st)}$ cuenta el número de occurrencias del string $\\texttt{st}$ en $\\texttt{c}$ (sin contar los que se superponen).\n",
        "\n",
        "- $\\texttt{c.replace(st1,st2)}$ retornará una copia de $\\texttt{c}$ donde cada ocurrencia del string $\\texttt{'st1'}$ ha sido reeplazada por $\\texttt{'st2'}$."
      ]
    },
    {
      "cell_type": "code",
      "execution_count": null,
      "metadata": {
        "id": "l-fpFYjkyRhD",
        "outputId": "ccb37b52-d1f5-4a11-d8d8-f924bcc387d4"
      },
      "outputs": [
        {
          "name": "stdout",
          "output_type": "stream",
          "text": [
            "111111\n"
          ]
        },
        {
          "data": {
            "text/plain": [
              "3"
            ]
          },
          "execution_count": 10,
          "metadata": {},
          "output_type": "execute_result"
        }
      ],
      "source": [
        "#Ejemplos\n",
        "c = 3 * '11'\n",
        "print(c)\n",
        "c.count('11')"
      ]
    },
    {
      "cell_type": "code",
      "execution_count": null,
      "metadata": {
        "id": "xeTxPkHqyRhE",
        "outputId": "75e50c6e-51f5-4ce2-d6d7-3b1a5f19f339"
      },
      "outputs": [
        {
          "data": {
            "text/plain": [
              "'ababab'"
            ]
          },
          "execution_count": 12,
          "metadata": {},
          "output_type": "execute_result"
        }
      ],
      "source": [
        "c = c.replace('11','ab')\n",
        "c"
      ]
    },
    {
      "cell_type": "code",
      "execution_count": null,
      "metadata": {
        "id": "89GaP4h9yRhF",
        "outputId": "8401ba87-9a15-46f5-a62f-a54c214a1d94"
      },
      "outputs": [
        {
          "name": "stdout",
          "output_type": "stream",
          "text": [
            "Los enteros 4 y 2 son pares. 4 \n",
            "Los enteros 0 y 2 son pares. algo \n",
            "Los enteros  0  y  2  son pares.  algo\n"
          ]
        }
      ],
      "source": [
        "#El método \"format\" nos permite realizar inseciones en un string.\n",
        "\n",
        "c = \"Los enteros {1} y {0} son pares. {1} \"\n",
        "\n",
        "print(c.format(2,4)) # Inserta los valores en el string, en el lugar reservado\n",
        "                     # por el número de argumento entre llaves.\n",
        "\n",
        "c=\"Los enteros {} y {} son pares. {} \"\n",
        "print(c.format(0,2,'algo'))  # Inserción directa (posicional) de valores en un string.\n",
        "\n",
        "print(\"Los enteros \", 0, \" y \", 2, \" son pares. \", 'algo' \"\")"
      ]
    },
    {
      "cell_type": "markdown",
      "metadata": {
        "id": "OFseUa0AyRhF"
      },
      "source": [
        "# Contenedores"
      ]
    },
    {
      "cell_type": "markdown",
      "metadata": {
        "id": "if4FaX4myRhG"
      },
      "source": [
        "Informalmente, un *'contenedor'* es un \"tipo de objeto\" que contiene otros *'objetos'*. Python nos provee con distintos tipos de contenedores predefinidos.  \n",
        "\n",
        "A continuación veremos algunas propiedades de los contenedores más usados. Finalmente, haremos una rápida comparación de estos distintos tipos de estructuras de datos.   \n"
      ]
    },
    {
      "cell_type": "markdown",
      "metadata": {
        "id": "KmNc8zpoyRhG"
      },
      "source": [
        "## Tuplas"
      ]
    },
    {
      "cell_type": "markdown",
      "metadata": {
        "id": "7P51RDOeyRhG"
      },
      "source": [
        "Una *tupla* es una secuencia finita de objetos, los cuales pueden ser de distintos tipos. Genralmente, definimos una tupla, escribiendo una secuencia de objetos entre *paréntesis* y separados entre *comas*. Esta es una estructura de datos *rígida*, es decir, no podemos modificar una tupla. Sin embargo, las tuplas pueden ser concatenadas, de manera similar a la concatenación de strings. Podemos obtener la logitud de una tupla, utilizando la función <code>len()</code>. También podemos acceder a los elementos de la tupla usando indices.\n"
      ]
    },
    {
      "cell_type": "code",
      "execution_count": null,
      "metadata": {
        "id": "gA7RroblyRhG",
        "outputId": "502459d1-4570-42c4-92e2-772668a9578c"
      },
      "outputs": [
        {
          "data": {
            "text/plain": [
              "tuple"
            ]
          },
          "execution_count": 15,
          "metadata": {},
          "output_type": "execute_result"
        }
      ],
      "source": [
        "# Definición de una tupla.\n",
        "x=(0,1,2,'obj',(1,2))\n",
        "# Tipo\n",
        "type(x)"
      ]
    },
    {
      "cell_type": "code",
      "execution_count": null,
      "metadata": {
        "id": "1UNzNMfgyRhH",
        "outputId": "45ce4b6c-0dae-4bfd-f9dc-dad368407bff"
      },
      "outputs": [
        {
          "data": {
            "text/plain": [
              "5"
            ]
          },
          "execution_count": 16,
          "metadata": {},
          "output_type": "execute_result"
        }
      ],
      "source": [
        "# Longitud de la tupla\n",
        "len(x)"
      ]
    },
    {
      "cell_type": "code",
      "execution_count": null,
      "metadata": {
        "id": "WGK3MeH2yRhH",
        "outputId": "2e7b1e2b-85a8-4aec-c66e-69a9f75b2dd0"
      },
      "outputs": [
        {
          "data": {
            "text/plain": [
              "1"
            ]
          },
          "execution_count": 17,
          "metadata": {},
          "output_type": "execute_result"
        }
      ],
      "source": [
        "# Acceso mediante indices\n",
        "x[1]"
      ]
    },
    {
      "cell_type": "code",
      "execution_count": null,
      "metadata": {
        "id": "PYMN-7rgyRhH",
        "outputId": "3c471ea2-be1a-44ac-fcb7-aec1c4608bc9"
      },
      "outputs": [
        {
          "data": {
            "text/plain": [
              "(0, 1, 2, 'obj', (1, 2), 2, 3, 4)"
            ]
          },
          "execution_count": 18,
          "metadata": {},
          "output_type": "execute_result"
        }
      ],
      "source": [
        "# Concatenación\n",
        "x=x+(2,3,4)\n",
        "x"
      ]
    },
    {
      "cell_type": "code",
      "execution_count": null,
      "metadata": {
        "id": "q2AOwcvGyRhI",
        "outputId": "2357f4ac-824f-4863-dbba-21a5a66d10ed"
      },
      "outputs": [
        {
          "ename": "TypeError",
          "evalue": "'tuple' object does not support item assignment",
          "output_type": "error",
          "traceback": [
            "\u001b[0;31m---------------------------------------------------------------------------\u001b[0m",
            "\u001b[0;31mTypeError\u001b[0m                                 Traceback (most recent call last)",
            "Cell \u001b[0;32mIn[19], line 2\u001b[0m\n\u001b[1;32m      1\u001b[0m \u001b[39m# No podemos asignar valores directamente usando indices\u001b[39;00m\n\u001b[0;32m----> 2\u001b[0m x[\u001b[39m1\u001b[39;49m]\u001b[39m=\u001b[39m\u001b[39m100\u001b[39m\n",
            "\u001b[0;31mTypeError\u001b[0m: 'tuple' object does not support item assignment"
          ]
        }
      ],
      "source": [
        "# No podemos asignar valores directamente usando indices\n",
        "x[1] = 100"
      ]
    },
    {
      "cell_type": "code",
      "execution_count": null,
      "metadata": {
        "id": "m5tURYTlyRhI",
        "outputId": "ea4fc390-320b-4f0b-f0bb-9a83c969bc2c"
      },
      "outputs": [
        {
          "data": {
            "text/plain": [
              "True"
            ]
          },
          "execution_count": 20,
          "metadata": {},
          "output_type": "execute_result"
        }
      ],
      "source": [
        "(0,1,3) < (1,1,0)"
      ]
    },
    {
      "cell_type": "markdown",
      "metadata": {
        "id": "HLeADHYuyRhI"
      },
      "source": [
        "No hay muchos métodos específicos asociados a las tuplas.\n",
        "\n",
        "- <code>x.count(obj)</code> retorna el número de occurencias del objeto <code>'obj'</code> en <code>'x'</code>.\n",
        "- <code>x.index(obj)</code> retorna el indice de la primer occurencia del objeto <code>'obj'</code> en <code>'x'</code>."
      ]
    },
    {
      "cell_type": "code",
      "execution_count": null,
      "metadata": {
        "id": "37EP2Q9WyRhI",
        "outputId": "90f2cc2e-8049-4107-de63-bb40681b7d42"
      },
      "outputs": [
        {
          "name": "stdout",
          "output_type": "stream",
          "text": [
            "2\n",
            "2\n"
          ]
        }
      ],
      "source": [
        "print(x.count(2))\n",
        "print(x.index(2))"
      ]
    },
    {
      "cell_type": "markdown",
      "metadata": {
        "id": "2k8p6atQyRhJ"
      },
      "source": [
        "## Conjuntos"
      ]
    },
    {
      "cell_type": "markdown",
      "metadata": {
        "id": "GpNvn__0yRhJ"
      },
      "source": [
        "Un ***conjunto*** es una colección finita de objetos denotados entre *llaves* y separados por *comas*. Los conjuntos tienen (deben cumplir) todas las propiedades de los conjuntos matemáticos.\n"
      ]
    },
    {
      "cell_type": "code",
      "execution_count": null,
      "metadata": {
        "id": "c-QfUSW-yRhJ",
        "outputId": "d096ba1e-98e2-48ab-d525-272ad365f454"
      },
      "outputs": [
        {
          "data": {
            "text/plain": [
              "set"
            ]
          },
          "execution_count": 22,
          "metadata": {},
          "output_type": "execute_result"
        }
      ],
      "source": [
        "# Definición de un conjunto.\n",
        "A={1,2,4,5,6}\n",
        "# Tipo.\n",
        "type(A)"
      ]
    },
    {
      "cell_type": "code",
      "execution_count": null,
      "metadata": {
        "id": "wduR9SFkyRhJ",
        "outputId": "1f5145ee-82f3-4156-8eb5-5b5ca1a120a4"
      },
      "outputs": [
        {
          "data": {
            "text/plain": [
              "True"
            ]
          },
          "execution_count": 23,
          "metadata": {},
          "output_type": "execute_result"
        }
      ],
      "source": [
        "# Al igual que en los conjuntos matemáticos, no aceptan repticiones.\n",
        "A=={1,1,2,2,5,5,4,4,4,6}"
      ]
    },
    {
      "cell_type": "code",
      "execution_count": null,
      "metadata": {
        "id": "z-2Uw0K9yRhK",
        "outputId": "a35ef30e-8455-436d-afa3-5338c2f13de9"
      },
      "outputs": [
        {
          "ename": "TypeError",
          "evalue": "'set' object is not subscriptable",
          "output_type": "error",
          "traceback": [
            "\u001b[0;31m---------------------------------------------------------------------------\u001b[0m",
            "\u001b[0;31mTypeError\u001b[0m                                 Traceback (most recent call last)",
            "Cell \u001b[0;32mIn[24], line 2\u001b[0m\n\u001b[1;32m      1\u001b[0m \u001b[39m# Los conjuntos no soportan indexación directa. \u001b[39;00m\n\u001b[0;32m----> 2\u001b[0m A[\u001b[39m1\u001b[39;49m]\n",
            "\u001b[0;31mTypeError\u001b[0m: 'set' object is not subscriptable"
          ]
        }
      ],
      "source": [
        "# Los conjuntos no soportan indexación directa.\n",
        "A[1]"
      ]
    },
    {
      "cell_type": "code",
      "execution_count": null,
      "metadata": {
        "id": "RgXBZS4gyRhK",
        "outputId": "b7d2504c-6ccc-4190-e75e-9d12ccd779b5"
      },
      "outputs": [
        {
          "data": {
            "text/plain": [
              "{' ', 'c', 'e', 'j', 'n', 'o', 'r', 's', 't', 'u', 'á'}"
            ]
          },
          "execution_count": 25,
          "metadata": {},
          "output_type": "execute_result"
        }
      ],
      "source": [
        "# Conversión de un string a un conjunto (de letras).\n",
        "c='será un conjunto'\n",
        "set(c)"
      ]
    },
    {
      "cell_type": "code",
      "execution_count": null,
      "metadata": {
        "id": "7sQLmgd-yRhK",
        "outputId": "9879f3f8-371d-4b71-f691-c4f1a6b53a86"
      },
      "outputs": [
        {
          "data": {
            "text/plain": [
              "5"
            ]
          },
          "execution_count": 26,
          "metadata": {},
          "output_type": "execute_result"
        }
      ],
      "source": [
        "# La función len nos retorna la cardinalidad del conjunto.\n",
        "len(A)"
      ]
    },
    {
      "cell_type": "markdown",
      "metadata": {
        "id": "E7ZemP9ByRhL"
      },
      "source": [
        "Aquí hemos provisto una lista (no completa) de métodos útiles para el manejo de conjuntos:\n",
        "\n",
        "\n",
        "- <code>A.intersection(B)</code> retorna la intersección de los conjuntos <code>A</code> y <code>B</code>.\n",
        "- <code>A.union(B)</code> retorna la unión de los conjuntos <code>A</code> y <code>B</code>.\n",
        "- <code>A.difference(B)</code> retorna la diferencia simetrica de conjuntos ($\\texttt{A}\\cap \\texttt{B}^c$).\n",
        "- <code>A.copy()</code> retorna una copia del conjunto <code>A</code>.\n",
        "- Podemos comparar dos conjuntos (seguiendo el orden de inclusión).\n",
        "\n",
        "\n",
        "También podemoms realizar cambios directamente sobre un conjunto:\n",
        "\n",
        "- <code>A.add(a)</code> reemplaza el conjunto $\\texttt{A}$ por $\\texttt{A} \\cup \\{a\\}$ (no tiene efecto si el elemento $a$ pertenece al conjunto $\\texttt{A}$).\n",
        "- <code>A.discard(a)</code> reeplaza el conjunto $\\texttt{A}$ por $\\texttt{A}$ removiendo el elemento $a$ (no tiene efecto si el elemento $a$ no pertenece al conjunto $\\texttt{A}$).\n",
        "- <code>A.difference_update(B)</code> reemplazara el conjunto $\\texttt{A}$ por $\\texttt{A} \\cap \\texttt{B}^c$.\n"
      ]
    },
    {
      "cell_type": "code",
      "execution_count": null,
      "metadata": {
        "id": "JFDJw7lhyRhL",
        "outputId": "12773340-c54f-4abc-e09f-d3b4dee122d1"
      },
      "outputs": [
        {
          "name": "stdout",
          "output_type": "stream",
          "text": [
            "{1, 2, 4} {1, 2, 4}\n",
            "{1, 2, 4} {1, 4}\n"
          ]
        }
      ],
      "source": [
        "A={1,2,4}\n",
        "B=A.copy()\n",
        "print(A,B)\n",
        "B.discard(2)\n",
        "print(A,B)"
      ]
    },
    {
      "cell_type": "markdown",
      "metadata": {
        "id": "TYlj8lHFyRhM"
      },
      "source": [
        "Una manera útil de definir conjuntos matemáticamente es por comprensión (en vez de definirlos por \"extensión\").\n",
        "\n",
        "$$\\texttt{B:=}\\{\\texttt{f(x)}\\mid \\texttt{x} \\in \\texttt{A}\\}$$\n",
        "\n",
        "En Python lo escribimos es la siguiente forma:\n",
        "\n",
        "$$\\texttt{B=} \\{ \\texttt{funcion(x)} \\normalsize \\color{green}{\\textsf{ for }} \\texttt{ x } \\normalsize \\color{green}{\\textsf{ in }} \\texttt{A} \\}$$\n"
      ]
    },
    {
      "cell_type": "code",
      "execution_count": null,
      "metadata": {
        "id": "6G9qhLs1yRhM",
        "outputId": "6bdbc3ec-de5b-47aa-86c0-2fed003ce42f"
      },
      "outputs": [
        {
          "data": {
            "text/plain": [
              "{' 1', 'c1', 'e1', 'j1', 'n1', 'o1', 'r1', 's1', 't1', 'u1', 'á1'}"
            ]
          },
          "execution_count": 30,
          "metadata": {},
          "output_type": "execute_result"
        }
      ],
      "source": [
        "# Ejemplo de cómo definir un conjunto por comprensión.\n",
        "B={ x + '1' for x in c}\n",
        "B"
      ]
    },
    {
      "cell_type": "markdown",
      "metadata": {
        "id": "lJ0F0EoHyRhM"
      },
      "source": [
        "## Diccionarios.\n",
        "\n",
        "Un diccionario o \"tabla associativa\" es un contenedor muy particular y de amplio uso (estan optimizados al igual que cualquier tipo \"hashable\" en Python).\n",
        "Es una colección de items $\\texttt{\"llave:valor\"}$ donde la *\"llave\"* y el *\"valor* pueden ser cualquier tipo de objeto, y los escribimos de la siguiente forma:\n",
        "\n",
        "$$\\texttt{c =} \\{ \\texttt{l}_1 : \\texttt{v}_1 , \\texttt{l}_2 : \\texttt{v}_2, \\ldots \\} $$\n"
      ]
    },
    {
      "cell_type": "code",
      "execution_count": null,
      "metadata": {
        "id": "-rzWW5o_yRhN",
        "outputId": "a777f767-1f85-4d77-996e-41b14e5799a6"
      },
      "outputs": [
        {
          "name": "stdout",
          "output_type": "stream",
          "text": [
            "<class 'dict'>\n"
          ]
        }
      ],
      "source": [
        "dicc1={'Jean Paul':'jeanpaul@mail.com',\\\n",
        "'Fanny':'fanny@mail.com',\\\n",
        "'Robert':'robert@mail.com',\\\n",
        "'Stephanie': (6812424239),\\\n",
        "0:2}\n",
        "\n",
        "# Tipo\n",
        "print(type(dicc1))"
      ]
    },
    {
      "cell_type": "markdown",
      "metadata": {
        "id": "5gJ-f0lNyRhN"
      },
      "source": [
        "- La función  <code>len()</code> nos devuelve la cardinalidad.\n",
        "- No podemoms indexarlos de manera habitual, es decir de manera posicional, deberemo usar las llaves de diccionario para retornar los valores correspondientes.\n",
        "- Es posible asignar nuevos valores a una las llaves."
      ]
    },
    {
      "cell_type": "code",
      "execution_count": null,
      "metadata": {
        "id": "03XFtf8cyRhN",
        "outputId": "d5f2babf-c026-4121-9016-6d5125fa81d5"
      },
      "outputs": [
        {
          "name": "stdout",
          "output_type": "stream",
          "text": [
            "5\n",
            "jeanpaul@mail.com\n",
            "2\n"
          ]
        }
      ],
      "source": [
        "dicc1={'Jean Paul':'jeanpaul@mail.com',\\\n",
        "'Fanny':'fanny@mail.com',\\\n",
        "'Robert':'robert@mail.com',\\\n",
        "'Stephanie': (6812424239),\\\n",
        "0:2}\n",
        "# Es posible obtener la cardinalidad.\n",
        "print(len(dicc1))\n",
        "# Los diccionarios no pueden ser indexados posicionalmente. Debemos proveer la llave del valor que deseamos.\n",
        "print(dicc1['Jean Paul'])\n",
        "print(dicc1[0])"
      ]
    },
    {
      "cell_type": "code",
      "execution_count": null,
      "metadata": {
        "id": "C1kX-5onyRhO",
        "outputId": "1d7d6145-06e5-4ba4-e02a-f983f32ace8a"
      },
      "outputs": [
        {
          "data": {
            "text/plain": [
              "dict"
            ]
          },
          "execution_count": 34,
          "metadata": {},
          "output_type": "execute_result"
        }
      ],
      "source": [
        "# Tipo\n",
        "type(dicc1)"
      ]
    },
    {
      "cell_type": "code",
      "execution_count": null,
      "metadata": {
        "id": "AWhr1F4ryRhO",
        "outputId": "12e4ba2c-6bf1-44b3-a425-f92e0d9e4977"
      },
      "outputs": [
        {
          "name": "stdout",
          "output_type": "stream",
          "text": [
            "stephanie@mail.com\n"
          ]
        }
      ],
      "source": [
        "dicc1={'Jean Paul':'jeanpaul@mail.com',\\\n",
        "'Fanny':'fanny@mail.com',\\\n",
        "'Robert':'robert@mail.com',\\\n",
        "'Stephanie': (6812424239),\\\n",
        "0:2}\n",
        "# Podemoms cambiar los valores associados a un llave mediante asignación.\n",
        "dicc1['Stephanie'] = 'stephanie@mail.com'\n",
        "print(dicc1)"
      ]
    },
    {
      "cell_type": "code",
      "execution_count": null,
      "metadata": {
        "id": "p6X3Ix7VyRhO",
        "outputId": "098c6a45-ccf8-4413-ad79-f0e709ad8b15"
      },
      "outputs": [
        {
          "name": "stdout",
          "output_type": "stream",
          "text": [
            "{0: 3, 'x': 'x@mail.lu'}\n"
          ]
        }
      ],
      "source": [
        "# Cual es el efecto de tener una llave duplicada?\n",
        "dicc2={0:7,'x':'x@mail.lu', 0:3}\n",
        "print(dicc2)\n",
        "# La segunda (o última) llave definida, sobrescribira el valor anterior."
      ]
    },
    {
      "cell_type": "code",
      "execution_count": null,
      "metadata": {
        "id": "dYJTavrhyRhP",
        "outputId": "046f32d9-8183-4224-e6ad-0019d104dd8f"
      },
      "outputs": [
        {
          "data": {
            "text/plain": [
              "{'Jean Paul': 'jeanpaul@mail.com',\n",
              " 'Fanny': 'fanny@mail.com',\n",
              " 'Robert': 'robert@mail.com',\n",
              " 'Stephanie': 'stephanie@mail.com',\n",
              " 0: 2}"
            ]
          },
          "execution_count": 38,
          "metadata": {},
          "output_type": "execute_result"
        }
      ],
      "source": [
        "# Podemos convertir un diccionario a una tupla\n",
        "tuple(dicc1)\n",
        "# No es posible en el sentido contrario (de tupla a diccionario).\n",
        "dict(dicc1)"
      ]
    },
    {
      "cell_type": "markdown",
      "metadata": {
        "id": "EslZVntzyRhP"
      },
      "source": [
        "Aquí tenemos algunos métodos útiles para usar diccionarios. Sea <code>dic</code> un diccionario.\n",
        "\n",
        "- <code>dic.item()</code> retorna una *lista* de los valores en el diccionario (las listas están definidas en la siguiente sección).\n",
        "- <code>dic.keys()</code> solo retorna los valores de las llaves del diccionario.\n",
        "- <code>dic.values()</code> solo retorna los valores del diccionario.\n",
        "- <code>dic.copy()</code> retorna una copia del diccionario <code>dic</code>.\n",
        "- <code>dic.pop(key)</code> retorna y quita del diccionario el valor que referido por la llave <code>key</code>\n",
        "- <code>dic.popitem()</code> retorna y quita del diccionario el último item ingresado/añadido.\n",
        "- <code>dic.update(newdic)</code> actualiza <code>dic</code> con los valores de otro diccionario <code>newdic</code>, solo para las llaves de <code>newdic</code> que no están en <code>dic</code>."
      ]
    },
    {
      "cell_type": "markdown",
      "metadata": {
        "id": "V_M6aYf9yRhP"
      },
      "source": [
        "- <code>dic[key]=value</code>\n",
        "\n",
        "Asignará un nuevo valor a la llave <code>key</code>, solo si la llave ya pertenece al diccionario. En caso de que la llave no exista en el diccionario, añadira el nuevo par <code>(key:value)</code> al diccionario.\n"
      ]
    },
    {
      "cell_type": "code",
      "execution_count": null,
      "metadata": {
        "id": "OCq7IkRsyRhP",
        "outputId": "12c772df-61da-4483-ec16-1c498af5ae52"
      },
      "outputs": [
        {
          "name": "stdout",
          "output_type": "stream",
          "text": [
            "{'Jean Paul': 'jeanpaul@mail.com', 'Fanny': 'fanny@mail.com', 'Robert': 'robert@mail.com', 'Stephanie': 'stephanie@mail.com', 0: 2, 'Carl': 'carl@mail.com'}\n"
          ]
        }
      ],
      "source": [
        "dicc1={'Jean Paul':'jeanpaul@mail.com',\\\n",
        "'Fanny':'fanny@mail.com',\\\n",
        "'Robert':'robert@mail.com',\\\n",
        "'Stephanie': (6812424239),\\\n",
        "0:2}\n",
        "dicc1['Stephanie']='stephanie@mail.com'\n",
        "dicc1['Carl']='carl@mail.com'\n",
        "print(dicc1)"
      ]
    },
    {
      "cell_type": "code",
      "execution_count": null,
      "metadata": {
        "id": "Og4-VtWryRhQ",
        "outputId": "2272e2c0-c55e-4bf0-f49e-e8bf068c2118"
      },
      "outputs": [
        {
          "name": "stdout",
          "output_type": "stream",
          "text": [
            "{'Jean Paul': 'jeanpaul@mail.com', 'Fanny': 'fanny@mail.com', 'Robert': 'robert@mail.com', 'Stephanie': 6812424239, 0: 2} {0: 3, 'x': 'x@mail.com'}\n",
            "{'Jean Paul': 'jeanpaul@mail.com', 'Fanny': 'fanny@mail.com', 'Robert': 'robert@mail.com', 'Stephanie': 6812424239, 0: 3, 'x': 'x@mail.com'}\n"
          ]
        }
      ],
      "source": [
        "dicc1={'Jean Paul':'jeanpaul@mail.com',\\\n",
        "'Fanny':'fanny@mail.com',\\\n",
        "'Robert':'robert@mail.com',\\\n",
        "'Stephanie': (6812424239),\\\n",
        "0:2}\n",
        "dicc2={0:7,'x':'x@mail.com',0:3}\n",
        "print(dicc1,dicc2)\n",
        "dicc1.update(dicc2)\n",
        "print(dicc1)"
      ]
    },
    {
      "cell_type": "markdown",
      "metadata": {
        "id": "IERO90AxyRhQ"
      },
      "source": [
        "## Listas\n",
        "\n",
        "Una lista es un contenedor ordenado de objetos (pueden ser de distinto tipo). Lo definimos ente *corchetes* y los objetos separados por *comas*.\n",
        "\n",
        "$$\\texttt{L = [ x, y,  }\\ldots \\texttt{ ]}$$"
      ]
    },
    {
      "cell_type": "code",
      "execution_count": null,
      "metadata": {
        "id": "h1XGmizxyRhR",
        "outputId": "58229a06-14c8-4bc1-db90-4c587edac82f"
      },
      "outputs": [
        {
          "data": {
            "text/plain": [
              "list"
            ]
          },
          "execution_count": 41,
          "metadata": {},
          "output_type": "execute_result"
        }
      ],
      "source": [
        "# Definición\n",
        "L=[2,3,4]\n",
        "# Tipo\n",
        "type(L)"
      ]
    },
    {
      "cell_type": "code",
      "execution_count": null,
      "metadata": {
        "id": "GLusi9_pyRhR",
        "outputId": "d7157751-faf1-4815-d57c-cbeea1739fbf"
      },
      "outputs": [
        {
          "data": {
            "text/plain": [
              "[0, 1, 4, 9, 16, 25, 36, 49, 64]"
            ]
          },
          "execution_count": 42,
          "metadata": {},
          "output_type": "execute_result"
        }
      ],
      "source": [
        "# También podemoms definir Listas por comprensión (al igual que los conjuntos).\n",
        "L=[ x**2 for x in range(0,9)]\n",
        "L"
      ]
    },
    {
      "cell_type": "markdown",
      "metadata": {
        "id": "sTrmWYnfyRhS"
      },
      "source": [
        "Podemos utilizar los indices de distintas maneras para poder acceder mas convenientemente a partes de una lista. Esta notación funciona para cualquier tipo de contenedor ordenado (i.e. strings, tuples, etc).\n",
        "\n",
        "- $\\texttt{L [ i ]}$ retorna el $i$-esimo elemento de la lista $\\texttt{L}$.\n",
        "- $\\texttt{L [ i : j ]}$ retorna los elementos desde el $i$-esimo (includido) hasta el $j$-esimo (excludido). El resultado tiene el mismo tipo que $\\texttt{L}$.\n",
        "- $\\texttt{L [ i : ]}$ es equivalente a: $\\texttt{L [ i : }$<code>len(L)</code>$\\texttt{ ]}$.\n",
        "- $\\texttt{L [ : j ]}$ es equivalente a: $\\texttt{L [ 0 : j ]}$.\n",
        "- $\\texttt{L [ i : : paso ]}$ retorna la lista de elemntos desde la $i$-esima posición progresando sobre los indices de acuerdo a $\\texttt{paso}$.\n",
        "\n",
        "También podemos concatenar listas usando el operador *'<code>+</code>'*\n"
      ]
    },
    {
      "cell_type": "code",
      "execution_count": null,
      "metadata": {
        "id": "HYz4YPgYyRhS",
        "outputId": "2ddcfaaf-e46c-4e50-b3ed-0fa3350a6a4d"
      },
      "outputs": [
        {
          "name": "stdout",
          "output_type": "stream",
          "text": [
            "[1, 2, 3, 12, 5, 6]\n"
          ]
        }
      ],
      "source": [
        "# Cambiar el i-ésimo elemento.\n",
        "L=[1,2,3,4,5,6]\n",
        "L[3]=12\n",
        "print(L)"
      ]
    },
    {
      "cell_type": "code",
      "execution_count": null,
      "metadata": {
        "id": "tn3yW5rlyRhT",
        "outputId": "1b23000d-a746-4b0c-ddc1-90999927417e"
      },
      "outputs": [
        {
          "data": {
            "text/plain": [
              "[3, 6]"
            ]
          },
          "execution_count": 44,
          "metadata": {},
          "output_type": "execute_result"
        }
      ],
      "source": [
        "# Podemoms acceder a la lista usando indices.\n",
        "L=[1,2,3,4,5,6]\n",
        "L[2::3]"
      ]
    },
    {
      "cell_type": "code",
      "execution_count": null,
      "metadata": {
        "id": "aXXLrEkZyRhT",
        "outputId": "650d78dc-256b-4ded-a6a9-db5b9dbbdc94"
      },
      "outputs": [
        {
          "name": "stdout",
          "output_type": "stream",
          "text": [
            "[1, 2, 3, 4, 5, 6, 'caballo', 'perro']\n"
          ]
        }
      ],
      "source": [
        "# Concatenación de Listas\n",
        "L=[1,2,3,4,5,6]\n",
        "M=['caballo','perro']\n",
        "N= L + M\n",
        "print(N)"
      ]
    },
    {
      "cell_type": "markdown",
      "metadata": {
        "id": "w0ZonRVdyRhT"
      },
      "source": [
        "Aquí hay una breve lista de los métodos asociados al tipo *Lista*:\n",
        "\n",
        "- $\\texttt{L.count}(\\texttt{obj})$ retorna el número de ocurrencias del objeto $\\texttt{obj}$ en la $\\texttt{L}$.  \n",
        "- $\\texttt{L.index}(\\texttt{value})$  retorna el primer indice $i$ para el cual $\\texttt{L [ i ] = value}$.\n",
        "- $\\texttt{L.insert}(\\texttt{i, obj})$ inserta el objecto $\\texttt{obj}$ en la $i$-esima posición, moveindo el resto de los contenidos de la lista hacia la derecha.\n",
        "- $\\texttt{L.remove}(\\texttt{value})$ remueve de $\\texttt{L}$ laprimer ocurrencia de $\\texttt{value}$.\n",
        "- $\\texttt{L.pop}(\\texttt{index})$ retorna el valor indexado y lo remueve de $\\texttt{L}$.\n",
        "- $\\texttt{L.reverse}()$ escribe la lista $\\texttt{L}$ del revez (cambia $\\texttt{L}$).\n",
        "- $\\texttt{L.sort}(\\texttt{L})$ (re)ordena $\\texttt{L}$ de acuerdo al orden lexicográfico. Los elementos deben ser del mismo tipo.\n"
      ]
    },
    {
      "cell_type": "code",
      "execution_count": null,
      "metadata": {
        "id": "Z8LK4NxayRhT",
        "outputId": "5bea2912-8ce9-4376-f029-663146f7a13d"
      },
      "outputs": [
        {
          "name": "stdout",
          "output_type": "stream",
          "text": [
            "['1', '2', '3', '5', 'caballo']\n"
          ]
        }
      ],
      "source": [
        "L=['1','5','2','caballo','3']\n",
        "L.sort()\n",
        "print(L)"
      ]
    },
    {
      "cell_type": "markdown",
      "metadata": {
        "id": "WfSq8NbsyRhU"
      },
      "source": [
        "## Rangos\n",
        "\n",
        "Los Rangos, son tipos especiales de contenedores. Generalmente, construiremos un rango de la siguiente forma:\n",
        "  <code>range(comienzo, fin, paso)</code>.\n",
        "\n",
        "Este commando generara un *rango* de números enteros desde $\\texttt{comienzo}$ (incluido) hasta $\\texttt{stop}$ (excluido) tomando en cuenta la \"longitud de salto\" definida por $\\texttt{paso}$.\n",
        "\n",
        "También pordemos invocar a <code>range(comienzo, fin)</code>. y el *'paso'* será por defecto 1, también podemos invocar <code>range(fin)</code>. donde el *'comienzo'* será por defecto 0."
      ]
    },
    {
      "cell_type": "code",
      "execution_count": null,
      "metadata": {
        "id": "9Asg_JxPyRhU",
        "outputId": "6a6a6283-137e-4d4a-ac12-218e1901e6e2"
      },
      "outputs": [
        {
          "data": {
            "text/plain": [
              "range(1, 100, 2)"
            ]
          },
          "execution_count": 47,
          "metadata": {},
          "output_type": "execute_result"
        }
      ],
      "source": [
        "# Por que no vemos un resultado?\n",
        "range(1,100,2)"
      ]
    },
    {
      "cell_type": "markdown",
      "metadata": {
        "id": "-zNrNfcGyRhU"
      },
      "source": [
        "El rango no es un objeto **per se**, podemos tratarlo como una *'potencial'* lista de enteros. Sin embargo, también es posible checkear que <code>'algo'</code> esta o pertenece a cierto rango utilizando <code>in</code>, i.e. <code>'algo' in range(comienzo, fin)</code>.\n"
      ]
    },
    {
      "cell_type": "markdown",
      "metadata": {
        "id": "ZcKVw0i-yRhV"
      },
      "source": [
        "## Differencias y relaciones entre estas Estructuras de Datos\n",
        "\n",
        "- Un diccionario es una forma conveniente de almacenar/actualizar/eliminar información sobre llaves esspecíficas. Sin embargo, es un objeto de mayor complejidad y debe ser utilizado con cuidado.\n",
        "\n",
        "- Una cadena de carácteres es un objeto especifico. Es una forma simple se comunicarse con el usuario, usando el método $\\texttt{format}$.\n",
        "\n",
        "- Los strings y la tuplas, son tipos inmutables. No existen métodos definidos para cambiar sus valores internos.\n"
      ]
    },
    {
      "cell_type": "code",
      "execution_count": null,
      "metadata": {
        "id": "uKsoqdVcyRhV"
      },
      "outputs": [],
      "source": [
        "# Es posible cambiar de 'str' a tipo 'tuple'.\n",
        "x=(1,2,3)\n",
        "x=x+x\n",
        "print(x)"
      ]
    },
    {
      "cell_type": "markdown",
      "metadata": {
        "id": "iEwsDcT3yRhV"
      },
      "source": [
        "- Los Conjuntos, Diccionarios y Listas son tipos \"mutables\"\n",
        "\n",
        "Existen diversos métodos para manipularlos y debemos tener cuidado cuando utilizamos la asginación en tipos mutables, ya en generalmente sobrescribiremos el o los valores. Para copiar un objeto complejo debemos usar el método <code>copy</code> en ves del symbolo <code>=</code>.\n",
        "\n",
        "- Los objetos \"mutables\" tiene un tiempo de accesso mayor (son un poco más lentos).\n"
      ]
    },
    {
      "cell_type": "code",
      "execution_count": null,
      "metadata": {
        "id": "Fx8bTInpyRhW",
        "outputId": "d65a0bed-f9ab-4bd0-b6c4-2851a288bdc6"
      },
      "outputs": [
        {
          "name": "stdout",
          "output_type": "stream",
          "text": [
            "[[1, 2], [3, 4]] [[1, 2], [3, 4], 1]\n",
            "[[1, 2], [3, 4]] [[1, 3], [3, 4], 1]\n"
          ]
        }
      ],
      "source": [
        "# Efecto del método copy().\n",
        "L=[1,2]\n",
        "M=[3,4]\n",
        "biglist=[L,M]\n",
        "copybiglist=biglist.copy()\n",
        "copybiglist.append(1)\n",
        "print(biglist,copybiglist)\n",
        "copybiglist[0]=[1,3]\n",
        "print(biglist,copybiglist)"
      ]
    },
    {
      "cell_type": "markdown",
      "metadata": {
        "id": "wXmqN6wYyRhW"
      },
      "source": [
        "- La desventaja de usar tipos \"mutables\" es el accesso más lento a los datos."
      ]
    },
    {
      "cell_type": "code",
      "execution_count": null,
      "metadata": {
        "id": "WqqabZ6zyRhW",
        "outputId": "cce9dd71-b4f7-4335-efcc-17b8ef1a2f0d"
      },
      "outputs": [
        {
          "name": "stdout",
          "output_type": "stream",
          "text": [
            "[1, 2, 3, 4]\n"
          ]
        }
      ],
      "source": [
        "# Efectos de los cambios de tipo (forzados).\n",
        "L=[1,2,1,2,1,3,4,2,3]\n",
        "c=list(set(L))\n",
        "print(c)"
      ]
    },
    {
      "cell_type": "markdown",
      "metadata": {
        "id": "TSJQk_soyRhX"
      },
      "source": [
        "### Punteros\n",
        "\n",
        "En otros lenguajes, como C o C++, existe un tipo de variable especial llamado puntero, que se comporta como una referencia a una variable, **como es el caso de las variables mutables**.\n",
        "\n",
        "En Python *no hay punteros* (como los de C o C++), pero todas las variables son referencias a objetos, es decir, la *dirección* de la porción de memoria, en donde el objeto está almacenado. De este modo cuando se asigna una variable a otra, lo que se está asignando es la dirección de la porción de memoria guarda el objeto. Si esa porción de memoria cambia, el cambio se puede ver en todas las variables que apuntan a esa porción."
      ]
    },
    {
      "cell_type": "markdown",
      "metadata": {
        "id": "xs9hV644yRhX"
      },
      "source": [
        "### Resumen Clasificación\n",
        "\n",
        "![python_mutable.png](attachment:python_mutable.png)"
      ]
    },
    {
      "cell_type": "markdown",
      "metadata": {
        "id": "4r28uPguyRhX"
      },
      "source": [
        "# Preliminares: Funciones vs. Métodos"
      ]
    },
    {
      "cell_type": "markdown",
      "metadata": {
        "id": "Y-WEj1AdyRhX"
      },
      "source": [
        "En Python temnemos dos tipos differentes formas de retornar valores o realizar acciones, en base a parámetros enviados. Podemos llamar a una $\\textit función$ o usar un $\\textit método$ (luego quedará mas claro cuando veamos como Python define y utiliza objetos).    \n",
        "\n",
        "Ya hemos visto algunos ejemplos de funciones (i.e. $\\normalsize \\color{green}{\\textsf{print}}$, $\\normalsize \\color{green}{\\textsf{input}}$, $\\normalsize \\color{green}{\\textsf{len}}$, $\\dots$). Un *método* es especifico a un tipo y son invocados de forma diferente.\n",
        "\n",
        "Sea <code>'obj'</code> un ojeto de tipo <code>type</code> y <code>method</code> es un método asociado a al tipo $\\texttt{type}$, entonces invocamos al método de la siguiente forma: <code>obj.method()</code>, donde, <code>()</code> puede (o no) contener algunos parámetros.     "
      ]
    },
    {
      "cell_type": "code",
      "execution_count": null,
      "metadata": {
        "id": "8o_2MxtcyRhY",
        "outputId": "2fde0cd8-2d4f-41f2-8888-3370d180eae1"
      },
      "outputs": [
        {
          "name": "stdout",
          "output_type": "stream",
          "text": [
            "4\n"
          ]
        },
        {
          "data": {
            "text/plain": [
              "1"
            ]
          },
          "execution_count": 50,
          "metadata": {},
          "output_type": "execute_result"
        }
      ],
      "source": [
        "c='ertl'\n",
        "print(len(c)) # Funcción\n",
        "c.index('r')  # Método"
      ]
    },
    {
      "cell_type": "markdown",
      "metadata": {
        "id": "ZVqIjaEByRhY"
      },
      "source": [
        "De forma practica, no hay muchas diferencias, entre llamar a una función o invocar un método. Las funciones son definidas como objetos independientes, mientras que, un método esta simpre definido dentro de una tipo de objeto (i.e. una clase, \"template\" del objeto) y \"no existe\" fuera de dicho tipo (clase del objeto). Un método, puede tener el mismo nombre, ya que cada será distinto para cada tipo de objeto. De esta manera podemos proteger ciertos nombres de variables, funcioes, etc.\n",
        "Ejemplo:\n",
        " - Podemos definir en nuestro código <code>count=3</code>, sin embargo <code>c.count(val)</code> retornara el numero de ocurrencias del parámetro <code>val</code> en la variable <code>c</code>.\n",
        " - En cambio, si definimos <code>len=2</code>, luego cualquier uso de la función <code>len(c)</code> retornara un error.\n"
      ]
    },
    {
      "cell_type": "code",
      "execution_count": null,
      "metadata": {
        "id": "oED5LeygyRhY"
      },
      "outputs": [],
      "source": [
        "#len=2\n",
        "#len(c) #Ya no tendrá sentido invocar a la función.\n",
        "        #Hemos 'sobrescrito' el nombre de la función len(.),\n",
        "        #ahora el \"nombre de función 'len'\" esta asociado a un nombre de variable."
      ]
    },
    {
      "cell_type": "markdown",
      "metadata": {
        "id": "ftP-oxrvyRhZ"
      },
      "source": [
        "Las funciones y métodos, pueden retornar un valor (e.g. <code>len</code>) o relizar una acción (e.g. <code>print</code>). También puede modificar el valor (o valores) de algunos objetos.\n"
      ]
    },
    {
      "cell_type": "code",
      "execution_count": null,
      "metadata": {
        "id": "5BmxQzRjyRhZ"
      },
      "outputs": [],
      "source": [
        "type(print(c)) # La función print no tiene tipo."
      ]
    }
  ],
  "metadata": {
    "celltoolbar": "Slideshow",
    "kernelspec": {
      "display_name": "Python 3",
      "language": "python",
      "name": "python3"
    },
    "language_info": {
      "codemirror_mode": {
        "name": "ipython",
        "version": 3
      },
      "file_extension": ".py",
      "mimetype": "text/x-python",
      "name": "python",
      "nbconvert_exporter": "python",
      "pygments_lexer": "ipython3",
      "version": "3.8.9"
    },
    "colab": {
      "provenance": [],
      "include_colab_link": true
    }
  },
  "nbformat": 4,
  "nbformat_minor": 0
}