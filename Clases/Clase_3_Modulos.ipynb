{
  "cells": [
    {
      "cell_type": "markdown",
      "metadata": {
        "id": "view-in-github",
        "colab_type": "text"
      },
      "source": [
        "<a href=\"https://colab.research.google.com/github/Jennifer-Arriola/Algoritmos/blob/main/Clases/Clase_3_Modulos.ipynb\" target=\"_parent\"><img src=\"https://colab.research.google.com/assets/colab-badge.svg\" alt=\"Open In Colab\"/></a>"
      ]
    },
    {
      "cell_type": "markdown",
      "metadata": {
        "id": "5r5Fekqmniyx"
      },
      "source": [
        "# Algoritmos y Estructuras de Datos.\n",
        "\n",
        "## - Clase 3 - Módulos  -"
      ]
    },
    {
      "cell_type": "markdown",
      "metadata": {
        "id": "LMHq0Hkhniy1"
      },
      "source": [
        "# Módulos en Python\n",
        "\n",
        "\n",
        "Para que nos siven? Nos permiten definir nuestras propias funciones, bloques de codigo, metodos, pbjetos, tipos de datos, etc.\n",
        "Cuando desarrollamos, aunque es possible hacerlo de manera individual, **requiere mucho tiempo y esfuerzo**, además de se debe considerar la (posible) **falta de eficiencia u otimización** del codigo.\n",
        "\n",
        "El comando $\\normalsize \\color{green}{\\textsf{import}}$ nos permite utilizar funciones y objetos definidos fuera de las funciones pre-definidas en Python.\n",
        "\n",
        "Por qué estas funciones no estas dentro de Python? Son muchas y muy especificas a cada dominio. A raíz de esto, los siguientes problemas aparecen:\n",
        "\n",
        "- Uso ineficiente de memoria.\n",
        "- Conflictos de nombres.\n",
        "\n",
        "\n",
        "Usar $\\textit{módulos}$ nos permite trabajar de forma colaborativa, en equipos. De esta manera se podrán abordar projectos de gran magnitud.\n"
      ]
    },
    {
      "cell_type": "markdown",
      "metadata": {
        "id": "3MUTJxbrniy1"
      },
      "source": [
        "## Cómo usar $\\normalsize \\color{green}{\\textsf{import}}$ ?\n",
        "\n",
        "\n",
        "Hay dos fromas de usar el comando $\\normalsize \\color{green}{\\textsf{import}}$.\n"
      ]
    },
    {
      "cell_type": "markdown",
      "metadata": {
        "id": "iojEsq45niy2"
      },
      "source": [
        "### Importar solo un módulo.\n",
        "\n",
        "<code>import nombre_módulo</code>\n",
        "\n",
        "\n",
        "Luego podremos llamar a la cualquier función <code>func</code> definida dentro del módulo <code>nombre_módulo</code>, de la siguiente forma: <code>nombre_módule.func</code>."
      ]
    },
    {
      "cell_type": "code",
      "execution_count": null,
      "metadata": {
        "id": "kV0SAzrOniy2"
      },
      "outputs": [],
      "source": [
        "#Ejemplo\n",
        "import random\n",
        "random.randrange(100)"
      ]
    },
    {
      "cell_type": "code",
      "execution_count": null,
      "metadata": {
        "id": "t59zsBr2niy3"
      },
      "outputs": [],
      "source": [
        "import numpy\n",
        "numpy.pi #numpy.pi es la aproximación del número pi."
      ]
    },
    {
      "cell_type": "code",
      "execution_count": null,
      "metadata": {
        "id": "hKHhi_X7niy5"
      },
      "outputs": [],
      "source": [
        "print(type(random)) # Tipo : module (módulo)\n",
        "print(type(random.randrange)) # Tipo : method (método)\n",
        "#print(type(numpy.pi))"
      ]
    },
    {
      "cell_type": "code",
      "execution_count": null,
      "metadata": {
        "id": "nTpJZnurniy6"
      },
      "outputs": [],
      "source": [
        "randrange(100) # Esto genera un error del tipo \"NameError\" porque la función randrange no esta definida."
      ]
    },
    {
      "cell_type": "markdown",
      "metadata": {
        "id": "ItvmbS6Iniy6"
      },
      "source": [
        "También es posible cambiar el nombre de los módulos, por otro, generalmente más corto.\n",
        "\n",
        "<code>import nombre_módulo as nuevo_nombre</code>"
      ]
    },
    {
      "cell_type": "code",
      "execution_count": null,
      "metadata": {
        "id": "DnlE-JfOniy7"
      },
      "outputs": [],
      "source": [
        "import math as m # el nommbre 'math' no es asociado al modulo (el nombre de variable esta \"libre\")\n",
        "                 # m es el objeto que contiene las funciones del módulo math.\n",
        "print(m.pi) # funciona...\n",
        "math.pi # NameError"
      ]
    },
    {
      "cell_type": "markdown",
      "metadata": {
        "id": "YXSLqb2Dniy7"
      },
      "source": [
        "### Importar objectos desde un módulo\n",
        "\n",
        "La otra manera de importar funciones (objetos, métodos, etc.) definidas en un módulo es asignando un nuevo monbre para ellas:\n",
        "\n",
        "<code>from nombre_módulo import mod_1, mod_2, ... as nuevo_mombre_1, nuevo_nombre_2, ...</code>\n"
      ]
    },
    {
      "cell_type": "code",
      "execution_count": null,
      "metadata": {
        "id": "NiYbEhcGniy7"
      },
      "outputs": [],
      "source": [
        "from math import pi as sliceofpie # sliceofpie es un número con el valor de math.pi\n",
        "from math import pi # el comando \"as\" es opcional\n",
        "pi==sliceofpie # Son Iguales"
      ]
    },
    {
      "cell_type": "markdown",
      "metadata": {
        "id": "2FubVlYnniy8"
      },
      "source": [
        "Si queremos importar un módulo de manera \"completa\", es decir todas las funciones, objetos, etc, invocamos el siguiente comando:\n",
        "\n",
        "\n",
        "<code>from nombre_módulo import * </code>\n"
      ]
    },
    {
      "cell_type": "code",
      "execution_count": null,
      "metadata": {
        "id": "XYWsJQfNniy8"
      },
      "outputs": [],
      "source": [
        "#import math\n",
        "#math.pi\n",
        "\n",
        "from random import *\n",
        "randrange(100)\n",
        "\n",
        "from math import *\n",
        "pi"
      ]
    },
    {
      "cell_type": "code",
      "execution_count": null,
      "metadata": {
        "id": "PSgsg-4Lniy8"
      },
      "outputs": [],
      "source": [
        "import random\n",
        "for x in  dir(random): #Funciones provistas por Python (built-in functions).\n",
        "    print (x, end= \" - \")\n",
        "\n",
        "help(random)"
      ]
    },
    {
      "cell_type": "markdown",
      "metadata": {
        "id": "2pBgb00Oniy9"
      },
      "source": [
        "Aunque los módulos mas usados, toman en cuenta la definición de nombres de manera cuidadosa para no generar conflictos. Es una buena practica evitar importar \"todo\" (utilizando asterisco) si importaremos mas de un módulo.\n"
      ]
    },
    {
      "cell_type": "markdown",
      "metadata": {
        "id": "LGLhmKKWniy9"
      },
      "source": [
        "## Algunos de los módulos mas utilizados\n",
        "\n",
        "Nota: algunos de estos módulos vienen provistos dependiendo de que versión y via que método instalamos Python. Los módulos qué no esten presentes, deben ser instalados manualmente o mediante la herramienta $\\textit{\"pip\"}$\n"
      ]
    },
    {
      "cell_type": "markdown",
      "metadata": {
        "id": "F5LEFMy1niy9"
      },
      "source": [
        "### Módulo math\n",
        "\n",
        "Para la mayoría de los módulos \"comunes\" de Python, la documentación es extensiva y clara. Ver Documentación del módulo $\\texttt{math}$: https://docs.python.org/es/3.6/library/math.html\n",
        "\n",
        "La libreria $\\texttt{math}$ contiene funciones comunes (logaritmoms, exponenciales, trigonometricas, ...) y algunas constantes (pi, e, ...), además de algunos otras definiciones, por ejemplo $\\texttt{inf}$ ($+\\infty$) y $\\texttt{nan}$ \"un número de tipo flotante\" que \"No Representa a un Número\" (Not A Number).\n"
      ]
    },
    {
      "cell_type": "code",
      "execution_count": null,
      "metadata": {
        "id": "8wyjsRaGniy9",
        "scrolled": true
      },
      "outputs": [],
      "source": [
        "from math import inf,nan\n",
        "\n",
        "print(inf+inf)\n",
        "print(1/inf)\n",
        "print(inf-inf)# \"Indeterminado\" aunque no genera error\n",
        "print()\n",
        "print(nan)"
      ]
    },
    {
      "cell_type": "code",
      "execution_count": null,
      "metadata": {
        "id": "A5Kpj4dVniy-"
      },
      "outputs": [],
      "source": [
        "1.0/0.0 # Infinito no es un resultado valido."
      ]
    },
    {
      "cell_type": "code",
      "execution_count": null,
      "metadata": {
        "id": "Ld9Hc6yXniy-"
      },
      "outputs": [],
      "source": [
        "from math import log\n",
        "log(0) #no -inf definido (solo +inf)"
      ]
    },
    {
      "cell_type": "markdown",
      "metadata": {
        "id": "7TjMNDjWniy-"
      },
      "source": [
        "$\\textbf{Ejercicio}$ : Calcular la media Aritmetico-Geometrica. Formula:\n",
        "\n",
        "Sea $u_0=1$, $v_0=x$. Si $u_n$ y $v_n$ estan definidas, definimos el siguiente termino como: $\\left\\lbrace\\begin{array}{l}u_{n+1}=\\frac{u_n+v_n}{2}\\\\\n",
        "v_{n+1}=\\sqrt{u_nv_n}\\end{array}\\right.$\n",
        "\n",
        "\n",
        "Podemos probar que ambas secuencias convergiran en el punto fijo $f(x)$. Calcular una aproximación de la función  $f(x)$ para $x\\in[ 0 ,0.01,\\dots, 0.99,1]$.\n",
        "\n",
        "\n"
      ]
    },
    {
      "cell_type": "code",
      "execution_count": null,
      "metadata": {
        "id": "18Q4sQVqniy_"
      },
      "outputs": [],
      "source": [
        "#Ejercicio Resuleto:\n",
        "counter=0\n",
        "import math\n",
        "def AGM(x):\n",
        "    global counter\n",
        "    #c=0\n",
        "    u,v=1,x #Initialization\n",
        "    while u!=(u+v)/2:\n",
        "        counter+=1\n",
        "        u=(u+v)/2\n",
        "        v=math.sqrt(u*v)\n",
        "    return u\n",
        "\n",
        "print(AGM(5))\n",
        "\n",
        "counter\n",
        ""
      ]
    },
    {
      "cell_type": "code",
      "execution_count": null,
      "metadata": {
        "id": "9b5dG90Yniy_"
      },
      "outputs": [],
      "source": [
        "for x in range(0,101):\n",
        "    print(AGM(x/100), end=\",\")"
      ]
    },
    {
      "cell_type": "code",
      "execution_count": null,
      "metadata": {
        "id": "OLbXBPmzniy_"
      },
      "outputs": [],
      "source": [
        "counter"
      ]
    },
    {
      "cell_type": "markdown",
      "metadata": {
        "id": "vmdXzC7oniy_"
      },
      "source": [
        "### Módulo numpy\n",
        "\n",
        "Su Documentación completa está disponible aqui: http://www.numpy.org. Particularmente interesante para problemas mathematicos.\n",
        "Nos ofrece un nuevo tipo de dato \"arreglo\" (array), tambien llamados \"vectores\", cuando todos los elementos son del mismo tipo.  \n"
      ]
    },
    {
      "cell_type": "code",
      "execution_count": null,
      "metadata": {
        "id": "FPfujEAWniy_"
      },
      "outputs": [],
      "source": [
        "import numpy as np"
      ]
    },
    {
      "cell_type": "code",
      "execution_count": null,
      "metadata": {
        "id": "nk6WAL6ZnizA"
      },
      "outputs": [],
      "source": [
        "v=np.array([[1,1],[1,1]])# Crea un arreglo de 2 x 2 (es decir, una matríz).\n",
        "                         # v= [ 1 | 1\n",
        "                         #      1 | 1 ]\n",
        "print(v)\n",
        "\n",
        "print([[1,1],[1,1]])\n",
        "\n",
        "type(v)"
      ]
    },
    {
      "cell_type": "code",
      "execution_count": null,
      "metadata": {
        "id": "Fu7HkOSfnizA"
      },
      "outputs": [],
      "source": [
        "v+=v\n",
        "print(v)"
      ]
    },
    {
      "cell_type": "code",
      "execution_count": null,
      "metadata": {
        "id": "b1rmp_GtnizA"
      },
      "outputs": [],
      "source": [
        "v=np.array([[1,2,3,4]])\n",
        "print(v)\n",
        "print(v[0][1]) # Podemos indexar los elementos de un array\n",
        "v[0][1]=5\n",
        "print(v)\n",
        "w=v     # Los arrays son objetos \"mutables\".\n",
        "w[0][1]=3\n",
        "print(w,'\\n',v)"
      ]
    },
    {
      "cell_type": "code",
      "execution_count": null,
      "metadata": {
        "id": "BWRGtA8anizA"
      },
      "outputs": [],
      "source": [
        "np.array([[True,2.0],[0+1j,0.1],(3+7*1j,-np.pi)]) # La *función* array normalizara los datos\n",
        "                                                  # que ingresamos por parametros."
      ]
    },
    {
      "cell_type": "code",
      "execution_count": null,
      "metadata": {
        "id": "Irvaw_aknizA"
      },
      "outputs": [],
      "source": [
        "np.zeros([2,3,4,3]) # podemos crear arreglos multi-dimensionales"
      ]
    },
    {
      "cell_type": "markdown",
      "metadata": {
        "id": "lUgeU7YsnizB"
      },
      "source": [
        "Además tenemos provisto el tipo $\\textit{Matríz}$."
      ]
    },
    {
      "cell_type": "code",
      "execution_count": null,
      "metadata": {
        "id": "8WzDw87UnizB"
      },
      "outputs": [],
      "source": [
        "M=np.matrix([[0,1j],[1j,0]]) # Tipo : matrix\n",
        "print(M.conjugate()) # Retorna wl conjugado de la matríz.\n",
        "print(M*M)"
      ]
    },
    {
      "cell_type": "code",
      "execution_count": null,
      "metadata": {
        "id": "1xbqilvmnizB"
      },
      "outputs": [],
      "source": [
        "N=M     # Las matrices son elementos mutables.\n",
        "N[0,1]=2713\n",
        "print(M)"
      ]
    },
    {
      "cell_type": "markdown",
      "metadata": {
        "id": "p3YHf4XBnizB"
      },
      "source": [
        "Existen muchos más métodos relacionados al manejo de matrices y algebras, contenidos en el $\\textit{sub-módulo}$ $\\texttt{linalg}$.\n",
        "\n"
      ]
    },
    {
      "cell_type": "code",
      "execution_count": null,
      "metadata": {
        "id": "04EhbouJnizB"
      },
      "outputs": [],
      "source": [
        "from numpy import linalg as LA\n",
        "eigvalues,eigvectors=LA.eigh(np.matrix([[10,1],[1,2]])) #eigh calcula los eigenvalues de matrices simetricas-hemitaneas\n",
        "print(eigvalues)"
      ]
    },
    {
      "cell_type": "markdown",
      "metadata": {
        "id": "8XoYLGFknizB"
      },
      "source": [
        "### Módulo scipy\n",
        "\n",
        "Su Documentación completa está disponible aqui: https://www.scipy.org. Contiene a los módulos $\\texttt{numpy}$ (analisis numerico), $\\texttt{sympy}$ (computación simbolica), y otras heramientas útiles que veremos luego.\n"
      ]
    },
    {
      "cell_type": "markdown",
      "metadata": {
        "id": "Rp7ZseF7nizC"
      },
      "source": [
        "### Módulo random\n",
        "\n",
        "Como lo indica su nombre, se utiliza para generar valores (u objetos) aleatorios.\n"
      ]
    },
    {
      "cell_type": "code",
      "execution_count": null,
      "metadata": {
        "id": "EoZvcVPynizC"
      },
      "outputs": [],
      "source": [
        "import random"
      ]
    },
    {
      "cell_type": "code",
      "execution_count": null,
      "metadata": {
        "id": "HIGTnyI0nizC"
      },
      "outputs": [],
      "source": [
        "random.random() # Retorna un número de punto flotante aleatorio entre 0 y 1 (igual que la calculadora)"
      ]
    },
    {
      "cell_type": "code",
      "execution_count": null,
      "metadata": {
        "id": "eVrq04EVnizC"
      },
      "outputs": [],
      "source": [
        "random.randrange(0,4) # Retorna un entero aleatorio entre 0 y 3 (incluido)"
      ]
    },
    {
      "cell_type": "code",
      "execution_count": null,
      "metadata": {
        "id": "_H1OF1R1nizC"
      },
      "outputs": [],
      "source": [
        "Meses=['Jan','Feb','Mar','Apr','May','Jun','Jul','Aug','Sep','Oct','Nov','Dec']\n",
        "random.shuffle(Meses) #Mezcla los meses (la lista Meses ha sido cambiada)\n",
        "Meses"
      ]
    },
    {
      "cell_type": "code",
      "execution_count": null,
      "metadata": {
        "id": "GFyemz6FnizC"
      },
      "outputs": [],
      "source": [
        "random.sample(Meses,k=12) # Retorna una muestra de 5 elementos de la población Meses\n",
        "#Comparar con las opciones: random.shuffle(L) and random.sample(L,len(L))"
      ]
    },
    {
      "cell_type": "code",
      "execution_count": null,
      "metadata": {
        "id": "GSg1frfhnizD"
      },
      "outputs": [],
      "source": [
        "#Ejercicio : Crear una matríz simetrica de tamaño 100 y calcular sus eigenvalues\n",
        "from numpy import matrix\n",
        "import random\n",
        "ListtoMatrix=[]\n",
        "for x in range(0,100):\n",
        "    Ligne=[]\n",
        "    for y in range(0,x):\n",
        "        Ligne.append(ListtoMatrix[y][x])\n",
        "    for y in range(x,100):\n",
        "        Ligne.append(random.randrange(-10,10))\n",
        "    ListtoMatrix.append(Ligne)\n",
        "eigval,eigvect=LA.eigh(matrix(ListtoMatrix))\n",
        "len(eigval)\n",
        "eigval\n"
      ]
    },
    {
      "cell_type": "code",
      "execution_count": null,
      "metadata": {
        "id": "WkBwTy-unizD"
      },
      "outputs": [],
      "source": [
        "#Ejercicio: Paradoja del Cumpleaños. Dentro de un grupo de 10 personas, asumiendo que\n",
        "#sus cumpleños siguen una distribución normal sobre los 365 dias de año. Calcular una aproximación\n",
        "#de la probabilidad que dos personas cumplan años el mismo día.\n",
        "#Mismo ejercicio, pero para 30 personas.\n",
        "\n",
        "N=10000 #Numero de iteraciones (tests)\n",
        "Npeople=10 #Número de personas.\n",
        "S=0     #+1 si no hay cumpleños que iguales, 0 en otro caso.\n",
        "for ntest in range(0,N):\n",
        "    Lbirthday=[]\n",
        "    for x in range(0,Npeople):\n",
        "        birthday=random.randrange(0,366)\n",
        "        if birthday in Lbirthday:     # Verificar si dos personas tienen el mismo cumpleaños\n",
        "            test=0             # Mantendremos S = 0.\n",
        "            break              # Salimos del ciclo.\n",
        "        else:\n",
        "            Lbirthday.append(birthday) #Añadir el cumpleaños a la lista de cumpleaños para ese día.\n",
        "\n",
        "    if len(Lbirthday)==Npeople:   # Si la lista de cumpleños Lbirthday es igual a Npeople, entonces todas\n",
        "                                  # las personas tienen diferentes cumpleaños.\n",
        "        test=1\n",
        "\n",
        "    S+=test                   # Añadimos los resultados del test a la variable S\n",
        "\n",
        "print(S/N) # Mostrar porcentaje.\n",
        "\n",
        "\n"
      ]
    },
    {
      "cell_type": "code",
      "execution_count": null,
      "metadata": {
        "id": "_bF3XejcnizD"
      },
      "outputs": [],
      "source": [
        "# Ejercicio : Supongamos que hacemos una \"tirada\" de  10 dados.\n",
        "    # Ganaremos $200 si la suma de los valores esta entre los 10 y 23.\n",
        "    # Perderemos $1600 si la suma de los valores es 24 o 48.\n",
        "    # Ganaremos $2500 si la suma de los valores es 42.\n",
        "    # Perderemos $500 en cualquier otro caso.\n",
        "  # Deberiamos jugar a este juego?\n",
        "\n",
        "\n",
        "N=10000 #Número de iteraciones o \"tests\"\n",
        "S=0     #Suma total del dinero ganado/perdido\n",
        "\n",
        "for ntest in range(0,N):\n",
        "\n",
        "    dicesvalue=0           #Inicialización\n",
        "\n",
        "    for ndice in range(0,10):      #\" tiramos los dados 10 veces\"\n",
        "        dicesvalue+=random.randrange(1,7)  # \"tirada\" de **un** dado\n",
        "\n",
        "    if dicesvalue<= 23:   # Aplicamos las reglas del juego\n",
        "        S+=200\n",
        "    elif dicesvalue==10 or dicesvalue==23:\n",
        "        S-=1600\n",
        "    elif dicesvalue==42:\n",
        "        S+=2500\n",
        "    else:\n",
        "        dicesvalue-=500\n",
        "\n",
        "print(S/N)  # El promedio S/N es una buen estimador de la \"espranza\" de las ganancias.\n",
        "\n"
      ]
    },
    {
      "cell_type": "markdown",
      "metadata": {
        "id": "_RH4_L1enizD"
      },
      "source": [
        "### Importar módulos escritos por el usuario\n",
        "\n",
        "Podemos crear e importar nuestros propios módulos. Sólo debemos importar código guardado en un archivo <code>.py</code>\n",
        "\n",
        "\n",
        "Cuando importamos un módulo, el intérprete de Python buscara el módulo en el siguiente orden:\n",
        "\n",
        "1- El directorio actual;\n",
        "\n",
        "2- Si no se encuentra, Python busca cada directorio en la variable de entorno <code>PYTHONPATH</code>;\n",
        "\n",
        "3- Si todo lo demás falla, Python comprueba la ruta por defecto, normalmente <code>\"/usr/local/lib/python/</code>.\n"
      ]
    }
  ],
  "metadata": {
    "colab": {
      "collapsed_sections": [
        "F5LEFMy1niy9",
        "vmdXzC7oniy_",
        "8XoYLGFknizB",
        "Rp7ZseF7nizC"
      ],
      "provenance": [],
      "include_colab_link": true
    },
    "kernelspec": {
      "display_name": "Python 3",
      "language": "python",
      "name": "python3"
    },
    "language_info": {
      "codemirror_mode": {
        "name": "ipython",
        "version": 3
      },
      "file_extension": ".py",
      "mimetype": "text/x-python",
      "name": "python",
      "nbconvert_exporter": "python",
      "pygments_lexer": "ipython3",
      "version": "3.8.3"
    }
  },
  "nbformat": 4,
  "nbformat_minor": 0
}