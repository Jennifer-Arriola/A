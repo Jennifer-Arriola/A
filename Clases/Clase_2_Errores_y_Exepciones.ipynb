{
  "cells": [
    {
      "cell_type": "markdown",
      "metadata": {
        "id": "view-in-github",
        "colab_type": "text"
      },
      "source": [
        "<a href=\"https://colab.research.google.com/github/Jennifer-Arriola/Algoritmos/blob/main/Clases/Clase_2_Errores_y_Exepciones.ipynb\" target=\"_parent\"><img src=\"https://colab.research.google.com/assets/colab-badge.svg\" alt=\"Open In Colab\"/></a>"
      ]
    },
    {
      "cell_type": "markdown",
      "metadata": {
        "id": "GHwTNSAT_cV3"
      },
      "source": [
        "# Algoritmos y Estructuras de Datos.\n",
        "\n",
        "## - Clase 2 - Errores y Funciones -"
      ]
    },
    {
      "cell_type": "markdown",
      "metadata": {
        "collapsed": true,
        "id": "jBU9VeY4_cV-"
      },
      "source": [
        "# Errores y Depuración (debugging) del código."
      ]
    },
    {
      "cell_type": "markdown",
      "metadata": {
        "id": "1QUX5iAt_cWA"
      },
      "source": [
        "Cuando escribimos un programa, siempre será una tarea propensa a errores. Ya sean errores inesperados, o problemas en la estructura lógica del programa. Aquí hay algunos pasos para aboradar estos problemas de manera mas sistemática:\n",
        "\n",
        "- Comprender el problema (logico-matemáticamente), i.e. input, proceso, resultado.\n",
        "\n",
        "- Convertir el problema abstracto en un proceso que pueda ser resuelto en un computador, i.e. escribir el algoritmo que resuleve el problema.\n",
        "\n",
        "- Escribir el algoritmo en algun lengunaje de programación (e.g. Python).\n",
        "\n",
        "- Comprobar y Validar que el código funcione correctmente.  \n",
        "\n",
        "- Presentación/Visualización de los resultados.\n",
        "\n",
        "Las primeras dos etapas, obviamente tienen su complejidad y un gran potencial de introducir errores, pero por el momento no nos concentraremos en este tipo de errores. Nos enfocaremos en los errores **gramaticales** y **semanticos** generados en la 3er y 4ta etapa.\n"
      ]
    },
    {
      "cell_type": "markdown",
      "metadata": {
        "id": "4JU5gQ9i_cWB"
      },
      "source": [
        "Basicamente podemos agrupar los errores en dos clases:\n",
        "\n",
        "- **Errores Gramaticales** (tambien los llamamos **Errores Sintácticos**) no nos permiten continuar la ejecución de nuestro programa.  \n",
        "\n",
        "- **Errores Semánticos**, i.e. cuando el código continua su ejecución y terminara de manera anómala, o con resultados erroneos.  \n",
        "\n",
        "\n",
        "El interprete de Python detectara autamticamente los *errores sintácticos*. Los *errores semanticos* estarán en la estructura lógica del programa y será nuestro trabajo identficarlos y correjirlos.\n"
      ]
    },
    {
      "cell_type": "code",
      "execution_count": null,
      "metadata": {
        "id": "8h64xN9l_cWD"
      },
      "outputs": [],
      "source": [
        "# Ejemplo error de sintáxis.\n",
        "L=[]\n",
        "L[0] # el indice es menor a la longitud ' i  > len(L)-1 '"
      ]
    },
    {
      "cell_type": "code",
      "execution_count": null,
      "metadata": {
        "id": "WIaIJRPm_cWF"
      },
      "outputs": [],
      "source": [
        "# Ejemplo error semántico.\n",
        "L=[1,3,2,4]\n",
        "#Lsorted = L.sort()# comando incorrecto (ya que estamos cambiando la lista L)\n",
        "Lsorted = L.copy()\n",
        "Lsorted.sort() # comando correcto (ya que la lista L no ha cambiado)"
      ]
    },
    {
      "cell_type": "code",
      "execution_count": null,
      "metadata": {
        "id": "fWc1nTG__cWG"
      },
      "outputs": [],
      "source": [
        "# Probar ambos comandos\n",
        "print(Lsorted)"
      ]
    },
    {
      "cell_type": "markdown",
      "metadata": {
        "id": "tfoU_5ME_cWH"
      },
      "source": [
        "## Errores Sintácticos\n",
        "\n",
        "Un error sintáctico es generado cuando el interprete de Python no *'entiende'* cómo la line de código (o comando) debe ser interpretado. Cunado esto ocurre, el interprete *'lanzara'* una **excepción**. Formalmente una excepción:\n",
        "\n",
        "- **detiene** la ejecución del cógido inmediatamente,\n",
        "\n",
        "- demarcar qué **lineas de código** han llevado a generarse el error,\n",
        "\n",
        "- **nombra** el error (o tipo de error),\n",
        "\n",
        "- pasará argumentos a la excepción.\n",
        "\n",
        "\n",
        "Todos los errores sintácticos son comunes, en teoría este tipo de problemas es más fácil de solucionar. Debajo podrán encontrar una breve lista de errores comunes y cómo proceder para tratarlos.\n"
      ]
    },
    {
      "cell_type": "markdown",
      "metadata": {
        "id": "2xLT3Jcj_cWI"
      },
      "source": [
        "### AssertionError\n",
        "\n",
        "Esta excepción es llamada dentro del código del programa para informar un error. Veremos más en detalle, el comando $\\normalsize \\color{green}{\\textsf{ assert }}$, en las secciones siguientes.\n"
      ]
    },
    {
      "cell_type": "code",
      "execution_count": null,
      "metadata": {
        "id": "UyKKra_g_cWI"
      },
      "outputs": [],
      "source": [
        "# Ejemplo\n",
        "assert 1 == 2, 'Error Aquí!!'"
      ]
    },
    {
      "cell_type": "markdown",
      "metadata": {
        "id": "SCDS6ZoE_cWJ"
      },
      "source": [
        "### IndentationError\n",
        "\n",
        "Esta excepción aparece cuando nuestro código no respeta la indentación de Python *(\"unexpected indent\")*. También aparece, cuando no hay un bloque de código luego de un **__'_:_'__** *(\"expected an indented block\")*.\n"
      ]
    },
    {
      "cell_type": "code",
      "execution_count": null,
      "metadata": {
        "id": "BJwPifTP_cWK"
      },
      "outputs": [],
      "source": [
        "# Ejemplo\n",
        "3+2 # bien!\n",
        " 3+2 # mal indentado."
      ]
    },
    {
      "cell_type": "code",
      "execution_count": null,
      "metadata": {
        "id": "dBjAeKaI_cWK"
      },
      "outputs": [],
      "source": [
        "# Ejemplo\n",
        "\n",
        "for x in range(0,9):  # No hay ningún\n",
        "                      # bloque de código\n",
        "print(x) # la función print no respeta la indentación adecuada para estar dentro del for"
      ]
    },
    {
      "cell_type": "markdown",
      "metadata": {
        "id": "G0EdQRIu_cWL"
      },
      "source": [
        "\n",
        "Qué podemos hacer?\n",
        "\n",
        "- Chequear que todas las lineas de código esten alineadas correctamente. Si utilizamos algun tipo de IDE, o editor de texto avanzado, podremos ver claramente los niveles de indentación.\n",
        "\n",
        "- En el caso de que la indentación de nuestro código sea correcta, e igualmente persiste el error **IndentationError**  puede ser debido a 'mezclar' distintos tipos de *espacios y tabulaciones*. Debemos unificar estos *caracteres invisibles* deacuerdo con la indentación predefinida de Python.  \n",
        "\n",
        "- Hay un bloque de código (apropiadamente indentado) luego de los dos puntos? En el caso que querramos forzar un bloque de código *'vacío'*, deberemos escribir $\\normalsize \\color{green}{\\textsf{ pass }}$ luego de los dos puntos.\n",
        "\n",
        "- Ser cuadadoso cuando copiamos/pegamos lineas que tienen una indentación distinta.\n",
        "\n"
      ]
    },
    {
      "cell_type": "code",
      "execution_count": null,
      "metadata": {
        "id": "sUj2EVPE_cWL"
      },
      "outputs": [],
      "source": [
        "# Ejemplo\n",
        "\n",
        "for x in range(0,9): pass\n",
        "\n",
        "print(3)"
      ]
    },
    {
      "cell_type": "markdown",
      "metadata": {
        "id": "r9vSLtlK_cWL"
      },
      "source": [
        "### IndexError\n",
        "\n",
        "Esta excepción aparece cuando el indice de un *string* o *lista* esta fuera del rango.\n"
      ]
    },
    {
      "cell_type": "code",
      "execution_count": null,
      "metadata": {
        "id": "LDJqzwup_cWM"
      },
      "outputs": [],
      "source": [
        "# Ejemplo\n",
        "L=[0,1,2]\n",
        "L[3]"
      ]
    },
    {
      "cell_type": "markdown",
      "metadata": {
        "id": "Sk8rYJSx_cWM"
      },
      "source": [
        "\n",
        "Qué podemoms hacer?\n",
        "\n",
        "- Recordar que los indices de una lista $\\texttt{L}$ (string $\\texttt{s}$) permitidos, pertenecen al rango $[ 0, \\ldots, \\texttt{len}(\\texttt{L})-1 ]$ ( $[ 0, \\ldots, \\texttt{len}( \\texttt{s})-1 ]$ ).\n",
        "\n",
        "\n",
        "- Las listas son objetos mutables, debemos ser concientes que algunos comandos pueden extender o acortar la lista.\n",
        "\n",
        "- Si utilizamos distintas varables para indezar, debemos comprobar que no hayan sido cambiadas previamente en nuestro código, o en alguna función externa.\n"
      ]
    },
    {
      "cell_type": "markdown",
      "metadata": {
        "id": "uq0meuok_cWM"
      },
      "source": [
        "### NameError\n",
        "\n",
        "Esta excepción aparece cuando una variable no es definida.\n"
      ]
    },
    {
      "cell_type": "code",
      "execution_count": null,
      "metadata": {
        "id": "mHYtGmkL_cWM"
      },
      "outputs": [],
      "source": [
        "# Ejemplo\n",
        "# notassigned =1\n",
        "notassigned"
      ]
    },
    {
      "cell_type": "markdown",
      "metadata": {
        "id": "Bme2_Yb2_cWN"
      },
      "source": [
        "\n",
        "Qué podemos hacer?\n",
        "\n",
        "\n",
        "- Localizar la variable utilizando el número de linea provisto por el error/excepción.\n",
        "\n",
        "- Localizar la linea de código (si es que existe) en donde dicha variable fue definida, es esta linea antes o despues del error? Es esta linea bien indentada?\n",
        "\n",
        "- Revisar si hay algun error ortográfico o sintáctico al llamar la variable.\n",
        "\n",
        "- Si el error esta dentro de una función, es posible que dicha variable es *local* y su uso es *global* (or reversamente).\n",
        "\n",
        "- Si el nombre pertenece a una función, primero segurarse que estemos importando el módulo que contiene la función. Lo mismo para constantes globales, por ejemplo, $\\pi$ or $\\gamma$.\n"
      ]
    },
    {
      "cell_type": "markdown",
      "metadata": {
        "id": "E-xgqUEg_cWN"
      },
      "source": [
        "### OverflowError\n",
        "\n",
        "\n",
        "Esta excepción aparece cuando sobrepasamos el limite computacional de los números de punto flotante (*pueden usar solo una cantidad de memoria limitada*). En contraste los números enteros pueden ser de cualquier extensión, más precisamente hasta que nos quedamos sin memoria reservada y se lanza una excepción **MemoryError**.  \n"
      ]
    },
    {
      "cell_type": "code",
      "execution_count": null,
      "metadata": {
        "id": "kI7UMcUg_cWN"
      },
      "outputs": [],
      "source": [
        "# Ejemplo\n",
        "(1.0*10**1000)/10**1000 # OverflowError!"
      ]
    },
    {
      "cell_type": "markdown",
      "metadata": {
        "id": "UmQtydRe_cWO"
      },
      "source": [
        "Qué podemos hacer?\n",
        "\n",
        "- Convertir numeros de punto flotante a enteros cuando sea posible.\n",
        "\n",
        "- Evitar el uso de números de punto flotante muy grandes, se deben usarse distintas tecnicas para obtener dicha presición.\n"
      ]
    },
    {
      "cell_type": "markdown",
      "metadata": {
        "id": "S3pNhte4_cWO"
      },
      "source": [
        "### RuntimeError\n",
        "\n",
        "Esta excepción aparece cuando hay un error que no tenga un tipo de error predefinidos. Es un error en ejecución *'generico'*\n"
      ]
    },
    {
      "cell_type": "code",
      "execution_count": null,
      "metadata": {
        "id": "9uyPrl43_cWO"
      },
      "outputs": [],
      "source": [
        "# Ejemplo\n",
        "raise"
      ]
    },
    {
      "cell_type": "markdown",
      "metadata": {
        "scrolled": true,
        "id": "xs9QpEIf_cWO"
      },
      "source": [
        "### SyntaxError\n",
        "\n",
        "Este error aparece cuando hay un problema sintáctico en el código. Puede suceder cuando usamos caracteres especiales,  intentamos asignar un valor a un nombre reservado o protegico, o a un número. Además de aparecer cuando nos olvidamos los dos puntos luego de un $\\normalsize \\color{green}{\\textsf{ for }}$, $\\normalsize \\color{green}{\\textsf{ if }}$, $\\normalsize \\color{green}{\\textsf{ while }}$, $\\normalsize \\color{green}{\\textsf{ def }}$, etc. En la documentación oficial de Python se hace referencia a estos como **Errores**, cualquier otro tipo de error una **Excepción**."
      ]
    },
    {
      "cell_type": "code",
      "execution_count": null,
      "metadata": {
        "id": "Z5_ikERP_cWO"
      },
      "outputs": [],
      "source": [
        "# Ejemplos\n",
        "print(x\n",
        "\n",
        "for x in range(0,9)\n",
        "    print(x)"
      ]
    },
    {
      "cell_type": "markdown",
      "metadata": {
        "id": "fx0Oirm2_cWP"
      },
      "source": [
        "![error2.png](attachment:error2.png)"
      ]
    },
    {
      "cell_type": "markdown",
      "metadata": {
        "id": "ha-cRlNr_cWP"
      },
      "source": [
        "\n",
        "Qué podemos hacer?\n",
        "\n",
        "- Unilizar letras sin ascento u otros caracteres especiales.\n",
        "\n",
        "- Cuando escribimos $\\texttt{1 = }\\dots$, simpre, lo que queriamos escribir es: $\\texttt{1 == }\\dots$. Chequear que no hayamos confundido esto symbolos $\\texttt{ = }$ y $\\texttt{ == }$ en ninguna de nuestras expresiones.\n",
        "\n",
        "- Recordar escribir los dos puntos al terminar la linea de un $\\normalsize \\color{green}{\\textsf{ for }}$, $\\normalsize \\color{green}{\\textsf{ if }}$, $\\normalsize \\color{green}{\\textsf{ while }}$, $\\normalsize \\color{green}{\\textsf{ def }}$, etc.\n"
      ]
    },
    {
      "cell_type": "markdown",
      "metadata": {
        "id": "DTXNGACz_cWP"
      },
      "source": [
        "### TypeError\n",
        "\n",
        "Esta excepción aparece cuando utilizamos un tipo erroneo, es decir distinto al esperado. Ocurre usualmente cuando llamamos a una función la cual requiere de tipos de parámetros especifícos. Un número erroreo de argumentos. Y por otras diversas razones relacionadas a conflictos de tipos.\n"
      ]
    },
    {
      "cell_type": "code",
      "execution_count": null,
      "metadata": {
        "id": "wmThYvwz_cWP"
      },
      "outputs": [],
      "source": [
        "# Ejemplos\n",
        "L[\"1\"]\n",
        "#len(3)"
      ]
    },
    {
      "cell_type": "markdown",
      "metadata": {
        "id": "djHEDnXy_cWQ"
      },
      "source": [
        "![error3.png](attachment:error3.png)"
      ]
    },
    {
      "cell_type": "markdown",
      "metadata": {
        "id": "UZYCgYnK_cWQ"
      },
      "source": [
        "Que podemos hacer?\n",
        "\n",
        "- Buscar nombre de variables duplicados. Intentar escribir nombres mas largos en caso de ser necesario.\n",
        "\n",
        "- Siempre podemos utilizar la función $\\normalsize \\color{green}{\\textsf{ help }}$ para ver información sobre la cantidad y tipos de argumento que una función requiere.\n",
        "\n",
        "- Para el caso de los métodos, podemos obtener esta información llamando a $\\normalsize \\color{green}{\\textsf{ help }}$ sobre el tipo del objeto.\n"
      ]
    },
    {
      "cell_type": "markdown",
      "metadata": {
        "id": "svG7p5JQ_cWQ"
      },
      "source": [
        "### ValueError\n",
        "\n",
        "Esta excepción aparece cuando llamamos a una función (o método) con argumentos del tipo correcto, pero con valores que no son validos para dicha función (método).\n"
      ]
    },
    {
      "cell_type": "code",
      "execution_count": null,
      "metadata": {
        "id": "cabwpuhI_cWR"
      },
      "outputs": [],
      "source": [
        "# Ejemplo\n",
        "int('value')\n",
        "#1/0"
      ]
    },
    {
      "cell_type": "markdown",
      "metadata": {
        "id": "9MP9DkiV_cWR"
      },
      "source": [
        "![error4.png](attachment:error4.png)"
      ]
    },
    {
      "cell_type": "markdown",
      "metadata": {
        "id": "iw7TLnLt_cWR"
      },
      "source": [
        "Qué podemos hacer?\n",
        "\n",
        "- Llamar a la función $\\normalsize \\color{green}{\\textsf{ help }}$ y verificar que los valores son validos.\n",
        "\n",
        "- Cuando intentamos dividir por cero, optenemos directamente una excepción **ZeroDivisionError**. Estar atentos a aquellos números de punto flotante que se aproximen a cero.\n",
        "\n",
        "- En general, estos problemas son especifícos caso por caso, en caso de querer circunventarlos podemos utilizar comandos $\\normalsize \\color{green}{\\textsf{ if }}$, o bloques de código $\\normalsize \\color{green}{\\textsf{ try }}$. Por ejemplo, estas dos formas nosotros mismos realizamos el manejo del error a priori, o a posteriori respectivamente.\n"
      ]
    },
    {
      "cell_type": "markdown",
      "metadata": {
        "id": "o7V1ytP8_cWR"
      },
      "source": [
        "### UnboundLocalError\n",
        "\n",
        "Esta excepción aparece cuando el interprete reconoce el uso de una variable local con alcanze global. En la siguiente Lección definiremos en detalle el *alcanze de una variable*.\n"
      ]
    },
    {
      "cell_type": "markdown",
      "metadata": {
        "id": "Lf2AKBSV_cWa"
      },
      "source": [
        "## Errores Semánticos\n",
        "\n",
        "\n",
        "Los errores semánticos son mucho mas frecuentes que los sintácticos. Por definición, son errores del tipo **el programa hace algo, pero no lo que quiero**. En este caso, el programa esta libre de problemas sintactícos graves, o es posible ejecutarlo \"sin errores\".\n",
        "\n",
        "Una solución general para detectar problemas semánticos es monitorear los valores de las variables durante la ejecución del programa, ya sea utilizando numerosos lineas $\\normalsize \\color{green}{\\textsf{ print }}$, o utilizando alguna herramienta de depuración (debugger) que nos facilite esta tarea.\n"
      ]
    },
    {
      "cell_type": "markdown",
      "metadata": {
        "id": "QZrGlKxh_cWa"
      },
      "source": [
        "### Sintoma : A veces obtengo un error sintatíco.\n",
        "\n",
        "Primero debemos revisar el error acorde a lo visto para cada caso de error sintactíco. Sin embargo, algunos errores sintácticose aparecen porque el programador ha realizado un error semántico. Aquí tenemos una breve lista de posibles problemas a chequear:\n",
        "\n",
        "- Existen asignaciones a variables de objetos mutables (usando $\\texttt{=}$)? Entonces, deberiamos reemplazarlas usando el método $\\texttt{copy}()$. Recordar que los objetos mutables, son objetos dinámicos.\n",
        "\n",
        "- Asegurarse que cuando definimos $\\texttt{a = función}(\\cdots)$, la función $\\texttt{función}$ retorne un valor.\n",
        "\n",
        "- Entender el comportamiento de las funciones, en especial para evitar parametros con valores invalidos (e.g. listas vacias, tipos incompatibles, etc).\n"
      ]
    },
    {
      "cell_type": "code",
      "execution_count": null,
      "metadata": {
        "id": "FUomBfQL_cWa"
      },
      "outputs": [],
      "source": [
        "# Ejemplo\n",
        "L=[1,32,3]\n",
        "M = L # M y L son/apuntan a la misma lista.\n",
        "print(\"L=\",L,\"M=\",M)\n",
        "L.pop(1)\n",
        "print(\"L=\",L,\"M=\",M)\n",
        "M[2]\n",
        "# Probar reemplazando por M = L.copy(). Funcionan de la misma forma?"
      ]
    },
    {
      "cell_type": "code",
      "execution_count": null,
      "metadata": {
        "id": "qU0oQdYk_cWb"
      },
      "outputs": [],
      "source": [
        "# Ejemplo\n",
        "L=[1,3,2,4]\n",
        "Lsorted=L.sort() # Además del efecto secundario que el metodo sort tiene, es ordenar la lista L 'sobre si misma'."
      ]
    },
    {
      "cell_type": "code",
      "execution_count": null,
      "metadata": {
        "id": "ss-5N1Sr_cWb"
      },
      "outputs": [],
      "source": [
        "# Explicar por que obtenemos un error. Correjir el código.\n",
        "L=[i for i in range(0,10)] # Queremos obtener una lista de enteros impares.\n",
        "for x in range(0,5):\n",
        "    print(L)\n",
        "    L.pop(2*x) # '2*x' hace referencia a los indices pares en la lista original (los números impares)\n",
        "               # pero estamos cambiando la lista en cada paso del ciclo."
      ]
    },
    {
      "cell_type": "markdown",
      "metadata": {
        "id": "yQVBN3sf_cWb"
      },
      "source": [
        "### Sintoma :  Mi programa no termina su ejecución.\n",
        "\n",
        "\n",
        "\n",
        "Una vez comenzada la ejecución de nuestro programa, a veces, parece que no fuera a terminar de ejecutarse nunca. Debemos tratar de asegurarnos que podemos identificar cuales con las lineas de cógido reponsables. Existen dos casos popsibles, el código no terminara nunca de ejecutarse, o eventualemnte terminara su ejecución, pero no sabremos cuando.\n",
        "\n",
        "\n",
        "**Cómo difereciamos ambos casos?**\n",
        "\n",
        "Ejecutar el programa con la menor cantidad de datos posibles y comprobar que el código funciona correctamente.\n",
        "\n",
        "**el programa no termina**\n",
        "\n",
        "- Corroborar que la condiciones de los ciclos $\\normalsize \\color{green}{\\textsf{ while }}$ terminen eventualmente.\n",
        "\n",
        "- Si estamos utilizando una llamada recursiva en una función, corroborar que exista un caso base el cual asegure la terminación de las llamadas recursivas.\n",
        "\n",
        "- Estamos modificando los indices en un ciclo meintras que lo recorremos (en su interior)?\n",
        "\n",
        "\n",
        "**el programa es \"muy pesado\"**\n",
        "\n",
        "- Estamos realizando grandes calculos? Podemos evitarlos? Existen módulos especiales optimizados para este tipo de calculos?\n",
        "\n",
        "- Estamos usando las estructuras de datos correctas?\n",
        "\n",
        "- Utilizamos funciones propias para realizar el trabajo de funciones ya definidas?\n",
        "\n",
        "- Estimar la complejidad del problema y como su complejidad crece de acuerdo al tamaño de los datos.\n",
        "\n",
        "- No hacer abuso de funciones recursivas (si no están extremadamente optimizadas).\n"
      ]
    },
    {
      "cell_type": "code",
      "execution_count": null,
      "metadata": {
        "id": "X2xfT8oB_cWc"
      },
      "outputs": [],
      "source": [
        "# Código que nunca terminara.\n",
        "L=[0]\n",
        "for x in L:\n",
        "    print(x)\n",
        "    L.append(x)\n",
        "\n",
        "# Otro ejemplo.\n",
        "#while True:\n",
        "#    print(1)\n"
      ]
    },
    {
      "cell_type": "markdown",
      "metadata": {
        "id": "L00bulxj_cWc"
      },
      "source": [
        "### Sintoma : Mi programa no retorna valores correctos.\n",
        "\n",
        "\n",
        "En este momento nuestro programa se ejecuta sin errores, pero retorna resultados erroneos. La pregunta es: **Cuán mal estan los resultados?** Si el resultado es de un tipo erroneo, podemos suponer algun error de casting o *TypeError* dentro de nuestro código. Aquí tenemos una breve lista de posibles problemas a chequear:\n",
        "\n",
        "- Separar el codigo en funciones o módulos, para tratar de encapsular el error, y poder testear distintas partes del código de manera individual.\n",
        "\n",
        "- Chequear los objetos que sean mutables.\n"
      ]
    },
    {
      "cell_type": "code",
      "execution_count": null,
      "metadata": {
        "id": "bpP6wneT_cWc"
      },
      "outputs": [],
      "source": [
        "# Ejemplo\n",
        "mess=list(set(mess)) # ordenara eficientemente la lista 'mess', pero multiple valores pueden perderse."
      ]
    },
    {
      "cell_type": "markdown",
      "metadata": {
        "id": "WX-1N7Rn_cWc"
      },
      "source": [
        "# Manejo de  Excepciones\n",
        "\n",
        "\n",
        "Los errores en nuestro código terminan la ejecución del programa. En algunos casos, nos gustaría ingnorar algunos errores no criticos, y poder continuar ejecutando el programa. Utilizando el comando $\\normalsize \\color{green}{\\textsf{ try }}$ podemos capturar exepciones (errores) y decidir como proseguir.\n",
        "Para *'lanzar'* una exepción, es decir, informar o propagar un error, utilizaremos los comandos $\\normalsize \\color{green}{\\textsf{ raise }}$ y $\\normalsize \\color{green}{\\textsf{ assert }}$\n"
      ]
    },
    {
      "cell_type": "markdown",
      "metadata": {
        "id": "F4oaHfm1_cWd"
      },
      "source": [
        "## El comando Try\n",
        "\n",
        "Está es la forma de utilizar el comando $\\normalsize \\color{green}{\\textsf{ try }}$:\n",
        "\n",
        "$\\normalsize \\color{green}{\\textsf{ try }}$ :\n",
        "\n",
        "    {bloque A de código con potenciales errores}\n",
        "    {bloque A de código con potenciales errores}\n",
        "    \n",
        "$\\normalsize \\color{green}{\\textsf{ except }}$ *Error1* $\\normalsize \\color{green}{\\textsf{ as }}$ *string1* :\n",
        "    \n",
        "    {bloque B1 de código para el manejo del *Error1*}\n",
        "    {bloque B1 de código para el manejo del *Error1*}\n",
        "\n",
        "$\\normalsize \\color{green}{\\textsf{ except }}$ *Error2* $\\normalsize \\color{green}{\\textsf{ as }}$ *string2* :\n",
        "\n",
        "    {bloque B2 de código para el manejo del *Error2*}\n",
        "    {bloque B2 de código para el manejo del *Error2*}    \n",
        "    \n",
        "$\\normalsize \\color{green}{\\textsf{ else }}$ :\n",
        "\n",
        "    {bloque C de código para ejecutar finalmente, si no hay errores}\n",
        "    {bloque C de código para ejecutar finalmente, si no hay errores}    \n",
        "    \n",
        "\n",
        "Funciona de la siguiente forma, primero se ejecutara el bloque de código $\\texttt{A}$, el cual contendra comandos que podrian generar errores del tipo *Error1* o *Error2*. Si hay ningún error, a continuación se ejecutará el bloque de código $\\texttt{C}$ luego del $\\normalsize \\color{green}{\\textsf{ else }}$. Si una de las excepciones/errores (contenidos en la lista de errores), el bloque de código $\\texttt{B1}$ o $\\texttt{B2}$, respectivamente al error. Cabe destacar que todo el código del bloque $\\texttt{A}$ debajo del error, así como el bloque de código $\\texttt{C}$ no serán ejecutados. El parámetro *string1* contine los argumentos o informe del error.\n"
      ]
    },
    {
      "cell_type": "code",
      "execution_count": null,
      "metadata": {
        "id": "H1opPoSH_cWd"
      },
      "outputs": [],
      "source": [
        "L=[1,2]\n",
        "L[2]=6"
      ]
    },
    {
      "cell_type": "code",
      "execution_count": null,
      "metadata": {
        "id": "Kq4yXGFZ_cWd"
      },
      "outputs": [],
      "source": [
        "# Ejemplo\n",
        "try:\n",
        "    L=[1,2]\n",
        "    L[2]=6\n",
        "except IndexError:\n",
        "    print(' Hay un problema!')\n",
        "else: pass"
      ]
    },
    {
      "cell_type": "markdown",
      "metadata": {
        "id": "rDblc5_R_cWe"
      },
      "source": [
        "\n",
        "También es posible una tupla de errores al comando $\\normalsize \\color{green}{\\textsf{ except }}$, en vez de escribirlos separados $\\normalsize \\color{green}{\\textsf{ except }}$ *Error1* $\\ldots$; $\\normalsize \\color{green}{\\textsf{ except }}$ *Error2* $\\ldots$, etc. Una *'tupla de errores'*, solo debe ser usada para agrupar aquellas excepciones/erorres que manejaremos (o ignoremos) de la misma forma. En caso de que $\\normalsize \\color{green}{\\textsf{ except }}$ no tenga un *Error* como parámetro, este será activado por *'cualquier error'* (todos los tipos de error).       \n"
      ]
    },
    {
      "cell_type": "markdown",
      "metadata": {
        "id": "fV4oVbGc_cWe"
      },
      "source": [
        "## El comando Assert\n",
        "\n",
        "\n",
        "El comando $\\normalsize \\color{green}{\\textsf{ assert }}$ es un comando simple, muy útil para depurar nuestro código. Lo usamos de la siguiente forma:\n",
        "\n",
        "\n",
        "$\\normalsize \\color{green}{\\textsf{ assert }}$ *una condición*, *un string*\n",
        "\n",
        "\n",
        "Si la condicón es verdadera ($\\normalsize \\color{green}{\\textsf{ True }}$), el código continuara su ejecución normalemnete. En caso de que la condición sea falsa ($\\normalsize \\color{green}{\\textsf{ False }}$), se generara un error/excepcion del tipo **AssertionError** y se imprimira el argumento *string* en la consola. Si la *expresión* de la condición no es del tipo booleano, igualmente se evaluara y luego se intentara converitr el resultado a tipo booleano (de ser posible).   \n"
      ]
    },
    {
      "cell_type": "code",
      "execution_count": null,
      "metadata": {
        "id": "Dp557DIJ_cWe"
      },
      "outputs": [],
      "source": [
        "# Ejercicio: Que hace este código?\n",
        "import random\n",
        "mess=[]\n",
        "if random.randrange(0,2)==1:\n",
        "    N=20\n",
        "    for p in range(0,N):\n",
        "        mess.append(random.randrange(0,100000))\n",
        "\n",
        "# Creara una lista de 20 números aleatorios, o una lista vacia, con probabilidad 1/2."
      ]
    },
    {
      "cell_type": "code",
      "execution_count": null,
      "metadata": {
        "id": "GRirkQGe_cWf"
      },
      "outputs": [],
      "source": [
        "# Ejercicio: Escribir un programa que imprima\n",
        "# el maximo de la lista 'mess', llamada max(mess), y el indice correspondiente: \"max(mess)=mess[i]\"\n",
        "# si la lista esta vacía, informar un 'assert error'.\n",
        "mess=[1,2,3,4]\n",
        "assert len(mess)>0,'la lista está vacía' # El mensage de error del comando assert\n",
        "assert mess[2] != 3,'indice fuera de rango'\n",
        "\n",
        "maxelement=0\n",
        "for x in mess:\n",
        "    if x>maxelement:\n",
        "        maxelement=x\n",
        "Lindices=[]\n",
        "for i in range(0,len(mess)):\n",
        "    if maxelement==mess[i]:\n",
        "        Lindices.append(i)\n"
      ]
    },
    {
      "cell_type": "markdown",
      "metadata": {
        "id": "14KN56eF_cWf"
      },
      "source": [
        "## El commando Raise"
      ]
    },
    {
      "cell_type": "markdown",
      "metadata": {
        "id": "yiJs29UX_cWf"
      },
      "source": [
        "Invocamos el comando $\\normalsize \\color{green}{\\textsf{raise}}$ de la siguiente forma:\n",
        "\n",
        "$\\normalsize \\color{green}{\\textsf{raise }} \\texttt{ NameError }( \\texttt{string} )$\n",
        "\n",
        "La ejecución del codigo se **detendra** de inmediato en la linea donde se ha llamado al commando $\\normalsize \\color{green}{\\textsf{raise}}$ y se escribira el siguiente error $\\texttt{ NameError }( \\texttt{string} )$.\n",
        "\n",
        "Este comando nos sirve para \"lanzar\" erorres, y avisar al systema/usuario del evento.\n"
      ]
    },
    {
      "cell_type": "code",
      "execution_count": null,
      "metadata": {
        "id": "KmsqY1Jk_cWf"
      },
      "outputs": [],
      "source": [
        "# Ejemplo\n",
        "\n",
        "n=int(input(\"Numerador : \"))\n",
        "d=int(input(\"Denominador : \"))\n",
        "if d==0:\n",
        "    raise ValueError(\"El denominador debe ser distinto de '0'\")\n",
        "print(n*1.0/d)"
      ]
    },
    {
      "cell_type": "markdown",
      "metadata": {
        "id": "U0UPbp-o_cWg"
      },
      "source": [
        "También podemos hacer uso del comando $\\normalsize \\color{green}{\\textsf{assert}}$, es muy similar al comando $\\normalsize \\color{green}{\\textsf{raise}}$, de hecho podemos escribirlos casi de manera equivalente:\n",
        "\n",
        "$\\normalsize \\color{green}{\\textsf{if}} \\texttt{ someboolean :} $\n",
        "\n",
        "$\\quad \\normalsize \\color{green}{\\textsf{ raise }} \\texttt{ AssertionError ( string )}$\n",
        "\n",
        "es equivalente a:  \n",
        "\n",
        "$\\normalsize \\color{green}{\\textsf{ if }}$ __debug__ :\n",
        "      \n",
        "$\\quad \\normalsize \\color{green}{\\textsf{ assert }} \\texttt{someboolean ,  string}$"
      ]
    },
    {
      "cell_type": "markdown",
      "metadata": {
        "id": "4hUt79dW_cWg"
      },
      "source": [
        "## Para que sirve cada uno y cuándo debemos usarlos?\n",
        "\n",
        "\n",
        "- El comando $\\normalsize \\color{green}{\\textsf{ try }}$ nos permite manejar de errores, ya sea por propositos de debugging del código, o dentro de funciones complejas propensas a generar errores. El uso de $\\normalsize \\color{green}{\\textsf{ try }}$ para el manejo de errores y nos permitira ejecutar código especiffico para cada tipo de error. En caso de la terminación de un programa de manera inesperada, un buena practica es intentar guardar el estado actual de la ejecución del programa, evitar más errores (e.g. cerrar archivos abiertos, desalocar memoria, etc.) y proveer una buena descripción del error que ha causado la terminación.\n",
        "\n",
        "\n",
        "- El comando $\\normalsize \\color{green}{\\textsf{ assert }}$ es espcifico para un rápido debugging de nuestro codigo lazando una excepción **AssertionError**. Debe ser usado cuándo queremos encotrar un problema en nuestro código. El uso del comando $\\normalsize \\color{green}{\\textsf{ assert }}$ es generalmente considerado un \"parche\" y no una solución permanente. En comparación el comando $\\normalsize \\color{green}{\\textsf{ try }}$  podemos invocar nuestras excepciones y manejar los errores.     \n",
        "\n",
        "\n",
        "- El comando $\\normalsize \\color{green}{\\textsf{ raise }}$ es el cual nos permite lanzar (o invocar) exepciones para informar que se ha producido un error, y el \"tipo\" de error. Se debe destacar que las exepciones pueden ser definidas por el programador y al igual que en el caso del comando $\\normalsize \\color{green}{\\textsf{ try }}$, las exepciones pueden contener código que permita manejar el error.   \n"
      ]
    }
  ],
  "metadata": {
    "celltoolbar": "Slideshow",
    "kernelspec": {
      "display_name": "Python 3.7.3 64-bit",
      "language": "python",
      "name": "python3"
    },
    "language_info": {
      "codemirror_mode": {
        "name": "ipython",
        "version": 3
      },
      "file_extension": ".py",
      "mimetype": "text/x-python",
      "name": "python",
      "nbconvert_exporter": "python",
      "pygments_lexer": "ipython3",
      "version": "3.0.0"
    },
    "vscode": {
      "interpreter": {
        "hash": "aee8b7b246df8f9039afb4144a1f6fd8d2ca17a180786b69acc140d282b71a49"
      }
    },
    "colab": {
      "provenance": [],
      "include_colab_link": true
    }
  },
  "nbformat": 4,
  "nbformat_minor": 0
}