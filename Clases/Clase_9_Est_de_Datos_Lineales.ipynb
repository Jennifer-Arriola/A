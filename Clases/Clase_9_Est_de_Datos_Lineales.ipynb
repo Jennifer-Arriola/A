{
  "cells": [
    {
      "cell_type": "markdown",
      "metadata": {
        "id": "view-in-github",
        "colab_type": "text"
      },
      "source": [
        "<a href=\"https://colab.research.google.com/github/Jennifer-Arriola/Algoritmos/blob/main/Clases/Clase_9_Est_de_Datos_Lineales.ipynb\" target=\"_parent\"><img src=\"https://colab.research.google.com/assets/colab-badge.svg\" alt=\"Open In Colab\"/></a>"
      ]
    },
    {
      "cell_type": "markdown",
      "metadata": {
        "id": "gIp3RPE7GXLO"
      },
      "source": [
        "# Algoritmos y Estructuras de Datos.\n",
        "\n",
        "## - Clase 9 - Estructuras de Datos Lineales -"
      ]
    },
    {
      "cell_type": "markdown",
      "metadata": {
        "id": "k2ZKOY6YGXLS"
      },
      "source": [
        "### Tipos de Datos Abstractos (TAD)\n",
        "\n",
        "\n",
        "- Tipos de Datos\n",
        "- Listas Enlazadas\n",
        "- Pilas\n",
        "- Colas"
      ]
    },
    {
      "cell_type": "markdown",
      "metadata": {
        "id": "Z57U-X35GXLT"
      },
      "source": [
        "# Tipos de Estructuras Lineales\n",
        "\n",
        "- Pilas\n",
        "- Colas\n",
        "- Listas Enlazadas\n",
        "\n",
        "**Pros:**\n",
        "- Dymanicas!"
      ]
    },
    {
      "cell_type": "markdown",
      "metadata": {
        "id": "4FcLerLKGXLU"
      },
      "source": [
        "## Pilas\n",
        "\n",
        "El comportamiento de una *Pila* se puede describir mediante la frase “Lo último que se apiló es lo primero que se usa”. Este método se llama **LIFO** (Last In First Out).\n",
        "\n",
        "Formalmente un *Pila* es un TAD que tiene las siguientes operaciones:\n",
        "\n",
        "- \\_\\_init\\_\\_ : Inicializa una pila vacía.\n",
        "\n",
        "- push (apilar): Agrega un nuevo elemento a la Pila\n",
        "\n",
        "- pop (desapilar): Remueve el *tope* de la Pila y lo devuelve. Este es el último elemento que se agregó.\n",
        "\n",
        "- is\\_empty (está\\_vacía): Retorna **True** o **False** según si la pila está vacía o no.\n",
        "\n",
        "Opcionles:\n",
        "\n",
        "- top : Retorna el *tope* de la Pila (sin removerlo).\n"
      ]
    },
    {
      "cell_type": "code",
      "execution_count": null,
      "metadata": {
        "id": "mgkH9eubGXLV"
      },
      "outputs": [],
      "source": [
        "p=Pila()\n",
        "\n",
        "def top(P):\n",
        "    if is_empty : pass\n",
        "    x = P.pop\n",
        "    P.push(x)\n",
        "    return x\n"
      ]
    },
    {
      "cell_type": "markdown",
      "metadata": {
        "id": "qHAdmuIsGXLY"
      },
      "source": [
        "### Implementación de Pilas útilizando Listas\n",
        "\n",
        "Definiremos una clase Pila con un atributo, items, de tipo lista, que contendrá los ele- mentos de la pila. El tope de la pila se encontrará en la última posición de la lista, y cada vez que se apile un nuevo elemento, se lo agregará al final."
      ]
    },
    {
      "cell_type": "code",
      "execution_count": null,
      "metadata": {
        "id": "06IuPsIYGXLZ"
      },
      "outputs": [],
      "source": [
        "class Pila:\n",
        "    \"\"\" Representa una pila con operaciones de apilar, desapilar y\n",
        "        verificar si está vacía. \"\"\"\n",
        "\n",
        "    def __init__(self):\n",
        "        \"\"\" Crea una pila vacía. \"\"\"\n",
        "# La pila vacía se representa con una lista vacía\n",
        "        self.items=[]\n",
        "\n",
        "    def push(self, x):\n",
        "        \"\"\" Agrega el elemento x a la pila. \"\"\"\n",
        "# Apilar es agregar al final de la lista.\n",
        "        self.items.append(x)\n",
        "\n",
        "# Desapilar usará el método pop de lista que hace exactamente lo requerido\n",
        "    def pop(self):\n",
        "        \"\"\" Devuelve el elemento tope y lo elimina de la pila.\n",
        "            Si la pila está vacía levanta una excepción. \"\"\"\n",
        "        try:\n",
        "            return self.items.pop()\n",
        "        except IndexError:\n",
        "            raise ValueError(\"La pila está vacía\")\n",
        "\n",
        "# El método para indicar si se trata de una pila vacía.\n",
        "    def is_empty(self):\n",
        "        \"\"\" Devuelve True si la lista está vacía, False si no. \"\"\"\n",
        "        return self.items == []\n",
        "\n",
        ""
      ]
    },
    {
      "cell_type": "code",
      "execution_count": null,
      "metadata": {
        "id": "1WsEIyMLGXLZ",
        "outputId": "92d7bdf4-f135-4d99-b7ae-2cf8ec444c9e"
      },
      "outputs": [
        {
          "data": {
            "text/plain": [
              "23"
            ]
          },
          "execution_count": 6,
          "metadata": {},
          "output_type": "execute_result"
        }
      ],
      "source": [
        "p = Pila()\n",
        "p.is_empty()\n",
        "p.push(1)\n",
        "p.is_empty()\n",
        "p.push(5)\n",
        "p.push(\"+\")\n",
        "p.push(23)\n",
        "p.pop()\n"
      ]
    },
    {
      "cell_type": "markdown",
      "metadata": {
        "id": "_LVrCIYCGXLb"
      },
      "source": [
        "Ejercicio: Implementar el método **top**, modificando el método **pop**.  "
      ]
    },
    {
      "cell_type": "code",
      "execution_count": null,
      "metadata": {
        "id": "_WiNwgO0GXLb"
      },
      "outputs": [],
      "source": [
        "#Ejercicio: Implementar el método **top**, modificando el método **pop**.\n",
        "\n",
        "\n",
        "# Retorna el *tope* de la Pila\n",
        "## Modificar ##\n",
        "def pop(self):\n",
        "    \"\"\" Devuelve el elemento tope y lo elimina de la pila.\n",
        "    Si la pila está vacía levanta una excepción. \"\"\"\n",
        "    try:\n",
        "        return self.items.pop()\n",
        "    except IndexError:\n",
        "        raise ValueError(\"La pila está vacía\")\n",
        "\n",
        "def top(self): # , P):\n",
        "    if is_empty : pass\n",
        "    x = self.items.pop() # x = P.pop #\n",
        "    self.items.append(x)# P.push(x) #\n",
        "    return x\n",
        "\n"
      ]
    },
    {
      "cell_type": "code",
      "execution_count": null,
      "metadata": {
        "id": "3rfkv9LNGXLc"
      },
      "outputs": [],
      "source": []
    },
    {
      "cell_type": "markdown",
      "metadata": {
        "id": "EVSZWQqAGXLc"
      },
      "source": [
        "## Colas\n",
        "\n",
        "\n",
        "Todos sabemos lo que es una *Cola*. Este método se llama **FIFO** (First In First Out).\n",
        "\n",
        "Formalmente un *Cola* es un TAD que tiene las siguientes operaciones:\n",
        "\n",
        "- \\_\\_init\\_\\_ : Inicializa una cola vacía.\n",
        "\n",
        "- enqueue (encolar o push): Agrega un nuevo elemento al final de la Cola\n",
        "\n",
        "- dequeue (desencolar o pop): Remueve el primer elemento de la Cola y lo devuelve.\n",
        "\n",
        "- is\\_empty (está\\_vacía): Retorna **True** o **False** según si la Cola está vacía o no.\n",
        "\n"
      ]
    },
    {
      "cell_type": "code",
      "execution_count": null,
      "metadata": {
        "id": "4Wbbn4mIGXLc"
      },
      "outputs": [],
      "source": [
        "class Cola:\n",
        "    \"\"\" Representa a una cola, con operaciones de encolar y\n",
        "    desencolar. El primero en ser encolado es también el primero en ser desencolado. \"\"\"\n",
        "\n",
        "    def __init__(self):\n",
        "        \"\"\" Crea una cola vacía. \"\"\"\n",
        "# La cola vacía se representa por una lista vacía\n",
        "        self.items = []\n",
        "\n",
        "\n",
        "#El método encolar se implementará agregando el nuevo elemento al final de la lista:\n",
        "    def encolar(self, x):\n",
        "        \"\"\" Agrega el elemento x como último de la cola. \"\"\"\n",
        "        self.items.append(x)\n",
        "\n",
        "    def desencolar(self):\n",
        "        \"\"\" Elimina el primer elemento de la cola y devuelve su\n",
        "        valor. Si la cola está vacía, levanta ValueError. \"\"\"\n",
        "        try:\n",
        "            return self.items.pop(0)\n",
        "        except:\n",
        "            raise ValueError(\"La cola está vacía\")\n",
        "\n",
        "#Por último, el método es_vacia, que indicará si la cola está o no vacía.\n",
        "    def es_vacia(self):\n",
        "        \"\"\" Devuelve True si la cola esta vacía, False si no.\"\"\"\n",
        "        return self.items == []\n"
      ]
    },
    {
      "cell_type": "code",
      "execution_count": null,
      "metadata": {
        "id": "bYTX3rayGXLd",
        "outputId": "ffaab6a3-f066-4402-b599-b422090d74c2"
      },
      "outputs": [
        {
          "data": {
            "text/plain": [
              "False"
            ]
          },
          "execution_count": 19,
          "metadata": {},
          "output_type": "execute_result"
        }
      ],
      "source": [
        "q = Cola()\n",
        "q.es_vacia()\n",
        "q.encolar(1)\n",
        "q.encolar(\"hola\")\n",
        "q.encolar(5)\n",
        "q.es_vacia()\n",
        "q.desencolar()\n",
        "#q.desencolar()\n",
        "q.encolar(8)\n",
        "q.desencolar()\n",
        "q.desencolar()\n",
        "q.es_vacia()\n",
        "#q.desencolar()"
      ]
    },
    {
      "cell_type": "markdown",
      "metadata": {
        "id": "zcprkpHvGXLd"
      },
      "source": [
        "\n"
      ]
    },
    {
      "cell_type": "markdown",
      "metadata": {
        "id": "rrX2bEUIGXLe"
      },
      "source": [
        "# Listas, Pilas y Colas Enlazadas"
      ]
    },
    {
      "cell_type": "markdown",
      "metadata": {
        "id": "9I523uX5GXLe"
      },
      "source": [
        "## Listas enlazadas\n",
        "\n",
        "### Nodos\n",
        "\n",
        "Crearemos un nuevo objeto **Nodo**, este será el bloque constructor de nuestras estructuras de datos lineales."
      ]
    },
    {
      "cell_type": "code",
      "execution_count": null,
      "metadata": {
        "id": "CYaHp-_LGXLe"
      },
      "outputs": [],
      "source": [
        "class Nodo(object):\n",
        "    def __init__(self, dato=None, prox = None):\n",
        "        self.dato = dato\n",
        "        self.prox = prox\n",
        "    def __str__(self):\n",
        "        return str(self.dato)"
      ]
    },
    {
      "cell_type": "markdown",
      "metadata": {
        "id": "8YIW0zAcGXLe"
      },
      "source": [
        "\n",
        "\n",
        "\n",
        "### Operaciones\n",
        "\n",
        "Definimos a continuación las operaciones que inicialmente deberá cumplir la clase ListaEnlazada.\n",
        "\n",
        "- \\_\\_str\\_\\_, para mostrar la lista.\n",
        "\n",
        "- \\_\\_len\\_\\_, para calcular la longitud de la lista.\n",
        "\n",
        "- append(x), para agregar un elemento al final de la lista.\n",
        "\n",
        "- insert(i, x),paraagregarelelementoxenlaposicióni(levantaunaexcepciónsila posición i es inválida).\n",
        "\n",
        "- remove(x), para eliminar la primera aparición de x en la lista (levanta una excepción si x no está).\n",
        "\n",
        "- pop([i]), para borrar el elemento que está en la posición i y devolver su valor. Si no se especifica el valor de i,\n",
        "\n",
        "- pop() elimina y devuelve el elemento que está en el último lugar de la lista (levanta una excepción si se hace  referencia a una posición no válida de la lista).\n",
        "\n",
        "- index(x), devuelve la posición de la primera aparición de x en la lista (levanta una excepción si x no está).\n"
      ]
    },
    {
      "cell_type": "markdown",
      "metadata": {
        "id": "VZNdV_IpGXLe"
      },
      "source": [
        "![Screenshot%202021-09-14%20at%2023.13.40.png](attachment:Screenshot%202021-09-14%20at%2023.13.40.png)"
      ]
    },
    {
      "cell_type": "markdown",
      "metadata": {
        "id": "tiJACAoyGXLf"
      },
      "source": [
        "Definicion de la clase Nodo:"
      ]
    },
    {
      "cell_type": "code",
      "execution_count": null,
      "metadata": {
        "id": "3TNCDRzxGXLf"
      },
      "outputs": [],
      "source": [
        "class ListaEnlazada(object):\n",
        "    \" Modela una lista enlazada, compuesta de Nodos. \"\n",
        "    def __init__(self):\n",
        "        \"\"\" Crea una lista enlazada vacía. \"\"\"\n",
        "    # prim: apuntará al primer nodo - None con la lista vacía\n",
        "        self.prim = None\n",
        "    # len: longitud de la lista - 0 con la lista vacía\n",
        "        self.len = 0\n"
      ]
    },
    {
      "cell_type": "markdown",
      "metadata": {
        "id": "wNMITNZyGXLf"
      },
      "source": [
        "# Definicion de los métodos mas importantes:"
      ]
    },
    {
      "cell_type": "code",
      "execution_count": null,
      "metadata": {
        "id": "hyXxnf9CGXLg"
      },
      "outputs": [],
      "source": [
        "class ListaEnlazada(object):\n",
        "    \" Modela una lista enlazada, compuesta de Nodos. \"\n",
        "    def __init__(self):\n",
        "        \"\"\" Crea una lista enlazada vacía. \"\"\"\n",
        "    # prim: apuntará al primer nodo - None con la lista vacía\n",
        "        self.prim = None\n",
        "    # len: longitud de la lista - 0 con la lista vacía\n",
        "        self.len = 0\n",
        "\n",
        "\n",
        "\n",
        "    def pop(self, i = None):\n",
        "        \"\"\" Elimina el nodo de la posición i, y devuelve el dato contenido.\n",
        "            Si i está fuera de rango, se levanta la excepción IndexError. Si no se recibe la posición, devuelve el último elemento. \"\"\"\n",
        "    # Si no se recibió i, se devuelve el último.\n",
        "        if i is None:\n",
        "            i = self.len - 1\n",
        "     # Verificación de los límites\n",
        "            if not (0 <= i < self.len):\n",
        "                raise IndexError(\"Índice fuera de rango\")\n",
        "# Caso particular, si es el primero,\n",
        "# hay que saltear la cabecera de la lista\n",
        "        if i==0:\n",
        "            dato = self.prim.dato\n",
        "            self.prim = self.prim.prox\n",
        "     # Para todos los demás elementos, busca la posición\n",
        "        else:\n",
        "            n_ant = self.prim\n",
        "            n_act = n_ant.prox\n",
        "        for pos in range(1, i):\n",
        "            n_ant = n_act\n",
        "            n_act = n_ant.prox\n",
        "         # Guarda el dato y elimina el nodo a borrar\n",
        "            dato = n_act.dato\n",
        "            n_ant.prox = n_act.prox\n",
        "     # hay que restar 1 de len\n",
        "            self.len -= 1\n",
        "     # y devolver el valor borrado\n",
        "        return dato"
      ]
    },
    {
      "cell_type": "code",
      "execution_count": null,
      "metadata": {
        "id": "3HHgtX1HGXLh"
      },
      "outputs": [],
      "source": [
        "def remove(self, x):\n",
        "    \"\"\" Borra la primera aparición del valor x en la lista.\n",
        "        Si x no está en la lista, levanta ValueError \"\"\"\n",
        "    if self.len == 0:\n",
        "    # Si la lista está vacía, no hay nada que borrar.\n",
        "        raise ValueError(\"Lista vacía\")\n",
        "    # Caso particular, x esta en el primer nodo\n",
        "    elif self.prim.dato == x:\n",
        "    # Se descarta la cabecera de la lista\n",
        "        self.prim = self.prim.prox\n",
        "    # En cualquier otro caso, hay que buscar a x\n",
        "    else:\n",
        "    # Obtiene el nodo anterior al que contiene a x (n_ant) n_ant = self.prim\n",
        "        n_act = n_ant.prox\n",
        "        while n_act != None and n_act.dato != x:\n",
        "            n_ant = n_act\n",
        "            n_act = n_ant.prox\n",
        "        # Si no se encontró a x en la lista, levanta la excepción\n",
        "    if n_act == None:\n",
        "        raise ValueError(\"El valor no está en la lista.\")\n",
        "# Si encontró a x, debe pasar de n_ant -> n_x -> n_x.prox # a n_ant -> n_x.prox\n",
        "    else:\n",
        "        n_ant.prox = n_act.prox\n",
        "    # Si no levantó excepción, hay que restar 1 del largo\n",
        "        self.len -= 1"
      ]
    },
    {
      "cell_type": "code",
      "execution_count": null,
      "metadata": {
        "id": "EXpaJcwSGXLh"
      },
      "outputs": [],
      "source": [
        "def insert(self, i, x):\n",
        "    \"\"\" Inserta el elemento x en la posición i.\n",
        "        Si la posición es inválida, levanta IndexError \"\"\"\n",
        "    if (i > self.len) or (i < 0): # error\n",
        "        raise IndexError(\"Posición inválida\") # Crea nuevo nodo, con x como dato:\n",
        "    nuevo = _Nodo(x)\n",
        "    # Insertar al principio (caso particular)\n",
        "    if i==0:\n",
        "# el siguiente del nuevo pasa a ser el que era primero\n",
        "        nuevo.prox = self.prim\n",
        "# el nuevo pasa a ser el primero de la lista\n",
        "        self.prim = nuevo\n",
        "    # Insertar en cualquier lugar > 0\n",
        "    else:\n",
        "# Recorre la lista hasta llegar a la posición deseada n_ant = self.prim\n",
        "        for pos in range(1,i):\n",
        "            n_ant = n_ant.prox\n",
        "# Intercala nuevo y obtiene n_ant -> nuevo -> n_ant.prox\n",
        "            nuevo.prox = n_ant.prox\n",
        "            n_ant.prox = nuevo\n",
        "    # En cualquier caso, incrementar en 1 la longitud\n",
        "    self.len += 1"
      ]
    },
    {
      "cell_type": "markdown",
      "metadata": {
        "id": "26DGn_kRGXLh"
      },
      "source": [
        "# Iteradores\n",
        "\n",
        "Todas las secuencias pueden ser recorridas mediante una misma estructura ($\\texttt{for variable in secuencia}$), ya que todas implementan el método especial **\\_\\_iter\\_\\_**. Este método debe devolver un **iterador** capaz de recorrer la secuencia como corresponda.\n",
        "\n",
        "\n",
        "En particular, en Python, los iteradores tienen que implementar un método **\\_\\_next\\_\\_** que debe devolver los elementos, de a uno por vez, comenzando por el primero. Y al llegar al final de la estructura, debe levantar una excepción de tipo **StopIteration**.\n",
        "\n",
        "Métodos requeridos:\n",
        "\n",
        "- **\\_\\_iter\\_\\_**: Crea un objeto \"Iterador\".\n",
        "\n",
        "- **\\_\\_next\\_\\_**: Siguiente elemento en la secuencia.\n",
        "\n",
        "Excepciones:\n",
        "\n",
        "- **StopIteration**: Nos avisa cuando se a llegador al final de la secuencia.\n"
      ]
    },
    {
      "cell_type": "markdown",
      "metadata": {
        "id": "-K1xkQIqGXLi"
      },
      "source": [
        "Es decir que las siguientes estructuras son equivalentes:"
      ]
    },
    {
      "cell_type": "code",
      "execution_count": null,
      "metadata": {
        "id": "P86cpV2HGXLi"
      },
      "outputs": [],
      "source": [
        "for elemento in secuencia:\n",
        "    # hacer algo con elemento\n"
      ]
    },
    {
      "cell_type": "code",
      "execution_count": null,
      "metadata": {
        "id": "aGLJcPcEGXLi"
      },
      "outputs": [],
      "source": [
        "iterador = iter(secuencia)\n",
        "while True:\n",
        "    try:\n",
        "        elemento = iterador.next()\n",
        "    except StopIteration:\n",
        "        break\n",
        "    # hacer algo con elemento"
      ]
    },
    {
      "cell_type": "markdown",
      "metadata": {
        "id": "Lvw4s0QXGXLj"
      },
      "source": [
        "Queremos implementar un iterador para la *Lista Enlazada*, la mejor solución implica crear una nueva clase, *\\_IteradorListaEnlazada*, que implemente el método *\\_\\_next()\\_\\_* de la forma apropiada."
      ]
    },
    {
      "cell_type": "code",
      "execution_count": null,
      "metadata": {
        "id": "nvO3p8nYGXLj"
      },
      "outputs": [],
      "source": [
        "class _IteradorListaEnlazada(object):\n",
        "    \" Iterador para la clase ListaEnlazada \"\n",
        "\n",
        "    def __init__(self, prim):\n",
        "        \"\"\" Constructor del iterador.\n",
        "            prim es el primer elemento de la lista. \"\"\"\n",
        "        self.actual = prim\n",
        "\n",
        "    def __next__(self):\n",
        "        \"\"\" Devuelve uno a uno los elementos de la lista. \"\"\"\n",
        "        if self.actual == None:\n",
        "            raise StopIteration(\"No hay más elementos en la lista\")\n",
        "        # Guarda el dato\n",
        "        dato = self.actual.dato\n",
        "        # Avanza en la lista\n",
        "        self.actual = self.actual.prox\n",
        "        # Devuelve el dato\n",
        "        return dato\n",
        "\n"
      ]
    },
    {
      "cell_type": "code",
      "execution_count": null,
      "metadata": {
        "id": "k1wO-eVnGXLj"
      },
      "outputs": [],
      "source": [
        "def __iter__(self):\n",
        "    \" Devuelve el iterador de la lista. \"\n",
        "    return _IteradorListaEnlazada(self.prim)\n"
      ]
    },
    {
      "cell_type": "code",
      "execution_count": null,
      "metadata": {
        "id": "CUfBt7N3GXLj",
        "outputId": "3b7e0f42-d571-4735-bd88-1fbffc656547"
      },
      "outputs": [
        {
          "name": "stdout",
          "output_type": "stream",
          "text": [
            "3\n",
            "2\n",
            "1\n"
          ]
        }
      ],
      "source": [
        "l = ListaEnlazada()\n",
        "l.insert(0,1)\n",
        "l.insert(0,2)\n",
        "l.insert(0,3)\n",
        "for valor in l:\n",
        "    print(valor)"
      ]
    },
    {
      "cell_type": "markdown",
      "metadata": {
        "id": "foHzUKrkGXLk"
      },
      "source": [
        "**Ejercicio:** Escribir los métodos **\\_\\_iter\\_\\_**, **\\_\\_str\\_\\_** y **\\_\\_len\\_\\_** para la lista."
      ]
    },
    {
      "cell_type": "markdown",
      "metadata": {
        "id": "A2EAA2-UGXLk"
      },
      "source": [
        "# $~$"
      ]
    },
    {
      "cell_type": "markdown",
      "metadata": {
        "id": "3TmJc7qaGXLk"
      },
      "source": [
        "### Módulo numpy\n",
        "\n",
        "Su Documentación completa está disponible aqui: http://www.numpy.org. Particularmente interesante para problemas mathematicos.\n",
        "Nos ofrece un nuevo tipo de dato \"arreglo\" (array), tambien llamados \"vectores\", cuando todos los elementos son del mismo tipo.  \n"
      ]
    },
    {
      "cell_type": "code",
      "execution_count": null,
      "metadata": {
        "id": "sinAS8pYGXLk"
      },
      "outputs": [],
      "source": [
        "import numpy as np"
      ]
    },
    {
      "cell_type": "code",
      "execution_count": null,
      "metadata": {
        "id": "zgc67sBVGXLl",
        "outputId": "bcfca2c3-124e-4228-9596-6b423afbfdd1"
      },
      "outputs": [
        {
          "name": "stdout",
          "output_type": "stream",
          "text": [
            "[[1 1]\n",
            " [1 1]]\n",
            "[[1, 1], [1, 1]]\n"
          ]
        },
        {
          "data": {
            "text/plain": [
              "numpy.ndarray"
            ]
          },
          "execution_count": 12,
          "metadata": {},
          "output_type": "execute_result"
        }
      ],
      "source": [
        "v=np.array([[1,1,1,1]])# Crea un arreglo de 2 x 2 (es decir, una matríz).\n",
        "                         # v= [ 1 | 1\n",
        "                         #      1 | 1 ]\n",
        "print(v)\n",
        "\n",
        "print([[1,1,1,1]])\n",
        "\n",
        "type(v)\n",
        "\n"
      ]
    },
    {
      "cell_type": "code",
      "execution_count": null,
      "metadata": {
        "id": "NcVEXUKfGXLu",
        "outputId": "3b1ebad3-6a62-4bf1-f75b-b64d9258dc2a"
      },
      "outputs": [
        {
          "name": "stdout",
          "output_type": "stream",
          "text": [
            "[[2 2]\n",
            " [2 2]]\n"
          ]
        }
      ],
      "source": [
        "v+=v\n",
        "print(v)"
      ]
    },
    {
      "cell_type": "code",
      "execution_count": null,
      "metadata": {
        "id": "7CcpupgeGXLv",
        "outputId": "395b268e-772f-4da1-fa9a-4b5baca3cde9"
      },
      "outputs": [
        {
          "name": "stdout",
          "output_type": "stream",
          "text": [
            "[[1 2]\n",
            " [3 4]]\n",
            "2\n",
            "[[1 5]\n",
            " [3 4]]\n",
            "[[1 3]\n",
            " [3 4]] \n",
            " [[1 3]\n",
            " [3 4]]\n"
          ]
        }
      ],
      "source": [
        "v=np.array([[1,2],[3,4]])\n",
        "print(v)\n",
        "print(v[0][1]) # Podemos indexar los elementos de un array\n",
        "v[0][1]=5\n",
        "print(v)\n",
        "w = v     # Los arrays son objetos \"mutables\".\n",
        "w[0][1]=3\n",
        "print(w,'\\n',v)"
      ]
    },
    {
      "cell_type": "code",
      "execution_count": null,
      "metadata": {
        "id": "QQT-s6JeGXLv"
      },
      "outputs": [],
      "source": [
        "np.array([[True,2.0],[0+1j,0.1],(3+7*1j,-np.pi)]) # La *función* array normalizara los datos\n",
        "                                                  # que ingresamos por parametros."
      ]
    },
    {
      "cell_type": "markdown",
      "metadata": {
        "id": "WPh8GcLHGXLv"
      },
      "source": [
        "Además tenemos provisto el tipo $\\textit{Matríz}$."
      ]
    },
    {
      "cell_type": "code",
      "execution_count": null,
      "metadata": {
        "id": "GXdK464pGXLw"
      },
      "outputs": [],
      "source": [
        "M=np.matrix([[0,1j],[1j,0]]) # Tipo : matrix\n",
        "print(M.conjugate()) # Retorna wl conjugado de la matríz.\n",
        "print(M*M)"
      ]
    }
  ],
  "metadata": {
    "kernelspec": {
      "display_name": "Python 3",
      "language": "python",
      "name": "python3"
    },
    "language_info": {
      "codemirror_mode": {
        "name": "ipython",
        "version": 3
      },
      "file_extension": ".py",
      "mimetype": "text/x-python",
      "name": "python",
      "nbconvert_exporter": "python",
      "pygments_lexer": "ipython3",
      "version": "3.8.3"
    },
    "colab": {
      "provenance": [],
      "include_colab_link": true
    }
  },
  "nbformat": 4,
  "nbformat_minor": 0
}