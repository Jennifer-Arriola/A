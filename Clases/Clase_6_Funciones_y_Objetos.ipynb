{
  "cells": [
    {
      "cell_type": "markdown",
      "metadata": {
        "id": "view-in-github",
        "colab_type": "text"
      },
      "source": [
        "<a href=\"https://colab.research.google.com/github/Jennifer-Arriola/Algoritmos/blob/main/Clases/Clase_6_Funciones_y_Objetos.ipynb\" target=\"_parent\"><img src=\"https://colab.research.google.com/assets/colab-badge.svg\" alt=\"Open In Colab\"/></a>"
      ]
    },
    {
      "cell_type": "markdown",
      "metadata": {
        "id": "z5iuhO_M2ubI"
      },
      "source": [
        "# Algoritmos y Estructuras de Datos.\n",
        "\n",
        "## - Clase 6 - Funciones y Encapsulamiento (Módulos y Objetos) -"
      ]
    },
    {
      "cell_type": "markdown",
      "metadata": {
        "collapsed": true,
        "id": "iwP90nW-2ubO"
      },
      "source": [
        "# Funciones"
      ]
    },
    {
      "cell_type": "markdown",
      "metadata": {
        "id": "-jAKWDmM2ubP"
      },
      "source": [
        "\n",
        "Para definir una función usamos la palabra reservada $\\normalsize \\color{green}{\\textsf{ def }}$, luego escribimos la **'signatura'** de la función, esto es, el **nombre** de dicha función y los **parámetros** que recibe. Como siempre, debemos termina la línea con ** : ** para indicar que a continuación habra un bloque de código. Obviamente, luego respetar la indentación.  \n",
        "\n",
        "\n",
        "## Definition\n",
        "\n",
        "Este es un prototipo tipico de la signatura de una función:\n",
        "\n",
        "$\\normalsize \\color{green}{\\textsf{ def }}$  $\\texttt{nombreFunción}(\\texttt{arg}_1 , \\dots , \\texttt{arg}_r )$ **:**\n",
        "\n",
        "          {código de la función}\n",
        "          ...\n",
        "          {más código de la función}\n",
        "\n",
        "\n",
        "Al igual que cualquier bloque de código indentado, debe contener al menos una linea, en otro caso deberemos escribir $\\normalsize \\color{green}{\\textsf{ pass }}$ luego de los **_'_:_'_** .\n",
        "\n",
        "\n",
        "Algunas reglas basicas para definir funciones :\n",
        "\n",
        "- El **nombre** de la función debe ser representativo (al igual que con los nombres de variable).\n",
        "\n",
        "- Puede aceptar tantos argumentos como sea necesario, incluso ninguno.\n",
        "\n",
        "- Siempre que llamamos una función debemos añadir los *parentesis* $()$, aunque la función no reciva parámetros.\n",
        "\n",
        "- Si no proveemos la cantidad correcta de argumentos, la función retornara un **error** del tipo **TypeError**.\n",
        "\n",
        "- Los argumentos no tienen un tipo definido. Para controlar que los argumentos sean del tipo esperado deberemos, tendremos que validar su tipo y en caso de error, utilizar el comando $\\normalsize \\color{green}{\\textsf{ assert }}$ informar que se ha producido un **nuevo** error del tipo de error **TypeError**.\n",
        "\n",
        "- También podemos utilizar el comando $\\normalsize \\color{green}{\\textsf{ raise }}$, el cual nos permite lanzar (o invocar) un **error** (formamente exepciones) informar que se ha producido un error, y el **tipo\" de error**.\n",
        "\n",
        "- Para que la función retorne un valor $\\texttt{v}$ usaremos, usaremos el comando $\\normalsize \\color{green}{\\textsf{ return}}$ $(\\texttt{v})$.\n",
        "\n",
        "- Luego del comando $\\normalsize \\color{green}{\\textsf{ return }}$ es ejecutado, la función **termina**.  \n",
        "\n",
        "- Si no usamos el comando $\\normalsize \\color{green}{\\textsf{ return }}$ en el cuerpo de la función, entonces el valor de la función será del tipo **NoneType**.\n"
      ]
    },
    {
      "cell_type": "code",
      "execution_count": null,
      "metadata": {
        "id": "HSHEbL3R2ubQ"
      },
      "outputs": [],
      "source": [
        "# Cuál es la diferencia entre estas dos funciones?\n",
        "def Helloworld1():\n",
        "    print(\"Hello world\")\n",
        "\n",
        "def Helloworld2():\n",
        "    return(12,\"Hello world\")\n",
        "    print(3)"
      ]
    },
    {
      "cell_type": "code",
      "execution_count": null,
      "metadata": {
        "id": "KB6MP77l2ubR"
      },
      "outputs": [],
      "source": [
        "# Ejemplo uso\n",
        "#??# Helloworld1()\n",
        "\n",
        "#??# Helloworld2()"
      ]
    },
    {
      "cell_type": "markdown",
      "metadata": {
        "id": "xZ1Vgl1o2ubS"
      },
      "source": [
        "## Modificación de los argumentos\n",
        "\n",
        "Dependiendo de si el argumento que le pasamos a la función es **mutable** o **inmutable**, es posible modificar su contenido dentro de la función. A continuación veremos algunos ejemplos.\n",
        "#### argumentos por referencia o por valor!!!!!!\n",
        "# No-mutable: pasaje de parametro \"por copia\".\n",
        "no canbia\n",
        "# Mutable: pasaje de parametro \"por referencia\".\n",
        "cambia adentro"
      ]
    },
    {
      "cell_type": "code",
      "execution_count": null,
      "metadata": {
        "id": "DfLzv1np2ubS"
      },
      "outputs": [],
      "source": [
        "# Ejemplo definiendo la función 'incrementacion'\n",
        "def incrementacion(x,k):\n",
        "    x+=k\n",
        "    return x"
      ]
    },
    {
      "cell_type": "code",
      "execution_count": null,
      "metadata": {
        "id": "l89ThINU2ubS"
      },
      "outputs": [],
      "source": [
        "# Ejemplo de uso de la función incrementacion\n",
        "y = 3\n",
        "ret = incrementation(y,10)  # Crea una variable 'x' con el valor de 'y', adiciona 10; x+=10\n",
        "                            # No-mutable: pasaje de parametro \"por copia\".\n",
        "print(ret)"
      ]
    },
    {
      "cell_type": "code",
      "execution_count": null,
      "metadata": {
        "id": "qNR_UN7b2ubT"
      },
      "outputs": [],
      "source": [
        "# Ejemplo de uso de la función incrementacion con asignacion \"manual\" de argumentos\n",
        "y = 3\n",
        "ret = incrementation(k=10,x=y)  # En este caso los valores para las variables 'x' y 'k' son asignados\n",
        "                                # haciendo referencia directa a los nombres de variable de los argumentos.\n",
        "print(ret)"
      ]
    },
    {
      "cell_type": "code",
      "execution_count": null,
      "metadata": {
        "id": "oKeCBwF62ubT"
      },
      "outputs": [],
      "source": [
        "# Ejemplo parametros mutables\n",
        "L=[1,'algo',3]\n",
        "incrementation(L,[2]) # Crea una variable 'x' con el valor de 'L', luego agrega el 2; x+=[2]\n",
        "                      # Mutables: pasaje de parametro \"por referencia\"\n",
        "print(L)"
      ]
    },
    {
      "cell_type": "markdown",
      "metadata": {
        "id": "rnBTeANm2ubU"
      },
      "source": [
        "Ejercicio:\n",
        "    \n",
        "- Escribir una función que cambie todos los valores de un diccionario por un 'string' nuevo."
      ]
    },
    {
      "cell_type": "code",
      "execution_count": null,
      "metadata": {
        "id": "Rt-HVvhJ2ubU"
      },
      "outputs": [],
      "source": [
        "# Ejercicio: Escribir una función que cambie todos los valores de un diccionario por un 'string' nuevo.\n",
        "def change(dico,c):\n",
        "    # COMPLETAR\n"
      ]
    },
    {
      "cell_type": "code",
      "execution_count": null,
      "metadata": {
        "id": "ZVWcOsJG2ubU"
      },
      "outputs": [],
      "source": [
        "dico={'k1' : 'algo1', 'k2' : 'algo2'}\n",
        "change(dico,'otrovalor')\n",
        "print(dico)"
      ]
    },
    {
      "cell_type": "markdown",
      "metadata": {
        "id": "nV4OKSLL2ubV"
      },
      "source": [
        "Cambiar un argumento mutable en la definición de la función puede ser propenso a \"errores semanticos\" (ya que estamos cambiado los valores internos de la variable/argumento. Debemos recordar que las funciones que reciben argumentos \"por referencia\", podrian cambiar los contenidos, estructura, o tipo del argumento.  \n"
      ]
    },
    {
      "cell_type": "markdown",
      "metadata": {
        "id": "-GApYPAA2ubV"
      },
      "source": [
        "## Argumentos posicionales y argumentos asignados\n",
        "\n",
        "\n",
        "En Python, las funciones, a priori, deben ser definidas con un número fijo de argumentos. Si nuestra función no recive la cantidad correcta de argumentos obtendremos un error del tipo **TypeError**.\n",
        "\n",
        "Podemos definir los argumentos de dos formas:\n",
        "\n",
        "- (argumento) posicional: el orden de los argumentos es importante.\n",
        "- (argumento) asignado: podemos asignar valores, ya sea por defecto, o mediante asignacion directa en la llamada de la función.\n"
      ]
    },
    {
      "cell_type": "code",
      "execution_count": null,
      "metadata": {
        "id": "oX2VQPN52ubV"
      },
      "outputs": [],
      "source": [
        "print('c','g',end=\" ** \",sep=\"*\") # 'c' es un argumento posicional, mientras que,\n",
        "                                  # 'end'('endofthe[...]printline') y 'sep' son argumentos asignados.\n",
        "print('g','c')"
      ]
    },
    {
      "cell_type": "markdown",
      "metadata": {
        "id": "0wxErezt2ubW"
      },
      "source": [
        "También podemos dar valores por defecto a nuestros argumentos. Escribimos de la forma:\n",
        "\n",
        "$\\normalsize \\color{green}{\\textsf{ def }}$ $\\texttt{func(posarg1}_1, \\dots, \\texttt{posarg}_r \\texttt{ , kwarg}_1 \\texttt{ = vk}_1 , \\dots, \\texttt{kwarg}_s \\texttt{= vk}_s) :$\n",
        "\n",
        "\n",
        "Los argumentos $\\texttt{posarg}_1, \\dots, \\texttt{posarg}_r$ serán *argumentos posicionales, sin valores por defecto*, mientras que $\\texttt{vk}_1, \\dots, \\texttt{vk}_s$ tendrán *valores por defecto*.\n"
      ]
    },
    {
      "cell_type": "code",
      "execution_count": null,
      "metadata": {
        "id": "IMqvIrN12ubW"
      },
      "outputs": [],
      "source": [
        "# Un simple ejemplo son solo argumentos posicionales\n",
        "def Displayingarguments1(a,b,c):\n",
        "    \"Muestra los argumentos uno por linea\"\n",
        "    print(\"argumento posicional a es \",a)\n",
        "    print(\"argumento posicional b es \",b)\n",
        "    print(\"argumento posicional c es \",c)"
      ]
    },
    {
      "cell_type": "code",
      "execution_count": null,
      "metadata": {
        "id": "g_RBX4R02ubW"
      },
      "outputs": [],
      "source": [
        "Displayingarguments1('si',(1,2,3),'no') # ok!"
      ]
    },
    {
      "cell_type": "code",
      "execution_count": null,
      "metadata": {
        "id": "YStLx1lX2ubW"
      },
      "outputs": [],
      "source": [
        "# No podemos llamar posicionales como argumentos asignados\n",
        "Displayingarguments1((1,2,3), b='si',c='no')"
      ]
    },
    {
      "cell_type": "code",
      "execution_count": null,
      "metadata": {
        "id": "2R3UlUUr2ubX"
      },
      "outputs": [],
      "source": [
        "# Debemos proveeer algunos de los argumentos posicionales (primero)\n",
        "Displayingarguments1('si',(1,2,3))"
      ]
    },
    {
      "cell_type": "code",
      "execution_count": null,
      "metadata": {
        "id": "OwjgXh1R2ubX"
      },
      "outputs": [],
      "source": [
        "# Todos los que creamos necesarios\n",
        "Displayingarguments1('si',(1,2,3),'no',3)"
      ]
    },
    {
      "cell_type": "code",
      "execution_count": null,
      "metadata": {
        "id": "vYJKrRTo2ubX"
      },
      "outputs": [],
      "source": [
        "# No podemos asignar mas de un valor a b\n",
        "Displayingarguments1('si',(1,2,3),'no',b=(1,2))"
      ]
    },
    {
      "cell_type": "code",
      "execution_count": null,
      "metadata": {
        "id": "3tK_gf5f2ubX"
      },
      "outputs": [],
      "source": [
        "# No es posible poner argumentos posicionales luego de un argumento asignado\n",
        "Displayingarguments1('si',b=(1,2,3),'no')"
      ]
    },
    {
      "cell_type": "code",
      "execution_count": null,
      "metadata": {
        "id": "RQnBgh_42ubY"
      },
      "outputs": [],
      "source": [
        "def Displayingarguments2(a,b,c,kw1='defautkw1',kw2='defautkw2',kw3='defautkw3'):# Un ejemplo con ambos.\n",
        "\n",
        "    \"Muestra los argumentos uno por linea\"\n",
        "    print(\"argumento posicional a es \",a)\n",
        "    print(\"argumento posicional b es \",b)\n",
        "    print(\"argumento posicional c es \",c)\n",
        "    print(\"argumento asignado kw1 es \",kw1)\n",
        "    print(\"argumento asignado kw2 es \",kw2)\n",
        "    print(\"argumento asignado kw3 es \",kw3)"
      ]
    },
    {
      "cell_type": "code",
      "execution_count": null,
      "metadata": {
        "id": "UW97ttHM2ubY"
      },
      "outputs": [],
      "source": [
        "Displayingarguments2('si',(1,2,3),'no','algo',3,'nada') # Todos los argumentos son dados de manera posicional"
      ]
    },
    {
      "cell_type": "code",
      "execution_count": null,
      "metadata": {
        "id": "gJYBVupV2ubY"
      },
      "outputs": [],
      "source": [
        "Displayingarguments2('si',(1,2,3),'no') # Solo los argumentos posicionales son llamados,\n",
        "                                        # los argumentos asignados obtendran valores por defecto"
      ]
    },
    {
      "cell_type": "code",
      "execution_count": null,
      "metadata": {
        "id": "Fc2uBw432ubY"
      },
      "outputs": [],
      "source": [
        "Displayingarguments2('si',(1,2,3),'no','algo', kw3='nada')  # los argumentos posicionales son lamados de esa manera\n",
        "                                                            # kw1 es llamado como argumento posicional\n",
        "                                                            # kw2 es dado su valor por defecto\n",
        "                                                            # kw3 es llamado como argumento asignado"
      ]
    },
    {
      "cell_type": "code",
      "execution_count": null,
      "metadata": {
        "id": "yoiN2raB2ubY"
      },
      "outputs": [],
      "source": [
        "# No es posible pasar argumentos por asignación, antes de los posicionales (o mezclados)\n",
        "Displayingarguments2('si',(1,2,3),'no', kw3='nada','algo')"
      ]
    },
    {
      "cell_type": "code",
      "execution_count": null,
      "metadata": {
        "id": "ZJun55_12ubZ"
      },
      "outputs": [],
      "source": [
        "def Displayingarguments3(a,b,c,kw=[]):     # Ejemplo con un argumento mutable (la lista 'kw')\n",
        "    \"Muestra los argumentos uno por linea\"\n",
        "    print(\"argumento posicional a es \",a)\n",
        "    print(\"argumento posicional b es \",b)\n",
        "    print(\"argumento posicional c es \",c)\n",
        "    print(\"argumento asignado kw es \",kw)\n",
        "    kw.append(1)"
      ]
    },
    {
      "cell_type": "code",
      "execution_count": null,
      "metadata": {
        "id": "1zxC6hqh2ubZ"
      },
      "outputs": [],
      "source": [
        "Displayingarguments3(1,2,3) # El valor de 'kw' es cambiado!"
      ]
    },
    {
      "cell_type": "code",
      "execution_count": null,
      "metadata": {
        "id": "bXeZJ9UP2ubZ"
      },
      "outputs": [],
      "source": [
        "def Displayingarguments4(a,b,c,kw=None):# Un ejemplo con argumentos mutables\n",
        "\n",
        "    \"Mostar los argumentos, uno por linea\"\n",
        "    if kw is None:\n",
        "        kw=[]\n",
        "    print(\"argumento posicional a es \",a)\n",
        "    print(\"argumento posicional b es \",b)\n",
        "    print(\"argumento posicional c es \",c)\n",
        "    print(\"argumento asignado kw is \",kw)\n",
        "    kw.append(1)"
      ]
    },
    {
      "cell_type": "code",
      "execution_count": null,
      "metadata": {
        "id": "1JgMU6sr2ubZ"
      },
      "outputs": [],
      "source": [
        "Displayingarguments4(1,2,3) # ok."
      ]
    },
    {
      "cell_type": "code",
      "execution_count": null,
      "metadata": {
        "id": "tQMGO8qt2uba"
      },
      "outputs": [],
      "source": [
        "# Ejercicio : Escribir una función \"cambio\" que tiene un argumento posicional (un string) y otros dos argumentos\n",
        "# la cual cambie las palabras las dos palabras recibidas como argumento en el string.\n",
        "# Por defecto debe cambiar los espacios \" \", por asteriscos \"*\".\n",
        "\n",
        "def cambio(stringtobechanged,firstchar=' ',secchar='*'):\n",
        "    # COMPLETAR\n",
        "\n",
        "\n",
        "x='este es el string a ser modificado'\n",
        "cambio(x,secchar='s')"
      ]
    },
    {
      "cell_type": "markdown",
      "metadata": {
        "id": "k9Bedfwn2uba"
      },
      "source": [
        "**Los nombres de los argumentos importantes merecen un monbre apropiado (descriptivo)**"
      ]
    },
    {
      "cell_type": "code",
      "execution_count": null,
      "metadata": {
        "id": "5WmjAYwU2uba"
      },
      "outputs": [],
      "source": [
        "def reverseornot(stringofchar,rev=True):\n",
        "    if rev:\n",
        "        print(stringofchar[::-1])\n",
        "    else:\n",
        "        print(stringofchar)\n",
        "\n",
        "reverseornot(x,rev=False)"
      ]
    },
    {
      "cell_type": "code",
      "execution_count": null,
      "metadata": {
        "id": "gBeQE2Ly2uba"
      },
      "outputs": [],
      "source": [
        "lista=[x for x in range(0,20)]\n",
        "\n",
        "#type(range(0,20))"
      ]
    },
    {
      "cell_type": "markdown",
      "metadata": {
        "id": "085PXWyV2uba"
      },
      "source": [
        "## Funciones Recursivas\n",
        "\n",
        "Python nos permite una declaración sencilla de **funciones recursivas**, solamente debemos *\"llamar a la función, dentro del cuerpo de la (misma) función'*.\n",
        "\n",
        "Una definición correcta de una función recursiva, debera tener el cuenta lo siguiente:\n",
        "\n",
        "- Existencia de un **caso base** o inicial de manera *especial*, es decir cuando la función retorna un valor (no hay llamada recursiva), ya que sino, la función prodria nunca terminar.\n",
        "\n",
        "\n",
        "Manejo standard del caso base:\n",
        "\n",
        "- Utilizando un  $\\normalsize \\color{green}{\\textsf{ if }}$, como veremos a continuación.\n",
        "- Luego podremoms:\n",
        "    - Terminar la función\n",
        "    - Terminar y devolver un valor que indicará un error en la ejecución de la función\n",
        "    - Opcionalmente podemos informar del error, utilizando los errores predefinidos provistos por Python utilizando el comando $\\normalsize \\color{green}{\\textsf{ raise }}$.  \n"
      ]
    },
    {
      "cell_type": "markdown",
      "metadata": {
        "id": "yfaa72272ubb"
      },
      "source": [
        "El comando $\\normalsize \\color{green}{\\textsf{ raise }}$ es invocado de la siguiente forma:\n",
        "\n",
        "$\\normalsize \\color{green}{\\textsf{ raise }}$ $\\texttt{ AssertionError ( string )}$"
      ]
    },
    {
      "cell_type": "code",
      "execution_count": null,
      "metadata": {
        "id": "A_CxWPUE2ubb"
      },
      "outputs": [],
      "source": [
        "# Secuencia de Fibonacci.\n",
        "# [ 0, 1, 1, 2, 3, 5, 8, 13, 21, 34, 55, 89, 144, 233, 377, 610, . . . ]\n",
        "def Fibo(n):\n",
        "\n",
        "    \"Definición: F(n)=F(n-1)+F(n-2), F(1)=F(0)=1\"\n",
        "\n",
        "    if n<0:\n",
        "        raise ValueError(\"Fibonacci terms begin at 0\") # sin este error, Fibo(-1) etrara en un ciclo eterno.\n",
        "    if n==0:\n",
        "        return 1 # Primer caso base\n",
        "    elif n==1:\n",
        "        return 1 # Segundo caso base\n",
        "    else:\n",
        "        return Fibo(n-1)+Fibo(n-2) ## ESTA ES LA LLAMADA RECURSIVA"
      ]
    },
    {
      "cell_type": "code",
      "execution_count": null,
      "metadata": {
        "id": "bvf2hNSe2ubc"
      },
      "outputs": [],
      "source": [
        "# Cálculo recursivo del factorial de un número n.\n",
        "def factorial(n):\n",
        "    if type(n) is not int:\n",
        "        raise ValueError(\"N debe ser un numero entero\")\n",
        "    elif n <0 :\n",
        "        raise ValueError(\"N debe ser mayor a 0\")\n",
        "    elif n<=1:\n",
        "        return 1\n",
        "    else:\n",
        "        return factorial(n-1)* n"
      ]
    },
    {
      "cell_type": "code",
      "execution_count": null,
      "metadata": {
        "id": "TXWGrRJc2ubc"
      },
      "outputs": [],
      "source": [
        "print(factorial(1.4))"
      ]
    },
    {
      "cell_type": "markdown",
      "metadata": {
        "id": "Q4EixrvN2ubc"
      },
      "source": [
        "Como para el caso de la generación de conjuntos, listas, etc. por comprención. Podemos utilizar cualquier función, incluso aquellas que definimos nosotros."
      ]
    },
    {
      "cell_type": "code",
      "execution_count": null,
      "metadata": {
        "id": "1Btb88Sq2ubd"
      },
      "outputs": [],
      "source": [
        "# Ejemplo lista por comprención\n",
        "\n",
        "[Fibo(n) for n in range(0,20)] # Para n>30 la performace es muy lenta."
      ]
    },
    {
      "cell_type": "markdown",
      "metadata": {
        "id": "nS2YoosX2ubd"
      },
      "source": [
        "El uso de funciones recursivas no debe ser abusado. Este tipo de funciones nos permite la facilidad de escritura de una función, aunque generalmente requieren el uso de mucha memoria. *(Luego veremos cómo mejorar esto)*.\n"
      ]
    },
    {
      "cell_type": "code",
      "execution_count": null,
      "metadata": {
        "id": "pA_x6AtZ2ubd"
      },
      "outputs": [],
      "source": [
        "# Ejemplo: Fibonacci Iterativo\n",
        "def Fiboiter(n):\n",
        "    if n<0:\n",
        "        raise ValueError(\"La secuencia de Fibonacci comienza en '0'\") # si no comprabos que el parámetro es un\n",
        "                                                                      # nro. entero, por ejemplo, llamar a Fibo(-1)\n",
        "                                                                      # causara que la función nunca termine.\n",
        "    elif n==0:\n",
        "        return 1 # Primer caso base\n",
        "    elif n==1:\n",
        "        return 1 # Segundo caso base\n",
        "    else:\n",
        "        x=1 # elemento 0\n",
        "        y=1 # elemento 1ro\n",
        "        for i in range(1,n):\n",
        "            # elemento 'x' i-1-esimo, e 'y' sera el i-esimo elemento\n",
        "            x,y=y,x+y\n",
        "            # elemento 'x' i-esimo, e 'y' sera el i+1-esimo elemento\n",
        "        return y"
      ]
    },
    {
      "cell_type": "code",
      "execution_count": null,
      "metadata": {
        "id": "R2bszOGv2ubd"
      },
      "outputs": [],
      "source": [
        "N=10\n",
        "print(Fibo(N),\"=\",Fiboiter(N))"
      ]
    },
    {
      "cell_type": "code",
      "execution_count": null,
      "metadata": {
        "id": "zkq-Sp0U2ube"
      },
      "outputs": [],
      "source": [
        "print(Fiboiter(30))"
      ]
    },
    {
      "cell_type": "markdown",
      "metadata": {
        "id": "8QvPi0j_2ube"
      },
      "source": [
        "## Funciónes y el \"alcanze\" (scope) de las variables\n",
        "\n",
        "El *alcanze* de una variable $\\texttt{v}$ es el conjunto de lineas de código, en donde la variable es comprendida. Es decir, donde el nombre de variable $\\texttt{v}$ esta asignado a un valor.\n",
        "\n",
        "A priori, es simple:\n",
        "\n",
        "\"*si la variable* $\\texttt{v}$ *esta definida en la linea* $n$ *el alcanze de la variable será cualquier linea* $m > n$ \".\n",
        "\n",
        "\n",
        "Esto se complica cuando introducimos funciones, estas pueden (o no) cambiar el alcanze de una variable. Esta situación se complica aún más cuando tenemos *funciones anidadas*, es decir, funciones dentro de otras funciones.\n",
        "\n",
        "A continuación veremos algunos ejemplos:\n"
      ]
    },
    {
      "cell_type": "code",
      "execution_count": null,
      "metadata": {
        "id": "iUYKmN6F2ube"
      },
      "outputs": [],
      "source": [
        "# Investigar en los siguientes ejemplos: - qué será impreso por pantalla?\n",
        "#                                        - cuál es el valor de x luego de cada llamada a una función?\n",
        "#                                        - habra algún mensaje de error?\n",
        "\n",
        "x=2\n",
        "\n",
        "def ExVar1():\n",
        "    print(x)\n",
        "\n",
        "def ExVar2():\n",
        "    x=5\n",
        "    print(x)\n",
        "\n",
        "def ExVar3():\n",
        "    x=5\n",
        "\n",
        "    def ExVar11():\n",
        "        global x\n",
        "        print(x)\n",
        "\n",
        "    ExVar11()\n",
        "    print(x)\n",
        "\n",
        "def ExVar4():\n",
        "    print(x)\n",
        "    print('x=1')"
      ]
    },
    {
      "cell_type": "code",
      "execution_count": null,
      "metadata": {
        "id": "C1mityJg2ube"
      },
      "outputs": [],
      "source": [
        "ExVar3()"
      ]
    },
    {
      "cell_type": "markdown",
      "metadata": {
        "id": "WoSzxu3k2ubf"
      },
      "source": [
        "La razón principal por la cual los variables tienen un alcanze predefinido es para evitar **efectos secundarios**. Es decir, cambiar los valores de variables que pasamos por argumento y afectar el resto del código. Por ello, por defecto, el alcanze de las variables es **dentro del cuerpo de la función**.\n",
        "\n",
        "Notar que aquellas variables **invocadas que no están en el cuerpo de la función no existiran**.\n",
        "\n",
        "\n",
        "De esta menera podemos \"proteger\" las variables fuera de la función.\n",
        "\n",
        "Es posible cambiar este comportamiento. Debemos usar el comando $\\normalsize \\color{green}{\\textsf{ global }}$ o $\\normalsize \\color{green}{\\textsf{ nonlocal }}$. La diferencia entre ambos es sutil:\n",
        "\n",
        "Sea una variable $\\texttt{v}$:\n",
        "\n",
        "- Con el comando $\\normalsize \\color{green}{\\textsf{ global }}$ $\\texttt{v}$, la variable $\\texttt{v}$ será usada como una variable global (externa a la función), perteneciente al código con mayor alcanze.\n",
        "\n",
        "- Con el comando $\\normalsize \\color{green}{\\textsf{ nonlocal }}$ $\\texttt{v}$, la variable $\\texttt{v}$ será aquella cual alcanze es de **un nivel superioir**, es decir, en funciónes anidadas, aquella que tenga mayor alcanze.  \n",
        "\n",
        "\n",
        "Debemos notar que al utilizar $\\normalsize \\color{green}{\\textsf{ nonlocal }}$ en funciones recursivas, generara un error del tipo **SyntaxError**.\n",
        "\n"
      ]
    },
    {
      "cell_type": "code",
      "execution_count": null,
      "metadata": {
        "id": "kfk-Q7AR2ubf"
      },
      "outputs": [],
      "source": [
        "# Secuencia de Fibonacci contando la cantidad de llamaradas recursivas\n",
        "t=0\n",
        "def Fibo(n):\n",
        "\n",
        "    \"\"\"n debe ser un número entero\n",
        "    \"F(n)=F(n-1)+F(n-2), F(1)=F(0)=1\"\"\"\n",
        "\n",
        "    global t # la variable t será considerada como global\n",
        "    t+=1     # hacemos algo con t\n",
        "    if n<0:\n",
        "        raise ValueError(\"Fibonacci terms begin at 0\")\n",
        "    elif n==0:\n",
        "        return 1\n",
        "    elif n==1:\n",
        "        return 1\n",
        "    else:\n",
        "        return Fibo(n-1)+Fibo(n-2)\n",
        "# Es posible estimar la cantidad de llamadas a la función?"
      ]
    },
    {
      "cell_type": "code",
      "execution_count": null,
      "metadata": {
        "id": "wkQ_aSWi2ubf"
      },
      "outputs": [],
      "source": [
        "help(Fibo)"
      ]
    },
    {
      "cell_type": "code",
      "execution_count": null,
      "metadata": {
        "id": "KCoCFl042ubg"
      },
      "outputs": [],
      "source": [
        "t=0\n",
        "2*Fibo(20)-1"
      ]
    },
    {
      "cell_type": "code",
      "execution_count": null,
      "metadata": {
        "id": "qlu7esZR2ubg"
      },
      "outputs": [],
      "source": [
        "t"
      ]
    },
    {
      "cell_type": "code",
      "execution_count": null,
      "metadata": {
        "id": "7na81jnG2ubg"
      },
      "outputs": [],
      "source": [
        "# Diferencia entre global y no-local\n",
        "def examplenothing():\n",
        "    x='changedinexample'\n",
        "    def insidenothing(): # inside... es una función definida dentro del alganze de example...\n",
        "        x='changedinside'\n",
        "    insidenothing()\n",
        "    print(\"la x en ejemplo... es \",x)\n",
        "\n",
        "def exampleglobal():\n",
        "    x='changedinexample'\n",
        "    def insideglobal():\n",
        "        global x        # x es una variable global en el alcaze de insideglobal.\n",
        "        x='changedinside'\n",
        "    insideglobal()\n",
        "    print(\"la x en ejemplo... es \",x)\n",
        "\n",
        "def examplenonlocal():\n",
        "    x='changedinexample'\n",
        "    def insidenonlocal():\n",
        "        nonlocal x      # x es una variable local a examplenonlocal\n",
        "        x='changedinside'\n",
        "    insidenonlocal()\n",
        "    print(\"la x en ejemplo... es \",x)"
      ]
    },
    {
      "cell_type": "code",
      "execution_count": null,
      "metadata": {
        "id": "fm-Stagd2ubg"
      },
      "outputs": [],
      "source": [
        "x='notchanged'\n",
        "examplenothing() # x no es cambiada en la primer función\n",
        "print(\"global x es \",x) # x no es cambiada globalmente\n",
        "print(5*'-')\n",
        "x='notchanged'\n",
        "exampleglobal() # x no es cambiada en la primer función\n",
        "print(\"global x es \",x) # x cambiada globalmente\n",
        "print(5*'-')\n",
        "x='notchanged'\n",
        "examplenonlocal() # x es cambiada en la primer función\n",
        "print(\"global x es \",x) # x no es cambiada de forma goblal\n",
        "print(5*'-')"
      ]
    },
    {
      "cell_type": "code",
      "execution_count": null,
      "metadata": {
        "id": "gbbZ1BX22ubh"
      },
      "outputs": [],
      "source": [
        "# Diferencia entre global y no-local\n",
        "def examplenothing():\n",
        "    global x             #OK\n",
        "    x='changedinexample'\n",
        "    def insidenothing(): # inside... es una función definida dentro del alganze de example...\n",
        "        x='changedinside' # x no es global dentro del alcanze de insidenothing.\n",
        "    insidenothing()\n",
        "    print(\"la x en ejemplo... es \",x)\n",
        "\n",
        "def exampleglobal():\n",
        "    global x             # OK\n",
        "    x='changedinexample'\n",
        "    def insideglobal():\n",
        "        global x         # aquí x es una variable global.\n",
        "        x='changedinside'\n",
        "    insideglobal()\n",
        "    print(\"la x en ejemplo... es \",x)\n",
        "\n",
        "def examplenonlocal():\n",
        "    #global x            # Problema! conflicto con \"non local\".\n",
        "    x='changedinexample'\n",
        "    def insidenonlocal():\n",
        "        nonlocal x       # aquí x una variable local de examplenonlocal\n",
        "        x='changedinside'\n",
        "    insidenonlocal()\n",
        "    print(\"la x en ejemplo... es \",x)"
      ]
    },
    {
      "cell_type": "code",
      "execution_count": null,
      "metadata": {
        "id": "7ewlWOdQ2ubh"
      },
      "outputs": [],
      "source": [
        "x='notchanged'\n",
        "examplenothing() # x no es cambiada en la primer función\n",
        "print(\"global x es \",x) # x es cambiada de manera global\n",
        "print(5*'-')\n",
        "x='notchanged'\n",
        "exampleglobal() # x no es cambiada en la primer función\n",
        "print(\"global x es \",x) # x es cambiada de manera global\n",
        "print(5*'-')\n",
        "x='notchanged'\n",
        "examplenonlocal()\n",
        "print(\"global x es \",x) # x es cambiada de manera global\n",
        "print(5*'-')"
      ]
    },
    {
      "cell_type": "markdown",
      "metadata": {
        "id": "qPNhjJH32ubh"
      },
      "source": [
        "## Añadir nuestra función al comando \"help\"\n",
        "\n",
        "Si queremos añadir texto el cual será impreso cuando llamamos a la función $\\normalsize \\color{green}{\\textsf{ help }}$, simplemente debemos escribir una(s) linea(s) de texto luego de la definición de nustra función.\n"
      ]
    },
    {
      "cell_type": "code",
      "execution_count": null,
      "metadata": {
        "id": "gbuEgnix2ubi"
      },
      "outputs": [],
      "source": [
        "def nicelydocumented():\n",
        "    \"Esta función devuelve TRUE siempre.\" # Comentario para la función help.\n",
        "    \"Esta linea no será vista\" # Esta linea no se mostrara.\n",
        "    return True"
      ]
    },
    {
      "cell_type": "code",
      "execution_count": null,
      "metadata": {
        "id": "x7ZWS__l2ubi"
      },
      "outputs": [],
      "source": [
        "nicelydocumented()"
      ]
    },
    {
      "cell_type": "code",
      "execution_count": null,
      "metadata": {
        "id": "BP4cbpCM2ubi"
      },
      "outputs": [],
      "source": [
        "help(nicelydocumented)"
      ]
    },
    {
      "cell_type": "markdown",
      "metadata": {
        "id": "lFq0qbHA2ubj"
      },
      "source": [
        "Como hemos visto en las definiciones de algunas anteriores, es posible escribir más de una linea de texto, utilizando cualquier método para escribir strings largos (i.e. triple comillas o la barra al final de cada linea).  "
      ]
    },
    {
      "cell_type": "markdown",
      "metadata": {
        "id": "v8Xcj1au2ubj"
      },
      "source": [
        "## El comando Yield y Generadores\n",
        "\n",
        "Ya hemos visto el objeto $\\normalsize \\color{green}{\\textsf{ range }}$, el cual no contiene objetos en si mismo, pero tiene un *'tipo especial'*. Además de ser un objeto **iterable**, es decir, podremos recorrerlo usando un ciclo $\\normalsize \\color{green}{\\textsf{ for }}$, por ejemplo. Un rango, debe ser comprendido como una *'lista potencial'*.\n",
        "\n",
        "\n",
        "La diferencia tecnica radica en lo siguiente. Veamos la lista $\\texttt{L = [ 0,} \\dots , 10^{1000} - 1 ]$, es un objeto que ocupara mucha memoria, mientras que $\\normalsize \\color{green}{\\textsf{ range }}$ $(10^{1000} - 1) $ será visto como: \"*comenzar en 0 y contar hasta* $10^{10000}-1$ \". Cuando recorremos la lista $\\texttt{ L }$ usando un rango, *iteraremos sobre el rango*, es decir, se generaran las variables indices automaticamente y de a una, primero  $\\texttt{ x=0 }$, luego $\\texttt{ x=1 }$, y así sucesivamente.\n"
      ]
    },
    {
      "cell_type": "code",
      "execution_count": null,
      "metadata": {
        "id": "r1-Dxse22ubj"
      },
      "outputs": [],
      "source": [
        "L=[i for i in range(10)]# Creación de la lista [0,1,2,3,4,5,6,7,8,9]\n",
        "for x in L:             # Recorremoms la lista: x=0, x=1,... x=9\n",
        "    print(x,end=\",\")\n",
        "print(\"\")\n",
        "for x in range(10): # x=0 luego x+=1, x+=1, ... hasta concluir en x=10\n",
        "    print(x,end=\",\")\n",
        "print(\"\")"
      ]
    },
    {
      "cell_type": "code",
      "execution_count": null,
      "metadata": {
        "id": "mUtKuWH_2ubj"
      },
      "outputs": [],
      "source": [
        "gen1=(x*x for x in range(10))\n",
        "type(gen1)\n",
        "gen1"
      ]
    },
    {
      "cell_type": "markdown",
      "metadata": {
        "id": "uJe6K-E32ubk"
      },
      "source": [
        "El comando $\\normalsize \\color{green}{\\textsf{ yield }}$ nos permite crear objetos más generales. Los llamaremos **generadores**.\n"
      ]
    },
    {
      "cell_type": "code",
      "execution_count": null,
      "metadata": {
        "id": "PiwZjQnI2ubk"
      },
      "outputs": [],
      "source": [
        "gen1=(x*x for x in range(10))\n",
        "def generateur(N):\n",
        "    myrange=range(N)\n",
        "    for i in myrange:\n",
        "        print(10*\"--\")\n",
        "        print(\"Paso: \",i) # Cuándo generamos i*i?\n",
        "        print(10*\"--\")\n",
        "        yield i*i   # El comando yield tiene el mismo 'status' que el comando return.\n",
        "gen2=generateur(10) # No es una lista de cuadrados.\n",
        "print(\"gen2 ha generado alguna salida?\")\n",
        "for i in gen2:\n",
        "    print(i)"
      ]
    },
    {
      "cell_type": "markdown",
      "metadata": {
        "id": "RmQsju1E2ubk"
      },
      "source": [
        "# Módulos en Python\n",
        "\n",
        "\n",
        "Para que nos siven? Nos permiten definir nuestras propias funciones, bloques de codigo, metodos, pbjetos, tipos de datos, etc.\n",
        "Cuando desarrollamos, aunque es possible hacerlo de manera individual, **requiere mucho tiempo y esfuerzo**, además de se debe considerar la (posible) **falta de eficiencia u otimización** del codigo.\n",
        "\n",
        "El comando $\\normalsize \\color{green}{\\textsf{import}}$ nos permite utilizar funciones y objetos definidos fuera de las funciones pre-definidas en Python.\n",
        "\n",
        "Por qué estas funciones no estas dentro de Python? Son muchas y muy especificas a cada dominio. A raíz de esto, los siguientes problemas aparecen:\n",
        "\n",
        "- Uso ineficiente de memoria.\n",
        "- Conflictos de nombres.\n",
        "\n",
        "\n",
        "Usar $\\textit{módulos}$ nos permite trabajar de forma colaborativa, en equipos. De esta manera se podrán abordar projectos de gran magnitud.\n"
      ]
    },
    {
      "cell_type": "markdown",
      "metadata": {
        "id": "BeWF2jlp2ubk"
      },
      "source": [
        "## Cómo usar $\\normalsize \\color{green}{\\textsf{import}}$ ?\n",
        "\n",
        "\n",
        "Hay dos fromas de usar el comando $\\normalsize \\color{green}{\\textsf{import}}$.\n"
      ]
    },
    {
      "cell_type": "markdown",
      "metadata": {
        "id": "xKwbKe1T2ubl"
      },
      "source": [
        "### Importar solo un módulo.\n",
        "\n",
        "$\\normalsize \\color{green}{\\textsf{ import }} \\texttt{nombre\\_módulo}$\n",
        "\n",
        "\n",
        "Luego podremos llamar a la cualquier función $\\texttt{func}$ definida dentro del módulo $\\texttt{nombre\\_módulo}$, de la siguiente forma: $\\texttt{nombre\\_módule.func}$."
      ]
    },
    {
      "cell_type": "code",
      "execution_count": null,
      "metadata": {
        "id": "fU6AtNHB2ubl"
      },
      "outputs": [],
      "source": [
        "#Ejemplo nombramiento directo\n",
        "import random\n",
        "random.randrange(100)"
      ]
    },
    {
      "cell_type": "code",
      "execution_count": null,
      "metadata": {
        "id": "Bf-M6Md92ubl"
      },
      "outputs": [],
      "source": [
        "import numpy\n",
        "numpy.pi  #numpy.pi es la aproximación del número pi."
      ]
    },
    {
      "cell_type": "markdown",
      "metadata": {
        "id": "JvTvglHU2ubl"
      },
      "source": [
        "De forma técnica, el comando $\\normalsize \\color{green}{\\textsf{import}}$ $\\texttt{ nombre\\_módulo }$ ,  genera una nueva variable $\\texttt{nombre\\_módulo}$ tipo $\\textit{módulo}$. Luego, las funciones y/o métodos definidas en el módulo pueden ser llamados o invocados desde nuestro codigo.\n"
      ]
    },
    {
      "cell_type": "code",
      "execution_count": null,
      "metadata": {
        "id": "oTgEMkXP2ubm"
      },
      "outputs": [],
      "source": [
        "print(type(random)) # Tipo : module (módulo)\n",
        "print(type(random.randrange)) # Tipo : method (método)\n",
        "print(type(numpy.pi))"
      ]
    },
    {
      "cell_type": "code",
      "execution_count": null,
      "metadata": {
        "id": "VuBdcVPi2ubm"
      },
      "outputs": [],
      "source": [
        "randrange(100) # Esto genera un error del tipo \"NameError\" porque la función randrange no esta definida."
      ]
    },
    {
      "cell_type": "markdown",
      "metadata": {
        "id": "MZ1CCnHb2ubn"
      },
      "source": [
        "También es posible cambiar el nombre de los módulos, por otro, generalmente más corto.\n",
        "\n",
        "$\\normalsize \\color{green}{\\textsf{import}}$ $\\texttt{ nombre\\_módulo}$ $\\normalsize \\color{green}{\\textsf{as}}$ $\\texttt{nuevo\\_nombre}$"
      ]
    },
    {
      "cell_type": "code",
      "execution_count": null,
      "metadata": {
        "id": "RnXLkeen2ubn"
      },
      "outputs": [],
      "source": [
        "import math as m # el nommbre 'math' no es asociado al modulo (el nombre de variable esta \"libre\")\n",
        "                 # m es el objeto que contiene las funciones del módulo math.\n",
        "print(m.pi) # funciona...\n",
        "math.pi # NameError"
      ]
    },
    {
      "cell_type": "markdown",
      "metadata": {
        "id": "WJtx7auC2ubo"
      },
      "source": [
        "### Importar objectos desde un módulo\n",
        "\n",
        "La otra manera de importar funciones (objetos, métodos, etc.) definidas en un módulo es asignando un nuevo monbre para ellas:\n",
        "\n",
        "$\\normalsize \\color{green}{\\textsf{ from }}$ $\\texttt{ nombre\\_módulo}$ $\\normalsize \\color{green}{\\textsf{ import }}$ $\\texttt{algo\\_1, algo\\_2, ...}$ $\\normalsize \\color{green}{\\textsf{ as }}$ $\\texttt{nuevo\\_mombre\\_1, nuevo\\_nombre\\_2, ...}$\n"
      ]
    },
    {
      "cell_type": "code",
      "execution_count": null,
      "metadata": {
        "id": "I_cqpnUg2ubo"
      },
      "outputs": [],
      "source": [
        "from math import pi as sliceofpie # sliceofpie es un número con el valor de math.pi\n",
        "from math import pi # el comando \"as\" es opcional\n",
        "pi == sliceofpie # Son Iguales"
      ]
    },
    {
      "cell_type": "markdown",
      "metadata": {
        "id": "kGlzriHS2ubo"
      },
      "source": [
        "Si queremos importar un módulo de manera **\"completa\"**, es decir, todas las funciones, objetos, etc, invocamos el siguiente comando:\n",
        "\n",
        "\n",
        "$\\normalsize \\color{green}{\\textsf{ from }}$ $\\texttt{nombre\\_módulo}$ $\\normalsize \\color{green}{\\textsf{import}}$ $\\texttt{ * }$\n"
      ]
    },
    {
      "cell_type": "code",
      "execution_count": null,
      "metadata": {
        "id": "jjUy-XaJ2ubp"
      },
      "outputs": [],
      "source": [
        "#import math\n",
        "#math.pi\n",
        "\n",
        "from random import *\n",
        "randrange(100)\n",
        "\n",
        "from math import *\n",
        "pi"
      ]
    },
    {
      "cell_type": "code",
      "execution_count": null,
      "metadata": {
        "id": "bAKNjZgx2ubp"
      },
      "outputs": [],
      "source": [
        "import random\n",
        "for x in  dir(random): #Funciones provistas por Python (built-in functions).\n",
        "    print (x, end= \" - \")\n",
        "\n",
        "help(random)"
      ]
    },
    {
      "cell_type": "markdown",
      "metadata": {
        "id": "SFu5Ezma2ubp"
      },
      "source": [
        "Aunque los módulos mas usados, toman en cuenta la definición de nombres de manera cuidadosa para no generar conflictos. Es una buena practica evitar importar \"todo\" (utilizando asterisco) si importaremos mas de un módulo.\n"
      ]
    },
    {
      "cell_type": "markdown",
      "metadata": {
        "id": "WpZ-D8cL2ubp"
      },
      "source": [
        "## El uso de '\\_' in Python\n",
        "\n",
        "El uso del carácter *'\\_'* (guión bajo) tiene significado especial en Python. Podemos utilizar uno o dos guiones bajos para identificar nombres de variables y métodos especiales (aquellos que queremos proteger). Además cada combinación puede de varias connotaciones:\n",
        "\n",
        "-  Simple guión bajo: $\\_$ \\\n",
        "&emsp; El identificador especial $\\_$ se utiliza en el intérprete interactivo para almacenar el resultado de la última evaluación. Cuando no está en modo interactivo, $\\_$ no tiene un significado especial y no está definido. También podemos usarlo para denotar una variable que no usaremos, indicando que es un valor \"temporal\".  \n",
        "    \n",
        "-   Simple guión bajo frente al *nombre de variable o método*: $\\_\\texttt{nombre}$ \\\n",
        "&emsp; Denota una variable o método para uso interno, estos son accesibles como cualquier otro identificador, excepto cuando importamos un módulo. Es decir, que no seran importados por\n",
        "$\\normalsize \\color{green}{\\textsf{ from }}$ $\\texttt{ nombre\\_módulo}$ $\\normalsize \\color{green}{\\textsf{ import }}$ $\\texttt{*}$\n",
        "\n",
        "-  Simple guión bajo detras al *nombre de variable o método*: $\\texttt{nombre}\\_$ \\\n",
        "&emsp; Sin distinción en particular.  \n",
        "\n",
        "-  Doble guión bajo frente al *nombre de variable o método*: $\\_\\_\\texttt{nombre}$ \\\n",
        "&emsp; Identificadores de clase privados. Los nombres de esta categoría, cuando se utilizan en el contexto de una definición de clase, se reescriben para utilizar una forma desfigurada que ayude a evitar conflictos de nombres entre los atributos *privados* de las clases base y derivadas. Es decir, concatenara el nombre de la clase al identificador.\n",
        "\n",
        "\n",
        "-  Doble guión bajo frente y detras al *nombre de variable o método*: $\\_\\_\\texttt{nombre}\\_\\_$ \\\n",
        "&emsp; Identificadores definidos por el sistema, conocidos informalmente como nombres **dunder** (double-under). Estos nombres son definidos por el intérprete y su aplicación (incluida la biblioteca estándar). A continuación podremos ver el método $\\_\\_\\texttt{init}\\_\\_$ al comienzo de una clase. Estos métodos también son conocidos cómo *métodos magicos*. Cualquier uso de estos nombres, en cualquier contexto, que no siga un uso explícitamente documentado, está sujeto a que se rompa sin previo aviso.\n",
        "\n"
      ]
    },
    {
      "cell_type": "markdown",
      "metadata": {
        "id": "BHdVPxaa2ubq"
      },
      "source": [
        "## Algunos de los módulos mas utilizados\n",
        "\n",
        "Nota: algunos de estos módulos vienen provistos dependiendo de que versión y via que método instalamos Python. Los módulos qué no esten presentes, deben ser instalados manualmente o mediante la herramienta **\"pip\"**\n"
      ]
    },
    {
      "cell_type": "markdown",
      "metadata": {
        "id": "nnRin4pV2ubq"
      },
      "source": [
        "### Módulo math\n",
        "\n",
        "Para la mayoría de los módulos \"comunes\" de Python, la documentación es extensiva y clara. Ver Documentación del módulo $\\texttt{math}$: https://docs.python.org/es/3.6/library/math.html\n",
        "\n",
        "La libreria $\\texttt{math}$ contiene funciones comunes (logaritmoms, exponenciales, trigonometricas, ...) y algunas constantes ($\\pi$, $e$, ...), además de algunos otras definiciones, por ejemplo $\\texttt{inf}$ ($+\\infty$) y $\\texttt{nan}$ que \"No Representa a un Número\" (Not A Number) y es del tipo número de punto flotante\".\n"
      ]
    },
    {
      "cell_type": "code",
      "execution_count": null,
      "metadata": {
        "scrolled": true,
        "id": "IwdHUvrj2ubq"
      },
      "outputs": [],
      "source": [
        "from math import inf,nan\n",
        "\n",
        "print(inf+inf)\n",
        "print(1/inf)\n",
        "print(inf-inf)# \"Indeterminado\" aunque no genera error\n",
        "print()\n",
        "print(nan)"
      ]
    },
    {
      "cell_type": "code",
      "execution_count": null,
      "metadata": {
        "id": "mO_CrpKY2ubq"
      },
      "outputs": [],
      "source": [
        "1.0/0.0 # Infinito no es un resultado valido."
      ]
    },
    {
      "cell_type": "code",
      "execution_count": null,
      "metadata": {
        "id": "AjY2bY6t2ubr"
      },
      "outputs": [],
      "source": [
        "from math import log\n",
        "log(0) #no -inf definido (solo +inf)"
      ]
    },
    {
      "cell_type": "markdown",
      "metadata": {
        "id": "UWUPqiYj2ubr"
      },
      "source": [
        "### Módulo numpy\n",
        "\n",
        "Su Documentación completa está disponible aqui: http://www.numpy.org. Particularmente interesante para problemas mathematicos.\n",
        "Nos ofrece un nuevo tipo de dato \"arreglo\" (array), tambien llamados \"vectores\", cuando todos los elementos son del mismo tipo.  \n"
      ]
    },
    {
      "cell_type": "code",
      "execution_count": null,
      "metadata": {
        "id": "weRyke9S2ubr"
      },
      "outputs": [],
      "source": [
        "import numpy as np"
      ]
    },
    {
      "cell_type": "code",
      "execution_count": null,
      "metadata": {
        "id": "A7ttXpn22ubs"
      },
      "outputs": [],
      "source": [
        "v=np.array([[1,1],[1,1]])# Crea un arreglo de 2 x 2 (es decir, una matríz).\n",
        "                         # v= [ 1 | 1\n",
        "                         #      1 | 1 ]\n",
        "print(v)\n",
        "\n",
        "print([[1,1],[1,1]])\n",
        "\n",
        "type(v)"
      ]
    },
    {
      "cell_type": "code",
      "execution_count": null,
      "metadata": {
        "id": "J8_7Wb4s2ubs"
      },
      "outputs": [],
      "source": [
        "v+=v\n",
        "print(v)"
      ]
    },
    {
      "cell_type": "code",
      "execution_count": null,
      "metadata": {
        "id": "qllgL7QN2ubs"
      },
      "outputs": [],
      "source": [
        "v=np.array([[1,2],[3,4]])\n",
        "print(v)\n",
        "print(v[0][1]) # Podemos indexar los elementos de un array\n",
        "v[0][1]=5\n",
        "print(v)\n",
        "w=v     # Los arrays son objetos \"mutables\".\n",
        "w[0][1]=3\n",
        "print(w,'\\n',v)"
      ]
    },
    {
      "cell_type": "code",
      "execution_count": null,
      "metadata": {
        "id": "hwvuM6Ek2ubs"
      },
      "outputs": [],
      "source": [
        "np.array([[True,2.0],[0+1j,0.1],(3+7*1j,-np.pi)]) # La *función* array normalizara los datos\n",
        "                                                  # que ingresamos por parametros."
      ]
    },
    {
      "cell_type": "code",
      "execution_count": null,
      "metadata": {
        "id": "sgbVnhJo2ubt"
      },
      "outputs": [],
      "source": [
        "np.zeros([2,3,4,3]) # podemos crear arreglos multi-dimensionales"
      ]
    },
    {
      "cell_type": "markdown",
      "metadata": {
        "id": "J0K2YcDG2ubt"
      },
      "source": [
        "Además tenemos provisto el tipo $\\textit{Matríz}$."
      ]
    },
    {
      "cell_type": "code",
      "execution_count": null,
      "metadata": {
        "id": "mlflukB12ubt"
      },
      "outputs": [],
      "source": [
        "M=np.matrix([[0,1j],[1j,0]]) # Tipo : matrix\n",
        "print(M.conjugate()) # Retorna wl conjugado de la matríz.\n",
        "print(M*M)"
      ]
    },
    {
      "cell_type": "code",
      "execution_count": null,
      "metadata": {
        "id": "dEMsiZcl2ubt"
      },
      "outputs": [],
      "source": [
        "N=M     # Las matrices son elementos mutables.\n",
        "N[0,1]=2713\n",
        "print(M)"
      ]
    },
    {
      "cell_type": "markdown",
      "metadata": {
        "id": "L9uPbJws2ubu"
      },
      "source": [
        "Existen muchos más métodos relacionados al manejo de matrices y algebras, contenidos en el $\\textit{sub-módulo}$ $\\texttt{linalg}$.\n",
        "\n"
      ]
    },
    {
      "cell_type": "code",
      "execution_count": null,
      "metadata": {
        "id": "W-zf7MhY2ubu"
      },
      "outputs": [],
      "source": [
        "from numpy import linalg as LA\n",
        "eigvalues,eigvectors=LA.eigh(np.matrix([[10,1],[1,2]])) #eigh calcula los eigenvalues de matrices simetricas-hemitaneas\n",
        "print(eigvalues)"
      ]
    },
    {
      "cell_type": "markdown",
      "metadata": {
        "id": "KtBIJOam2ubu"
      },
      "source": [
        "También podemos generar estructuras de mayor deminesión, i.e. Tensores."
      ]
    },
    {
      "cell_type": "markdown",
      "metadata": {
        "id": "oheFymNj2ubu"
      },
      "source": [
        "### Módulo scipy\n",
        "\n",
        "Su Documentación completa está disponible aqui: https://www.scipy.org. Contiene a los módulos $\\texttt{numpy}$ (analisis numerico), $\\texttt{sympy}$ (computación simbolica), y otras heramientas útiles que veremos luego.\n"
      ]
    },
    {
      "cell_type": "markdown",
      "metadata": {
        "id": "av1wWoRc2ubv"
      },
      "source": [
        "### Módulo random\n",
        "\n",
        "Como lo indica su nombre, se utiliza para generar valores (u objetos) aleatorios.\n"
      ]
    },
    {
      "cell_type": "code",
      "execution_count": null,
      "metadata": {
        "id": "oYT-BTLF2ubv"
      },
      "outputs": [],
      "source": [
        "import random"
      ]
    },
    {
      "cell_type": "code",
      "execution_count": null,
      "metadata": {
        "id": "EOOiMCTH2ubv"
      },
      "outputs": [],
      "source": [
        "random.random() # Retorna un número de punto flotante aleatorio entre 0 y 1 (igual que la calculadora)"
      ]
    },
    {
      "cell_type": "code",
      "execution_count": null,
      "metadata": {
        "id": "DmygFamm2ubv"
      },
      "outputs": [],
      "source": [
        "random.randrange(0,4) # Retorna un entero aleatorio entre 0 y 3 (incluido)"
      ]
    },
    {
      "cell_type": "code",
      "execution_count": null,
      "metadata": {
        "id": "WIXJx1H12ubw"
      },
      "outputs": [],
      "source": [
        "Meses=['Jan','Feb','Mar','Apr','May','Jun','Jul','Aug','Sep','Oct','Nov','Dec']\n",
        "random.shuffle(Meses) #Mezcla los meses (la lista Meses ha sido cambiada)\n",
        "Meses"
      ]
    },
    {
      "cell_type": "code",
      "execution_count": null,
      "metadata": {
        "id": "C6adJbtV2ubw"
      },
      "outputs": [],
      "source": [
        "random.sample(Meses,k=12) # Retorna una muestra de 5 elementos de la población Meses\n",
        "#Comparar con las opciones: random.shuffle(L) and random.sample(L,len(L))"
      ]
    },
    {
      "cell_type": "code",
      "execution_count": null,
      "metadata": {
        "id": "0GV-iH682ubw"
      },
      "outputs": [],
      "source": [
        "#Ejercicio : Crear una matríz simetrica de tamaño 100 y calcular sus eigenvalues\n",
        "from numpy import matrix\n",
        "import random\n",
        "ListtoMatrix=[]\n",
        "for x in range(0,100):\n",
        "    Ligne=[]\n",
        "    for y in range(0,x):\n",
        "        Ligne.append(ListtoMatrix[y][x])\n",
        "    for y in range(x,100):\n",
        "        Ligne.append(random.randrange(-10,10))\n",
        "    ListtoMatrix.append(Ligne)\n",
        "eigval,eigvect=LA.eigh(matrix(ListtoMatrix))\n",
        "len(eigval)\n",
        "eigval\n"
      ]
    },
    {
      "cell_type": "code",
      "execution_count": null,
      "metadata": {
        "id": "SNOQsK972ubw"
      },
      "outputs": [],
      "source": [
        "#Ejercicio: Paradoja del Cumpleaños. Dentro de un grupo de 10 personas, asumiendo que\n",
        "#sus cumpleños siguen una distribución normal sobre los 365 dias de año. Calcular una aproximación\n",
        "#de la probabilidad que dos personas cumplan años el mismo día.\n",
        "#Mismo ejercicio, pero para 30 personas.\n",
        "\n",
        "N=10000 #Numero de iteraciones (tests)\n",
        "Npeople=10 #Número de personas.\n",
        "S=0     #+1 si no hay cumpleños que iguales, 0 en otro caso.\n",
        "for ntest in range(0,N):\n",
        "    Lbirthday=[]\n",
        "    for x in range(0,Npeople):\n",
        "        birthday=random.randrange(0,366)\n",
        "        if birthday in Lbirthday:     # Verificar si dos personas tienen el mismo cumpleaños\n",
        "            test=0             # Mantendremos S = 0.\n",
        "            break              # Salimos del ciclo.\n",
        "        else:\n",
        "            Lbirthday.append(birthday) #Añadir el cumpleaños a la lista de cumpleaños para ese día.\n",
        "\n",
        "    if len(Lbirthday)==Npeople:   # Si la lista de cumpleños Lbirthday es igual a Npeople, entonces todas\n",
        "                                  # las personas tienen diferentes cumpleaños.\n",
        "        test=1\n",
        "\n",
        "    S+=test                   # Añadimos los resultados del test a la variable S\n",
        "\n",
        "print(S/N) # Mostrar porcentaje.\n",
        "\n",
        "\n"
      ]
    },
    {
      "cell_type": "code",
      "execution_count": null,
      "metadata": {
        "id": "8wLlUTxN2ubx"
      },
      "outputs": [],
      "source": [
        "# Ejercicio : Supongamos que hacemos una \"tirada\" de  10 dados.\n",
        "    # Ganaremos $200 si la suma de los valores esta entre los 10 y 23.\n",
        "    # Perderemos $1600 si la suma de los valores es 24 o 48.\n",
        "    # Ganaremos $2500 si la suma de los valores es 42.\n",
        "    # Perderemos $500 en cualquier otro caso.\n",
        "  # Deberiamos jugar a este juego?\n",
        "\n",
        "\n",
        "N=10000 #Número de iteraciones o \"tests\"\n",
        "S=0     #Suma total del dinero ganado/perdido\n",
        "\n",
        "for ntest in range(0,N):\n",
        "\n",
        "    dicesvalue=0           #Inicialización\n",
        "\n",
        "    for ndice in range(0,10):      #\" tiramos los dados 10 veces\"\n",
        "        dicesvalue+=random.randrange(1,7)  # \"tirada\" de **un** dado\n",
        "\n",
        "    if dicesvalue<= 23:   # Aplicamos las reglas del juego\n",
        "        S+=200\n",
        "    elif dicesvalue==10 or dicesvalue==23:\n",
        "        S-=1600\n",
        "    elif dicesvalue==42:\n",
        "        S+=2500\n",
        "    else:\n",
        "        dicesvalue-=500\n",
        "\n",
        "print(S/N)  # El promedio S/N es una buen estimador de la \"espranza\" de las ganancias.\n",
        "\n"
      ]
    },
    {
      "cell_type": "markdown",
      "metadata": {
        "id": "8s3Hera62ubx"
      },
      "source": [
        "## Importar módulos escritos por el usuario\n",
        "\n",
        "Podemos importar nuestras propios módulos, para ello, veremos como método de encapsilación: **Clases**.\n"
      ]
    },
    {
      "cell_type": "markdown",
      "metadata": {
        "id": "bCDS1SAZ2ubx"
      },
      "source": [
        "## Preliminares : Functiones vs. Métodos"
      ]
    },
    {
      "cell_type": "markdown",
      "metadata": {
        "id": "eBsXC7h-2uby"
      },
      "source": [
        "Python nos provee de dos formas de ejecutar instrucciones y retornar valoes, dados una serie de parametros. Podemos llamar a una **función** o a un **método**.\n",
        "\n",
        "Ya hemos visto algunos ejemplos de funciones como $\\normalsize \\color{green}{\\textsf{print}}$, $\\normalsize \\color{green}{\\textsf{len}}$,$\\dots$.\n",
        "\n",
        "Un método es tipo específico de \"función\" y es llamdo (o invocado) de la siguiente forma:\n",
        "\n",
        "\n",
        "Si $\\texttt{obj}$ es un objeto del tipo **type** y **method** es un método asociado al tipo **type**, entonces llamaremos (o invocaremos) al método utilizando $\\texttt{obj.method}(\\cdot)$ en donde, $\\cdot$ puede contener parametros o no."
      ]
    },
    {
      "cell_type": "code",
      "execution_count": null,
      "metadata": {
        "id": "BxJ3FO3q2uby"
      },
      "outputs": [],
      "source": [
        "c='ertl'\n",
        "print(len(c)) # Función\n",
        "c.index('e')  # Método"
      ]
    },
    {
      "cell_type": "markdown",
      "metadata": {
        "id": "xy-2kNFT2uby"
      },
      "source": [
        "De manera practica no existen muchas diferencias entre métodos y funciones. Las funciones serán definidas como objetos inependientes, mientras que los métodos están definidas dentro de un tipo de objeto y no \"existiran\" fuera de este.\n"
      ]
    },
    {
      "cell_type": "code",
      "execution_count": null,
      "metadata": {
        "collapsed": true,
        "id": "ojnzrqYl2uby"
      },
      "outputs": [],
      "source": [
        "#len=2\n",
        "#len(c) # No tendra ningun sentido"
      ]
    },
    {
      "cell_type": "markdown",
      "metadata": {
        "id": "ilgvgK1b2ubz"
      },
      "source": [
        "Funciones y métodos pueden retornar un valor (como en el caso de **len**) o sólamente realizar una acción (como en el caso de **print**). También pueden modificar otros objetos."
      ]
    },
    {
      "cell_type": "code",
      "execution_count": null,
      "metadata": {
        "id": "CoTwbJFY2ubz"
      },
      "outputs": [],
      "source": [
        "type(print(c)) # print (ejecutado) no tiene valor o tipo."
      ]
    },
    {
      "cell_type": "markdown",
      "metadata": {
        "id": "6VBoSSAz2ubz"
      },
      "source": [
        "# Clases en Python\n",
        "\n",
        "En Python, una $\\textit{Clase}$ nos permite definir nuestros propies tipos de objetos. Debemos pensar en una Clase, cómo un \"template\" de nuestros objetos, donde definiremos sus **atributos** (variables internas) y/o **métodos** (\"comportamientos\", o funciones internas).\n",
        "\n",
        "Ambas pueden ser invoacadas regularmente de la siguiente forma: $\\texttt{obj.name}$.\n"
      ]
    },
    {
      "cell_type": "markdown",
      "metadata": {
        "id": "kgZzphZL2ubz"
      },
      "source": [
        "## Definición"
      ]
    },
    {
      "cell_type": "code",
      "execution_count": null,
      "metadata": {
        "id": "pzdJSUDu2ub0"
      },
      "outputs": [],
      "source": [
        "class MyfirstClass(): pass\n",
        "    # Atributos\n",
        "    # Métodos\n",
        "\n",
        "x=MyfirstClass() # Define un objecto del Tipo 'MyfirstClass'\n",
        "type(x)"
      ]
    },
    {
      "cell_type": "code",
      "execution_count": null,
      "metadata": {
        "id": "aaWHTXzn2ub0"
      },
      "outputs": [],
      "source": [
        "xy=MyfirstClass()\n",
        "xy.name='Pierre' # Luego de realizada esta asignación \"xy.name\" es el \"name\" del objeto 'xy'\n",
        "print(xy.name)          # Notar que el atributo 'name' no estaba definido anteriormente en MyfirstClass.\n",
        "z=xy\n",
        "z.name='Paul' # los atributos son objetos mutables.\n",
        "print(xy.name)"
      ]
    },
    {
      "cell_type": "markdown",
      "metadata": {
        "id": "00-UBYaq2ub0"
      },
      "source": [
        "De manera similar a las funciones, podremos definir valores por defecto, para la instanciación de un nuevo objeto:\n"
      ]
    },
    {
      "cell_type": "code",
      "execution_count": null,
      "metadata": {
        "id": "3234z0l22ub0"
      },
      "outputs": [],
      "source": [
        "class Ratio():\n",
        "    \"Número Racional\"\n",
        "    def __init__(self,numerator,denominator): # Siempre usar \"self\" para referirse a los atributos\n",
        "                                              # del objeto (variables internas)\n",
        "        self.num=numerator\n",
        "        self.den=denominator"
      ]
    },
    {
      "cell_type": "code",
      "execution_count": null,
      "metadata": {
        "scrolled": true,
        "id": "PR2g6Jsx2ub1"
      },
      "outputs": [],
      "source": [
        "q=Ratio(0,1) # Crea una variable \"q\" de tipo \"Ratio\" , donde el numerador es 0 y el denominador es 1\n",
        "print(q.num)\n",
        "print(q.den)"
      ]
    },
    {
      "cell_type": "markdown",
      "metadata": {
        "id": "JaedEmMN2ub1"
      },
      "source": [
        "## Métodos asociados al objeto\n",
        "\n",
        "Dentro de la Clase definimos los métodos (funciones internas a los objetos) que los objetos requieren para realizar computaciones, acciones, etc.\n"
      ]
    },
    {
      "cell_type": "code",
      "execution_count": null,
      "metadata": {
        "id": "0g-KzsZf2ub1"
      },
      "outputs": [],
      "source": [
        "class Ratio():\n",
        "    \"rational number\"\n",
        "    def __init__(self,numerator,denominator):\n",
        "        self.num=numerator\n",
        "        self.den=denominator\n",
        "    def val(self):\n",
        "        return self.num/self.den"
      ]
    },
    {
      "cell_type": "code",
      "execution_count": null,
      "metadata": {
        "id": "yxVLEXgB2ub1"
      },
      "outputs": [],
      "source": [
        "val(Ratio(0,1)) # Esto no funciona, recordar que 'val' es un método y no una función."
      ]
    },
    {
      "cell_type": "code",
      "execution_count": null,
      "metadata": {
        "id": "FTrDWSPu2ub2"
      },
      "outputs": [],
      "source": [
        "q=Ratio(0,1)\n",
        "print(q.val())\n",
        "print(Ratio.val(q))"
      ]
    },
    {
      "cell_type": "markdown",
      "metadata": {
        "id": "TUXcy5tp2ub2"
      },
      "source": [
        "## Sobrecarga de operadores/comandos (Overloading)\n",
        "\n",
        "La \"sobrecarga\" de una función, operador, método, ya definido nos permite cambiar su significado. Por ejemplo, nos gustaria re-definir el operador \"suma\" $\\textit{\"+\"}$, para nuestra nueva clase de objetos.    \n"
      ]
    },
    {
      "cell_type": "code",
      "execution_count": null,
      "metadata": {
        "id": "6tB1mHMG2ub2"
      },
      "outputs": [],
      "source": [
        "class Ratio():\n",
        "    \"rational number\"\n",
        "    def __init__(self,numerator=0,denominator=1):\n",
        "        self.num=numerator\n",
        "        self.den=denominator\n",
        "\n",
        "    # Methods\n",
        "    def val(self):\n",
        "        return self.num/self.den\n",
        "\n",
        "    #Overloading operators\n",
        "    def __add__(self,other):    # Sobrecarga del operador '+'.\n",
        "        return Ratio(self.num*other.den+self.den*other.num,self.den*other.den)\n",
        "    def suma(self,other):    # Sobrecarga del operador '+'.\n",
        "        return Ratio(self.num*other.den+self.den*other.num,self.den*other.den)\n",
        "    def __str__(self):          # Sobrecarga necesaria para la función 'print'.\n",
        "        return str(self.num)+'/'+str(self.den)  #Cómo devolvemos una cadena de caracteres, para que\n",
        "                                                #la función print muestre algo para nuestro objeto.\n",
        "    def __mul__(self,other):    # Sobrecarga del operador '*'.\n",
        "        return Ratio(self.num*other.num,self.den*other.den)\n",
        "    def __int__(self): #Sobrecarga de la función 'int'.\n",
        "        return int(self.val())\n",
        "\n",
        "  #print(obj)----> print(str(obj))"
      ]
    },
    {
      "cell_type": "code",
      "execution_count": null,
      "metadata": {
        "id": "FtSn-hfs2ub3"
      },
      "outputs": [],
      "source": [
        "q1=Ratio(2,3)\n",
        "q2=Ratio(1,3)\n",
        "q=q1 + q2 # q3= q1.suma(q2) # q3 = Ratio.suma(q1,q2)\n",
        "print(q.num,q.den) # No es muy bonito, podemos arreglarlo?\n",
        "print(q)\n"
      ]
    }
  ],
  "metadata": {
    "kernelspec": {
      "display_name": "Python 3",
      "language": "python",
      "name": "python3"
    },
    "language_info": {
      "codemirror_mode": {
        "name": "ipython",
        "version": 3
      },
      "file_extension": ".py",
      "mimetype": "text/x-python",
      "name": "python",
      "nbconvert_exporter": "python",
      "pygments_lexer": "ipython3",
      "version": "3.8.3"
    },
    "colab": {
      "provenance": [],
      "include_colab_link": true
    }
  },
  "nbformat": 4,
  "nbformat_minor": 0
}