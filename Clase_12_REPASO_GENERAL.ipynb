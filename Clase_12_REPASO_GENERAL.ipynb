{
  "cells": [
    {
      "cell_type": "markdown",
      "metadata": {
        "id": "view-in-github",
        "colab_type": "text"
      },
      "source": [
        "<a href=\"https://colab.research.google.com/github/Jennifer-Arriola/Algoritmos/blob/main/Clase_12_REPASO_GENERAL.ipynb\" target=\"_parent\"><img src=\"https://colab.research.google.com/assets/colab-badge.svg\" alt=\"Open In Colab\"/></a>"
      ]
    },
    {
      "cell_type": "markdown",
      "metadata": {
        "id": "x0xiYoHg8MvY"
      },
      "source": [
        "# Algoritmos y Estructuras de Datos.\n",
        "\n",
        "## - Clase 12 - REPASO GENERAL -"
      ]
    },
    {
      "cell_type": "markdown",
      "metadata": {
        "id": "PW9grp8Z8Mvc"
      },
      "source": [
        "## Lista de Contenidos:"
      ]
    },
    {
      "cell_type": "markdown",
      "metadata": {
        "id": "E2zTAUZp8Mvc"
      },
      "source": [
        "### Clase 8 - Módulos, Clases y Objetos -\n",
        "\n",
        "- Encapsulamiento y Módulos: comando <code>import</code>,  distintas formas de importarlos.  \n",
        "- Módulos Útiles: <code>math</code>, <code>numpy</code>, <code>random</code>, etc.\n",
        "- Clases y Objetos en Python: variables de instancia, métodos y sobrecarga de métodos.\n",
        "\n",
        "- Resumen:\n",
        "\t- Módulos: importar, usar y crear\n",
        "\t- Clases y Objetos: diferencia entre Clase y Objeto, instansiación, métodos.\n",
        "\t- Sobrecarga de Operadores: operadores, funciones, métodos."
      ]
    },
    {
      "cell_type": "markdown",
      "metadata": {
        "id": "tkRKYi_g8Mvd"
      },
      "source": [
        "### Clase 9 - Estructuras de Datos Lineales -  \n",
        "\n",
        "- Tipos Abstractos de Datos (TAD's):\n",
        "    - Encapsulamiento y Módulos\n",
        "    - Estructuras de datos lineales:\n",
        "        - Pilas\n",
        "        - Colas\n",
        "        - Listas Enlazadas\n",
        "        - Otras (vistaos en la práctica)\n",
        "\n",
        "- Resumen:\n",
        "\t- Pilas, Colas, Listas Enlazadas, y otras\n",
        "        - Estructura, definición\n",
        "        - Métodos\n",
        "\t- Sobrecarga de Operadores y métodos"
      ]
    },
    {
      "cell_type": "markdown",
      "metadata": {
        "id": "yNpS79GJ8Mve"
      },
      "source": [
        "### Clase 10 - Algoritmos de Búsqueda y Ordenación -\n",
        "\n",
        "#### Algoritmos de Búsqueda\n",
        "\n",
        "- Búsqueda Lineal\n",
        "- Buscar sobre una Lista Ordenada\n",
        "    - Búsqueda Binaria\n",
        "    \n",
        "#### Algoritmos de Ordenamiento\n",
        "\n",
        "- Ordenamiento por selección\n",
        "- Ordenamiento por inserción\n",
        "- Algoritmos de Ordenamientos Recursivos\n",
        "    - Ordenamiento por Mezcla *'Mergesort'*\n",
        "    \n",
        "    - Ordenamiento Rápido *'Quicksort'*\n",
        "\n",
        "\n",
        "- Los métodos de ordenación vistos en la práctica\n",
        "  "
      ]
    },
    {
      "cell_type": "markdown",
      "metadata": {
        "id": "tieg4wel8Mve"
      },
      "source": [
        "### Clase 11 - Archivos -\n",
        "\n",
        "- El módulo <code>pathlib/path</code>.\n",
        "- Métodos: <code>cwd, home, mkdir, rmdir, glob, parts</code>.\n",
        "- El módulo <code>os</code> y <code>shutil</code>.\n",
        "- Manejo de Archivos\n",
        "    - Apertura y Cierre\n",
        "    - Lectura / Escritura\n",
        "    \n",
        "- Archivos Binarios"
      ]
    },
    {
      "cell_type": "markdown",
      "metadata": {
        "id": "oefMAzlG8Mvf"
      },
      "source": [
        "## Ejercicios Practicos - Martes 12/07"
      ]
    },
    {
      "cell_type": "markdown",
      "metadata": {
        "id": "TulNCYOh8Mvg"
      },
      "source": [
        "### Ejercicio:\n",
        "\n",
        "Definir una clase rectangulo cómo una tupla de 4 puntos. La clase debe contener los siguientes métodos:\n",
        "\n",
        "- Calcular el perimetro del rectangulo.\n",
        "- Calcular el area del rectangulo.\n",
        "- Chequear si el rectangulo es un cuadrado.\n",
        "\n",
        "Deben recordar validar que los 4 puntos conformen un rectangulo.\n"
      ]
    },
    {
      "cell_type": "markdown",
      "metadata": {
        "id": "n86Kz1yd8Mvg"
      },
      "source": [
        "Solución:"
      ]
    },
    {
      "cell_type": "code",
      "execution_count": null,
      "metadata": {
        "id": "M65IPpQF8Mvh"
      },
      "outputs": [],
      "source": [
        "# Solución representando al rectangulo como sus 4 esquinas.\n",
        "\n",
        "class Rectangulo():\n",
        "\n",
        "    def __init__(self, puntos):\n",
        "        # A = (x1,y1) B = (x2,y2) C = (x3,y3) D = (x4,y4)\n",
        "        self.supizq = puntos[0] # A\n",
        "        self.supder = puntos[1] # B\n",
        "        self.infizq = puntos[2] # C\n",
        "        self.infder = puntos[3] # D\n",
        "        # Condición para ser rectangulo:  x1 = x2; x3 = x4; y1 = y3; y2 = y4.\n",
        "        if self.supizq[0] != self.supder[0] or self.supizq[1] != self.infizq[1]\n",
        "           or self.infizq[0] != self.infder[0] or self.supder[1] != self.infder[1]:\n",
        "\n",
        "            raise ValueError('No es un Rectangulo')\n",
        "\n",
        "# Calcular el perimetro del rectangulo. Suma de todos los lados\n",
        "# Distancia entre puntos: B - A = ((x2-x1) + (y2-y1))\n",
        "    def perimetro(self):\n",
        "        base = (self.supder[0] - self.supizq[0]) + (self.supder[1] - self.supizq[1])\n",
        "        altura = (self.infizq[0] - self.supizq[0]) + (self.infizq[1] - self.supizq[1])\n",
        "        return 2 * base + 2 * altura\n",
        "\n",
        "# Calcular el area del rectangulo.  base x altura\n",
        "    def area(self):\n",
        "        base = (self.supder[0] - self.supizq[0]) + (self.supder[1] - self.supizq[1])\n",
        "        altura = (self.infizq[0] - self.supizq[0]) + (self.infizq[1] - self.supizq[1])\n",
        "        return base * altura\n",
        "\n",
        "# Chequear si el rectangulo es un cuadrado.\n",
        "    def es_Cuadrado(self): pass\n",
        "        base = (self.supder[0] - self.supizq[0]) + (self.supder[1] - self.supizq[1])\n",
        "        altura = (self.infizq[0] - self.supizq[0]) + (self.infizq[1] - self.supizq[1])\n",
        "        return base == altura\n"
      ]
    },
    {
      "cell_type": "code",
      "execution_count": null,
      "metadata": {
        "id": "cc3hEP4c8Mvj"
      },
      "outputs": [],
      "source": [
        "\n",
        "r = Rectangulo(((0,0) ,(0,2) ,(2,0) ,(2,2) ))\n",
        "print(r.perimetro())\n",
        "print(r.area())\n",
        "print(r.es_Cuadrado())\n"
      ]
    },
    {
      "cell_type": "code",
      "execution_count": null,
      "metadata": {
        "id": "jNUWj07y8Mvj"
      },
      "outputs": [],
      "source": [
        "# Solución representando al rectangulo como su base y altura.\n",
        "\n",
        "class Rectangulo():\n",
        "\n",
        "    def __init__(self, puntos):\n",
        "        p,q,r,s = puntos\n",
        "        if p[0] != q[0] or p[1] != r[1] or r[0] != s[0] or q[1] != s[1]:\n",
        "            raise ValueError('No es un Rectangulo')\n",
        "        self.base = (q[0] - p[0]) + (q[1] - p[1])\n",
        "        self.altura = (r[0] - p[0]) + (r[1] - p[1])\n",
        "\n",
        "# Calcular el perimetro del rectangulo. Suma de todos los lados\n",
        "    def perimetro(self):\n",
        "        return 2 * self.base + 2 * self.altura\n",
        "\n",
        "# Calcular el area del rectangulo.  base x altura\n",
        "    def area(self):\n",
        "        return self.base * self.altura\n",
        "\n",
        "# Chequear si el rectangulo es un cuadrado.\n",
        "    def es_Cuadrado(self):\n",
        "        return self.base == self.altura\n"
      ]
    },
    {
      "cell_type": "code",
      "execution_count": null,
      "metadata": {
        "id": "GwxHZIsT8Mvk"
      },
      "outputs": [],
      "source": [
        "r = Rectangulo(((0,0) ,(0,2) ,(2,0) ,(2,2) ))\n",
        "print(r.perimetro())\n",
        "print(r.area())\n",
        "print(r.es_Cuadrado())"
      ]
    },
    {
      "cell_type": "code",
      "execution_count": null,
      "metadata": {
        "id": "vC3nJYfW8Mvk"
      },
      "outputs": [],
      "source": [
        "# Solución representando al rectangulo con Puntos.\n",
        "# Juan Repetto\n",
        "\n",
        "class Punto:\n",
        "    \"\"\"Clase auxiliar.\"\"\"\n",
        "\n",
        "    def __init__(self, x, y):\n",
        "        self.x = x\n",
        "        self.y = y\n",
        "\n",
        "    def __sub__(self, other):\n",
        "        return Punto(self.x - other.x, self.y - other.y)\n",
        "\n",
        "    def __mul__(self, other):\n",
        "        return self.x*other.x + self.y*other.y\n",
        "\n",
        "    def __abs__(self):\n",
        "        return (self*self)**0.5\n",
        "\n",
        "\n",
        "class Rectangulo:\n",
        "    \"\"\"Rectángulo representado a partir de cuatro puntos en el plano.\n",
        "        Los puntos generan el contorno del rectángulo en sentido contrario al de\n",
        "        las agujas del reloj.\n",
        "\n",
        "        Ejemplo de uso:\n",
        "\n",
        "            rect = Rectangulo( (Punto(1, 0), Punto(2, 0), Punto(2, 3), Punto(1, 3)) )\n",
        "            print(rect.perimetro())\n",
        "            print(rect.area())\n",
        "            print(rect.es_cuadrado())\n",
        "    \"\"\"\n",
        "\n",
        "    def __init__(self, puntos):\n",
        "        p, q, r, s = puntos\n",
        "        if (q-p) * (s-p) != 0 or (r-q) * (s-r) != 0:\n",
        "            raise ValueError('Los puntos dados no son los de un rectángulo.')\n",
        "        self.a, self.b = abs(q - p), abs(s - p)  # lados\n",
        "\n",
        "    def perimetro(self):\n",
        "        return 2 * (self.a+self.b)\n",
        "\n",
        "    def area(self):\n",
        "        return self.a * self.b\n",
        "\n",
        "    def es_cuadrado(self):\n",
        "        return self.a == self.b\n"
      ]
    },
    {
      "cell_type": "markdown",
      "metadata": {
        "id": "e7RjVp7Q8Mvk"
      },
      "source": [
        "### Ejercicio:\n",
        "\n",
        "Escribir un algoritmo de busqueda binaria que reciba como entrada una estructura de datos cualquiera (cualquier tipo de colección de objetos, i.e array, lista, listas enlazadas, etc.)  y retorne el valor buscado, en caso contrario debe lanzar una excepción.\n"
      ]
    },
    {
      "cell_type": "code",
      "execution_count": null,
      "metadata": {
        "id": "4MWRUxoX8Mvl"
      },
      "outputs": [],
      "source": [
        "def busqueda_binaria(contenedor, x):\n",
        "\n",
        "    izq = 0\n",
        "    der = len(contenedor) - 1\n",
        "\n",
        "    while izq <= der:\n",
        "        medio = int((izq+der)/2)\n",
        "\n",
        "        #print(\"DEBUG:\", \"izq:\", izq, \"der:\", der, \"medio:\", medio)\n",
        "        if type(contenedor) in ['tuple', 'list', 'string', 'set', 'array'] :\n",
        "            valor_medio = contenedor[medio]\n",
        "        else:\n",
        "            # Si la estructura de datos no puede ser accedida mediante\n",
        "            # indexación directa, asumiremos que responde al método 'pop'.\n",
        "            valor_medio = contenedor.pop(medio)\n",
        "\n",
        "        if valor_medio == x:\n",
        "             return medio\n",
        "\n",
        "        elif valor_medio > x:\n",
        "            der = medio - 1\n",
        "\n",
        "        else:\n",
        "            izq = medio + 1\n",
        "\n",
        "     # salió del ciclo de manera no exitosa: el valor no fue encontrado\n",
        "    raise ValueError(\"Elemento no encontrado\")\n",
        "    #return -1\n"
      ]
    },
    {
      "cell_type": "code",
      "execution_count": null,
      "metadata": {
        "id": "2dK3Xx4k8Mvl"
      },
      "outputs": [],
      "source": [
        "lista = (1, 3, 5, 7, 9, 11, 13, 15, 17, 19, 21, 23)\n",
        "x = 18\n",
        "lista.index(9)\n",
        "\n",
        "resultado = busqueda_binaria(lista, x)\n",
        "print(\"Resultado: \", resultado)\n"
      ]
    },
    {
      "cell_type": "markdown",
      "metadata": {
        "id": "4g4HTEiw8Mvl"
      },
      "source": [
        "### Ejercicio:\n",
        "\n",
        "Escribir un algoritmo BubbleSort que reciba como entrada una estructura de datos tipo Pila y retorne una nueva Pila ordenada. Utilizar si es posible las operaciones propias de la clase Pila."
      ]
    },
    {
      "cell_type": "code",
      "execution_count": null,
      "metadata": {
        "id": "VB_FG13q8Mvl"
      },
      "outputs": [],
      "source": [
        "class Pila:\n",
        "\n",
        "    def __init__(self):\n",
        "        self.items=[]\n",
        "\n",
        "    def push(self, x):\n",
        "        self.items.append(x)\n",
        "\n",
        "    def pop(self):\n",
        "        try:\n",
        "            return self.items.pop()\n",
        "        except IndexError:\n",
        "            raise ValueError(\"La pila está vacía\")\n",
        "\n",
        "    def is_empty(self):\n",
        "        return self.items == []\n",
        "\n",
        "\n",
        "def bubble_Pila(pila):\n",
        "    lista = []\n",
        "    while not pila.is_empty():\n",
        "        lista.append(pila.pop())\n",
        "\n",
        "    for i in range(len(lista) - 1):\n",
        "        pila.push(lista[i])\n",
        "\n",
        "    for i in range(len(lista)-1):\n",
        "        for j in range( len(lista) - 1 - i):\n",
        "            if lista[j] > lista[j + 1]:\n",
        "                lista[j], lista[j+1] = lista[j+1], lista[j]\n",
        "\n",
        "    pila_ordenada = Pila()\n",
        "    for i in range(len(lista)):\n",
        "        pila_ordenada.push(lista[i])\n",
        "\n",
        "    return pila_ordenada\n",
        "\n"
      ]
    },
    {
      "cell_type": "code",
      "execution_count": null,
      "metadata": {
        "id": "E852wkkH8Mvm"
      },
      "outputs": [],
      "source": [
        "p = Pila()\n",
        "p.push(1)\n",
        "p.push(5)\n",
        "p.push(23)\n",
        "p.push(4)\n",
        "p.push(2)\n",
        "print(p.is_empty())\n",
        "po = bubble_Pila(p)\n",
        "print(po.is_empty())\n",
        "while not po.is_empty():\n",
        "    print(po.pop())"
      ]
    },
    {
      "cell_type": "markdown",
      "metadata": {
        "id": "Fw3ONk6B8Mvm"
      },
      "source": [
        "### Ejercicio:\n",
        "\n",
        "Implementar el Algoritmo de Búsqueda Exponencial\n",
        "\n",
        "La búsqueda exponencial depende de la búsqueda binaria para realizar la comparación final de valores. El algoritmo funciona de la siguiente forma:\n",
        "\n",
        "- Determinar el rango donde es probable que se encuentre el elemento que estamos buscando:\n",
        "\n",
        "Suponiendo que la lista está ordenada de forma ascendente, buscar el primer exponente $j$, donde el valor $2^{j}$ es más grande elemento que estamos buscando.\n",
        "\n",
        "Este valor, $2^{j}$ se convierte en el límite superior (derecho) y la potencia anterior $2^{j-1}$ como límite inferior (izquierdo) para la búsqueda binaria.​\n",
        "\n",
        "- Usando la búsqueda binaria para el rango para encontrar el índice exacto del artículo\n",
        "\n",
        "\n",
        "\n"
      ]
    },
    {
      "cell_type": "code",
      "execution_count": null,
      "metadata": {
        "id": "rL0LTRhG8Mvo"
      },
      "outputs": [],
      "source": [
        "# Solución monolítica\n",
        "\n",
        "def busqueda_exponencial(lista, x):\n",
        "\n",
        "    for i in range(len(lista)-1):\n",
        "        if 2**i > x:\n",
        "            der = i\n",
        "            izq = i - 1\n",
        "\n",
        "    while izq <= der:\n",
        "        medio = int((izq+der)/2)\n",
        "        #print(\"DEBUG:\", \"izq:\", izq, \"der:\", der, \"medio:\", medio)\n",
        "\n",
        "        if lista[medio] == x:\n",
        "             return medio\n",
        "\n",
        "        elif lista[medio] > x: # no funciona para listas enlazadas\n",
        "            der = medio - 1\n",
        "\n",
        "        else:\n",
        "            izq = medio + 1\n",
        "\n",
        "    #raise ValueError(\"Elemento no encontrado\")\n",
        "    return -1\n"
      ]
    },
    {
      "cell_type": "code",
      "execution_count": null,
      "metadata": {
        "id": "CnutNT-W8Mvp"
      },
      "outputs": [],
      "source": [
        "# Solución utilizando Busqueda Binaria separada\n",
        "\n",
        "def busquedaBinaria(lista, elem, izq, der):\n",
        "    if izq > der:\n",
        "        return -1\n",
        "    medio = (izq + der) // 2\n",
        "    if lista[medio] == elem:\n",
        "        return lista[medio]\n",
        "    if elem < lista[medio]:\n",
        "        return busquedaBinaria(lista, elem, izq, medio - 1)\n",
        "    else:\n",
        "        return busquedaBinaria(lista, elem, medio + 1, der)\n",
        "\n",
        "def busquedaExponencial(lista, elem):\n",
        "    if lista[0] == elem:\n",
        "        return 0\n",
        "    j = 1\n",
        "    while j < len(lista) and lista[j] <= elem:\n",
        "        j *= 2\n",
        "    return busquedaBinaia(lista, elem,  j/2, min(j,len(lista)))"
      ]
    }
  ],
  "metadata": {
    "kernelspec": {
      "display_name": "Python 3.8.5 64-bit",
      "language": "python",
      "name": "python3"
    },
    "language_info": {
      "codemirror_mode": {
        "name": "ipython",
        "version": 3
      },
      "file_extension": ".py",
      "mimetype": "text/x-python",
      "name": "python",
      "nbconvert_exporter": "python",
      "pygments_lexer": "ipython3",
      "version": "3.8.5"
    },
    "vscode": {
      "interpreter": {
        "hash": "aee8b7b246df8f9039afb4144a1f6fd8d2ca17a180786b69acc140d282b71a49"
      }
    },
    "colab": {
      "provenance": [],
      "include_colab_link": true
    }
  },
  "nbformat": 4,
  "nbformat_minor": 0
}