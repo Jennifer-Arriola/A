{
  "cells": [
    {
      "cell_type": "markdown",
      "metadata": {
        "id": "view-in-github",
        "colab_type": "text"
      },
      "source": [
        "<a href=\"https://colab.research.google.com/github/Jennifer-Arriola/Algoritmos/blob/main/Parciales/1erParcial_EJEMPLO_resuelto.ipynb\" target=\"_parent\"><img src=\"https://colab.research.google.com/assets/colab-badge.svg\" alt=\"Open In Colab\"/></a>"
      ]
    },
    {
      "cell_type": "markdown",
      "metadata": {
        "pycharm": {
          "metadata": false,
          "name": "#%% md\n"
        },
        "id": "wh9WrbcEKZqz"
      },
      "source": [
        "# 1er Parcial - Resuelto"
      ]
    },
    {
      "cell_type": "markdown",
      "metadata": {
        "id": "Y3IWnAKsKZq5"
      },
      "source": [
        "### Ejercicio 1.\n",
        "\n",
        "Definir una lista por comprensión, que contenga el conjunto de factoriales desde $1$ hasta $N$ (para un $N$ fijo). Es decir, <code>[ 1, 2, 6, ..., N! ]</code>."
      ]
    },
    {
      "cell_type": "code",
      "execution_count": null,
      "metadata": {
        "id": "_lXFG0bKKZq7"
      },
      "outputs": [],
      "source": [
        "import math\n",
        "\n",
        "L = [ math.factorial(x) for x in range(1, N + 1)]\n"
      ]
    },
    {
      "cell_type": "code",
      "execution_count": null,
      "metadata": {
        "id": "Y47K0xKNKZq9"
      },
      "outputs": [],
      "source": [
        "#def factorial(n):\n",
        "#    return 1 if (n==1 or n==0) else n * factorial(n - 1)\n",
        "\n",
        "L = [ factorial(x) for x in range(1, N + 1)]"
      ]
    },
    {
      "cell_type": "markdown",
      "metadata": {
        "pycharm": {
          "metadata": false,
          "name": "#%% md\n"
        },
        "id": "EA9uR0KLKZq-"
      },
      "source": [
        "### Ejercicio 2.\n",
        "\n",
        "Dadas las siguientes funciones y considerando que dichas funciones se ejecutan en orden (primero <code>ExVar1</code>, luego <code>ExVar2</code>, etc.)"
      ]
    },
    {
      "cell_type": "code",
      "execution_count": null,
      "metadata": {
        "id": "UMtuihOuKZrA"
      },
      "outputs": [],
      "source": [
        "# Alcanze de variables\n",
        "\n",
        "x = 2\n",
        "\n",
        "def ExVar1():\n",
        "    print(x)\n",
        "\n",
        "def ExVar2():\n",
        "    x = 5\n",
        "    def ExVar21():\n",
        "        global x\n",
        "        print(x)\n",
        "    ExVar21()\n",
        "    print(x)\n",
        "\n",
        "def ExVar3():\n",
        "    x = 5\n",
        "    def ExVar31():\n",
        "        nonlocal x\n",
        "        print(x)\n",
        "    ExVar31()\n",
        "    print(x)\n",
        "\n",
        "def ExVar4():\n",
        "    global x\n",
        "    def ExVar41():\n",
        "        x = 5\n",
        "        print(x)\n",
        "    ExVar41()\n",
        "    print(x)"
      ]
    },
    {
      "cell_type": "code",
      "execution_count": null,
      "metadata": {
        "id": "rZtCo7i-KZrB",
        "outputId": "44acb4b9-6ba6-4b5f-ce10-a499132bd1d4"
      },
      "outputs": [
        {
          "name": "stdout",
          "output_type": "stream",
          "text": [
            "2\n"
          ]
        }
      ],
      "source": [
        "ExVar1()"
      ]
    },
    {
      "cell_type": "code",
      "execution_count": null,
      "metadata": {
        "id": "myevOUV5KZrE",
        "outputId": "9b37d7f0-45aa-4b70-f494-43d11be87be1"
      },
      "outputs": [
        {
          "name": "stdout",
          "output_type": "stream",
          "text": [
            "2\n",
            "5\n"
          ]
        }
      ],
      "source": [
        "ExVar2()"
      ]
    },
    {
      "cell_type": "code",
      "execution_count": null,
      "metadata": {
        "id": "QjdiN3c3KZrF",
        "outputId": "b7d3fe2d-bde6-4955-a01b-06b817df70a0"
      },
      "outputs": [
        {
          "name": "stdout",
          "output_type": "stream",
          "text": [
            "5\n",
            "5\n"
          ]
        }
      ],
      "source": [
        "ExVar3()"
      ]
    },
    {
      "cell_type": "code",
      "execution_count": null,
      "metadata": {
        "id": "WtEaJPGaKZrF",
        "outputId": "b627d46f-9485-4494-8083-9a7445099977"
      },
      "outputs": [
        {
          "name": "stdout",
          "output_type": "stream",
          "text": [
            "5\n",
            "2\n"
          ]
        }
      ],
      "source": [
        "ExVar4()"
      ]
    },
    {
      "cell_type": "markdown",
      "metadata": {
        "id": "1ZAln1oLKZrG"
      },
      "source": [
        "### Ejercicio 3.\n",
        "\n",
        "Escribir una función que permita ordenar una lista. Dicha función recibe dos argumentos <code>(lista, copy)</code>, en donde, <code>lista</code> es la lista a ordenar, y <code>copy</code> es Verdadero (<code>True</code>) la función retornara una lista nueva, en otro caso ordenara sobre la lista que se pasa como argumento. Por defecto, si la función es llamada sin valor para <code>copy</code> (solo la lista) ordenaremos sobre la lista que se pasa como argumento."
      ]
    },
    {
      "cell_type": "code",
      "execution_count": null,
      "metadata": {
        "id": "X6le1woTKZrH"
      },
      "outputs": [],
      "source": [
        "def ordenar_lista(lista, copy = False):\n",
        "   if copy :\n",
        "       return lista.copy().sort()\n",
        "   else:\n",
        "       return lista.sort()"
      ]
    },
    {
      "cell_type": "code",
      "execution_count": null,
      "metadata": {
        "id": "1Gb0QKYsKZrH"
      },
      "outputs": [],
      "source": [
        "def ordenar_lista(lista, copy = False):\n",
        "   if copy :\n",
        "       return lista.sort()\n",
        "   else:\n",
        "       return lista.sorted()"
      ]
    },
    {
      "cell_type": "markdown",
      "metadata": {
        "id": "NR5yq3pTKZrI"
      },
      "source": [
        "### Ejercicio 4.\n",
        "\n",
        "Escribir una función iterativa que calcule la potenciación de un numero. Recibe como parámetros dos números (naturales) <code>a</code> y <code>b</code> devuelve el valor de <code>a**b</code>."
      ]
    },
    {
      "cell_type": "code",
      "execution_count": null,
      "metadata": {
        "id": "PjWhfJlkKZrI"
      },
      "outputs": [],
      "source": [
        "def potencia_iterativa(a,b):\n",
        "    result = 1\n",
        "    for x in range(b):\n",
        "        result *= a\n",
        "    return result"
      ]
    },
    {
      "cell_type": "markdown",
      "metadata": {
        "id": "hYozncdNKZrI"
      },
      "source": [
        "### Ejercicio 5.\n",
        "\n",
        "Escribir una función recursiva que calcule la potenciación de un numero. Recibe como parámetros dos números (naturales) <code>a</code> y <code>b</code> devuelve el valor de <code>a**b</code>.\n"
      ]
    },
    {
      "cell_type": "code",
      "execution_count": null,
      "metadata": {
        "id": "K7PKmk6mKZrJ"
      },
      "outputs": [],
      "source": [
        "def potencia_recursiva(a, b):\n",
        "    # caso base\n",
        "    if b <= 0:\n",
        "        return 1\n",
        "    else:\n",
        "    # llamada recursiva\n",
        "        return a * potencia_recursiva(a, b - 1)"
      ]
    },
    {
      "cell_type": "code",
      "execution_count": null,
      "metadata": {
        "id": "I3-IRRyDKZrJ"
      },
      "outputs": [],
      "source": [
        "def potencia_rec(a,b):\n",
        "    # Casos Base\n",
        "    if b == 0:\n",
        "        return 1\n",
        "    elif b == 1:\n",
        "        return a\n",
        "    # Llamada Recursiva -->> b-1\n",
        "    else:\n",
        "        return a * potencia_rec(a,b-1)"
      ]
    },
    {
      "cell_type": "markdown",
      "metadata": {
        "id": "NgqeTnhhKZrJ"
      },
      "source": [
        "### Ejercicio 6.\n",
        "\n",
        "Definir la clase <code>Persona</code>, la cuál tiene como atributos:  \n",
        "\n",
        "- Nombre\n",
        "- Apellido\n",
        "- DNI\\DNU\n",
        "- Fecha de Nacimiento\n",
        "\n",
        "y los siguientes métodos:\n",
        "\n",
        "- Calcular la edad de la Persona.\n",
        "\n",
        "\n",
        "Importante:\n",
        "- Pueden agregar más atributos y métodos, si lo consideran necesario."
      ]
    },
    {
      "cell_type": "code",
      "execution_count": null,
      "metadata": {
        "id": "tu9LNyVHKZrJ"
      },
      "outputs": [],
      "source": [
        "import datetime\n",
        "\n",
        "class Persona:\n",
        "\n",
        "    def __init__(self, nombre, apellido, ID, fechaNac):\n",
        "        self.nombre = nombre\n",
        "        self.apellido = apellido\n",
        "        self.ID = ID\n",
        "        self.fechaNac = fechaNac\n",
        "\n",
        "    def edad(self):\n",
        "        hoy = datetime.date.today()\n",
        "        edad = hoy.year - self.fechaNac.year\n",
        "        if hoy < datetime.date(hoy.year, self.fechaNac.month, self.fechaNac.day):\n",
        "            edad -= 1\n",
        "        return edad"
      ]
    },
    {
      "cell_type": "markdown",
      "metadata": {
        "id": "AkYwJqqnKZrK"
      },
      "source": [
        "### Ejercicio 7.\n",
        "\n",
        "Sobrecargar los métodos <code>\\_\\_str\\_\\_</code> y <code>\\_\\_eq\\_\\_</code> de la clase <code>Persona</code>."
      ]
    },
    {
      "cell_type": "code",
      "execution_count": null,
      "metadata": {
        "id": "Sr5GPv93KZrK"
      },
      "outputs": [],
      "source": [
        "def __str__(self):\n",
        "    return \"DNI/NDU: \" + str(self.ID) +  \"Nombre: \" + str(self.nombre) + \"Apellido: \" str(self.apellido) + \"Fecha de Nacimiento: \" str(self.fechaNac)\n",
        "\n",
        "def __eq__(self, other):\n",
        "    return self.ID == other.ID"
      ]
    },
    {
      "cell_type": "code",
      "execution_count": null,
      "metadata": {
        "id": "dn0o4fRvKZrK"
      },
      "outputs": [],
      "source": [
        "def __str__(self):\n",
        "   return f\"DNI/NDU: {self.ID},  Nombre: {self.nombre}, Apellido: {self.apellido}, Fecha de Nacimiento: {self.fechaNac}\"\n",
        "\n",
        "def __eq__(self, other):\n",
        "    if isinstance(other, Persona):\n",
        "        return self.ID == other.ID\n",
        "    return False"
      ]
    },
    {
      "cell_type": "markdown",
      "metadata": {
        "id": "CKeoXWD9KZrK"
      },
      "source": [
        "### Ejercicio 8.\n",
        "\n",
        "Completar los métodos de la siguiente clase <code>ListaEnlazada</code>."
      ]
    },
    {
      "cell_type": "code",
      "execution_count": null,
      "metadata": {
        "id": "-fHCatQDKZrL"
      },
      "outputs": [],
      "source": [
        "class ListaEnlazada():\n",
        "#---- Clase Anidada - NODO ----#\n",
        "    class _Node():\n",
        "        __slots__ = '_element', '_next' #optimiza el uso de memoria\n",
        "\n",
        "        def __init__(self, element, prox):\n",
        "            self._element = element\n",
        "            self._next = prox\n",
        "\n",
        "#---- Métodos de la Lista Enlazada ----#\n",
        "\n",
        "    def __init__(self):\n",
        "        \"\"\"Crear una lista vacia.\"\"\"\n",
        "        self.lista = self._Node(0,None)\n",
        "\n",
        "    def __len__(self):\n",
        "        \"\"\"Retornar el número de elementos en la lista.\"\"\"\n",
        "        ## COMPLETAR ##\n",
        "\n",
        "    def is_empty(self):\n",
        "        \"\"\"Retorna True si la lista esta vacia.\"\"\"\n",
        "        ## COMPLETAR ##\n",
        "\n",
        "    def append(self, element):\n",
        "        \"\"\"Añadir un elemneto a la lista\"\"\"\n",
        "        ## COMPLETAR ##"
      ]
    },
    {
      "cell_type": "code",
      "execution_count": null,
      "metadata": {
        "id": "d4SWrxD3KZrL"
      },
      "outputs": [],
      "source": [
        "def __len__(self):\n",
        "    \"\"\"Retornar el número de elementos en la lista.\"\"\"\n",
        "    return self.lista._element\n",
        "\n",
        "def is_empty(self):\n",
        "    \"\"\"Retorna True si la lista esta vacia.\"\"\"\n",
        "    return self.lista._element == 0\n",
        "\n",
        "def append(self, element):\n",
        "    \"\"\"Añadir un elemneto a la lista\"\"\"\n",
        "    nuevo = self._Node(element,None)\n",
        "    current = self.lista._next\n",
        "    while not current == None:\n",
        "        current = current._next\n",
        "    current._next = nuevo\n",
        "    self.lista._element += 1"
      ]
    },
    {
      "cell_type": "markdown",
      "metadata": {
        "id": "plVcyvk_KZrL"
      },
      "source": [
        "### Ejercicio 9.\n",
        "\n",
        "Implementar el método <code>\\_\\_str\\_\\_</code>  y el método <code>\\_\\_add\\_\\_</code> para la <code>ListaEnlazada</code>."
      ]
    },
    {
      "cell_type": "code",
      "execution_count": null,
      "metadata": {
        "id": "petpX-BtKZrL"
      },
      "outputs": [],
      "source": [
        "def __str__(self):\n",
        "    \"\"\"Imprime la lista por pantalla \"\"\"\n",
        "\n",
        "    return f\"DNI/NDU: {self.ID},  Nombre: {self.nombre}, Apellido: {self.apellido}, Fecha de Nacimiento: {self.fechaNac}\"\n",
        "\n",
        "def __add__(self, other):\n",
        "    \"\"\"Sobrecarga del operador '+' \"\"\"\n",
        "    if not isinstance(other, ListaEnlazada):\n",
        "        raise TypeError\n",
        "    current = other.lista._next\n",
        "    while not other.is_empty():\n",
        "        self.lista.append(current)\n",
        "        current = other._next\n",
        "    return False"
      ]
    },
    {
      "cell_type": "markdown",
      "metadata": {
        "id": "hgVDPHNQKZrM"
      },
      "source": [
        "### Ejercicio 10.\n",
        "\n",
        "Implementar una clase Itereador para la clase <code>ListaEnlazada</code>."
      ]
    },
    {
      "cell_type": "code",
      "execution_count": null,
      "metadata": {
        "id": "vEnASgOqKZrM"
      },
      "outputs": [],
      "source": [
        "class _IteradorListaEnlazada(object):\n",
        "    \"\"\" Iterador para la clase ListaEnlazada \"\"\"\n",
        "\n",
        "    def __init__(self, prim):\n",
        "        \"\"\" Constructor del iterador. \"\"\"\n",
        "        self.actual = prim\n",
        "\n",
        "    def __next__(self):\n",
        "        \"\"\" Devuelve uno a uno los elementos de la lista. \"\"\"\n",
        "        if self.actual == None:\n",
        "            raise StopIteration(\"No hay más elementos en la lista\")\n",
        "        dato = self.actual._element\n",
        "        self.actual = self.actual._next\n",
        "        return dato\n",
        "\n",
        "##-- Método a implementar en la clase Lista enlazada --##\n",
        "\n",
        "def __iter__(self):\n",
        "    \"\"\" Devuelve el iterador de la lista. \"\"\"\n",
        "    return _IteradorListaEnlazada(self.lista._next)\n"
      ]
    }
  ],
  "metadata": {
    "kernelspec": {
      "display_name": "Python 3",
      "language": "python",
      "name": "python3"
    },
    "language_info": {
      "codemirror_mode": {
        "name": "ipython",
        "version": 3
      },
      "file_extension": ".py",
      "mimetype": "text/x-python",
      "name": "python",
      "nbconvert_exporter": "python",
      "pygments_lexer": "ipython3",
      "version": "3.7.4"
    },
    "pycharm": {
      "stem_cell": {
        "cell_type": "raw",
        "metadata": {
          "collapsed": false
        },
        "source": []
      }
    },
    "stem_cell": {
      "cell_type": "raw",
      "metadata": {
        "pycharm": {
          "metadata": false
        }
      },
      "source": ""
    },
    "colab": {
      "provenance": [],
      "include_colab_link": true
    }
  },
  "nbformat": 4,
  "nbformat_minor": 0
}