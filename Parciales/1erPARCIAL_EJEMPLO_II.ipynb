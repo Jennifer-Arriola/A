{
  "cells": [
    {
      "cell_type": "markdown",
      "metadata": {
        "id": "view-in-github",
        "colab_type": "text"
      },
      "source": [
        "<a href=\"https://colab.research.google.com/github/Jennifer-Arriola/Algoritmos/blob/main/Parciales/1erPARCIAL_EJEMPLO_II.ipynb\" target=\"_parent\"><img src=\"https://colab.research.google.com/assets/colab-badge.svg\" alt=\"Open In Colab\"/></a>"
      ]
    },
    {
      "cell_type": "markdown",
      "metadata": {
        "id": "h5ck3mRlKzRk"
      },
      "source": [
        "# Algoritmos y Estructuras de Datos.\n",
        "\n",
        "## $1^{er}$ PARCIAL - Ejercicios Resueltos -"
      ]
    },
    {
      "cell_type": "markdown",
      "metadata": {
        "id": "gmv11uCtKzRo"
      },
      "source": [
        "\n",
        "Dadas las siguientes funciones, cual es el resultado de ejecutar <code>ExVar3()</code>?\n"
      ]
    },
    {
      "cell_type": "code",
      "execution_count": null,
      "metadata": {
        "id": "GYcx-G-EKzRp"
      },
      "outputs": [],
      "source": [
        "# Alcanze de una variable.\n",
        "x, y = 5, 2\n",
        "def ExVar1():\n",
        "    print(x,y)\n",
        "\n",
        "def ExVar2():\n",
        "    x=2\n",
        "    def ExVar21():\n",
        "        nonlocal x\n",
        "        global y\n",
        "        y, x = x, y\n",
        "        print(x,y)\n",
        "    ExVar21()\n",
        "\n",
        "def ExVar3():\n",
        "    def ExVar31():\n",
        "        global x,y\n",
        "        x,y = y,x\n",
        "    ExVar31()\n",
        "    print(y,x)\n",
        ""
      ]
    },
    {
      "cell_type": "code",
      "execution_count": null,
      "metadata": {
        "id": "7xmKxVU5KzRr",
        "outputId": "44ec0847-9466-4ab3-fbdf-bb1aab9510f4"
      },
      "outputs": [
        {
          "name": "stdout",
          "output_type": "stream",
          "text": [
            "5 2\n",
            "2 2\n",
            "5 2\n"
          ]
        }
      ],
      "source": [
        "ExVar1()\n",
        "ExVar2()\n",
        "ExVar3()"
      ]
    },
    {
      "cell_type": "markdown",
      "metadata": {
        "id": "-UQUYx99KzRt"
      },
      "source": [
        "Reescribir el siguiente código utilizando un ciclo <code>for</code>."
      ]
    },
    {
      "cell_type": "code",
      "execution_count": null,
      "metadata": {
        "id": "YovmQJMzKzRt",
        "outputId": "0c214943-d7e4-4b28-aa89-0384362c384c"
      },
      "outputs": [
        {
          "name": "stdout",
          "output_type": "stream",
          "text": [
            "0 1 0 1 0 1 0 1 0 1 0 1 0 1 0 1 0 "
          ]
        }
      ],
      "source": [
        "x=0\n",
        "while x<20:\n",
        "    print(x % 2,end=\" \")\n",
        "    x+=1\n",
        "    if not x % 17: break\n",
        "    else : pass"
      ]
    },
    {
      "cell_type": "code",
      "execution_count": null,
      "metadata": {
        "id": "QAfYXV_lKzRu",
        "outputId": "a5d0b44e-4f52-42d4-d089-7d0eea652f0f"
      },
      "outputs": [
        {
          "name": "stdout",
          "output_type": "stream",
          "text": [
            "0 1 0 1 0 1 0 1 0 1 0 1 0 1 0 1 0 "
          ]
        }
      ],
      "source": [
        "for i in range(17):\n",
        "    print(i % 2, end=\" \")"
      ]
    },
    {
      "cell_type": "markdown",
      "metadata": {
        "id": "r1oeAXtIKzRu"
      },
      "source": [
        "Generar una lista por comprensión que contenga los números que sean divisibles por 2 y por 5 (desde 1 hasta N)."
      ]
    },
    {
      "cell_type": "code",
      "execution_count": null,
      "metadata": {
        "id": "9w5geJUdKzRv",
        "outputId": "2a06b833-fcce-4468-a998-bf621c702ac5"
      },
      "outputs": [
        {
          "name": "stdout",
          "output_type": "stream",
          "text": [
            "[10, 20, 30, 40, 50, 60, 70, 80, 90, 100]\n"
          ]
        }
      ],
      "source": [
        "N = 100\n",
        "L_comprension = [i for i in range(1,N+1) if i % 2 == 0 and i % 5 ==0]\n",
        "L = [2**x for x in rango(N)]\n",
        "print(L)\n",
        "L_extension = [10, 20, 30, 40, 50, 60, 70, 80, 90, 100]"
      ]
    },
    {
      "cell_type": "markdown",
      "metadata": {
        "id": "kQRtvzrsKzRv"
      },
      "source": [
        "Definir una clase <code>Circulo</code>. La clase debe contener los siguientes métodos:\n",
        "\n",
        "- Calcular el perimetro de la círculo.\n",
        "- Calcular el area del círculo.\n",
        "- Dado un punto, calcular si este pertenence al círculo.\n",
        "\n",
        "Pueden agregar más métodos si lo consideran necesario."
      ]
    },
    {
      "cell_type": "code",
      "execution_count": null,
      "metadata": {
        "id": "e2ZslOkoKzRw"
      },
      "outputs": [],
      "source": [
        "import math # import numpy ==> Son 2pts.\n",
        "PI=3.14 # cualquier similar ==> 1pt.\n",
        "\n",
        "class Circulo():\n",
        "\n",
        "    def __init__(self,punto,radio):\n",
        "        self.centro = punto\n",
        "        self.radio = radio\n",
        "\n",
        "\n",
        "    def perimeter(self):\n",
        "        return 2 * math.pi * self.radio\n",
        "\n",
        "\n",
        "    def area(self):\n",
        "        return math.pi * self.radio ** 2\n",
        "\n",
        "\n",
        "    def is_IN(self, otro_punto):\n",
        "        ## self.centro = (x1,y1)\n",
        "        ## otro_punto = (x2,y2)\n",
        "        # calcular la distancia y fijarse contra el radio\n",
        "        res = ((otro_punto.x - self.centro.x)**2 + (otro_punto.y-self.centro.y)**2)** 0.5\n",
        "        return res <= self.radio"
      ]
    },
    {
      "cell_type": "code",
      "execution_count": null,
      "metadata": {
        "id": "QtlOxnk2KzRx"
      },
      "outputs": [],
      "source": []
    },
    {
      "cell_type": "markdown",
      "metadata": {
        "id": "cL7Nn1DVKzRx"
      },
      "source": [
        "Agregar a la clase <code>Circulo</code> un método que permita calcular lo siguiente:\n",
        "\n",
        "- Dados dos puntos, calcular si la recta que pasa por ellos es tangente ó secante, al círculo.\n",
        "- Si la recta no intersecta al círculo, el método debe informar el error.   "
      ]
    },
    {
      "cell_type": "code",
      "execution_count": null,
      "metadata": {
        "id": "6_WPk4sHKzRx"
      },
      "outputs": [],
      "source": [
        "    def intersecta(self,punto_a,punto_b):\n",
        "        #y - y1 = ((y2-y1) / (x2-x1)) * (x - x1)\n",
        "        #y - punto_a.y = ((y2-punto_a.y) / (punto_b.x - punto_a.x)) * (x - punto_a.x)\n",
        "        #m, b =\n",
        "        recta = m , b\n",
        "        ordenada = Punto(0,b) # (0,b) #\n",
        "        if is_IN(self, ordenada):\n",
        "            return \"SECANTE\"\n",
        "        elif:\n",
        "            while <>:\n",
        "                # is_IN(self, punto_a)\n",
        "                # is_IN(self, (punto_b - punto_b)/2 )\n",
        "                # is_IN(self, punto_b)\n",
        "                is_IN(self, punto)\n",
        "        else:\n",
        "            raise ValueError(\"No intersecta\")\n",
        "\n"
      ]
    },
    {
      "cell_type": "code",
      "execution_count": null,
      "metadata": {
        "id": "cFb491rWKzRy"
      },
      "outputs": [],
      "source": []
    },
    {
      "cell_type": "markdown",
      "metadata": {
        "id": "5D3JeanYKzRy"
      },
      "source": [
        "Definir una clase <code>Rectangulo</code>. La clase debe contener los siguientes métodos:\n",
        "\n",
        "- Calcular el perimetro del rectangulo.\n",
        "- Calcular el area del rectangulo.\n",
        "- Método para chequear si el rectangulo es un cuadrado.\n",
        "\n",
        "\n",
        "Pueden agregar más métodos si lo consideran necesario."
      ]
    },
    {
      "cell_type": "code",
      "execution_count": null,
      "metadata": {
        "id": "NsvG67ZSKzRy"
      },
      "outputs": [],
      "source": [
        "class Rectangulo():\n",
        "    def __init__(self, b , a ):\n",
        "        self.b = b\n",
        "        self.a = a\n",
        "\n",
        "    def perimetro(self):\n",
        "        return 2 * self.b + 2 * self.a\n",
        "\n",
        "    def area(self):\n",
        "        return self.b * self.a\n",
        "\n",
        "    def es_Cuadrado(self):\n",
        "        return self.b == self.a\n",
        "\n",
        "    def __str__(self):\n",
        "        return \"Hola soy el rectangulo con base: \" + str(self.b) + \" y altura: \" + str(self.a)\n",
        "\n",
        "    def __add__(self, otro):\n",
        "        print(\"sumar\")"
      ]
    },
    {
      "cell_type": "code",
      "execution_count": null,
      "metadata": {
        "id": "sb3yX9K9KzRy",
        "outputId": "8ae4574e-d7c0-498c-c07c-ecdc1e14a44f"
      },
      "outputs": [
        {
          "name": "stdout",
          "output_type": "stream",
          "text": [
            "Hola soy el rectangulo con base: 2 y altura: 4\n",
            "Hola soy el rectangulo con base: 3 y altura: 5\n"
          ]
        }
      ],
      "source": [
        "r = Rectangulo(2,4)\n",
        "r1 = Rectangulo(3,5)\n",
        "\n",
        "print(r)\n",
        "print(r1)\n"
      ]
    },
    {
      "cell_type": "code",
      "execution_count": null,
      "metadata": {
        "id": "-L2s-Y6AKzRz"
      },
      "outputs": [],
      "source": [
        "#Numeros Racionales\n",
        "class Ratio():\n",
        "    def __init__(self, a, b):\n",
        "        self.a = a\n",
        "        self.b = b\n",
        "    def __str__(self):\n",
        "        return str(self.a) + \"/\" + str(self.b)\n",
        "    def __add__(self, otro):\n",
        "        return Ratio(self.a*otro.b+self.b*otro.a , self.b*otro.b) # a/b + c/d = a*d + c*b / b * b\n",
        "    def suma(self, otro):\n",
        "        return Ratio(self.a*otro.b+self.b*otro.a , self.b*otro.b)"
      ]
    },
    {
      "cell_type": "code",
      "execution_count": null,
      "metadata": {
        "id": "oFc8PNrXKzRz",
        "outputId": "116fd82d-410f-4267-c960-104025f2915c"
      },
      "outputs": [
        {
          "name": "stdout",
          "output_type": "stream",
          "text": [
            "7/6\n",
            "7/6\n"
          ]
        }
      ],
      "source": [
        "r1 = Ratio(1,2)\n",
        "r2 = Ratio(2,3)\n",
        "\n",
        "print(r1 + r2)\n",
        "\n",
        "print(r1.suma(r2))"
      ]
    },
    {
      "cell_type": "code",
      "execution_count": null,
      "metadata": {
        "id": "vJ4AZlR2KzR0"
      },
      "outputs": [],
      "source": [
        "import math\n",
        "\n",
        "class Cuadrado():\n",
        "\n",
        "    def __init__(self,content):\n",
        "        base\n",
        "        altura\n",
        "\n",
        "\n",
        "\n",
        "        if type(content)!=type((0,1,2,3)):\n",
        "            raise TypeError(\"El argumento debe ser una tupla de puntos\")\n",
        "        elif len(content)!=4:\n",
        "            raise ValueError(\"Debe haber 4 puntos\")\n",
        "        elif not check_poligon(content) :\n",
        "            raise ValueError(\"El poligono no es un rectangulo\")\n",
        "        else:\n",
        "            self.content=content\n",
        "\n",
        "    def check_poligon(content):\n",
        "        A,B,C,D = content #Definimos los vectores deacuerdo a los puntos dados\n",
        "        u=(B[0]-A[0],B[1]-A[1]) #u=the vector AB\n",
        "        v=(C[0]-A[0],C[1]-A[1]) #v=the vector AC\n",
        "        w=(D[0]-B[0],D[1]-B[1]) #w=the vector BD\n",
        "        z=(D[0]-C[0],D[1]-C[1]) #z=the vector CD\n",
        "        # Dos de los lados deben ser de igual magnitud\n",
        "        if not (normvect(u) - normvect(v) - normvect(w)- normvect(z)):\n",
        "            return False\n",
        "        # Los puntos deben tener coordenadas en comun\n",
        "        flat = set(list(sum(list(content), ())))\n",
        "        if not( 2 <= len(flat) <= 3 ):\n",
        "            return False\n",
        "\n",
        "        return True\n",
        "\n",
        "    def perimeter(self):\n",
        "        A,B,C,D=self.content #Define A,B,C,D to be the points defining your square\n",
        "        u=(B[0]-A[0],B[1]-A[1]) #u=the vector AB\n",
        "        v=(C[0]-A[0],C[1]-A[1]) #v=the vector AC\n",
        "        w=(D[0]-B[0],D[1]-B[1]) #w=the vector BD\n",
        "        z=(D[0]-C[0],D[1]-C[1]) #z=the vector CD\n",
        "        return normvect(u)+normvect(v)+normvect(w)+normvect(z)\n",
        "\n",
        "\n",
        "    #To compute the area of a triangle see the picture above\n",
        "\n",
        "    def area(self):\n",
        "        A,B,C,D=self.content #Define A,B,C,D to be the points defining your square\n",
        "        # Elejimos los dos vectores que representan el paralelogramo\n",
        "        flat = set(list(sum(list((A,B)), ())))\n",
        "        if  len(flat) == 2:\n",
        "            u=(B[0]-A[0],B[1]-A[1])  #u=the vector AB\n",
        "            v=(C[0]-A[0],C[1]-A[1])  #v=the vector AC\n",
        "        else:\n",
        "            u=(D[0]-A[0],D[1]-A[1])  #z=the vector AD\n",
        "            v=(C[0]-A[0],C[1]-A[1])  #v=the vector AC\n",
        "\n",
        "        scalarprod_uv=u[0]*v[0]+u[1]*v[1]\n",
        "        h=math.sqrt(normvect(u)**2-scalarprod_uv**2/normvect(v)**2)\n",
        "        return normvect(v)*h\n",
        "\n",
        "\n",
        "    def is_square(self):\n",
        "        flat = set(list(sum(list(content), ())))\n",
        "        if  len(flat) == 2:\n",
        "            return True\n",
        "        else:\n",
        "            return False"
      ]
    },
    {
      "cell_type": "code",
      "execution_count": null,
      "metadata": {
        "id": "JEEVhlr4KzR0"
      },
      "outputs": [],
      "source": []
    },
    {
      "cell_type": "markdown",
      "metadata": {
        "id": "0lvnD_2lKzR0"
      },
      "source": []
    }
  ],
  "metadata": {
    "kernelspec": {
      "display_name": "Python 3",
      "language": "python",
      "name": "python3"
    },
    "language_info": {
      "codemirror_mode": {
        "name": "ipython",
        "version": 3
      },
      "file_extension": ".py",
      "mimetype": "text/x-python",
      "name": "python",
      "nbconvert_exporter": "python",
      "pygments_lexer": "ipython3",
      "version": "3.8.9"
    },
    "colab": {
      "provenance": [],
      "include_colab_link": true
    }
  },
  "nbformat": 4,
  "nbformat_minor": 0
}