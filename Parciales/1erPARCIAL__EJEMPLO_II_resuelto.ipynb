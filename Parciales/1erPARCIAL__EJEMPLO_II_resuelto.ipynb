{
  "cells": [
    {
      "cell_type": "markdown",
      "metadata": {
        "id": "view-in-github",
        "colab_type": "text"
      },
      "source": [
        "<a href=\"https://colab.research.google.com/github/Jennifer-Arriola/Algoritmos/blob/main/Parciales/1erPARCIAL__EJEMPLO_II_resuelto.ipynb\" target=\"_parent\"><img src=\"https://colab.research.google.com/assets/colab-badge.svg\" alt=\"Open In Colab\"/></a>"
      ]
    },
    {
      "cell_type": "markdown",
      "metadata": {
        "id": "G2TvXOqPLMo3"
      },
      "source": [
        "# Algoritmos y Estructuras de Datos.\n",
        "\n",
        "## $1^{er}$ PARCIAL - Ejercicios Resueltos -"
      ]
    },
    {
      "cell_type": "markdown",
      "metadata": {
        "id": "aXg60wkkLMo9"
      },
      "source": [
        "### Ejercicio 1:\n",
        "\n",
        "Definir una clase rectangulo cómo una tupla de 4 puntos. La clase debe contener los siguientes métodos:\n",
        "\n",
        "- Calcular el perimetro del rectangulo.\n",
        "- Calcular el area del rectangulo.\n",
        "- Chequear si el rectangulo es un cuadrado.\n",
        "\n",
        "\n",
        "Deben recordar validar que los 4 puntos conformen un rectangulo."
      ]
    },
    {
      "cell_type": "markdown",
      "metadata": {
        "id": "EdUHReV7LMo-"
      },
      "source": [
        "**Solución:**"
      ]
    },
    {
      "cell_type": "code",
      "execution_count": null,
      "metadata": {
        "id": "eHS1UDMiLMo_"
      },
      "outputs": [],
      "source": [
        "import math\n",
        "\n",
        "class Cuadrado():\n",
        "\n",
        "    def __init__(self,content):\n",
        "        if type(content)!=type((0,1,2,3)):\n",
        "            raise TypeError(\"El argumento debe ser una tupla de puntos\")\n",
        "        elif len(content)!=4:\n",
        "            raise ValueError(\"Debe haber 4 puntos\")\n",
        "        elif not check_poligon(content) :\n",
        "            raise ValueError(\"El poligono no es un rectangulo\")\n",
        "        else:\n",
        "            self.content=content\n",
        "\n",
        "    def check_poligon(content):\n",
        "        A,B,C,D = content #Definimos los vectores deacuerdo a los puntos dados\n",
        "        u=(B[0]-A[0],B[1]-A[1]) #u=the vector AB\n",
        "        v=(C[0]-A[0],C[1]-A[1]) #v=the vector AC\n",
        "        w=(D[0]-B[0],D[1]-B[1]) #w=the vector BD\n",
        "        z=(D[0]-C[0],D[1]-C[1]) #z=the vector CD\n",
        "        # Dos de los lados deben ser de igual magnitud\n",
        "        if not (normvect(u) - normvect(v) - normvect(w)- normvect(z)):\n",
        "            return False\n",
        "        # Los puntos deben tener coordenadas en comun\n",
        "        flat = set(list(sum(list(content), ())))\n",
        "        if not( 2 <= len(flat) <= 3 ):\n",
        "            return False\n",
        "\n",
        "        return True\n",
        "\n",
        "    def perimeter(self):\n",
        "        A,B,C,D=self.content #Define A,B,C,D to be the points defining your square\n",
        "        u=(B[0]-A[0],B[1]-A[1]) #u=the vector AB\n",
        "        v=(C[0]-A[0],C[1]-A[1]) #v=the vector AC\n",
        "        w=(D[0]-B[0],D[1]-B[1]) #w=the vector BD\n",
        "        z=(D[0]-C[0],D[1]-C[1]) #z=the vector CD\n",
        "        return normvect(u)+normvect(v)+normvect(w)+normvect(z)\n",
        "\n",
        "\n",
        "    #To compute the area of a triangle see the picture above\n",
        "\n",
        "    def area(self):\n",
        "        A,B,C,D=self.content #Define A,B,C,D to be the points defining your square\n",
        "        # Elejimos los dos vectores que representan el paralelogramo\n",
        "        flat = set(list(sum(list((A,B)), ())))\n",
        "        if  len(flat) == 2:\n",
        "            u=(B[0]-A[0],B[1]-A[1])  #u=the vector AB\n",
        "            v=(C[0]-A[0],C[1]-A[1])  #v=the vector AC\n",
        "        else:\n",
        "            u=(D[0]-A[0],D[1]-A[1])  #z=the vector AD\n",
        "            v=(C[0]-A[0],C[1]-A[1])  #v=the vector AC\n",
        "\n",
        "        scalarprod_uv=u[0]*v[0]+u[1]*v[1]\n",
        "        h=math.sqrt(normvect(u)**2-scalarprod_uv**2/normvect(v)**2)\n",
        "        return normvect(v)*h\n",
        "\n",
        "\n",
        "    def is_square(self):\n",
        "        flat = set(list(sum(list(content), ()))) # cardinalidad de las coodenadas en comun\n",
        "        if  len(flat) == 2:\n",
        "            return True\n",
        "        else:\n",
        "            return False"
      ]
    },
    {
      "cell_type": "markdown",
      "metadata": {
        "id": "B0U3n1wdLMpB"
      },
      "source": [
        "Solución - \tTomas Macrade -"
      ]
    },
    {
      "cell_type": "code",
      "execution_count": null,
      "metadata": {
        "id": "jnCTLlJSLMpC"
      },
      "outputs": [],
      "source": [
        "class rectángulo:\n",
        "\n",
        "    def __init__(self,tupla):\n",
        "\n",
        "        v1=tupla[0]\n",
        "        v2=tupla[1]\n",
        "        v3=tupla[2]\n",
        "        v4=tupla[3]\n",
        "\n",
        "        rectangulo.ancho=(abs(v1[0]-v2[0])+abs(v1[0]-v3[0])+abs(v1[0]-v4[0]))/2\n",
        "        rectangulo.alto=(abs(v1[1]-v2[1])+abs(v1[1]-v3[1])+abs(v1[1]-v4[1]))/2\n",
        "\n",
        "        #Miramos si es o un rectángulo evaluando si la distancia entre dos puntos y los otros dos puntos\n",
        "        #es la misma en todos los casos. En el caso que lo sea, retornamos una excepción:\n",
        "        if ((v1[0]-v2[0])**2+(v1[1]-v2[1])**2)**0.5==((v3[0]-v4[0])**2+(v3[1]-v4[1])**2)**0.5 and\n",
        "            ((v1[0]-v3[0])**2+(v1[1]-v3[1])**2)**0.5==((v2[0]-v4[0])**2+(v2[1]-v4[1])**2)**0.5 and\n",
        "            ((v1[0]-v4[0])**2+(v1[1]-v4[1])**2)**0.5==((v3[0]-v2[0])**2+(v3[1]-v2[1])**2)**0.5: pass\n",
        "        else:\n",
        "            raise Exception(\"No es un rectangulo\")\n",
        "\n",
        "\n",
        "    def perimetro(self):\n",
        "        return rectangulo.ancho*2+rectangulo.alto*2\n",
        "\n",
        "    def area(self):\n",
        "        return rectangulo.ancho * rectangulo.alto\n",
        "\n",
        "    def esuncuadrado(self):\n",
        "        if (rectangulo.ancho==rectangulo.alto):\n",
        "            print(\"Es un cuadrado\") # return True\n",
        "        else:\n",
        "            print(\"No es un cuadrado\") #return False\n"
      ]
    },
    {
      "cell_type": "markdown",
      "metadata": {
        "id": "OuYl-7PLLMpD"
      },
      "source": [
        "Solución - Juan Repetto -"
      ]
    },
    {
      "cell_type": "code",
      "execution_count": null,
      "metadata": {
        "id": "uj1qJBM4LMpE"
      },
      "outputs": [],
      "source": [
        "class Punto:\n",
        "    \"\"\"Clase auxiliar.\"\"\"\n",
        "\n",
        "    def __init__(self, x, y):\n",
        "        self.x = x\n",
        "        self.y = y\n",
        "\n",
        "    def __sub__(self, other):\n",
        "        return Punto(self.x - other.x, self.y - other.y)\n",
        "\n",
        "    def __mul__(self, other):\n",
        "        return self.x*other.x + self.y*other.y\n",
        "\n",
        "    def __abs__(self):\n",
        "        return (self*self)**0.5\n",
        "\n",
        "\n",
        "class Rectangulo:\n",
        "    \"\"\"Rectángulo representado a partir de cuatro puntos en el plano.\n",
        "        Los puntos generan el contorno del rectángulo en sentido contrario al de\n",
        "        las agujas del reloj.\n",
        "\n",
        "        Ejemplo de uso:\n",
        "\n",
        "            rect = Rectangulo( (Punto(1, 0), Punto(2, 0), Punto(2, 3), Punto(1, 3)) )\n",
        "            print(rect.perimetro())\n",
        "            print(rect.area())\n",
        "            print(rect.es_cuadrado())\n",
        "    \"\"\"\n",
        "\n",
        "    def __init__(self, puntos):\n",
        "        p, q, r, s = puntos\n",
        "        if (q-p) * (s-p) != 0 or (r-q) * (s-r) != 0:\n",
        "            raise ValueError('Los puntos dados no son los de un rectángulo.')\n",
        "        self.a, self.b = abs(q - p), abs(s - p)  # lados\n",
        "\n",
        "    def perimetro(self):\n",
        "        return 2 * (self.a+self.b)\n",
        "\n",
        "    def area(self):\n",
        "        return self.a * self.b\n",
        "\n",
        "    def es_cuadrado(self):\n",
        "        return self.a == self.b\n"
      ]
    },
    {
      "cell_type": "markdown",
      "metadata": {
        "id": "b3NhAAuqLMpE"
      },
      "source": [
        "### Ejercicio 2:\n",
        "\n",
        "Reescribir el siguiente código utilizando un ciclo <code>for</code>."
      ]
    },
    {
      "cell_type": "code",
      "execution_count": null,
      "metadata": {
        "id": "AseCP0OkLMpF",
        "outputId": "a33ba97e-7f0f-4940-ab57-562055a5090b"
      },
      "outputs": [
        {
          "name": "stdout",
          "output_type": "stream",
          "text": [
            "0 1 2 3 4 5 6 7 8 9 10 11 12 13 14 15 16 17 18 19 "
          ]
        }
      ],
      "source": [
        "x=0\n",
        "while x<20:\n",
        "    print(x,end=\" \")\n",
        "    x+=1"
      ]
    },
    {
      "cell_type": "markdown",
      "metadata": {
        "id": "OHibiNAgLMpG"
      },
      "source": [
        "**Solución:**"
      ]
    },
    {
      "cell_type": "code",
      "execution_count": null,
      "metadata": {
        "id": "sa4CxSioLMpH",
        "outputId": "d4e62df2-6391-4b03-af17-f386523be23f"
      },
      "outputs": [
        {
          "name": "stdout",
          "output_type": "stream",
          "text": [
            "0 1 2 3 4 5 6 7 8 9 10 11 12 13 14 15 16 17 18 19 "
          ]
        }
      ],
      "source": [
        "for i in range(0,20): # Otras respuestas correctas: range(20), y range(0,20,1)\n",
        "    print(i,end=\" \")"
      ]
    },
    {
      "cell_type": "markdown",
      "metadata": {
        "id": "yHjv-51CLMpH"
      },
      "source": [
        "### Ejercicio 3:\n",
        "\n",
        "Completar los métodos de la siguiente clase ListaEnlazada.\n"
      ]
    },
    {
      "cell_type": "code",
      "execution_count": null,
      "metadata": {
        "id": "dFwF8kkhLMpI"
      },
      "outputs": [],
      "source": [
        "class ListaEnlazada:\n",
        "\n",
        "#-------- Clase Anidada - NODO ------------#\n",
        "    class _Node:\n",
        "        __slots__ = '_element', '_next' # optimiza el uso de memoria\n",
        "\n",
        "        def __init__(self, element, next):\n",
        "            self._element = element # inicializar el contenido del Nodo\n",
        "            self._next = next       # referencia al siguiente Nodo\n",
        "\n",
        "#----------- Métodos de la Lista Enlazada ----------- #\n",
        "\n",
        "    def __init__(self):\n",
        "        \"\"\"Crear una lista vacia.\"\"\"\n",
        "        self.lista = self._Node(0,None)\n",
        "\n",
        "    def __len__(self):\n",
        "        \"\"\"Retornar el número de elementos en la lista.\"\"\"\n",
        "        ## COMPLETAR ##\n",
        "\n",
        "    def is_empty(self):\n",
        "        \"\"\"Retorna True si la lista esta vacia.\"\"\"\n",
        "        ## COMPLETAR ##\n",
        "\n",
        "    def append(self,elem):\n",
        "        \"\"\"Añadir un elemento a la lista.\"\"\"\n",
        "        ## COMPLETAR ##\n",
        ""
      ]
    },
    {
      "cell_type": "markdown",
      "metadata": {
        "id": "oPGImrnBLMpI"
      },
      "source": [
        "**Solución:**"
      ]
    },
    {
      "cell_type": "code",
      "execution_count": null,
      "metadata": {
        "id": "mhonKgXpLMpJ"
      },
      "outputs": [],
      "source": [
        "\n",
        "    def __len__(self):\n",
        "        \"\"\"Retornar el número de elementos en la lista.\"\"\"\n",
        "        return self.lista._element\n",
        "\n",
        "    def is_empty(self):\n",
        "        \"\"\"Retorna True si la lista esta vacia.\"\"\"\n",
        "        return self.lista._element == 0\n",
        "\n",
        "    def append(self,elem):\n",
        "        \"\"\"Añadir un elemento a la lista.\"\"\"\n",
        "        current = self.lista\n",
        "        while not current._next == None:\n",
        "            current = current._next\n",
        "        current._next = self._Node(elem, None)\n",
        "        self.lista._element += 1\n"
      ]
    },
    {
      "cell_type": "code",
      "execution_count": null,
      "metadata": {
        "id": "OIhvbatoLMpJ"
      },
      "outputs": [],
      "source": [
        "# Ejemplo:\n",
        "\n",
        "le= ListaEnlazada()\n",
        "\n",
        "le.is_empty()\n",
        "len(le)\n",
        "\n",
        "le.append(42)\n",
        "le.append(12)\n",
        "\n",
        "len(le)\n",
        "le.is_empty()\n"
      ]
    },
    {
      "cell_type": "markdown",
      "metadata": {
        "id": "ust8JEXDLMpK"
      },
      "source": [
        "### Ejercicio 4:\n",
        "\n",
        "Implementar una clase <code>Itereador</code> para la siguiente <code>ListaEnlazada</code>.\n",
        "\n",
        "<img src=\"imgs/listaEnlazada_Ok.png\">"
      ]
    },
    {
      "cell_type": "markdown",
      "metadata": {
        "id": "U7pRAiG9LMpK"
      },
      "source": [
        "**Solución:**"
      ]
    },
    {
      "cell_type": "code",
      "execution_count": null,
      "metadata": {
        "id": "T2YuPNLYLMpK"
      },
      "outputs": [],
      "source": [
        "#-------- Clase Anidada - ITERADOR ------------#\n",
        "\n",
        "class _IteradorListaEnlazada(object):\n",
        "        \"\"\" Iterador para la clase ListaEnlazada \"\"\"\n",
        "\n",
        "        def __init__(self, lista):\n",
        "            \"\"\" Constructor del iterador.\n",
        "                asignamos el primer elemento de la lista. \"\"\"\n",
        "            self.actual = lista._next\n",
        "\n",
        "        def __next__(self):\n",
        "            \"\"\" Devuelve uno a uno los elementos de la lista. \"\"\"\n",
        "            if self.actual == None:\n",
        "                raise StopIteration(\"No hay más elementos en la lista\")\n",
        "            val= self.actual._element\n",
        "            self.actual = self.actual._next\n",
        "            return val\n",
        "\n",
        "#-------- ----------------------- ------------#\n",
        "\n",
        "#Método a implementar en la clase Lista enlazada:\n",
        "\n",
        "    def __iter__(self):\n",
        "        return self._IteradorListaEnlazada(self.lista)"
      ]
    },
    {
      "cell_type": "code",
      "execution_count": null,
      "metadata": {
        "id": "UJGc02z8LMpL"
      },
      "outputs": [],
      "source": [
        "# Ejemplo:\n",
        "\n",
        "le = ListaEnlazada()\n",
        "\n",
        "le.append(42)\n",
        "le.append(12)\n",
        "\n",
        "for valor in le:\n",
        "    print(valor)"
      ]
    },
    {
      "cell_type": "markdown",
      "metadata": {
        "id": "m3dOH9_GLMpL"
      },
      "source": [
        "### Ejercicio 5:\n",
        "\n",
        "Implementar el método <code>\\_\\_str\\_\\_</code>  y el método <code>\\_\\_add\\_\\_</code> para la siguiente ListaEnlazada.\n",
        "\n",
        "<img src=\"imgs/listaEnlazada_Ok.png\">"
      ]
    },
    {
      "cell_type": "markdown",
      "metadata": {
        "id": "tXdN-8i8LMpL"
      },
      "source": [
        "**Solución:**"
      ]
    },
    {
      "cell_type": "code",
      "execution_count": null,
      "metadata": {
        "id": "ePaUnwSYLMpL"
      },
      "outputs": [],
      "source": [
        "    # Sobrecarga necesaria del método __str__ para la función 'print'.\n",
        "    def __str__(self):\n",
        "        ret = \"[len = \" + str(self.lista._element) + \"| Lista: \"\n",
        "        current = self.lista._next\n",
        "        while current != None:\n",
        "            ret += \"\" + str(current._element) + \" -> \"\n",
        "            current = current._next\n",
        "        return ret + \"Fin ]\"\n",
        "\n",
        "    # Sobrecarga del operador '+'.\n",
        "    def __add__(self,other):\n",
        "        current = other.lista._next\n",
        "        while current != None:\n",
        "            self.append(current._element)\n",
        "            current = current._next\n",
        "        return self"
      ]
    },
    {
      "cell_type": "code",
      "execution_count": null,
      "metadata": {
        "id": "IPlA6gFcLMpM",
        "outputId": "5e883ffc-1396-4269-99b9-123389f34ee0"
      },
      "outputs": [
        {
          "name": "stdout",
          "output_type": "stream",
          "text": [
            "[len = 2| Lista: 42 -> 12 -> Fin ]\n"
          ]
        }
      ],
      "source": [
        "# Ejemplo:\n",
        "\n",
        "le = ListaEnlazada()\n",
        "le.append(42)\n",
        "le.append(12)\n",
        "\n",
        "print(le)"
      ]
    },
    {
      "cell_type": "code",
      "execution_count": null,
      "metadata": {
        "id": "9su5vS2FLMpM",
        "outputId": "448b1e69-9c48-46a9-9fa3-b610ab0b8164"
      },
      "outputs": [
        {
          "name": "stdout",
          "output_type": "stream",
          "text": [
            "[len = 4| Lista: 24 -> 21 -> 42 -> 12 -> Fin ]\n"
          ]
        }
      ],
      "source": [
        "# Ejemplo\n",
        "\n",
        "le = ListaEnlazada()\n",
        "le.append(42)\n",
        "le.append(12)\n",
        "\n",
        "l = ListaEnlazada()\n",
        "l.append(24)\n",
        "l.append(21)\n",
        "\n",
        "print(l + le)"
      ]
    },
    {
      "cell_type": "markdown",
      "metadata": {
        "id": "Jca8n32SLMpM"
      },
      "source": [
        "### Ejercicio 6:\n",
        "\n",
        "Escribir una función que reciba dos parametros: (i) una lista desordenada y (ii) una expresión (algo que pueda ser evaluado True o False). Si el valor de la expresión es Verdadera, la lista se ordenara en forma descendente, en otro caso de manera ascendente. Por defecto, si la función es llamada sin una \"expresión\" (solo la lista) debe retornar una lista ordenada de forma ascendente.  "
      ]
    },
    {
      "cell_type": "markdown",
      "metadata": {
        "id": "1SMu-53ELMpN"
      },
      "source": [
        "**Solución:**"
      ]
    },
    {
      "cell_type": "code",
      "execution_count": null,
      "metadata": {
        "id": "GE27TPohLMpN"
      },
      "outputs": [],
      "source": [
        "def ordenarLista (lista, expresion= False):\n",
        "    ret = lista.copy()\n",
        "    if expresion is False:\n",
        "        ret.sort()\n",
        "    else:\n",
        "        ret.sort(reverse=True)\n",
        "    return ret\n",
        "\n",
        "\n",
        "# Solución más sencilla\n",
        "def ordenarLista_2(l, expr=False):\n",
        "    lc = l.copy()\n",
        "    lc.sort(reverse=expr)\n",
        "    return lc #.sort(reverse=expr)\n"
      ]
    },
    {
      "cell_type": "code",
      "execution_count": null,
      "metadata": {
        "id": "79ESvezvLMpN",
        "outputId": "7432bc2c-b67e-4453-8591-36d0a5e969df"
      },
      "outputs": [
        {
          "name": "stdout",
          "output_type": "stream",
          "text": [
            "[1, 2, 3, 4, 5, 6]\n",
            "[6, 5, 4, 3, 2, 1]\n"
          ]
        }
      ],
      "source": [
        "# Ejemplo:\n",
        "l1, l2 = [1,2,3], [4,5,6]\n",
        "\n",
        "print( ordenarLista_2(l1 + l2, l1 > l2) )\n",
        "print( ordenarLista_2(l2 + l1, l2 > l1) )\n"
      ]
    },
    {
      "cell_type": "markdown",
      "metadata": {
        "id": "D5bpO4L3LMpO"
      },
      "source": [
        "### Ejercicio 7:\n",
        "\n",
        "Dadas las siguientes funciones:"
      ]
    },
    {
      "cell_type": "code",
      "execution_count": null,
      "metadata": {
        "id": "vBjpYC9TLMpO"
      },
      "outputs": [],
      "source": [
        "x=2\n",
        "\n",
        "def ExVar1():\n",
        "    print(x)\n",
        "\n",
        "def ExVar2():\n",
        "    x=5\n",
        "\n",
        "    def ExVar21():\n",
        "        global x\n",
        "        print(x)\n",
        "\n",
        "    ExVar21()\n",
        "    print(x)\n",
        "\n",
        "def ExVar3():\n",
        "    x=5\n",
        "\n",
        "    def ExVar31():\n",
        "        nonlocal x\n",
        "        print(x)\n",
        "\n",
        "    ExVar31()\n",
        "    print(x)\n",
        "\n",
        "def ExVar4():\n",
        "    global x\n",
        "\n",
        "    def ExVar41():\n",
        "        x=5\n",
        "        print(x)\n",
        "\n",
        "    ExVar41()\n",
        "    print(x)"
      ]
    },
    {
      "cell_type": "markdown",
      "metadata": {
        "id": "Tgi1ZhpmLMpO"
      },
      "source": [
        " - Cuál es el resultado al ejecutar la función <code>ExVar1()</code>?\n",
        " - Cuál es el resultado al ejecutar la función <code>ExVar2()</code>?\n",
        " - Cuál es el resultado al ejecutar la función <code>ExVar3()</code>?\n",
        " - Cuál es el resultado al ejecutar la función <code>ExVar4()</code>?"
      ]
    },
    {
      "cell_type": "markdown",
      "metadata": {
        "id": "noceLgZQLMpO"
      },
      "source": [
        "**Solución:**"
      ]
    },
    {
      "cell_type": "code",
      "execution_count": null,
      "metadata": {
        "id": "7kGxRzM5LMpO",
        "outputId": "f85daa42-70a5-4307-837d-ecd7a0e4f0af"
      },
      "outputs": [
        {
          "name": "stdout",
          "output_type": "stream",
          "text": [
            "2\n"
          ]
        }
      ],
      "source": [
        "ExVar1()"
      ]
    },
    {
      "cell_type": "code",
      "execution_count": null,
      "metadata": {
        "id": "4ebPwgJILMpP",
        "outputId": "172c7458-73be-4098-ad1f-c4d30ba9bc83"
      },
      "outputs": [
        {
          "name": "stdout",
          "output_type": "stream",
          "text": [
            "2\n",
            "5\n"
          ]
        }
      ],
      "source": [
        "ExVar2()"
      ]
    },
    {
      "cell_type": "code",
      "execution_count": null,
      "metadata": {
        "id": "Ci78cTfzLMpP",
        "outputId": "9d79c158-dd12-4739-8062-673e9d03e815"
      },
      "outputs": [
        {
          "name": "stdout",
          "output_type": "stream",
          "text": [
            "5\n",
            "5\n"
          ]
        }
      ],
      "source": [
        "ExVar3()"
      ]
    },
    {
      "cell_type": "code",
      "execution_count": null,
      "metadata": {
        "id": "3wwFhDzFLMpQ",
        "outputId": "e103a10b-d086-4a5b-e3bd-77b79633169f"
      },
      "outputs": [
        {
          "name": "stdout",
          "output_type": "stream",
          "text": [
            "5\n",
            "2\n"
          ]
        }
      ],
      "source": [
        "ExVar4()"
      ]
    },
    {
      "cell_type": "markdown",
      "metadata": {
        "id": "0GFAVJggLMpQ"
      },
      "source": [
        "### Ejercicio 8:\n",
        "\n",
        "Qué parámetros debemos pasarle al constructor range, para generar una lista por comprensión que contenga las primeras $'N'$ potencias de $2$ ($1, 2, 4, 8, \\ldots$)?"
      ]
    },
    {
      "cell_type": "markdown",
      "metadata": {
        "id": "SmlNrfOhLMpa"
      },
      "source": [
        "**Solución:**"
      ]
    },
    {
      "cell_type": "code",
      "execution_count": null,
      "metadata": {
        "id": "yVotsOqsLMpa",
        "outputId": "ea6a0d53-7c24-494f-9090-b516485c5abd"
      },
      "outputs": [
        {
          "data": {
            "text/plain": [
              "[1, 2, 4, 8, 16, 32, 64]"
            ]
          },
          "execution_count": 3,
          "metadata": {},
          "output_type": "execute_result"
        }
      ],
      "source": [
        "N=7 # Definimos N.\n",
        "\n",
        "[2**i for i in range(N)]"
      ]
    },
    {
      "cell_type": "markdown",
      "metadata": {
        "id": "hehFRMJZLMpc"
      },
      "source": [
        "### Ejercicio 9:\n",
        "\n",
        "Cuál es el resultado de convertir esta lista al tipo conjunto?\n",
        "\n",
        "<code>L=[1,2,1,2,1,3,4,2,3]</code>"
      ]
    },
    {
      "cell_type": "markdown",
      "metadata": {
        "id": "WH2uYuwGLMpd"
      },
      "source": [
        "**Solución:**  $\\{1, 2, 3, 4\\}$"
      ]
    },
    {
      "cell_type": "code",
      "execution_count": null,
      "metadata": {
        "id": "NlDSKVRpLMpe",
        "outputId": "323b9996-3c04-4e51-c79b-08e8c5449d0a"
      },
      "outputs": [
        {
          "name": "stdout",
          "output_type": "stream",
          "text": [
            "{1, 2, 3, 4}\n"
          ]
        }
      ],
      "source": [
        "L=[1,2,1,2,1,3,4,2,3]\n",
        "print(set(L))"
      ]
    },
    {
      "cell_type": "markdown",
      "metadata": {
        "id": "Fto3rTkwLMpe"
      },
      "source": [
        "### Ejercicio 10:\n",
        "\n",
        "Los tipos de datos conjunto y tupla pueden ser convertidos utilizando \"typecasting\", ya sea mediate cambio automatico (asignación) o de manera forzanda (utilizando el método correspondiente al tipo definido).  \n",
        "\n",
        "¿ Verdaro / Falso ?\n"
      ]
    },
    {
      "cell_type": "markdown",
      "metadata": {
        "id": "VHaNEBA0LMpe"
      },
      "source": [
        "**Solución:** **Falso**. *Los diccionarios con tipos mutables, no aceptarán la inserción de elementos de tipo inmutable.* Es decir, la función <code>set(tuple)</code> puede ser usada una vez, luego se genera un error de tipos.  "
      ]
    },
    {
      "cell_type": "markdown",
      "metadata": {
        "id": "Midml2TzLMpf"
      },
      "source": [
        "$~$"
      ]
    },
    {
      "cell_type": "markdown",
      "metadata": {
        "id": "uxB_2r4PLMpf"
      },
      "source": [
        "### Clase ListaEnlazada Completa"
      ]
    },
    {
      "cell_type": "code",
      "execution_count": null,
      "metadata": {
        "id": "clYhOIuTLMpf"
      },
      "outputs": [],
      "source": [
        "class ListaEnlazada:\n",
        "\n",
        "#-------- Clase Anidada - NODO ------------#\n",
        "    class _Node:\n",
        "        __slots__ = '_element', '_next' # optimiza el uso de memoria\n",
        "\n",
        "        def __init__(self, element, next):\n",
        "            self._element = element # inicializar el contenido del Nodo\n",
        "            self._next = next       # referencia al siguiente Nodo\n",
        "\n",
        "#-------- Clase Anidada - ITERADOR ------------#\n",
        "    class _IteradorListaEnlazada(object):\n",
        "        \"\"\" Iterador para la clase ListaEnlazada \"\"\"\n",
        "\n",
        "        def __init__(self, lista):\n",
        "            \"\"\" Constructor del iterador.\n",
        "                asignamos el primer elemento de la lista. \"\"\"\n",
        "            self.actual = lista._next\n",
        "\n",
        "        def __next__(self):\n",
        "            \"\"\" Devuelve uno a uno los elementos de la lista. \"\"\"\n",
        "            if self.actual == None:\n",
        "                raise StopIteration(\"No hay más elementos en la lista\")\n",
        "            val= self.actual._element\n",
        "            self.actual = self.actual._next\n",
        "            return val\n",
        "\n",
        "\n",
        "#----------- Métodos de la Lista Enlazada ----------- #\n",
        "\n",
        "    def __init__(self):\n",
        "        \"\"\"Crear una lista vacia.\"\"\"\n",
        "        #return self._Node(0,None) ## el conamdo return no puede ser usado en el __init__\n",
        "                                  ## el método __init__ debe retornar\n",
        "        self.lista = self._Node(0,None)\n",
        "\n",
        "    def __len__(self):\n",
        "        \"\"\"Retornar el número de elementos en la lista.\"\"\"\n",
        "        return self.lista._element\n",
        "\n",
        "    def is_empty(self):\n",
        "        \"\"\"Retorna True si la lista esta vacia.\"\"\"\n",
        "        return self.lista._element == 0\n",
        "\n",
        "    def append(self,elem):\n",
        "        \"\"\"Añadir un elemento a la lista.\"\"\"\n",
        "        current = self.lista\n",
        "        while not current._next == None:\n",
        "            current = current._next\n",
        "        current._next = self._Node(elem, None)\n",
        "        self.lista._element += 1\n",
        "\n",
        "## -- DEF ITERADOR -- ##\n",
        "    def __iter__(self):\n",
        "        return self._IteradorListaEnlazada(self.lista)\n",
        "# --  -----------  -- #\n",
        "\n",
        "\n",
        "    # Sobrecarga necesaria para la función 'print'.\n",
        "    def __str__(self):\n",
        "        ret = \"[len = \" + str(self.lista._element) + \"| Lista: \"\n",
        "        current = self.lista._next\n",
        "        while current != None:\n",
        "            ret += \"\" + str(current._element) + \" -> \"\n",
        "            current = current._next\n",
        "        return ret + \"Fin ]\"\n",
        "\n",
        "    # Sobrecarga del operador '+'.\n",
        "    def __add__(self,other):\n",
        "        current = other.lista._next\n",
        "        while current != None:\n",
        "            self.append(current._element)\n",
        "            current = current._next\n",
        "        return self\n",
        ""
      ]
    },
    {
      "cell_type": "code",
      "execution_count": null,
      "metadata": {
        "id": "367Co3tXLMpg"
      },
      "outputs": [],
      "source": []
    }
  ],
  "metadata": {
    "kernelspec": {
      "display_name": "Python 3",
      "language": "python",
      "name": "python3"
    },
    "language_info": {
      "codemirror_mode": {
        "name": "ipython",
        "version": 3
      },
      "file_extension": ".py",
      "mimetype": "text/x-python",
      "name": "python",
      "nbconvert_exporter": "python",
      "pygments_lexer": "ipython3",
      "version": "3.8.3"
    },
    "colab": {
      "provenance": [],
      "include_colab_link": true
    }
  },
  "nbformat": 4,
  "nbformat_minor": 0
}