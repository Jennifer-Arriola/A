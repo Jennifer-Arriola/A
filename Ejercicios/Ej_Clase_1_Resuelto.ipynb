{
  "cells": [
    {
      "cell_type": "markdown",
      "metadata": {
        "id": "view-in-github",
        "colab_type": "text"
      },
      "source": [
        "<a href=\"https://colab.research.google.com/github/Jennifer-Arriola/Algoritmos/blob/main/Ejercicios/Ej_Clase_1_Resuelto.ipynb\" target=\"_parent\"><img src=\"https://colab.research.google.com/assets/colab-badge.svg\" alt=\"Open In Colab\"/></a>"
      ]
    },
    {
      "cell_type": "markdown",
      "metadata": {
        "pycharm": {
          "metadata": false,
          "name": "#%% md\n"
        },
        "id": "R-hyMC0e2BQN"
      },
      "source": [
        "# Ejercicios Clase 1 -"
      ]
    },
    {
      "cell_type": "markdown",
      "metadata": {
        "pycharm": {
          "metadata": false,
          "name": "#%% md\n"
        },
        "id": "bh674mjZ2BQU"
      },
      "source": [
        "## Modules"
      ]
    },
    {
      "cell_type": "code",
      "execution_count": null,
      "metadata": {
        "pycharm": {
          "is_executing": false,
          "metadata": false,
          "name": "#%%\n"
        },
        "id": "XN_yeN4A2BQU"
      },
      "outputs": [],
      "source": [
        "import random\n",
        "import numpy as np"
      ]
    },
    {
      "cell_type": "markdown",
      "metadata": {
        "pycharm": {},
        "id": "EoyyAo-z2BQW"
      },
      "source": [
        "## Ejercicios"
      ]
    },
    {
      "cell_type": "markdown",
      "metadata": {
        "pycharm": {
          "metadata": false,
          "name": "#%% md\n"
        },
        "id": "yOYBu7tw2BQX"
      },
      "source": [
        "### Ej. 1:\n",
        "\n",
        "Qué parametros debemos pasarle al contructor `range`, para producir los valores 8, 6, 4, 2, 0, -2, -4, -6, -8?"
      ]
    },
    {
      "cell_type": "markdown",
      "metadata": {
        "pycharm": {
          "name": "#%% md\n"
        },
        "id": "bgAaVBWs2BQX"
      },
      "source": [
        "#### Solución"
      ]
    },
    {
      "cell_type": "code",
      "execution_count": null,
      "metadata": {
        "pycharm": {
          "is_executing": false,
          "metadata": false,
          "name": "#%%\n"
        },
        "id": "so-SHC_s2BQa",
        "outputId": "45b1580b-2777-4f9c-c00d-d0ab7a4c3ca5"
      },
      "outputs": [
        {
          "data": {
            "text/plain": [
              "[8, 6, 4, 2, 0, -2, -4, -6, -8]"
            ]
          },
          "execution_count": 2,
          "metadata": {},
          "output_type": "execute_result"
        }
      ],
      "source": [
        "[i for i in range(8, -9, -2)]"
      ]
    },
    {
      "cell_type": "markdown",
      "metadata": {
        "pycharm": {},
        "id": "KMQ89TEN2BQc"
      },
      "source": [
        "### Ej. 2:\n",
        "\n",
        "Generarar por comprención la siguiente lista [1, 2, 4, 8, 16, 32, 64, 128, 256]."
      ]
    },
    {
      "cell_type": "markdown",
      "metadata": {
        "pycharm": {
          "name": "#%% md\n"
        },
        "id": "GO3PeqPG2BQc"
      },
      "source": [
        "#### Solución"
      ]
    },
    {
      "cell_type": "code",
      "execution_count": null,
      "metadata": {
        "pycharm": {
          "is_executing": false
        },
        "id": "mf3Di6A42BQd",
        "outputId": "56bb0de5-5a06-412d-a8d6-659973a798de"
      },
      "outputs": [
        {
          "data": {
            "text/plain": [
              "[1, 2, 4, 8, 16, 32, 64, 128, 256]"
            ]
          },
          "execution_count": 3,
          "metadata": {},
          "output_type": "execute_result"
        }
      ],
      "source": [
        "[2**i for i in range(9)]"
      ]
    },
    {
      "cell_type": "markdown",
      "metadata": {
        "pycharm": {},
        "id": "OhR69u602BQe"
      },
      "source": [
        "### Ej. 3:\n",
        "\n",
        "\n",
        "Generarar por comprención la siguiente lista `[0, 2, 6, 12, 20, 30, 42, 56, 72, 90]`.\n",
        "\n",
        "La serie que genera dicha lista es:\n",
        "\n",
        "$ a_n = a_1 + \\displaystyle \\sum_{n=1}^{n-1} 2n$, donde $n >= 2$ y $a_1 = 0$"
      ]
    },
    {
      "cell_type": "markdown",
      "metadata": {
        "pycharm": {
          "name": "#%% md\n"
        },
        "id": "mpMpU57y2BQe"
      },
      "source": [
        "#### Solución"
      ]
    },
    {
      "cell_type": "markdown",
      "metadata": {
        "pycharm": {},
        "id": "g8VyKixZ2BQe"
      },
      "source": [
        "La serie que genera dicha lista es:\n",
        "\n",
        "$ a_n = a_1 + \\displaystyle \\sum_{n=1}^{n-1} 2n$, para $n >= 2$ y $a_1 = 0$\n",
        "\n",
        "Podemos escribir la serie $a_n$ como:\n",
        "\n",
        "$\\begin{align}\n",
        "a_n & = a_1 + \\sum_{n=1}^{n-1} b_n\\\\\n",
        "& = 0 + 2 \\cdot \\frac{(n-1) \\cdot n}{2}\\\\\n",
        "& = n^2 - n\\\\\n",
        "\\end{align}$"
      ]
    },
    {
      "cell_type": "code",
      "execution_count": null,
      "metadata": {
        "pycharm": {
          "is_executing": false
        },
        "id": "Zw1447rM2BQf",
        "outputId": "2bfd979d-5af2-4647-b95a-0f72cc1068b6"
      },
      "outputs": [
        {
          "data": {
            "text/plain": [
              "[0, 2, 6, 12, 20, 30, 42, 56, 72, 90]"
            ]
          },
          "execution_count": 8,
          "metadata": {},
          "output_type": "execute_result"
        }
      ],
      "source": [
        "[i**2 - i for i in range(1,11)]"
      ]
    },
    {
      "cell_type": "markdown",
      "metadata": {
        "pycharm": {
          "metadata": false,
          "name": "#%% md\n"
        },
        "id": "7QZpxlJe2BQf"
      },
      "source": [
        "### Ej. 4:\n",
        "\n",
        "Escribir un programa, que tome como entrada un *string* del usuario, el cuál debe ser impreso por pantalla en orden reverso. El programa también debe imprimir la palabra \"Bingo!\", si el string ingresado es *palíndromo*."
      ]
    },
    {
      "cell_type": "markdown",
      "metadata": {
        "pycharm": {
          "name": "#%% md\n"
        },
        "id": "jI8P4mJZ2BQf"
      },
      "source": [
        "#### Solución"
      ]
    },
    {
      "cell_type": "code",
      "execution_count": null,
      "metadata": {
        "pycharm": {
          "is_executing": false,
          "metadata": false,
          "name": "#%%\n"
        },
        "id": "i1T3TfqE2BQh"
      },
      "outputs": [],
      "source": [
        "str1=input(\"Escribir una palabra a invertir :\")\n",
        "str2=str1[::-1]\n",
        "print(str2)\n",
        "if str1==str2:\n",
        "    print(\"Bingo!\")"
      ]
    },
    {
      "cell_type": "markdown",
      "metadata": {
        "id": "zwyZLcEU2BQh"
      },
      "source": [
        "### Ej. 5:\n",
        "\n",
        "El siguiente código, tener un lista *mess* creada aleatoriamente. Escribir un programa que ordene la lista. **Nota: NO utilizar las funciones provistas por Python**.  "
      ]
    },
    {
      "cell_type": "code",
      "execution_count": null,
      "metadata": {
        "id": "A5QllzTe2BQi"
      },
      "outputs": [],
      "source": [
        "#---------------Code---------------------#\n",
        "import random\n",
        "\n",
        "mess=[]\n",
        "N=1000\n",
        "for p in range(0,N):\n",
        "    mess.append(random.randrange(0,100000))\n",
        "S=0\n",
        "#----------------------------------------#"
      ]
    },
    {
      "cell_type": "markdown",
      "metadata": {
        "pycharm": {
          "name": "#%% md\n"
        },
        "id": "W6LbJfv82BQi"
      },
      "source": [
        "#### Solución"
      ]
    },
    {
      "cell_type": "code",
      "execution_count": null,
      "metadata": {
        "id": "MRaP259q2BQi"
      },
      "outputs": [],
      "source": [
        "#---------------Code---------------------#\n",
        "import random\n",
        "\n",
        "mess=[]\n",
        "N=20\n",
        "for p in range(0,N):\n",
        "    mess.append(random.randrange(0,100))\n",
        "#----------------------------------------#\n",
        "L=[mess]\n",
        "j=0\n",
        "print(mess)\n",
        "while len(L)<N:\n",
        "    while  j<len(L) and len(L[j])>1:\n",
        "        bol=(len(L[j])==1)\n",
        "        pivot=L[j][0]\n",
        "        minf=[]\n",
        "        msup=[]\n",
        "        meq=[]\n",
        "        print(\"L[j]=\",L[j])\n",
        "        for x in L[j]:\n",
        "            if x<pivot:\n",
        "                minf.append(x)\n",
        "            elif x>pivot:\n",
        "                msup.append(x)\n",
        "            else:\n",
        "                meq.append(x)\n",
        "        L[j]=[meq[0]]\n",
        "        for x in meq[1:]:\n",
        "               L.insert(j,[x])\n",
        "        if len(msup)>0:\n",
        "                L.insert(j+len(meq),msup)\n",
        "        if len(minf)>0:\n",
        "                L.insert(j,minf)\n",
        "        print(\"minf,meq,msup=\",minf,meq,msup)\n",
        "        print(\"L=\",L)\n",
        "\n",
        "        if bol:\n",
        "            j+=1\n",
        "    j+=1\n",
        "    x=x+1\n",
        "\n",
        "Res=[]\n",
        "for x in L:\n",
        "    Res.append(x[0])"
      ]
    },
    {
      "cell_type": "code",
      "execution_count": null,
      "metadata": {
        "id": "8iAIgEw62BQj"
      },
      "outputs": [],
      "source": [
        "mess.sort()\n",
        "Res==mess # True?"
      ]
    },
    {
      "cell_type": "markdown",
      "metadata": {
        "id": "O0dT_nNW2BQj"
      },
      "source": [
        "### Ej. 6:\n",
        "\n",
        "Escribir un programa que dada una frase (en forma de string) retorne la misma frase, pero con la puntuación removida. Ejemplo: dada la frase *'Hola, buen día.'*, el resultado debe ser *'Hola buen dia'*.\n"
      ]
    },
    {
      "cell_type": "markdown",
      "metadata": {
        "pycharm": {
          "name": "#%% md\n"
        },
        "id": "7gAIIFdf2BQj"
      },
      "source": [
        "#### Solución"
      ]
    },
    {
      "cell_type": "code",
      "execution_count": null,
      "metadata": {
        "id": "ehAK-chM2BQj"
      },
      "outputs": [],
      "source": [
        "import string\n",
        "\n",
        "s = \"Hola, buen día!\" # Sample string\n",
        "\n",
        "for c in string.punctuation:\n",
        "    s= s.replace(c,\"\")"
      ]
    },
    {
      "cell_type": "markdown",
      "metadata": {
        "id": "p8Z8Rqrl2BQk"
      },
      "source": [
        "### Ej. 7:\n",
        "\n",
        "Escribir un programa que tome un número entero `n` y calcule la suma de todos cuadrados de los números menores que `n`."
      ]
    },
    {
      "cell_type": "markdown",
      "metadata": {
        "pycharm": {
          "name": "#%% md\n"
        },
        "id": "cHTXpHcI2BQk"
      },
      "source": [
        "#### Solución"
      ]
    },
    {
      "cell_type": "code",
      "execution_count": null,
      "metadata": {
        "id": "PjYvtFUZ2BQk"
      },
      "outputs": [],
      "source": [
        "n = int(input(\"Ingrese un número\"))\n",
        "for i in range(1,n)\n",
        "    res += sqrt(i)\n",
        "\n",
        "print(res)"
      ]
    }
  ],
  "metadata": {
    "kernelspec": {
      "display_name": "Python 3",
      "language": "python",
      "name": "python3"
    },
    "language_info": {
      "codemirror_mode": {
        "name": "ipython",
        "version": 3
      },
      "file_extension": ".py",
      "mimetype": "text/x-python",
      "name": "python",
      "nbconvert_exporter": "python",
      "pygments_lexer": "ipython3",
      "version": "3.8.3"
    },
    "pycharm": {
      "stem_cell": {
        "cell_type": "raw",
        "metadata": {
          "collapsed": false
        },
        "source": []
      }
    },
    "stem_cell": {
      "cell_type": "raw",
      "metadata": {
        "pycharm": {
          "metadata": false
        }
      },
      "source": ""
    },
    "colab": {
      "provenance": [],
      "include_colab_link": true
    }
  },
  "nbformat": 4,
  "nbformat_minor": 0
}