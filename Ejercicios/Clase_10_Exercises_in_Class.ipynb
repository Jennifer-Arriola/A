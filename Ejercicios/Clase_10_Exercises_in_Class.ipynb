{
  "cells": [
    {
      "cell_type": "markdown",
      "metadata": {
        "id": "view-in-github",
        "colab_type": "text"
      },
      "source": [
        "<a href=\"https://colab.research.google.com/github/Jennifer-Arriola/Algoritmos/blob/main/Ejercicios/Clase_10_Exercises_in_Class.ipynb\" target=\"_parent\"><img src=\"https://colab.research.google.com/assets/colab-badge.svg\" alt=\"Open In Colab\"/></a>"
      ]
    },
    {
      "cell_type": "markdown",
      "metadata": {
        "id": "4kRePhoiBQjC"
      },
      "source": [
        "# Algoritmos y Estructuras de Datos.\n",
        "\n",
        "## - Clase 10 - Algoritmos de Busqueda y Ordenamiento -"
      ]
    },
    {
      "cell_type": "markdown",
      "metadata": {
        "id": "1Fjv_fS0BQjH"
      },
      "source": [
        "### Ejercicios:"
      ]
    },
    {
      "cell_type": "markdown",
      "metadata": {
        "id": "aMuFT5SYBQjI"
      },
      "source": [
        "\n",
        "\n",
        "<br>\n",
        "<font size=\"3\">\n",
        "&emsp;    Implementar algún algoritmo de busqueda y ordenamiento para los siguientes tipos listas enlazadas.\n",
        "</font>\n",
        "<br>            \n",
        "<br>              \n"
      ]
    },
    {
      "cell_type": "markdown",
      "metadata": {
        "id": "gGdjZfTRBQjM"
      },
      "source": [
        "Qué necesitamos:\n",
        "\n",
        "- Una lista enlazada de base.\n",
        "    \n",
        "    \n",
        "- Una función para comparar Nodos de la lista (en base a sus elemntos).\n",
        "    - Sobrecarga del operador \"==\", es decir el método <code>\\_\\_eq\\_\\_</code>\n",
        "    - Buscar otros métodos útiles\n",
        "    "
      ]
    },
    {
      "cell_type": "markdown",
      "metadata": {
        "id": "VjB036KcBQjN"
      },
      "source": [
        "### Listas doblemente enlazadas\n",
        "\n",
        "En una *lista doblemente enlazada* los nodos cuentan no sólo con una referencia al siguiente, sino también con una referencia al anterior. Esto permite que la lista pueda ser recorrida en ambas direcciones fácilmente.\n",
        "\n",
        "\n",
        "En una lista doblemente enlazada, es posible, por ejemplo, eliminar un nodo, teniendo únicamente ese nodo, sin necesidad de saber también cuál es el anterior.\n",
        "\n",
        "Entre las desventajas podemos mencionar que al tener que mantener dos referencias el código se vuelve más complejo, y también que ocupa más espacio en memoria.\n",
        "\n",
        "Representación Gráfica:\n",
        "\n",
        "<img src=\"https://drive.google.com/uc?id=1O2qDVivqqHAnjFaAfUAqByipAFm1yS67\" style=\"width: 600px;\" />\n",
        "\n",
        "Inserción en la cabezera:\n",
        "\n",
        "<img src=\"https://drive.google.com/uc?id=1PXZPF5kdcyXnrsTsf8VXL-8ARo7UiFzA\" style=\"width: 600px;\" />\n",
        "\n",
        "Inserción en la lista:\n",
        "\n",
        "<img src=\"https://drive.google.com/uc?id=1qv_TnJJfav5yvCej4WxZWqjYqJos5kbM\" style=\"width: 600px;\" />\n",
        "\n",
        "Borrar elementos:\n",
        "\n",
        "<img src=\"https://drive.google.com/uc?id=1SnLz2xUvBFKmlbfHBpST87pNhw_Mpu7E\" style=\"width: 600px;\" />\n",
        "\n"
      ]
    },
    {
      "cell_type": "markdown",
      "metadata": {
        "id": "Z0GoYxkwBQjO"
      },
      "source": [
        "$~$"
      ]
    },
    {
      "cell_type": "markdown",
      "metadata": {
        "id": "5xFpUetfBQjP"
      },
      "source": [
        "### Listas circulares\n",
        "\n",
        "En las listas circulares, el último nodo contiene una referencia al primero. Pueden ser tanto simplemente como doblemente enlazadas.\n",
        "\n",
        "Se las utiliza para modelar situaciones en las cuales los elementos no tienen un primero o\n",
        "un último, sino que forman una cadena infinita, que se recorre una y otra vez.\n",
        "\n",
        "\n",
        "Representación Gráfica:\n",
        "\n",
        "<img src=\"https://drive.google.com/uc?id=1cwSRqYabU0h0RQyUqjGvrpVDceeFA9Bd\" style=\"width: 600px;\" />\n",
        "\n",
        "<img src=\"https://drive.google.com/uc?id=1now7__MEMxuTRtASKXaIuXGVtmhLSUdF\" style=\"width: 600px;\" />\n"
      ]
    },
    {
      "cell_type": "markdown",
      "metadata": {
        "id": "_Tc_E3THBQjQ"
      },
      "source": [
        "$~$"
      ]
    },
    {
      "cell_type": "markdown",
      "metadata": {
        "id": "MU0cu0bGBQjR"
      },
      "source": [
        "### Ejercicios Complementarios:\n",
        "\n",
        "<br>\n",
        "<font size=\"3\">\n",
        "<ul>\n",
        "  <li>&emsp;  Implementar la inserción y remoción de elementos en ambos tipos de listas.</li>\n",
        "  <br>\n",
        "    <li>&emsp;  Impementar una <b><i>lista circular doblemente enlazada</i></b>.</li>\n",
        "</ul>  \n",
        "</font>\n",
        "<br>            \n",
        "<br>              \n"
      ]
    }
  ],
  "metadata": {
    "kernelspec": {
      "display_name": "Python 3",
      "language": "python",
      "name": "python3"
    },
    "language_info": {
      "codemirror_mode": {
        "name": "ipython",
        "version": 3
      },
      "file_extension": ".py",
      "mimetype": "text/x-python",
      "name": "python",
      "nbconvert_exporter": "python",
      "pygments_lexer": "ipython3",
      "version": "3.8.3"
    },
    "colab": {
      "provenance": [],
      "include_colab_link": true
    }
  },
  "nbformat": 4,
  "nbformat_minor": 0
}