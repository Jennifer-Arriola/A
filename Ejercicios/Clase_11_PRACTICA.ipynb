{
  "cells": [
    {
      "cell_type": "markdown",
      "metadata": {
        "id": "view-in-github",
        "colab_type": "text"
      },
      "source": [
        "<a href=\"https://colab.research.google.com/github/Jennifer-Arriola/Algoritmos/blob/main/Ejercicios/Clase_11_PRACTICA.ipynb\" target=\"_parent\"><img src=\"https://colab.research.google.com/assets/colab-badge.svg\" alt=\"Open In Colab\"/></a>"
      ]
    },
    {
      "cell_type": "markdown",
      "metadata": {
        "id": "7q3fmhqwRWL3"
      },
      "source": [
        "# Algoritmos y Estructuras de Datos.\n",
        "\n",
        "## - Clase 11 - Archivos -"
      ]
    },
    {
      "cell_type": "markdown",
      "metadata": {
        "id": "1Zkjd__YRWL8"
      },
      "source": [
        "# Ejercicios."
      ]
    },
    {
      "cell_type": "markdown",
      "metadata": {
        "id": "tOj48gxSRWL9"
      },
      "source": [
        "## Ejercicio 1:\n",
        "\n",
        "Escribir un algoritmo en donde el usuario debe escribir una frase, la cual será guardada en un archivo (de texto). Luego el algoritmo continuará solicitando frases a escribir/guardar hasta que el usuario escribe \"FiNaL-de-ArChIvO\" (sin comillas).\n"
      ]
    },
    {
      "cell_type": "code",
      "execution_count": null,
      "metadata": {
        "id": "s5k13BVpRWL-"
      },
      "outputs": [],
      "source": []
    },
    {
      "cell_type": "markdown",
      "metadata": {
        "id": "5bte8rwaRWL_"
      },
      "source": [
        "## Ejercicio 2:\n",
        "\n",
        "Generar un archivo con un rango de enteros positivos que se ingresan por teclado. Recorrer el archivo y mostrarlos en pantalla en forma de listado.\n",
        "   "
      ]
    },
    {
      "cell_type": "code",
      "execution_count": null,
      "metadata": {
        "id": "j9AkTyheRWL_"
      },
      "outputs": [],
      "source": []
    },
    {
      "cell_type": "markdown",
      "metadata": {
        "id": "fc-_j7QhRWMA"
      },
      "source": [
        "## Ejercicio 3:\n",
        "\n",
        "Generar 2 archivos, el primero con números pares y el segundo con números impares (aleatorios/random). Luego generar un tercer archivo que contenga los números de ambos archivos ordenados de menor a mayor.\n"
      ]
    },
    {
      "cell_type": "code",
      "execution_count": null,
      "metadata": {
        "id": "fB_7Pri4RWMA"
      },
      "outputs": [],
      "source": []
    },
    {
      "cell_type": "markdown",
      "metadata": {
        "id": "HkNmBoFTRWMB"
      },
      "source": [
        "## Ejercicio 4:\n",
        "\n",
        "Generar un archivo de agenda que contenga los datos típicos de una persona. Realizar los procedimientos de creación, modificación y búsqueda por nombre y apellido.\n"
      ]
    },
    {
      "cell_type": "code",
      "execution_count": null,
      "metadata": {
        "id": "SbEem5FVRWMB"
      },
      "outputs": [],
      "source": []
    },
    {
      "cell_type": "markdown",
      "metadata": {
        "id": "Fy1pxgMQRWMC"
      },
      "source": [
        "## Ejercicio 5:\n",
        "\n",
        "Realizar un programa que muestre un archivo de texto, si el archivo es muy grande para entrar en la pantalla, el programa debe “paginarlo”.\n",
        "\n",
        "*Nota: Funcionalidad similar al programa utilitario <code>more</code> (MS. D.O.S.) o <code>less</code> (Linux).*\n"
      ]
    },
    {
      "cell_type": "markdown",
      "metadata": {
        "id": "A8UMeTj8RWMD"
      },
      "source": [
        "## Ejercicio 6:\n",
        "\n",
        "Realice un par de funciónes o métodos que permitan guardar y recuperar el contenido de una Lista Enlazada (u otra estructura de datos lineal) en un archivo.\n"
      ]
    },
    {
      "cell_type": "code",
      "execution_count": null,
      "metadata": {
        "id": "dXpSyRHrRWMD"
      },
      "outputs": [],
      "source": []
    },
    {
      "cell_type": "markdown",
      "metadata": {
        "id": "SQpfRHqFRWMD"
      },
      "source": [
        "## Ejercicio 7:\n",
        "\n",
        "Escribir un algoritmo que permita listar los contenidos de un directorio.\n",
        "\n",
        "*Nota: Funcionalidad similar al programa utilitario <code>dir</code> (MS. D.O.S.) o <code>ls</code> (Linux).*\n"
      ]
    },
    {
      "cell_type": "code",
      "execution_count": null,
      "metadata": {
        "id": "MphVt2sORWME"
      },
      "outputs": [],
      "source": []
    },
    {
      "cell_type": "markdown",
      "metadata": {
        "id": "HupOdxiQRWME"
      },
      "source": [
        "## Ejercicio 8:\n",
        "\n",
        "Escribir un algoritmo que permita mover un directorio--desde su path actual a un nuevo path--utiizando solamente los métodos/funciones: <code>mkdir</code>, <code>rmdir</code>, <code>remove</code>, y/o <code>copyfile</code>.\n",
        "\n",
        "*Aclaración:  NO utlizar otras funciones/métodos del módulo <code>shutil</code>.*\n"
      ]
    },
    {
      "cell_type": "code",
      "execution_count": null,
      "metadata": {
        "id": "CXKdOhNdRWME"
      },
      "outputs": [],
      "source": []
    },
    {
      "cell_type": "markdown",
      "metadata": {
        "id": "WKJM1tcyRWME"
      },
      "source": [
        "## Ejercicio 9:\n",
        "\n",
        "Escribir un algoritmo en donde el usuario debe escribir una frase, la cual sera guardada en un archivo binario. Luego leer el archivo y mostrar su contenido por pantalla.\n"
      ]
    },
    {
      "cell_type": "code",
      "execution_count": null,
      "metadata": {
        "id": "x5r14QJ3RWMF"
      },
      "outputs": [],
      "source": []
    },
    {
      "cell_type": "markdown",
      "metadata": {
        "id": "sRSAE_E8RWMF"
      },
      "source": [
        "## Ejercicio 10:\n",
        "\n",
        "Escribir un algoritmo en donde el usuario debe escribir una serie de numeros separados por coma (uno o mas), los cuales seran guardadados en un archivo binario. Luego el algoritmo continua solicitando numeros a guardar cuando el usuario escribe \"0/0\" (sin comillas). Luego leer el archivo y mostrar los datos por pantalla.\n"
      ]
    },
    {
      "cell_type": "code",
      "execution_count": null,
      "metadata": {
        "id": "LzX8fDM8RWMF"
      },
      "outputs": [],
      "source": []
    },
    {
      "cell_type": "markdown",
      "metadata": {
        "id": "_DVhWZoNRWMF"
      },
      "source": [
        "## Ejercicio 11:\n",
        "\n",
        "Elegir un tipo de dato de los que hemos visto (e.g. Mascota, Persona, etc.), ó crear uno nuevo. Luego escribir un algoritmo que permita guardar y leer una colección (i.e. tupla, listas, diccionario, etc.) de este tipo de dato en un archivo binario.\n"
      ]
    },
    {
      "cell_type": "code",
      "execution_count": null,
      "metadata": {
        "id": "cZ_ULNunRWMG"
      },
      "outputs": [],
      "source": []
    }
  ],
  "metadata": {
    "kernelspec": {
      "display_name": "Python 3",
      "language": "python",
      "name": "python3"
    },
    "language_info": {
      "codemirror_mode": {
        "name": "ipython",
        "version": 3
      },
      "file_extension": ".py",
      "mimetype": "text/x-python",
      "name": "python",
      "nbconvert_exporter": "python",
      "pygments_lexer": "ipython3",
      "version": "3.8.3"
    },
    "colab": {
      "provenance": [],
      "include_colab_link": true
    }
  },
  "nbformat": 4,
  "nbformat_minor": 0
}