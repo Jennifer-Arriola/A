{
  "cells": [
    {
      "cell_type": "markdown",
      "metadata": {
        "id": "view-in-github",
        "colab_type": "text"
      },
      "source": [
        "<a href=\"https://colab.research.google.com/github/Jennifer-Arriola/Algoritmos/blob/main/Ejercicios/Clase_12_Example%20(ejemplo).ipynb\" target=\"_parent\"><img src=\"https://colab.research.google.com/assets/colab-badge.svg\" alt=\"Open In Colab\"/></a>"
      ]
    },
    {
      "cell_type": "markdown",
      "metadata": {
        "id": "7MSgDoNlTKNv"
      },
      "source": [
        "# Ejemplo:\n"
      ]
    },
    {
      "cell_type": "code",
      "execution_count": null,
      "metadata": {
        "id": "KSSW8N_MTKN4"
      },
      "outputs": [],
      "source": [
        "# Secuencia de Fibonacci.\n",
        "def Fibo(n):\n",
        "    \"Definición: F(n)=F(n-1)+F(n-2), F(1)=F(0)=1\"\n",
        "    if n<0:\n",
        "        raise ValueError(\"Fibonacci terms begin at 0\") # sin este error, Fibo(-1) etrara en un ciclo eterno.\n",
        "    if n==0:\n",
        "        return 1 # Primer caso base\n",
        "    elif n==1:\n",
        "        return 1 # Segundo caso base\n",
        "    else:\n",
        "        return Fibo(n-1)+Fibo(n-2) # Esta es la llamada recursiva"
      ]
    },
    {
      "cell_type": "code",
      "execution_count": null,
      "metadata": {
        "id": "qXUcojLiTKN7",
        "outputId": "b5d00b82-76f3-4ad1-9083-31ec7c0adfd8"
      },
      "outputs": [
        {
          "data": {
            "text/plain": [
              "165580141"
            ]
          },
          "execution_count": 20,
          "metadata": {},
          "output_type": "execute_result"
        }
      ],
      "source": [
        "Fibo(40)"
      ]
    },
    {
      "cell_type": "code",
      "execution_count": null,
      "metadata": {
        "id": "SL31mSujTKN9"
      },
      "outputs": [],
      "source": [
        "# Ejemplo: Fibonacci Iterativo\n",
        "def Fiboiter(n):\n",
        "    if n<0:\n",
        "        raise ValueError(\"La secuencia de Fibonacci comienza en '0'\") # si no comprabos que el parámetro es un\n",
        "                                                                      # nro. entero, por ejemplo, llamar a Fibo(-1)\n",
        "                                                                      # causara que la función nunca termine.\n",
        "    elif n==0:\n",
        "        return 1 # Primer caso base\n",
        "    elif n==1:\n",
        "        return 1 # Segundo caso base\n",
        "    else:\n",
        "        x=1 # elemento 0\n",
        "        y=1 # elemento 1ro\n",
        "        for i in range(1,n):\n",
        "            # elemento 'x' i-1-esimo, e 'y' sera el i-esimo elemento\n",
        "            x,y=y,x+y\n",
        "            # elemento 'x' i-esimo, e 'y' sera el i+1-esimo elemento\n",
        "        return y"
      ]
    },
    {
      "cell_type": "code",
      "execution_count": null,
      "metadata": {
        "id": "icpZuiFGTKN-",
        "outputId": "9fb0ef6a-a868-4e58-8283-8133262d19de"
      },
      "outputs": [
        {
          "name": "stdout",
          "output_type": "stream",
          "text": [
            "1 1\n",
            "1 2\n",
            "2 5\n",
            "3 10\n",
            "5 19\n",
            "8 34\n",
            "13 59\n",
            "21 100\n",
            "34 167\n",
            "55 276\n"
          ]
        }
      ],
      "source": [
        "# Secuencia de Fibonacci contando la cantidad de llamaradas recursivas\n",
        "t=0\n",
        "def Fibo(n):\n",
        "    \"\"\"n debe ser un número entero\n",
        "    \"F(n)=F(n-1)+F(n-2), F(1)=F(0)=1\"\"\"\n",
        "    global t # la variable t será considerada como global\n",
        "    t+=1     # hacemos algo con t\n",
        "    if n<0:\n",
        "        raise ValueError(\"Fibonacci terms begin at 0\")\n",
        "    elif n==0:\n",
        "        return 1\n",
        "    elif n==1:\n",
        "        return 1\n",
        "    else:\n",
        "        return Fibo(n-1)+Fibo(n-2)\n",
        "# Es posible estimar la cantidad de llamadas a la función?\n",
        "for i in range(10):\n",
        "    print(Fibo(i), t)"
      ]
    },
    {
      "cell_type": "code",
      "execution_count": null,
      "metadata": {
        "id": "bhOae_p1TKN-",
        "outputId": "ead9a16f-36fa-4f1c-865b-079b12df4717"
      },
      "outputs": [
        {
          "name": "stdout",
          "output_type": "stream",
          "text": [
            "1 1\n",
            "1 2\n",
            "1 3\n",
            "2 6\n",
            "3 8\n",
            "5 14\n",
            "8 17\n",
            "13 27\n",
            "21 31\n",
            "34 46\n"
          ]
        }
      ],
      "source": [
        "t=0\n",
        "res = {}\n",
        "def Fibo(n):\n",
        "    \"\"\"n debe ser un número entero\n",
        "    \"F(n)=F(n-1)+F(n-2), F(1)=F(0)=1\"\"\"\n",
        "    global t,res # la variable t será considerada como global\n",
        "    t+=1     # hacemos algo con t\n",
        "    if n<0:\n",
        "        raise ValueError(\"Fibonacci terms begin at 0\")\n",
        "    elif n==0:\n",
        "        res[0] = 1\n",
        "        return 1\n",
        "    elif n==1:\n",
        "        res[1] = 0\n",
        "        return 1\n",
        "    else:\n",
        "        if n-1 in res.keys():\n",
        "            if n-2 in res.keys():\n",
        "                return res[n-1] + res[n-2]\n",
        "            else:\n",
        "                return Fibo(n-2) + res[n-1]\n",
        "        temp =  Fibo(n-1)+Fibo(n-2)\n",
        "        res.update({n:temp})\n",
        "        return temp\n",
        "\n",
        "for i in range(10):\n",
        "    print(Fibo(i), t)"
      ]
    },
    {
      "cell_type": "code",
      "execution_count": null,
      "metadata": {
        "id": "d7hub0DNTKN_",
        "outputId": "10c92491-04fb-427a-c76d-a5620665500e"
      },
      "outputs": [
        {
          "data": {
            "text/plain": [
              "102334155"
            ]
          },
          "execution_count": 18,
          "metadata": {},
          "output_type": "execute_result"
        }
      ],
      "source": [
        "Fibo(40)"
      ]
    }
  ],
  "metadata": {
    "kernelspec": {
      "display_name": "Python 3",
      "language": "python",
      "name": "python3"
    },
    "language_info": {
      "codemirror_mode": {
        "name": "ipython",
        "version": 3
      },
      "file_extension": ".py",
      "mimetype": "text/x-python",
      "name": "python",
      "nbconvert_exporter": "python",
      "pygments_lexer": "ipython3",
      "version": "3.7.4"
    },
    "vscode": {
      "interpreter": {
        "hash": "aee8b7b246df8f9039afb4144a1f6fd8d2ca17a180786b69acc140d282b71a49"
      }
    },
    "colab": {
      "provenance": [],
      "include_colab_link": true
    }
  },
  "nbformat": 4,
  "nbformat_minor": 0
}