{
  "cells": [
    {
      "cell_type": "markdown",
      "metadata": {
        "id": "view-in-github",
        "colab_type": "text"
      },
      "source": [
        "<a href=\"https://colab.research.google.com/github/Jennifer-Arriola/Algoritmos/blob/main/Ejercicios/Clase_11_ejer_en_Clase.ipynb\" target=\"_parent\"><img src=\"https://colab.research.google.com/assets/colab-badge.svg\" alt=\"Open In Colab\"/></a>"
      ]
    },
    {
      "cell_type": "markdown",
      "metadata": {
        "id": "KgtLMK9WRx09"
      },
      "source": [
        "## PRÁCTICA Tipos de Datos No-Lineales"
      ]
    },
    {
      "cell_type": "markdown",
      "metadata": {
        "id": "VDSjkIcZRx1C"
      },
      "source": [
        "### Ejercicio 2\n",
        "\n",
        "   a) Nos piden que definamos una clase \"Persona\", la cual tenga como atributos el **nombre**, el **apellido** la **fecha de nacimiento**, la **dirección**, el **teléfono** y el **email** de una persona.\n",
        "   \n",
        "   b) Además deberemos declarar el método **age()** dentro de la clase que nos devuelva la edad de la persona *'calculándolo con la fecha actual'* (pista: debemos importar el módulo 'datetime')\n",
        "   \n",
        "   c) Modifiquemos la clase agregando un atributo edad que se calcule cuando se instancie la clase y se actualice cada vez que se llame al método **age()**"
      ]
    },
    {
      "cell_type": "markdown",
      "metadata": {
        "id": "HxihAJMxRx1D"
      },
      "source": [
        "##### Solución:"
      ]
    },
    {
      "cell_type": "code",
      "execution_count": null,
      "metadata": {
        "id": "YtMliNmaRx1E"
      },
      "outputs": [],
      "source": [
        "import datetime\n",
        "\n",
        "class Persona:\n",
        "\n",
        "    today = datetime.date.today()\n",
        "\n",
        "    def __init__(self, nombre, apellido, fchNac, direcc, tel, email):\n",
        "        self.nombre = nombre\n",
        "        self.apellido = apellido\n",
        "        self.fechaNacimiento = fchNac\n",
        "        self.direccion = direcc\n",
        "        self.telefono = tel\n",
        "        self.email = email\n",
        "        self.edad = today - self.fechaNacimiento\n",
        "\n",
        "    def age(self):\n",
        "        return datetime.date.today() - self.fechaNacimiento\n",
        "\n",
        "    def __str__(self):\n",
        "        return 'Mi nombre es ' + self.nombre + self.apellido"
      ]
    },
    {
      "cell_type": "markdown",
      "metadata": {
        "id": "MDr-bhKYRx1G"
      },
      "source": [
        "### Ejercicio 3\n",
        "\n",
        " - a) Crear la clase \"Mascota\", la misma deberá tener un atributo que sea el nombre de la mascota y una función que imprima un saludo 'de pata'\n",
        "\n",
        " - b) A la clase persona agregarle una lista de sus mascotas y un método para agregarle una nueva mascota a la lista (por ahora no mueren ni se eliminan)"
      ]
    },
    {
      "cell_type": "markdown",
      "metadata": {
        "id": "UnEI6r-zRx1G"
      },
      "source": [
        "##### Solución:"
      ]
    },
    {
      "cell_type": "code",
      "execution_count": null,
      "metadata": {
        "id": "v-9XBY5mRx1G"
      },
      "outputs": [],
      "source": [
        "\n",
        "import datetime\n",
        "\n",
        "class Mascota:\n",
        "\n",
        "    def __init__(self, nombre):\n",
        "        self.nombre = nombre\n",
        "\n",
        "    def saludoDePata(self):\n",
        "        print(f\"¡{self.nombre} está saludando con las patas!\")\n",
        "\n",
        "    def __str__(self):\n",
        "        return 'Hola soy la mascota: ' + self.nombre\n",
        "\n",
        "##### ---- CLASE PERSONA ---- ####\n",
        "class Persona:\n",
        "\n",
        "    today = datetime.date.today()\n",
        "\n",
        "    def __init__(self, nombre, apellido, fchNac, direcc, tel, email, mascotas = []):\n",
        "        self.nombre = nombre\n",
        "        self.apellido = apellido\n",
        "        self.fechaNacimiento = fchNac\n",
        "        self.direccion = direcc\n",
        "        self.telefono = tel\n",
        "        self.email = email\n",
        "        self.mascotas = mascotas\n",
        "\n",
        "    def adoptarMascota(self, mascota):\n",
        "        self.mascotas.append(mascota)\n",
        "\n",
        "    def age(self):\n",
        "        return datetime.date.today() - self.fechaNacimiento\n",
        "\n",
        "    def __str__(self):\n",
        "        ms = ''\n",
        "        for m in self.mascotas:\n",
        "            ms += str(m) + '\\n'\n",
        "        return 'Mi nombre es ' + self.nombre + '\\n Mis mascotas son: \\n' + ms\n"
      ]
    },
    {
      "cell_type": "code",
      "execution_count": null,
      "metadata": {
        "id": "ULX9KYzCRx1H"
      },
      "outputs": [],
      "source": [
        "# Datos de Ejemplo\n",
        "\n",
        "perro = Mascota('Ayudante de Santa')\n",
        "gato = Mascota('Bola de Nieve II')\n",
        "\n",
        "persona1 = Persona(\"Persona 1\", \"apellido 1\", datetime.date(1997, 4, 13), \"Calle 7\", 123456, 'email@email.com', [perro,gato])\n",
        "persona2 = Persona(\"Persona 2\", \"apellido 2\", datetime.date(2001, 6, 15), \"Calle 7\", 123456, 'email@email.com', [perro])\n",
        "persona3 = Persona(\"Persona 3\", \"apellido 3\", datetime.date(1980, 12, 2), \"Calle 7\", 123456, 'email@email.com', [gato])\n",
        "\n",
        "#perro.saludoDePata()\n",
        "#gato.saludoDePata()\n",
        "\n",
        "# Acceder a una propiedad dentro de la clase\n",
        "print(persona1)\n",
        "print()\n",
        "print(persona2)\n",
        "print()\n",
        "print(persona3)"
      ]
    },
    {
      "cell_type": "markdown",
      "metadata": {
        "id": "_Ref9yDLRx1H"
      },
      "source": [
        "## PRÁCTICA Estructuras de Datos Lineales"
      ]
    },
    {
      "cell_type": "markdown",
      "metadata": {
        "id": "3Y78If-ORx1H"
      },
      "source": [
        "### Ejercicio 1\n",
        "\n",
        "Implementar una Pila utilizando la siguiente definición de una *Lista 'Simple' Enlazada*. Utilizar el prototipo de la clase Lista Simple Enlazada mostrado a continuación."
      ]
    },
    {
      "cell_type": "markdown",
      "metadata": {
        "id": "OBSn6_LgRx1I"
      },
      "source": [
        "##### Solución:"
      ]
    },
    {
      "cell_type": "code",
      "execution_count": null,
      "metadata": {
        "id": "Mer4SU6gRx1I"
      },
      "outputs": [],
      "source": [
        "class Node:\n",
        "    \"\"\"Clase Nodo.\"\"\"\n",
        "    __slots__ = '_element', '_next' # optimiza el uso de memoria\n",
        "\n",
        "    def __init__(self, element, prox = None):\n",
        "        self._element = element # inicializar el contenido del Nodo\n",
        "        self._next = prox       #referencia al siguiente Nodo\n",
        "\n",
        "class Pila:\n",
        "    \"\"\"Clase Lista 'Simplemente' Enlazada.\"\"\"\n",
        "\n",
        "    def __init__(self):\n",
        "        \"\"\"Crea una Pila Vacia.\"\"\"\n",
        "        self._head = None  #referencia a la \"cabeza\" de la lista\n",
        "        self._size = 0     #cantidad de elementos\n",
        "\n",
        "\n",
        "    def __len__(self):\n",
        "        \"\"\"Retorna el numero de elementos de la Pila.\"\"\"\n",
        "        return self._size\n",
        "\n",
        "    def is_empty(self):\n",
        "        \"\"\"Retorna VERDADERO si la Pila esta Vacia.\"\"\"\n",
        "        return self._size == 0\n",
        "\n",
        "    #----------- Métodos de la Pila ----------- #\n",
        "\n",
        "    def push(self, elem):\n",
        "        nuevo = Node(elem)\n",
        "        # Insertar al principio\n",
        "        nuevo._next = self._head\n",
        "        self._head = nuevo\n",
        "        self._size += 1\n",
        "\n",
        "    def pop(self):\n",
        "        \"\"\" Devuelve el elemento tope y lo elimina de la pila.\n",
        "            Si la pila está vacía levanta una excepción. \"\"\"\n",
        "        if self._size == 0:\n",
        "            raise ValueError(\"Pila vacía\")\n",
        "        dato = self._head._element\n",
        "        self._head = self._head._next\n",
        "        self._size -= 1\n",
        "        return dato\n",
        "\n",
        "    def top(self) : pass    # COMPLETAR #\n",
        "\n",
        "\n",
        ""
      ]
    },
    {
      "cell_type": "code",
      "execution_count": null,
      "metadata": {
        "id": "QoeKUCT8Rx1J"
      },
      "outputs": [],
      "source": [
        "p = Pila()\n",
        "p.is_empty()\n",
        "p.push(1)\n",
        "p.is_empty()\n",
        "p.push(5)\n",
        "p.push(\"+\")\n",
        "p.push(23)\n",
        "p.pop()"
      ]
    },
    {
      "cell_type": "markdown",
      "metadata": {
        "id": "mvdVp9E8Rx1J"
      },
      "source": [
        "## PRÁCTICA Algoritmos de Búsqueda y Ordenamiento"
      ]
    },
    {
      "cell_type": "markdown",
      "metadata": {
        "id": "HdIFdgM1Rx1J"
      },
      "source": [
        "### Ejercicio 1: Búsqueda Ternaria\n",
        "\n",
        "link: https://es.wikipedia.org/wiki/B%C3%BAsqueda_ternaria\n",
        "\n",
        "La **búsqueda ternaria** determina que el extremo que se busca, no puede estar en el primer tercio del dominio o que no puede estar en el último tercio del dominio, luego se repite el proceso en los dos tercios restantes. Es decir, dividiremos la lista en 3 *'sub-listas'*.\n",
        "\n",
        "    a) Implementar el Algoritmo de Búsqueda Ternaria."
      ]
    },
    {
      "cell_type": "markdown",
      "metadata": {
        "id": "Am1i-XKgRx1J"
      },
      "source": [
        "##### Solución:"
      ]
    },
    {
      "cell_type": "code",
      "execution_count": null,
      "metadata": {
        "id": "X73H9MuuRx1K"
      },
      "outputs": [],
      "source": [
        "\n",
        "def busqueda_ternaria(lista, x):\n",
        "\n",
        "    izq = 0 # izq guarda el indice del comienzo del segmento\n",
        "    der = len(lista) - 1 # der guarda el indice del fin del segmento\n",
        "\n",
        "     # un segmento es vacío cuando izq\n",
        "    while izq <= der:\n",
        "         # los puntos medios de los segmentos\n",
        "        medio1 = int(izq + (der - izq)/3)\n",
        "        medio2 = int(der - (der - izq)/3)\n",
        "\n",
        "        print(\"DEBUG:\", \"izq:\", izq, \"der:\", der, \"medio1:\", medio1, \"medio2\", medio2)\n",
        "         # si algún medio es igual al valor buscado, lo devuelve\n",
        "        if lista[medio1] == x:\n",
        "            return medio1\n",
        "        elif lista[medio2] == x:\n",
        "            return medio2\n",
        "        # si el valor del punto medio es mayor que x, sigue buscando\n",
        "        # en el segmento de la izquierda: [izq, medio-1], descartando la\n",
        "        # derecha\n",
        "        # izq < m1 < m2 < der\n",
        "        elif lista[medio1] > x:\n",
        "            der = medio1 - 1\n",
        "        elif lista[medio2] > x:\n",
        "            der = medio2 - 1\n",
        "        elif lista[medio1] < x:\n",
        "            izq = medio1 + 1\n",
        "        elif lista[medio2] < x:\n",
        "            izq = medio2 + 1\n",
        "        # sino, sigue buscando en el segmento de la derecha:\n",
        "        # [medio+1, der], descartando la izquierda\n",
        "        else: pass\n",
        "         # si no salió del ciclo, vuelve a iterar con el nuevo segmento\n",
        "\n",
        "     # salió del ciclo de manera no exitosa: el valor no fue encontrado\n",
        "    return -1\n"
      ]
    },
    {
      "cell_type": "code",
      "execution_count": null,
      "metadata": {
        "id": "SIYha5r7Rx1K"
      },
      "outputs": [],
      "source": [
        "lista = [1, 3, 5, 7, 9, 11, 13, 15, 17, 19, 21, 23]\n",
        "x = 5\n",
        "resultado = busqueda_ternaria(lista, x)\n",
        "print(\"Resultado: \", resultado)\n",
        "    #lista = input (\"Dame una lista ordenada ([[]] para terminar): \")"
      ]
    },
    {
      "cell_type": "markdown",
      "metadata": {
        "id": "6RHNuFiaRx1K"
      },
      "source": [
        "## PRÁCTICA Archivos"
      ]
    },
    {
      "cell_type": "markdown",
      "metadata": {
        "id": "qooePwE1Rx1L"
      },
      "source": [
        "### Ejercicio 1\n",
        "\n",
        "Escribir un algoritmo en donde el usuario debe escribir una frase, la cual sera guardada en un archivo binario. Luego leer el archivo y mostrar su contenido por pantalla."
      ]
    },
    {
      "cell_type": "markdown",
      "metadata": {
        "id": "O-SKgIt1Rx1L"
      },
      "source": [
        "##### Varias Soluciones:"
      ]
    },
    {
      "cell_type": "code",
      "execution_count": null,
      "metadata": {
        "id": "_uULl7PzRx1L"
      },
      "outputs": [],
      "source": [
        "import pickle\n",
        "\n",
        "frase = input(\"Introduce una frase: \")\n",
        "\n",
        "f = open('frase.txt', 'wb')\n",
        "pickle.dump(frase, f)\n",
        "f.close()\n",
        "\n",
        "f = open('frase.txt', 'rb')\n",
        "resultado = pickle.load(f)\n",
        "f.close()\n",
        "print(resultado)"
      ]
    },
    {
      "cell_type": "code",
      "execution_count": null,
      "metadata": {
        "id": "Mvgf0sGoRx1M"
      },
      "outputs": [],
      "source": [
        "frase = input(\"Introduce una frase: \")\n",
        "\n",
        "with open('dummy0.txt','wb') as g:\n",
        "    for c in frase:\n",
        "        g.write(bytes(c,'utf-8'))\n",
        "\n",
        "with open('dummy0.txt','rb') as g:\n",
        "    print(g.read())"
      ]
    },
    {
      "cell_type": "code",
      "execution_count": null,
      "metadata": {
        "id": "OM_NnY-zRx1N"
      },
      "outputs": [],
      "source": [
        "frase = input(\"Introduce una frase: \")\n",
        "\n",
        "with open('prueba.bin', 'wb') as file:\n",
        "    file.write(frase.encode())\n",
        "\n",
        "with open('prueba.bin', 'rb') as lectura:\n",
        "    salida = lectura.read()\n",
        "    print(salida.decode())"
      ]
    }
  ],
  "metadata": {
    "kernelspec": {
      "display_name": "Python 3",
      "language": "python",
      "name": "python3"
    },
    "language_info": {
      "codemirror_mode": {
        "name": "ipython",
        "version": 3
      },
      "file_extension": ".py",
      "mimetype": "text/x-python",
      "name": "python",
      "nbconvert_exporter": "python",
      "pygments_lexer": "ipython3",
      "version": "3.8.3"
    },
    "colab": {
      "provenance": [],
      "include_colab_link": true
    }
  },
  "nbformat": 4,
  "nbformat_minor": 0
}