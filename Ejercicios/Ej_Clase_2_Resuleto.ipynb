{
  "cells": [
    {
      "cell_type": "markdown",
      "metadata": {
        "id": "view-in-github",
        "colab_type": "text"
      },
      "source": [
        "<a href=\"https://colab.research.google.com/github/Jennifer-Arriola/Algoritmos/blob/main/Ejercicios/Ej_Clase_2_Resuleto.ipynb\" target=\"_parent\"><img src=\"https://colab.research.google.com/assets/colab-badge.svg\" alt=\"Open In Colab\"/></a>"
      ]
    },
    {
      "cell_type": "markdown",
      "metadata": {
        "pycharm": {
          "metadata": false
        },
        "id": "ECTDbc9RD7ak"
      },
      "source": [
        "# Ejercicios - Clase 2 -"
      ]
    },
    {
      "cell_type": "markdown",
      "metadata": {
        "pycharm": {
          "metadata": false
        },
        "id": "Ux4z-UFjD7au"
      },
      "source": [
        "## Modules"
      ]
    },
    {
      "cell_type": "code",
      "execution_count": null,
      "metadata": {
        "pycharm": {
          "is_executing": false,
          "metadata": false,
          "name": "#%%\n"
        },
        "id": "GNq5Rwx9D7aw"
      },
      "outputs": [],
      "source": [
        "import numpy as np"
      ]
    },
    {
      "cell_type": "markdown",
      "metadata": {
        "pycharm": {
          "metadata": false
        },
        "id": "whlMaKaiD7a8"
      },
      "source": [
        "## Ejercicios\n",
        "\n",
        "### Ej. 1:\n",
        "\n",
        "Escribir un programa que asisgne un elemento `e` en una lista, basado en un indice `i`. Si el indice esta fuera de rango, el programa debe manejar la excepción e imprimir el siguiente mensaje:\n",
        "\n",
        "`\"No pasarse de memoria!\"`"
      ]
    },
    {
      "cell_type": "markdown",
      "metadata": {
        "pycharm": {
          "metadata": false,
          "name": "#%% md\n"
        },
        "id": "SGXfIwqUD7bB"
      },
      "source": [
        "#### Solución"
      ]
    },
    {
      "cell_type": "code",
      "execution_count": null,
      "metadata": {
        "id": "6JRyXnBlD7bC"
      },
      "outputs": [],
      "source": [
        "x = [1, 2, 3]\n",
        "\n",
        "try:\n",
        "    x[4] = 4\n",
        "except IndexError:\n",
        "    print(\"No pasarse de memoria!\")"
      ]
    },
    {
      "cell_type": "markdown",
      "metadata": {
        "id": "AAWWvbalD7bD"
      },
      "source": [
        "### Ej. 2:\n",
        "\n",
        "Escribir una función recursiva para encontrar el mayor elemento de una secuencia `S`, de cardinalidad `n`."
      ]
    },
    {
      "cell_type": "markdown",
      "metadata": {
        "pycharm": {
          "metadata": false,
          "name": "#%% md\n"
        },
        "id": "63T4BXqiD7bE"
      },
      "source": [
        "#### Solución"
      ]
    },
    {
      "cell_type": "code",
      "execution_count": null,
      "metadata": {
        "pycharm": {
          "is_executing": false,
          "metadata": false,
          "name": "#%%\n"
        },
        "id": "gYlytVNMD7bF"
      },
      "outputs": [],
      "source": [
        "def max_recursive(seq, start):\n",
        "\n",
        "    if len(seq) == 1:\n",
        "        return seq[0]\n",
        "\n",
        "    if seq[start] <= seq[start + 1]:\n",
        "        del seq[start]\n",
        "\n",
        "    elif seq[start] > seq[start + 1]:\n",
        "        del seq[start + 1]\n",
        "    else:\n",
        "        return KeyError()\n",
        "\n",
        "    return max_recursive(seq, start)\n",
        "\n",
        ""
      ]
    },
    {
      "cell_type": "code",
      "execution_count": null,
      "metadata": {
        "pycharm": {
          "is_executing": false,
          "metadata": false,
          "name": "#%%\n"
        },
        "id": "4CAOmf2VD7bG"
      },
      "outputs": [],
      "source": [
        "seq1 = np.random.randint(0, 10, size=(10,)).tolist()\n",
        "print(\"maximo de seq1 \", max(seq1))\n",
        "seq2 = np.random.randint(0, 100, size=(100,)).tolist()\n",
        "print(\"maximo de seq2 \", max(seq2))\n",
        "seq3 = np.random.randint(0, 1000, size=(1000,)).tolist()\n",
        "print(\"maximo de seq3 \", max(seq3))\n",
        "\n",
        "print(\"seq1: \", max_recursive(seq1, 0))\n",
        "print(\"seq2: \", max_recursive(seq2, 0))\n",
        "print(\"seq3: \", max_recursive(seq3, 0))\n"
      ]
    },
    {
      "cell_type": "markdown",
      "metadata": {
        "id": "AXkUKIvmD7bG"
      },
      "source": [
        "### Ej. 3:\n",
        "\n",
        "Escribir una función **minmax(data)**, la cuál contiene una secuencia (no vacía) de números, y debe retornar, el menor y el mayor elemento, en forma de una *tupla* de longitud 2, es decir una tupla con dos elementos.  "
      ]
    },
    {
      "cell_type": "markdown",
      "metadata": {
        "pycharm": {
          "metadata": false,
          "name": "#%% md\n"
        },
        "id": "vXx7TgixD7bG"
      },
      "source": [
        "#### Solución"
      ]
    },
    {
      "cell_type": "code",
      "execution_count": null,
      "metadata": {
        "id": "7vf-UPBZD7bH"
      },
      "outputs": [],
      "source": [
        "def minmax(L):\n",
        "    men, may = L[0], L[0]\n",
        "    for i in range(1,len(L)):\n",
        "        if men > L[i]:\n",
        "            men = L[i]\n",
        "        elif may < L[i]:\n",
        "            may = L[i]\n",
        "        else: pass\n",
        "    return (men, may)"
      ]
    },
    {
      "cell_type": "code",
      "execution_count": null,
      "metadata": {
        "id": "H3F7TRAfD7bH"
      },
      "outputs": [],
      "source": [
        "L=[1,2,3]\n",
        "minmax(L)\n",
        "type(minmax(L))"
      ]
    },
    {
      "cell_type": "markdown",
      "metadata": {
        "pycharm": {},
        "id": "9UAH6EH4D7bH"
      },
      "source": [
        "### Ej. 4:\n",
        "\n",
        "Torres de Hanoi: https://es.wikipedia.org/wiki/Torres_de_Han%C3%B3i\n",
        "\n",
        "En el juego de las *Torres de Hanoi*, tenemos 3 postes `a`, `b` y `c` sobre una base de soporte. En el poste `a` hay una pila de `n` discos, cada uno de diametro mayor al siguiente, con el disco de mayor diametro debajo. El juego consiste en pasar todos los discos desde el poste `a` al poste `c`, moviendo de a un disco, los discos solo pueden ser pasados a un poste que contiene un disco de mayor diametro. Escriba una función recursiva para resolver el juego para un número arbitrario `n`.       "
      ]
    },
    {
      "cell_type": "markdown",
      "metadata": {
        "pycharm": {
          "metadata": false,
          "name": "#%% md\n"
        },
        "id": "M0mKrFb7D7bI"
      },
      "source": [
        "#### Solución"
      ]
    },
    {
      "cell_type": "code",
      "execution_count": null,
      "metadata": {
        "pycharm": {
          "is_executing": false,
          "metadata": false,
          "name": "#%%\n"
        },
        "id": "XyK1lpWHD7bI"
      },
      "outputs": [],
      "source": [
        "def move_disk(from_peg, to_peg):\n",
        "    to_peg.append(from_peg.pop())\n",
        "    print(\"=============[Status]=============\")\n",
        "    print(\"[a]: \", a)\n",
        "    print(\"[b]: \", b)\n",
        "    print(\"[c]: \", c)\n",
        "\n",
        "def hanoi(n, from_peg, help_peg, to_peg):\n",
        "    if n == 1:\n",
        "        move_disk(from_peg, to_peg)\n",
        "    else:\n",
        "        hanoi(n-1, from_peg, to_peg, help_peg)\n",
        "        move_disk(from_peg, to_peg)\n",
        "        hanoi(n-1, help_peg, from_peg, to_peg)\n"
      ]
    },
    {
      "cell_type": "code",
      "execution_count": null,
      "metadata": {
        "pycharm": {
          "is_executing": false
        },
        "id": "lGAORk-pD7bJ"
      },
      "outputs": [],
      "source": [
        "n = 4\n",
        "a = list(reversed(range(1,int(n)+1)))\n",
        "b = [];\n",
        "c = [];\n",
        "\n",
        "print(\"[a]: \", a)\n",
        "print(\"[b]: \", b)\n",
        "print(\"[c]: \", c)"
      ]
    },
    {
      "cell_type": "code",
      "execution_count": null,
      "metadata": {
        "pycharm": {
          "is_executing": false
        },
        "scrolled": false,
        "id": "OK06ACR_D7bJ"
      },
      "outputs": [],
      "source": [
        "hanoi(4, a, b, c)"
      ]
    },
    {
      "cell_type": "markdown",
      "metadata": {
        "pycharm": {},
        "id": "WQBFzZhDD7bJ"
      },
      "source": [
        "### Ej. 5:\n",
        "\n",
        "Escribir una función recursiva para determinar si un string tiene mas vocales que consonantes."
      ]
    },
    {
      "cell_type": "markdown",
      "metadata": {
        "pycharm": {
          "metadata": false,
          "name": "#%% md\n"
        },
        "id": "JCR1l5tmD7bK"
      },
      "source": [
        "#### Solution"
      ]
    },
    {
      "cell_type": "code",
      "execution_count": null,
      "metadata": {
        "pycharm": {
          "is_executing": false,
          "metadata": false,
          "name": "#%%\n"
        },
        "id": "FS1v2UBqD7bK"
      },
      "outputs": [],
      "source": [
        "VOCALES = ['a','e','i','o','u']\n",
        "VOCALES"
      ]
    },
    {
      "cell_type": "code",
      "execution_count": null,
      "metadata": {
        "pycharm": {
          "is_executing": false,
          "name": "#%%\n"
        },
        "id": "MJn_nyA2D7bK"
      },
      "outputs": [],
      "source": [
        "def more_vowels(s, vowels, consonants):\n",
        "    if not s:\n",
        "        vowel_count = len(vowels)\n",
        "        consonant_count = len(consonants)\n",
        "        return True if vowel_count > consonant_count else False\n",
        "\n",
        "    if s[-1] in VOCALES:\n",
        "        vowels.append(s.pop())\n",
        "        return more_vowels(s, vowels, consonants)\n",
        "    else:\n",
        "        consonants.append(s.pop())\n",
        "        return more_vowels(s, vowels, consonants)\n"
      ]
    },
    {
      "cell_type": "code",
      "execution_count": null,
      "metadata": {
        "pycharm": {
          "is_executing": false
        },
        "id": "loYo8fI6D7bK"
      },
      "outputs": [],
      "source": [
        "string1_vowels = []\n",
        "string1_consonants = []\n",
        "string1 = list('apple')\n",
        "print(more_vowels(string1, string1_vowels, string1_consonants))\n",
        "print(string1_vowels)\n",
        "print(string1_consonants)"
      ]
    },
    {
      "cell_type": "code",
      "execution_count": null,
      "metadata": {
        "pycharm": {
          "is_executing": false,
          "metadata": false,
          "name": "#%%\n"
        },
        "id": "44yphQbYD7bL"
      },
      "outputs": [],
      "source": [
        "string2_vowels = []\n",
        "string2_consonants = []\n",
        "string2 = list('aero')\n",
        "print(more_vowels(string2, string2_vowels, string2_consonants))\n",
        "print(string2_vowels)\n",
        "print(string2_consonants)\n"
      ]
    },
    {
      "cell_type": "markdown",
      "metadata": {
        "id": "Q5pMonCeD7bL"
      },
      "source": [
        "### Ej. 6:\n",
        "\n",
        "La siguiente función utiliza manejo de errores anidados. Cuál es el resultado de `a(0)`? Cuáles bloques `finally` serán ejecutados?"
      ]
    },
    {
      "cell_type": "code",
      "execution_count": null,
      "metadata": {
        "id": "EnbAqb7zD7bL"
      },
      "outputs": [],
      "source": [
        "def a(z):\n",
        "    try:\n",
        "        100/z\n",
        "    except ZeroDivisionError:\n",
        "        try:\n",
        "            print('x')\n",
        "        finally:\n",
        "            return 42\n",
        "    finally:\n",
        "        return 1"
      ]
    },
    {
      "cell_type": "code",
      "execution_count": null,
      "metadata": {
        "id": "bcYaAE6oD7bL"
      },
      "outputs": [],
      "source": [
        "a(0)"
      ]
    }
  ],
  "metadata": {
    "kernelspec": {
      "display_name": "Python 3",
      "language": "python",
      "name": "python3"
    },
    "language_info": {
      "codemirror_mode": {
        "name": "ipython",
        "version": 3
      },
      "file_extension": ".py",
      "mimetype": "text/x-python",
      "name": "python",
      "nbconvert_exporter": "python",
      "pygments_lexer": "ipython3",
      "version": "3.8.3"
    },
    "stem_cell": {
      "cell_type": "raw",
      "metadata": {
        "pycharm": {
          "metadata": false
        }
      },
      "source": ""
    },
    "colab": {
      "provenance": [],
      "include_colab_link": true
    }
  },
  "nbformat": 4,
  "nbformat_minor": 0
}