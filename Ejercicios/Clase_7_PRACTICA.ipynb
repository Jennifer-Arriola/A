{
  "cells": [
    {
      "cell_type": "markdown",
      "metadata": {
        "id": "view-in-github",
        "colab_type": "text"
      },
      "source": [
        "<a href=\"https://colab.research.google.com/github/Jennifer-Arriola/Algoritmos/blob/main/Ejercicios/Clase_7_PRACTICA.ipynb\" target=\"_parent\"><img src=\"https://colab.research.google.com/assets/colab-badge.svg\" alt=\"Open In Colab\"/></a>"
      ]
    },
    {
      "cell_type": "markdown",
      "metadata": {
        "id": "JKqmAkhEhawW"
      },
      "source": [
        "# Algoritmos y Estructuras de Datos.\n",
        "\n",
        "## - Clase 7 - Complejidad Computacional -"
      ]
    },
    {
      "cell_type": "markdown",
      "metadata": {
        "id": "qZwrjPZGhawa"
      },
      "source": [
        "# Ejercicios."
      ]
    },
    {
      "cell_type": "markdown",
      "metadata": {
        "id": "YWCvotv2hawb"
      },
      "source": [
        "## Ejercicio 1:\n",
        "\n",
        "Para cada uno de los algoritmos presentados:\n",
        "    \n",
        "    a) Expresar en función de **n** el tiempo de ejecución.\n",
        "    b) Analizar y resolver la correspondiente recurrencia.\n",
        "    c) Determinar el orden de las funciones obtenidas usando notación big-Oh.\n",
        "    d) Comparar el tiempo de ejecución de la función **rec1** con el de la función **rec2**.\n",
        "    e) Implementar un algoritmo más eficiente que la función **f** (es decir que el **T(n)** sea menor).\n"
      ]
    },
    {
      "cell_type": "code",
      "execution_count": null,
      "metadata": {
        "id": "NSzWEThPhawc"
      },
      "outputs": [],
      "source": [
        "# i)\n",
        "def rec1(n):\n",
        "    if (n <= 1):\n",
        "        return 1\n",
        "    else:\n",
        "        return rec1 (n-1) + rec1 (n-1)"
      ]
    },
    {
      "cell_type": "code",
      "execution_count": null,
      "metadata": {
        "id": "6BnujwzZhawd"
      },
      "outputs": [],
      "source": [
        "# ii)\n",
        "def rec2(n):\n",
        "    if (n <= 1):\n",
        "        return 1\n",
        "    else:\n",
        "        return 2 * rec2(n-1)"
      ]
    },
    {
      "cell_type": "code",
      "execution_count": null,
      "metadata": {
        "id": "HBVpm-RYhawe"
      },
      "outputs": [],
      "source": [
        "# iii)\n",
        "def f(n):\n",
        "    if (n==0):\n",
        "        return 0\n",
        "    elif ( n == 1 ):\n",
        "        return 1\n",
        "    else:\n",
        "        return f(n-2) * f (n-2)\n"
      ]
    },
    {
      "cell_type": "code",
      "execution_count": null,
      "metadata": {
        "id": "36nxkpOshawe"
      },
      "outputs": [],
      "source": [
        "# iv)\n",
        "def potencia_iter (x, n):\n",
        "    if (n==0):\n",
        "        potencia = 1\n",
        "    elif (n==1):\n",
        "        potencia = x\n",
        "    else:\n",
        "        potencia = x\n",
        "        for i in range(2,n):\n",
        "            potencia = potencia * x\n",
        "    return potencia"
      ]
    },
    {
      "cell_type": "code",
      "execution_count": null,
      "metadata": {
        "id": "FG3GKWUuhawf"
      },
      "outputs": [],
      "source": [
        "# v)\n",
        "def potencia_rec(x, n):\n",
        "    if (n==0):\n",
        "        return 1\n",
        "    elif (n==1):\n",
        "        return x\n",
        "    elif (n mod 2) == 0:\n",
        "        return potencia_rec(x * x, n div 2)\n",
        "    else:\n",
        "        return potencia_rec(x * x, n div 2) * x"
      ]
    },
    {
      "cell_type": "markdown",
      "metadata": {
        "id": "wWFOtIEJhawg"
      },
      "source": [
        "## Ejercicio 2:\n",
        "\n",
        "   \n",
        "    a) Implementar un algoritmo más eficiente que la función <code>f</code> (es decir que el $T(n)$ sea menor).\n",
        "    b) Comparar el tiempo de ejecución de la función <code>f</code> con el de la nueva función.\n",
        "    "
      ]
    },
    {
      "cell_type": "markdown",
      "metadata": {
        "id": "WYzMCGdbhawh"
      },
      "source": [
        "## Ejercicio 3:\n",
        "\n",
        "- Resolver las siguientes recurrencias:\n"
      ]
    },
    {
      "cell_type": "markdown",
      "metadata": {
        "id": "Hql0w7F7hawh"
      },
      "source": [
        "    a)\n",
        "    \n",
        "$\n",
        "\\begin{equation*}\n",
        "T(n) = \\begin{cases}\n",
        "1 & \\quad \\text{ si } n=1, \\\\[1ex]\n",
        "8 \\; T(\\frac{n}{2}) + n^3 & \\quad \\text{ si } n \\ge 2.\n",
        "\\end{cases}\n",
        "\\end{equation*}\n",
        "$"
      ]
    },
    {
      "cell_type": "markdown",
      "metadata": {
        "id": "9lMt-JnShawi"
      },
      "source": [
        "    b)\n",
        "    \n",
        "$\n",
        "\\begin{equation*}\n",
        "T(n) = \\begin{cases}\n",
        "c & \\quad \\text{ si } n=0, \\\\[1ex]\n",
        "d & \\quad \\text{ si } n=1, \\\\[1ex]\n",
        "[T(n-2)]^2 & \\quad \\text{ si } n \\ge 2.\n",
        "\\end{cases}\n",
        "\\end{equation*}\n",
        "$"
      ]
    },
    {
      "cell_type": "markdown",
      "metadata": {
        "id": "LlwcTTU4hawi"
      },
      "source": [
        "    c)\n",
        "    \n",
        "$\n",
        "\\begin{equation*}\n",
        "T(n) = \\begin{cases}\n",
        "2 & \\quad \\text{ si } n=1, \\\\[1ex]\n",
        "T(n-1) + n & \\quad \\text{ si } n \\ge 2.\n",
        "\\end{cases}\n",
        "\\end{equation*}\n",
        "$"
      ]
    },
    {
      "cell_type": "markdown",
      "metadata": {
        "id": "sDHXtYCmhawi"
      },
      "source": [
        "    d)\n",
        "    \n",
        "$\n",
        "\\begin{equation*}\n",
        "T(n) = \\begin{cases}\n",
        "2 & \\quad \\text{ si } n=1, \\\\[1ex]\n",
        "T(n-1) + \\frac{n}{2} & \\quad \\text{ si } n \\ge 2.\n",
        "\\end{cases}\n",
        "\\end{equation*}\n",
        "$"
      ]
    },
    {
      "cell_type": "markdown",
      "metadata": {
        "id": "outSx1PChawj"
      },
      "source": [
        "## Ejercicio 4:\n",
        "\n",
        "Los números *triangulares* son definidos de la siguiente forma:\n",
        "\n",
        "\n",
        "<img src=\"https://drive.google.com/uc?id=1OW-_XVMThpBwHdgIAjy5Qv0KblUR8v2I\" style=\"width: 300px;\" />\n",
        "\n",
        "\n",
        "Wikipedia: <a href=\"https://es.wikipedia.org/wiki/N%C3%BAmero_triangular\" target=\"_blank\">Número Triangular</a>\n",
        "\n",
        "- Encontrar la función de recurrencia para $T(n)$ y resolverla. (Fundamentar la construcción de la función)"
      ]
    }
  ],
  "metadata": {
    "kernelspec": {
      "display_name": "Python 3",
      "language": "python",
      "name": "python3"
    },
    "language_info": {
      "codemirror_mode": {
        "name": "ipython",
        "version": 3
      },
      "file_extension": ".py",
      "mimetype": "text/x-python",
      "name": "python",
      "nbconvert_exporter": "python",
      "pygments_lexer": "ipython3",
      "version": "3.8.3"
    },
    "colab": {
      "provenance": [],
      "include_colab_link": true
    }
  },
  "nbformat": 4,
  "nbformat_minor": 0
}