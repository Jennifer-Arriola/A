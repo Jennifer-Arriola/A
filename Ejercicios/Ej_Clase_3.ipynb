{
  "cells": [
    {
      "cell_type": "markdown",
      "metadata": {
        "id": "view-in-github",
        "colab_type": "text"
      },
      "source": [
        "<a href=\"https://colab.research.google.com/github/Jennifer-Arriola/Algoritmos/blob/main/Ejercicios/Ej_Clase_3.ipynb\" target=\"_parent\"><img src=\"https://colab.research.google.com/assets/colab-badge.svg\" alt=\"Open In Colab\"/></a>"
      ]
    },
    {
      "cell_type": "markdown",
      "metadata": {
        "pycharm": {},
        "id": "HPnUPHeWFM4z"
      },
      "source": [
        "# Ejercicios - Clase 3 -"
      ]
    },
    {
      "cell_type": "markdown",
      "metadata": {
        "pycharm": {},
        "id": "SpoV677VFM42"
      },
      "source": [
        "## Modules"
      ]
    },
    {
      "cell_type": "code",
      "execution_count": null,
      "metadata": {
        "pycharm": {
          "is_executing": false,
          "name": "#%%\n"
        },
        "id": "vFPcHRhHFM43"
      },
      "outputs": [],
      "source": [
        "import numpy as np\n",
        "import ctypes"
      ]
    },
    {
      "cell_type": "markdown",
      "metadata": {
        "pycharm": {},
        "id": "aCOQcxlvFM45"
      },
      "source": [
        "## Ejercicios"
      ]
    },
    {
      "cell_type": "markdown",
      "metadata": {
        "id": "km02i6ibFM46"
      },
      "source": [
        "### Ej. 1:\n",
        "\n",
        "Ejecutar el siguiente programa para explorar el paquete `sys`. Contrastar los resultados con sobre distintas plataformas (si es possible)."
      ]
    },
    {
      "cell_type": "code",
      "execution_count": null,
      "metadata": {
        "id": "mQ1XurwoFM46"
      },
      "outputs": [],
      "source": [
        "n = 50\n",
        "import sys\n",
        "data = []\n",
        "for k in range(n):\n",
        "    a = len(data)\n",
        "    b = sys.getsizeof(data)\n",
        "    print(\"Length: {0:3d}; Size in bytes: {1:4d}\".format(a, b))\n",
        "    data.append(None)"
      ]
    },
    {
      "cell_type": "markdown",
      "metadata": {
        "id": "0wCJ-4bVFM46"
      },
      "source": [
        "### Ej. 2:\n",
        "\n",
        "**Triangulo:**\n",
        "\n",
        "Definir una clase `triangulo` cómo una tupla de 3 puntos. La clase debe contener los siguientes métodos:\n",
        "\n",
        "- Calcular el perimetro del triangulo.\n",
        "- Clacular el area del triangulo.\n",
        "- Chequear si el triagulo es rectangulo.\n",
        "\n",
        "Deben recordar validar que los 3 puntos conformen un triangulo."
      ]
    },
    {
      "cell_type": "markdown",
      "metadata": {
        "pycharm": {
          "name": "#%% md\n"
        },
        "id": "dP9VghQdFM47"
      },
      "source": [
        "### Ej. 3:\n",
        "\n",
        "Escribir un programa que simule un ecosistema conteniendo dos tipos de criaturas, **osos** y **peces**. El ecosistema cosiste en un río, el cuál esta modelado como una lista. Cada elemento de la lista debe ser un objeto del tipo `Oso` , del tipo `Pez`, o `None`. Considerando un \"contador externo\" (random), en cada paso, cada animal intenta moverse hacia una celda adjacente en la lista, o quedarse en su sitio. Si dos animales del mismo tipo estan por ocupar el mismo espacio, deberan quedarse en sus posiciones, y generaremos una nueva criatura de ese tipo en un lugar aleatorio vacio (i.e. `None`) de la lista (se reproducen). Si un oso y un pez ocupan el mismo espacio, entonces el pez desaparecera (es comido).  "
      ]
    },
    {
      "cell_type": "markdown",
      "metadata": {
        "id": "Qot6MvXwFM47"
      },
      "source": [
        "### Ej. 4:\n",
        "\n",
        "La clase `DynamicArray` descripta a continuación, no soporta el uso de indices negativos usando `__getitem__`.\n",
        "Arreglar el método, para que soprte el indexado de Python (faltan los indices negativos)"
      ]
    },
    {
      "cell_type": "code",
      "execution_count": null,
      "metadata": {
        "id": "qKPfZBQ1FM48"
      },
      "outputs": [],
      "source": [
        "class DynamicArray:\n",
        "    \"\"\"A dynamic array class akin to a simplified Python list\"\"\"\n",
        "\n",
        "    def __init__(self):\n",
        "        \"\"\"Create an empty array.\"\"\"\n",
        "        self._n = 0\n",
        "        self._capacity = 1\n",
        "        self._A = self._make_array(self._capacity)\n",
        "\n",
        "    def __len__(self):\n",
        "        \"\"\"Return number of elements stored in the array\"\"\"\n",
        "        return self._n\n",
        "\n",
        "    def __getitem__(self, k):\n",
        "        if not 0<= k < self._n:\n",
        "            raise IndexError( 'invalid index' )\n",
        "        return self._A[k]\n",
        "\n",
        "    def append(self, obj):\n",
        "        \"\"\"Add object to end of the array.\"\"\"\n",
        "        if self._n == self._capacity:\n",
        "            self._resize(2 * self._capacity)\n",
        "        self._A[self._n] = obj\n",
        "        self._n += 1\n",
        "\n",
        "    def _resize(self, c):\n",
        "        \"\"\"Resize internal array to capacity c.\"\"\"\n",
        "        B = self._make_array(c)\n",
        "        for k in range(self._n):\n",
        "            B[k] = self._A[k]\n",
        "        self._A = B\n",
        "        self._capacity = c\n",
        "\n",
        "    def _make_array(self, c):\n",
        "        \"\"\"Return new array with capacity c.\"\"\"\n",
        "        return (c * ctypes.py_object)()"
      ]
    },
    {
      "cell_type": "code",
      "execution_count": null,
      "metadata": {
        "scrolled": false,
        "id": "Qj3TwE-IFM48"
      },
      "outputs": [],
      "source": [
        "darray = DynamicArray()\n",
        "darray.append(4)\n",
        "darray.append(1)\n",
        "darray.append(3)\n",
        "print(darray[-3])\n",
        "print(darray[-2])\n",
        "print(darray[-1])\n",
        "print(darray[0])\n",
        "print(darray[1])\n",
        "print(darray[2])"
      ]
    },
    {
      "cell_type": "code",
      "execution_count": null,
      "metadata": {
        "id": "OICihZuDFM49",
        "outputId": "14b936c6-470c-42b5-91ba-7be596429e5a"
      },
      "outputs": [
        {
          "name": "stdout",
          "output_type": "stream",
          "text": [
            "\n",
            "1 x 1 = [1] 1 x 2 = [2] 1 x 3 = [3] 1 x 4 = [4] 1 x 5 = [5] 1 x 6 = [6] 1 x 7 = [7] 1 x 8 = [8] 1 x 9 = [9] 1 x 10 = [10] \n",
            "2 x 1 = [2] 2 x 2 = [4] 2 x 3 = [6] 2 x 4 = [8] 2 x 5 = [10] 2 x 6 = [12] 2 x 7 = [14] 2 x 8 = [16] 2 x 9 = [18] 2 x 10 = [20] \n",
            "3 x 1 = [3] 3 x 2 = [6] 3 x 3 = [9] 3 x 4 = [12] 3 x 5 = [15] 3 x 6 = [18] 3 x 7 = [21] 3 x 8 = [24] 3 x 9 = [27] 3 x 10 = [30] \n",
            "4 x 1 = [4] 4 x 2 = [8] 4 x 3 = [12] 4 x 4 = [16] 4 x 5 = [20] 4 x 6 = [24] 4 x 7 = [28] 4 x 8 = [32] 4 x 9 = [36] 4 x 10 = [40] \n",
            "5 x 1 = [5] 5 x 2 = [10] 5 x 3 = [15] 5 x 4 = [20] 5 x 5 = [25] 5 x 6 = [30] 5 x 7 = [35] 5 x 8 = [40] 5 x 9 = [45] 5 x 10 = [50] \n",
            "6 x 1 = [6] 6 x 2 = [12] 6 x 3 = [18] 6 x 4 = [24] 6 x 5 = [30] 6 x 6 = [36] 6 x 7 = [42] 6 x 8 = [48] 6 x 9 = [54] 6 x 10 = [60] \n",
            "7 x 1 = [7] 7 x 2 = [14] 7 x 3 = [21] 7 x 4 = [28] 7 x 5 = [35] 7 x 6 = [42] 7 x 7 = [49] 7 x 8 = [56] 7 x 9 = [63] 7 x 10 = [70] \n",
            "8 x 1 = [8] 8 x 2 = [16] 8 x 3 = [24] 8 x 4 = [32] 8 x 5 = [40] 8 x 6 = [48] 8 x 7 = [56] 8 x 8 = [64] 8 x 9 = [72] 8 x 10 = [80] \n",
            "9 x 1 = [9] 9 x 2 = [18] 9 x 3 = [27] 9 x 4 = [36] 9 x 5 = [45] 9 x 6 = [54] 9 x 7 = [63] 9 x 8 = [72] 9 x 9 = [81] 9 x 10 = [90] "
          ]
        }
      ],
      "source": [
        "multiplicando=1\n",
        "multiplicador=1\n",
        "#print( ) CABEZARA\n",
        "for multiplicando in range(1,10):\n",
        "    print()\n",
        "    for multiplicador in range(1,11):\n",
        "        tabladel1=[multiplicando*multiplicador ]\n",
        "        print(multiplicando,'x',multiplicador,'=',tabladel1, end=\" \")"
      ]
    }
  ],
  "metadata": {
    "kernelspec": {
      "display_name": "Python 3",
      "language": "python",
      "name": "python3"
    },
    "language_info": {
      "codemirror_mode": {
        "name": "ipython",
        "version": 3
      },
      "file_extension": ".py",
      "mimetype": "text/x-python",
      "name": "python",
      "nbconvert_exporter": "python",
      "pygments_lexer": "ipython3",
      "version": "3.8.3"
    },
    "pycharm": {
      "stem_cell": {
        "cell_type": "raw",
        "metadata": {
          "collapsed": false
        },
        "source": []
      }
    },
    "colab": {
      "provenance": [],
      "include_colab_link": true
    }
  },
  "nbformat": 4,
  "nbformat_minor": 0
}