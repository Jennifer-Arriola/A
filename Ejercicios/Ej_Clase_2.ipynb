{
  "cells": [
    {
      "cell_type": "markdown",
      "metadata": {
        "id": "view-in-github",
        "colab_type": "text"
      },
      "source": [
        "<a href=\"https://colab.research.google.com/github/Jennifer-Arriola/Algoritmos/blob/main/Ejercicios/Ej_Clase_2.ipynb\" target=\"_parent\"><img src=\"https://colab.research.google.com/assets/colab-badge.svg\" alt=\"Open In Colab\"/></a>"
      ]
    },
    {
      "cell_type": "markdown",
      "metadata": {
        "pycharm": {
          "metadata": false
        },
        "id": "m9A6Uqp6DXal"
      },
      "source": [
        "# Ejercicios - Clase 2 -"
      ]
    },
    {
      "cell_type": "markdown",
      "metadata": {
        "pycharm": {
          "metadata": false
        },
        "id": "CR3DI4OkDXas"
      },
      "source": [
        "## Modules"
      ]
    },
    {
      "cell_type": "code",
      "execution_count": null,
      "metadata": {
        "pycharm": {
          "is_executing": false,
          "metadata": false,
          "name": "#%%\n"
        },
        "id": "BQEmkhOeDXat"
      },
      "outputs": [],
      "source": [
        "import numpy as np"
      ]
    },
    {
      "cell_type": "markdown",
      "metadata": {
        "pycharm": {
          "metadata": false
        },
        "id": "L2RrWU_pDXau"
      },
      "source": [
        "## Ejercicios\n",
        "\n",
        "### Ej. 1:\n",
        "\n",
        "Escribir un programa que asisgne un elemento `e` en una lista, basado en un indice `i`. Si el indice esta fuera de rango, el programa debe manejar la excepción e imprimir el siguiente mensaje:\n",
        "\n",
        "`\"No pasarse de memoria!\"`"
      ]
    },
    {
      "cell_type": "code",
      "execution_count": null,
      "metadata": {
        "id": "p8kIdUO4DXav"
      },
      "outputs": [],
      "source": []
    },
    {
      "cell_type": "markdown",
      "metadata": {
        "id": "FcnFFYn2DXav"
      },
      "source": [
        "### Ej. 2:\n",
        "\n",
        "Escribir una función recursiva para encontrar el mayor elemento de una secuencia `S`, de cardinalidad `n`."
      ]
    },
    {
      "cell_type": "code",
      "execution_count": null,
      "metadata": {
        "id": "7qHydDyrDXaw"
      },
      "outputs": [],
      "source": []
    },
    {
      "cell_type": "markdown",
      "metadata": {
        "id": "t0Eh9MdODXaw"
      },
      "source": [
        "### Ej. 3:\n",
        "\n",
        "Escribir una función **minmax(data)**, la cuál contiene una secuencia (no vacía) de números, y debe retornar, el menor y el mayor elemento, en forma de una *tupla* de longitud 2, es decir una tupla con dos elementos.  "
      ]
    },
    {
      "cell_type": "code",
      "execution_count": null,
      "metadata": {
        "id": "S-bjjVMzDXaw"
      },
      "outputs": [],
      "source": []
    },
    {
      "cell_type": "markdown",
      "metadata": {
        "pycharm": {},
        "id": "TwRnns40DXaw"
      },
      "source": [
        "### Ej. 4:\n",
        "\n",
        "Torres de Hanoi: https://es.wikipedia.org/wiki/Torres_de_Han%C3%B3i\n",
        "\n",
        "En el juego de las *Torres de Hanoi*, tenemos 3 postes `a`, `b` y `c` sobre una base de soporte. En el poste `a` hay una pila de `n` discos, cada uno de diametro mayor al siguiente, con el disco de mayor diametro debajo. El juego consiste en pasar todos los discos desde el poste `a` al poste `c`, moviendo de a un disco, los discos solo pueden ser pasados a un poste que contiene un disco de mayor diametro. Escriba una función recursiva para resolver el juego para un número arbitrario `n`.       "
      ]
    },
    {
      "cell_type": "code",
      "execution_count": null,
      "metadata": {
        "id": "q6diqtv5DXax"
      },
      "outputs": [],
      "source": []
    },
    {
      "cell_type": "markdown",
      "metadata": {
        "pycharm": {},
        "id": "aur0JFMTDXax"
      },
      "source": [
        "### Ej. 5:\n",
        "\n",
        "Escribir una función recursiva para determinar si un string tiene mas vocales que consonantes."
      ]
    },
    {
      "cell_type": "code",
      "execution_count": null,
      "metadata": {
        "id": "18Clk-vRDXax"
      },
      "outputs": [],
      "source": []
    },
    {
      "cell_type": "markdown",
      "metadata": {
        "id": "v-bY1wSnDXay"
      },
      "source": [
        "### Ej. 6:\n",
        "\n",
        "La siguiente función utiliza manejo de errores anidados. Cuál es el resultado de `a(0)`? Cuáles bloques `finally` serán ejecutados?"
      ]
    },
    {
      "cell_type": "code",
      "execution_count": null,
      "metadata": {
        "id": "yvtCj-fYDXay"
      },
      "outputs": [],
      "source": []
    }
  ],
  "metadata": {
    "kernelspec": {
      "display_name": "Python 3",
      "language": "python",
      "name": "python3"
    },
    "language_info": {
      "codemirror_mode": {
        "name": "ipython",
        "version": 3
      },
      "file_extension": ".py",
      "mimetype": "text/x-python",
      "name": "python",
      "nbconvert_exporter": "python",
      "pygments_lexer": "ipython3",
      "version": "3.8.3"
    },
    "stem_cell": {
      "cell_type": "raw",
      "metadata": {
        "pycharm": {
          "metadata": false
        }
      },
      "source": ""
    },
    "colab": {
      "provenance": [],
      "include_colab_link": true
    }
  },
  "nbformat": 4,
  "nbformat_minor": 0
}