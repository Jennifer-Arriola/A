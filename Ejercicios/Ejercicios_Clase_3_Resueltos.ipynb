{
  "cells": [
    {
      "cell_type": "markdown",
      "metadata": {
        "id": "view-in-github",
        "colab_type": "text"
      },
      "source": [
        "<a href=\"https://colab.research.google.com/github/Jennifer-Arriola/Algoritmos/blob/main/Ejercicios/Ejercicios_Clase_3_Resueltos.ipynb\" target=\"_parent\"><img src=\"https://colab.research.google.com/assets/colab-badge.svg\" alt=\"Open In Colab\"/></a>"
      ]
    },
    {
      "cell_type": "markdown",
      "metadata": {
        "pycharm": {},
        "id": "5KmbHURJFlPg"
      },
      "source": [
        "# Ejercicios - Clase 3 -"
      ]
    },
    {
      "cell_type": "markdown",
      "metadata": {
        "pycharm": {},
        "id": "tsXCis_3FlPl"
      },
      "source": [
        "## Modules"
      ]
    },
    {
      "cell_type": "code",
      "execution_count": null,
      "metadata": {
        "pycharm": {
          "is_executing": false,
          "name": "#%%\n"
        },
        "id": "veZE5fvUFlPm"
      },
      "outputs": [],
      "source": [
        "import numpy as np\n",
        "import ctypes"
      ]
    },
    {
      "cell_type": "markdown",
      "metadata": {
        "pycharm": {},
        "id": "8ZacOcywFlPo"
      },
      "source": [
        "## Ejercicios"
      ]
    },
    {
      "cell_type": "markdown",
      "metadata": {
        "id": "jQMzn_KfFlPo"
      },
      "source": [
        "### Ej. 1:\n",
        "\n",
        "Ejecutar el siguiente programa para explorar el paquete `sys`. Contrastar los resultados con sobre distintas plataformas (si es possible)."
      ]
    },
    {
      "cell_type": "code",
      "execution_count": null,
      "metadata": {
        "id": "ehsKIoBvFlPo"
      },
      "outputs": [],
      "source": [
        "n = 50\n",
        "import sys\n",
        "data = []\n",
        "for k in range(n):\n",
        "    a = len(data)\n",
        "    b = sys.getsizeof(data)\n",
        "    print(\"Length: {0:3d}; Size in bytes: {1:4d}\".format(a, b))\n",
        "    data.append(None)"
      ]
    },
    {
      "cell_type": "markdown",
      "metadata": {
        "id": "EQpA7p9-FlPo"
      },
      "source": [
        "### Ej. 2:\n",
        "\n",
        "**Triangulo:**\n",
        "\n",
        "Definir una clase `triangulo` cómo una tupla de 3 puntos. La clase debe contener los siguientes métodos:\n",
        "\n",
        "- Calcular el perimetro del triangulo.\n",
        "- Clacular el area del triangulo.\n",
        "- Chequear si el triagulo es rectangulo.\n",
        "\n",
        "Deben recordar validar que los 3 puntos conformen un triangulo."
      ]
    },
    {
      "cell_type": "markdown",
      "metadata": {
        "pycharm": {
          "name": "#%% md\n"
        },
        "id": "WPFqiJENFlPp"
      },
      "source": [
        "#### Solución"
      ]
    },
    {
      "cell_type": "code",
      "execution_count": null,
      "metadata": {
        "id": "abhdcsIFFlPp"
      },
      "outputs": [],
      "source": [
        "import math\n",
        "\n",
        "class triangle():\n",
        "\n",
        "    def __init__(self,content):\n",
        "        if type(content)!=type((0,1,2)):\n",
        "            raise TypeError(\"El argumento debe ser una tupla de puntos\")\n",
        "        elif len(content)!=3:\n",
        "            raise ValueError(\"Debe haber al menos 3 puntos\")\n",
        "        else:\n",
        "            self.content=content\n",
        "\n",
        "    def perimeter(self):\n",
        "        A,B,C=self.content #Define A,B,C to be the points defining your triangle\n",
        "        u=(B[0]-A[0],B[1]-A[1]) #u=the vector AB\n",
        "        v=(C[0]-A[0],C[1]-A[1]) #v=the vector AC\n",
        "        w=(C[0]-B[0],C[1]-B[1]) #w=the vector BC\n",
        "        return normvect(u)+normvect(v)+normvect(w)\n",
        "\n",
        "\n",
        "    #To compute the area of a triangle see the picture above\n",
        "\n",
        "    def area(self):\n",
        "        A,B,C=self.content #Define A,B,C to be the points defining your triangle\n",
        "        u=(B[0]-A[0],B[1]-A[1])  #u=the vector AB\n",
        "        v=(C[0]-A[0],C[1]-A[1])  #v=the vector AC\n",
        "        scalarprod_uv=u[0]*v[0]+u[1]*v[1]\n",
        "        h=math.sqrt(normvect(u)**2-scalarprod_uv**2/normvect(v)**2)\n",
        "        return normvect(v)*h/2\n",
        "\n",
        "\n",
        "    def is_trianglerectangle(self):\n",
        "        A,B,C=self.content  #Define A,B,C to be the points defining your triangle\n",
        "        u=(B[0]-A[0],B[1]-A[1]) #u=the vector AB\n",
        "        v=(C[0]-A[0],C[1]-A[1]) #v=the vector AC\n",
        "        w=(C[0]-B[0],C[1]-B[1]) #w=the vector BC\n",
        "        if u>=v and u>=w:\n",
        "            return v[0]**2+v[1]**2+w[0]**2+w[1]**2==u[0]**2+u[1]**2\n",
        "        if v>=u and v>=w:\n",
        "            return u[0]**2+u[1]**2+w[0]**2+w[1]**2==v[0]**2+v[1]**2\n",
        "        else:\n",
        "            return v[0]**2+v[1]**2+u[0]**2+u[1]**2==w[0]**2+w[1]**2\n",
        ""
      ]
    },
    {
      "cell_type": "code",
      "execution_count": null,
      "metadata": {
        "id": "ClIUNVMaFlPq"
      },
      "outputs": [],
      "source": [
        "Tri=triangle(((0,0),(120,0),(40,200))) #Definition of the triangle\n",
        "Tri.is_trianglerectangle() #The triangle is not rectangle"
      ]
    },
    {
      "cell_type": "markdown",
      "metadata": {
        "pycharm": {
          "name": "#%% md\n"
        },
        "id": "gEEfDCgxFlPq"
      },
      "source": [
        "### Ej. 3:\n",
        "\n",
        "Escribir un programa que simule un ecosistema conteniendo dos tipos de criaturas, **osos** y **peces**. El ecosistema cosiste en un río, el cuál esta modelado como una lista. Cada elemento de la lista debe ser un objeto del tipo `Oso` , del tipo `Pez`, o `None`. Considerando un \"contador externo\" (random), en cada paso, cada animal intenta moverse hacia una celda adjacente en la lista, o quedarse en su sitio. Si dos animales del mismo tipo estan por ocupar el mismo espacio, deberan quedarse en sus posiciones, y generaremos una nueva criatura de ese tipo en un lugar aleatorio vacio (i.e. `None`) de la lista (se reproducen). Si un oso y un pez ocupan el mismo espacio, entonces el pez desaparecera (es comido).  "
      ]
    },
    {
      "cell_type": "markdown",
      "metadata": {
        "pycharm": {
          "name": "#%% md\n"
        },
        "id": "H31vsQLeFlPr"
      },
      "source": [
        "#### Solución"
      ]
    },
    {
      "cell_type": "markdown",
      "metadata": {
        "pycharm": {
          "name": "#%% md\n"
        },
        "id": "Ho8r5k5bFlPr"
      },
      "source": [
        "Let's define Creature and its subclass first."
      ]
    },
    {
      "cell_type": "code",
      "execution_count": null,
      "metadata": {
        "pycharm": {
          "is_executing": false,
          "name": "#%%\n"
        },
        "id": "Kj1O2egfFlPr"
      },
      "outputs": [],
      "source": [
        "from abc import ABCMeta, abstractmethod\n",
        "\n",
        "# Luego veremos como generar una Metaclase #\n",
        "# -------------------------------------- #\n",
        "class Creature(metaclass=ABCMeta):\n",
        "\n",
        "    def __init__(self, ind):\n",
        "        self.ind = ind  # Index of a creature in ecosystem.\n",
        "\n",
        "    @abstractmethod\n",
        "    def move(self):\n",
        "        \"\"\"Return index to move\"\"\"\n",
        "# ------------------------------------- #\n",
        "\n",
        "\n",
        "\n",
        "class Bear(Creature):\n",
        "\n",
        "    def __repr__(self):\n",
        "        return \"Bear(%s)\" % self.ind\n",
        "\n",
        "    def move(self):\n",
        "        to = np.random.choice([-1, 1])\n",
        "        new_ind = self.ind + to\n",
        "        print(self, \"moves\", \"left\" if to == -1 else \"right\")\n",
        "        return new_ind\n",
        "\n",
        "class Fish(Creature):\n",
        "\n",
        "    def __repr__(self):\n",
        "        return \"Fish(%s)\" % self.ind\n",
        "\n",
        "    def move(self):\n",
        "        to = np.random.choice([-1, 1])\n",
        "        new_ind = self.ind + to\n",
        "        print(self, \"moves\", \"left\" if to == -1 else \"right\")\n",
        "        return new_ind"
      ]
    },
    {
      "cell_type": "markdown",
      "metadata": {
        "pycharm": {
          "name": "#%% md\n"
        },
        "id": "hcm9qipVFlPs"
      },
      "source": [
        "Definimos la clase de nuestro ecosistema, `River`."
      ]
    },
    {
      "cell_type": "code",
      "execution_count": null,
      "metadata": {
        "pycharm": {
          "is_executing": false,
          "name": "#%%\n"
        },
        "id": "qUUfI_7uFlPs"
      },
      "outputs": [],
      "source": [
        "class River:\n",
        "\n",
        "    def __init__(self, n_room):\n",
        "        self.n_room = n_room\n",
        "        self.eco = None\n",
        "\n",
        "    def initialize(self):\n",
        "        self.eco = []\n",
        "        creatures= np.random.choice([Bear, Fish, None], size=self.n_room)\n",
        "        for ind, creature in enumerate(creatures):\n",
        "            self.eco.append(creature(ind) if creature is not None else None)\n",
        "\n",
        "    def next_time_step(self, n=1, verbose=True):\n",
        "        for i in range(n):\n",
        "            moving_ind = np.random.choice(list(range(self.n_room)))\n",
        "            if self.eco[moving_ind] is None:\n",
        "                print(\"Nothing happens...\")\n",
        "                pass\n",
        "            else:\n",
        "                new_ind = self.eco[moving_ind].move()\n",
        "                if new_ind < 0 or new_ind > len(self.eco) -1:\n",
        "                    pass\n",
        "                elif isinstance(self.eco[moving_ind], Bear):\n",
        "                    if isinstance(self.eco[new_ind], Bear):\n",
        "                        pass\n",
        "                    elif isinstance(self.eco[new_ind], Fish):\n",
        "                        self.eco[new_ind] = Bear(new_ind)\n",
        "                        self.eco[moving_ind] = None\n",
        "                    else:\n",
        "                        self.eco[new_ind] = Bear(new_ind)\n",
        "                elif isinstance(self.eco[moving_ind], Fish):\n",
        "                    if isinstance(self.eco[new_ind], Fish):\n",
        "                        pass\n",
        "                    elif isinstance(self.eco[new_ind], Bear):\n",
        "                        self.eco[moving_ind] = None\n",
        "                    else:\n",
        "                        self.eco[new_ind] = Fish(new_ind)\n",
        "                else:\n",
        "                    raise ValueError(\"Undefined Creature\")\n",
        "            if verbose:\n",
        "                self.display()\n",
        "\n",
        "    def display(self):\n",
        "        print(\"===================\")\n",
        "        print(\"Ecosystem status:\\n\")\n",
        "        print(self.eco, \"\\n\")\n",
        "        print(\"===================\")\n"
      ]
    },
    {
      "cell_type": "code",
      "execution_count": null,
      "metadata": {
        "pycharm": {
          "is_executing": false,
          "name": "#%%\n"
        },
        "id": "aDLWXyhvFlPs"
      },
      "outputs": [],
      "source": [
        "river = River(5)"
      ]
    },
    {
      "cell_type": "code",
      "execution_count": null,
      "metadata": {
        "pycharm": {
          "is_executing": false,
          "name": "#%%\n"
        },
        "id": "HpEB2DynFlPt"
      },
      "outputs": [],
      "source": [
        "river.initialize()\n",
        "river.display()"
      ]
    },
    {
      "cell_type": "code",
      "execution_count": null,
      "metadata": {
        "pycharm": {
          "is_executing": false,
          "name": "#%%\n"
        },
        "id": "WuWkbT1nFlPt"
      },
      "outputs": [],
      "source": [
        "river.next_time_step(10)\n"
      ]
    },
    {
      "cell_type": "markdown",
      "metadata": {
        "id": "kOb0uM7WFlPt"
      },
      "source": [
        "### Ej. 4:\n",
        "\n",
        "La clase `DynamicArray` descripta a continuación, no soporta el uso de indices negativos usando `__getitem__`.\n",
        "Arreglar el método, para que soprte el indexado de Python (faltan los indices negativos)"
      ]
    },
    {
      "cell_type": "code",
      "execution_count": null,
      "metadata": {
        "id": "SKU2kvSVFlPu"
      },
      "outputs": [],
      "source": [
        "class DynamicArray:\n",
        "    \"\"\"A dynamic array class akin to a simplified Python list\"\"\"\n",
        "\n",
        "    def __init__(self):\n",
        "        \"\"\"Create an empty array.\"\"\"\n",
        "        self._n = 0\n",
        "        self._capacity = 1\n",
        "        self._A = self._make_array(self._capacity)\n",
        "\n",
        "    def __len__(self):\n",
        "        \"\"\"Return number of elements stored in the array\"\"\"\n",
        "        return self._n\n",
        "\n",
        "    def __getitem__(self, k):\n",
        "        if not 0<= k < self._n:\n",
        "            raise IndexError( 'invalid index' )\n",
        "        return self._A[k]\n",
        "\n",
        "    def append(self, obj):\n",
        "        \"\"\"Add object to end of the array.\"\"\"\n",
        "        if self._n == self._capacity:\n",
        "            self._resize(2 * self._capacity)\n",
        "        self._A[self._n] = obj\n",
        "        self._n += 1\n",
        "\n",
        "    def _resize(self, c):\n",
        "        \"\"\"Resize internal array to capacity c.\"\"\"\n",
        "        B = self._make_array(c)\n",
        "        for k in range(self._n):\n",
        "            B[k] = self._A[k]\n",
        "        self._A = B\n",
        "        self._capacity = c\n",
        "\n",
        "    def _make_array(self, c):\n",
        "        \"\"\"Return new array with capacity c.\"\"\"\n",
        "        return (c * ctypes.py_object)()"
      ]
    },
    {
      "cell_type": "code",
      "execution_count": null,
      "metadata": {
        "id": "RBODPqKcFlPu"
      },
      "outputs": [],
      "source": [
        "darray = DynamicArray()\n",
        "darray.append(4)\n",
        "darray.append(1)\n",
        "darray.append(3)\n",
        "print(darray[-3])\n",
        "print(darray[-2])\n",
        "print(darray[-1])\n",
        "print(darray[0])\n",
        "print(darray[1])\n",
        "print(darray[2])"
      ]
    },
    {
      "cell_type": "markdown",
      "metadata": {
        "pycharm": {
          "name": "#%% md\n"
        },
        "id": "u7Op2sjyFlPu"
      },
      "source": [
        "#### Solución"
      ]
    },
    {
      "cell_type": "code",
      "execution_count": null,
      "metadata": {
        "id": "GcCjGHu4FlPu"
      },
      "outputs": [],
      "source": [
        "    def __getitem__(self, k):\n",
        "        if 0<= k < self._n:\n",
        "            return self._A[k]\n",
        "        else:\n",
        "            return self._A[k - 1]"
      ]
    },
    {
      "cell_type": "code",
      "execution_count": null,
      "metadata": {
        "id": "H2WAcrDoFlPv"
      },
      "outputs": [],
      "source": [
        "darray = DynamicArray()\n",
        "darray.append(4)\n",
        "darray.append(1)\n",
        "darray.append(3)\n",
        "print(darray[-3])\n",
        "print(darray[-2])\n",
        "print(darray[-1])\n",
        "print(darray[0])\n",
        "print(darray[1])\n",
        "print(darray[2])"
      ]
    },
    {
      "cell_type": "code",
      "execution_count": null,
      "metadata": {
        "id": "8OEPSsESFlPv"
      },
      "outputs": [],
      "source": []
    }
  ],
  "metadata": {
    "kernelspec": {
      "display_name": "Python 3",
      "language": "python",
      "name": "python3"
    },
    "language_info": {
      "codemirror_mode": {
        "name": "ipython",
        "version": 3
      },
      "file_extension": ".py",
      "mimetype": "text/x-python",
      "name": "python",
      "nbconvert_exporter": "python",
      "pygments_lexer": "ipython3",
      "version": "3.8.3"
    },
    "pycharm": {
      "stem_cell": {
        "cell_type": "raw",
        "metadata": {
          "collapsed": false
        },
        "source": []
      }
    },
    "colab": {
      "provenance": [],
      "include_colab_link": true
    }
  },
  "nbformat": 4,
  "nbformat_minor": 0
}