{
  "cells": [
    {
      "cell_type": "markdown",
      "metadata": {
        "id": "view-in-github",
        "colab_type": "text"
      },
      "source": [
        "<a href=\"https://colab.research.google.com/github/Jennifer-Arriola/Algoritmos/blob/main/Ejercicios/Practica1.ipynb\" target=\"_parent\"><img src=\"https://colab.research.google.com/assets/colab-badge.svg\" alt=\"Open In Colab\"/></a>"
      ]
    },
    {
      "cell_type": "markdown",
      "metadata": {
        "id": "IiGLNPg82SyP"
      },
      "source": [
        "#  Ejercicios - Clase 1 -\n"
      ]
    },
    {
      "cell_type": "markdown",
      "metadata": {
        "id": "-drHoGKR2SyU"
      },
      "source": [
        "## Ejercicio 1\n",
        "\n",
        "Escribir un programa, que tome como entrada un *string* del usuario, el cuál debe ser impreso por pantalla en orden reverso. El programa también debe imprimir la palabra \"Bingo!\", si el string ingresado es *palíndromo*."
      ]
    },
    {
      "cell_type": "code",
      "execution_count": null,
      "metadata": {
        "id": "1FNpO5C02SyV"
      },
      "outputs": [],
      "source": []
    },
    {
      "cell_type": "markdown",
      "metadata": {
        "id": "zG7gDPlx2SyW"
      },
      "source": [
        "## Ejercicio 2\n",
        "\n",
        "Escribir un algoritmo que muestrre por pantalla las tablas de multiplicacion, desde el 1 hasta el 9.\n"
      ]
    },
    {
      "cell_type": "code",
      "execution_count": null,
      "metadata": {
        "collapsed": true,
        "id": "TXOxHZnk2SyW"
      },
      "outputs": [],
      "source": []
    },
    {
      "cell_type": "markdown",
      "metadata": {
        "id": "m84zF5Y22SyW"
      },
      "source": [
        "## Ejercicio 3\n",
        "\n",
        "Dado un número de $2n + 1$ cifras, chequear si el mismo es palíndromo (capicúa).\n"
      ]
    },
    {
      "cell_type": "code",
      "execution_count": null,
      "metadata": {
        "id": "SrcwT-3j2SyX"
      },
      "outputs": [],
      "source": []
    },
    {
      "cell_type": "markdown",
      "metadata": {
        "collapsed": true,
        "id": "XdqUAJHy2SyX"
      },
      "source": [
        "## Ejercicio 4\n",
        "\n",
        "Diseñar un algoritmo que calcule la media de una serie de números positivos entrados por teclado. El ingreso de un valor igual a cero indicará el final del ingreso de datos.\n"
      ]
    },
    {
      "cell_type": "code",
      "execution_count": null,
      "metadata": {
        "id": "Evarnwms2SyX"
      },
      "outputs": [],
      "source": []
    },
    {
      "cell_type": "markdown",
      "metadata": {
        "collapsed": true,
        "id": "c2JanWrv2SyY"
      },
      "source": [
        "## Ejercicio 5\n",
        "\n",
        "Diseñar un algoritmo que calcula e imprime la suma de los números pares comprendidos entre 2 y 100.\n",
        "\n"
      ]
    },
    {
      "cell_type": "code",
      "execution_count": null,
      "metadata": {
        "id": "ZdkC0iiw2SyY"
      },
      "outputs": [],
      "source": []
    },
    {
      "cell_type": "markdown",
      "metadata": {
        "collapsed": true,
        "id": "NavF2LAX2SyY"
      },
      "source": [
        "## Ejercicio 6\n",
        "\n",
        "Diseñar un algoritmo que dado tres números, determinar si la suma de cualquier pareja de ellos es igual al tercer número. Si se cumple esta condición deberá imprimir la palabra ''iguales'', sino ''distintos''.\n"
      ]
    },
    {
      "cell_type": "code",
      "execution_count": null,
      "metadata": {
        "id": "A6sahRS22SyZ"
      },
      "outputs": [],
      "source": []
    },
    {
      "cell_type": "markdown",
      "metadata": {
        "collapsed": true,
        "id": "C0Du2rd32SyZ"
      },
      "source": [
        "## Ejercicio 7\n",
        "\n",
        "Diseñar un algoritmo que pida al usuario el ingreso de un horario, expresado en horas, minutos y segundos e indique la diferencia entre el horario ingresado y la hora actual en horas, minutos y segundos.\n"
      ]
    },
    {
      "cell_type": "code",
      "execution_count": null,
      "metadata": {
        "id": "AFEh1vSl2SyZ"
      },
      "outputs": [],
      "source": []
    },
    {
      "cell_type": "markdown",
      "metadata": {
        "collapsed": true,
        "id": "Ys8I7Qhm2SyZ"
      },
      "source": [
        "## Ejercicio 8\n",
        "\n",
        "Escribir las sentencias condicionales para calcular:\n",
        "\n",
        "- a) $ x =  x - 5 ~ \\textrm{ si } ~a > b $\n",
        "\n",
        "\n",
        "- b) $  x = \\left\\{ \\begin{array}{ll}\n",
        "       -8 & & \\textrm{si} ~a > b \\\\\n",
        "       1  & & \\textrm{si} ~a <= b\n",
        "        \\end{array} \\right. $\n",
        "        \n",
        "- c) $  x =  \\left\\{ \\begin{array}{ll}\n",
        "        1 & \\textrm{si} ~n > 5\\\\\n",
        "        0 & \\textrm{si} ~n = 5\\\\\n",
        "       -1 & \\textrm{si} ~n < 5\n",
        "        \\end{array} \\right. $\n",
        "        \n",
        "        \n",
        "- d)  $ t =  \\left\\{ \\begin{array}{llr}\n",
        "        1 & \\textrm{si} ~x > a\\\\\n",
        "        3 & \\textrm{si} ~a <= x <= b & \\textrm{para}~a<b<c\\\\\n",
        "        5 & \\textrm{si} ~b < x <= c\\\\\n",
        "       -4 & \\textrm{si} ~c < x\n",
        "        \\end{array} \\right. $"
      ]
    },
    {
      "cell_type": "code",
      "execution_count": null,
      "metadata": {
        "id": "dSigdrEZ2Sya"
      },
      "outputs": [],
      "source": []
    },
    {
      "cell_type": "markdown",
      "metadata": {
        "id": "Nkxf5nNx2Sya"
      },
      "source": [
        "## Ejercicio  9\n",
        "\n",
        "Se necesita realizar un programa para asistir a un empleado de un Cine (o Teatro). El empleado esta encargado de enviar a las personas a la sala correcta.\n",
        "\n",
        "Una vez comprada la entrada la audiencia se dirige al empleado, el cual, en base al número que figura en la entrada (3 dígitos) los envía a la sala correspondiente.\n",
        "Si la entrada es par, el empleado los dirige a la Sala 1. Cuando la entrada es impar los dirige a la sala 2.\n",
        "\n",
        "Recientemente, por un error en la impresión de las entradas han salido muchas con el número $000$, en este caso el empleado debe comunicarle al usuario que se dirija a la administraci\\'on para obtener una nueva entrada.\n"
      ]
    },
    {
      "cell_type": "code",
      "execution_count": null,
      "metadata": {
        "id": "J0Yqma7p2Sya"
      },
      "outputs": [],
      "source": []
    },
    {
      "cell_type": "markdown",
      "metadata": {
        "id": "8PjlYxjW2Syb"
      },
      "source": [
        "## Ejercicio 10\n",
        "\n",
        "Un empleado trabaja en la mesa de entradas de una organización. Le llegan expedientes de otras dependencias, los cuales debera depositar en $10$ buzones distintos dependiendo del \"codigo de expediente\" .\n",
        "\n",
        "Los expedientes están codificados con números de $1$ (uno) dígito. La forma de agrupación es la siguiente: los expedientes $0$ serán depositados en el buzón $A$, los $1$, serán depositados en el buzón $B$, y así sucesivamente hasta el buzón $J$.\n"
      ]
    },
    {
      "cell_type": "code",
      "execution_count": null,
      "metadata": {
        "id": "hV58IY202Syb"
      },
      "outputs": [],
      "source": []
    },
    {
      "cell_type": "markdown",
      "metadata": {
        "collapsed": true,
        "id": "eaNh_Ha92Syb"
      },
      "source": [
        "## Ejercicio 11\n",
        "\n",
        "Diseñar un algoritmo que pida el total de kilometros recorridos, el precio de la gasolina (por litro), el dinero de gasolina gastado en el viaje y el tiempo que se ha tardado (en horas y minutos) y que calcule:\n",
        "\n",
        "- a)    Consumo de gasolina (en litros y pesos) por cada 100 km.\n",
        "\n",
        "- b)    Consumo de gasolina (en litros y pesos) por cada km.\n",
        "    \n",
        "- c)    Velocidad media (en km/h y m/s).\n",
        "   "
      ]
    },
    {
      "cell_type": "code",
      "execution_count": null,
      "metadata": {
        "id": "2-z5UOi42Syb"
      },
      "outputs": [],
      "source": []
    },
    {
      "cell_type": "markdown",
      "metadata": {
        "collapsed": true,
        "id": "U5-ZgiKD2Syc"
      },
      "source": [
        "## Ejercicio 12\n",
        "\n",
        "Escribir los algoritmos que permiten generar las siguientes salidas.\n",
        "\n",
        "**Nota:** en la siguiente salida el carácter '\\_' es un espacio en blanco.\n",
        "\n",
        "<img src=\"https://drive.google.com/uc?id=1au3E6w2ioP_Dkxtu72XzhTk2VqThgRzB\" width=\"600px\" />\n"
      ]
    },
    {
      "cell_type": "code",
      "execution_count": null,
      "metadata": {
        "id": "xEhxe3MN2Syc"
      },
      "outputs": [],
      "source": []
    },
    {
      "cell_type": "markdown",
      "metadata": {
        "id": "ToUH6U8t2Syc"
      },
      "source": [
        "## Ejercicio 13\n",
        "\n",
        "Desarrollar un algoritmo el cual dado un conjunto de números enteros, escribir aquellos que sean divisibles por $I$.\n"
      ]
    },
    {
      "cell_type": "code",
      "execution_count": null,
      "metadata": {
        "id": "mztuAtqH2Syc"
      },
      "outputs": [],
      "source": []
    },
    {
      "cell_type": "markdown",
      "metadata": {
        "id": "ZndBua7v2Syc"
      },
      "source": [
        "## Ejercicio 14\n",
        "\n",
        "Desarrolle un programa que se le ingrese una cierta cantidad de dinero (en pesos y entera) y devuelva la menor cantidad de billetes de 100, 50, 20, 10, 5, 2 y monedas de 1 posibles.\n"
      ]
    },
    {
      "cell_type": "code",
      "execution_count": null,
      "metadata": {
        "id": "9sWT94aw2Syc"
      },
      "outputs": [],
      "source": []
    },
    {
      "cell_type": "markdown",
      "metadata": {
        "id": "CKZ8qqKd2Syd"
      },
      "source": [
        "## Ejercicio 15\n",
        "\n",
        "Desarrollar un programa que convierta una cantidad entera de segundos al formato \"HORAS:MINUTOS:SEGUNDOS\".\n"
      ]
    },
    {
      "cell_type": "code",
      "execution_count": null,
      "metadata": {
        "id": "RVdS-Xpo2Syd"
      },
      "outputs": [],
      "source": []
    },
    {
      "cell_type": "markdown",
      "metadata": {
        "id": "cmyVSMZM2Syd"
      },
      "source": [
        "## Ejercicio 16\n",
        "\n",
        "Desarrollar un programa que pida ingresar un número entero por teclado estrictamente mayor a 1 y devuelva su mayor divisor que sea distinto de el.\n",
        "    "
      ]
    },
    {
      "cell_type": "code",
      "execution_count": null,
      "metadata": {
        "id": "_-R8Vj-i2Syd"
      },
      "outputs": [],
      "source": []
    },
    {
      "cell_type": "markdown",
      "metadata": {
        "id": "5AJ_YP022Syd"
      },
      "source": [
        "## Ejercicio 17\n",
        "\n",
        "Desarrollar un programa que pida ingresar un número entero por teclado estrictamente mayor a 1 y devuelva todos los divisores de ese número.\n",
        "    "
      ]
    },
    {
      "cell_type": "code",
      "execution_count": null,
      "metadata": {
        "id": "ZtC2QPjQ2Sye"
      },
      "outputs": [],
      "source": []
    },
    {
      "cell_type": "markdown",
      "metadata": {
        "id": "e8QfRuOY2Sye"
      },
      "source": [
        "## Ejercicio 18\n",
        "\n",
        "Desarrolle un programa que permita saber si un número ingresado por teclado es par (positivo y negativo) o impar (positivo y negativo).\n"
      ]
    },
    {
      "cell_type": "code",
      "execution_count": null,
      "metadata": {
        "id": "i7PqRRFY2Sye"
      },
      "outputs": [],
      "source": []
    },
    {
      "cell_type": "markdown",
      "metadata": {
        "id": "iPc3Er4O2Sye"
      },
      "source": [
        "## Ejercicio 19\n",
        "\n",
        "Desarrollar un algoritmo que diga si un número ingresado es abundante.\n",
        "\n",
        "**Nota:** usar Google o Wikipedia para saber que es un número abundante.\n"
      ]
    },
    {
      "cell_type": "code",
      "execution_count": null,
      "metadata": {
        "id": "5Fu3PG7s2Sye"
      },
      "outputs": [],
      "source": []
    },
    {
      "cell_type": "markdown",
      "metadata": {
        "id": "DGL6YiN52Syf"
      },
      "source": [
        "## Ejercicio 20\n",
        "\n",
        "Ídem anterior, pero para un conjunto de números de entrada. El algoritmo para cuando el número ingresado es igual a 0.\n"
      ]
    },
    {
      "cell_type": "code",
      "execution_count": null,
      "metadata": {
        "id": "WGOtlf5I2Syf"
      },
      "outputs": [],
      "source": []
    },
    {
      "cell_type": "markdown",
      "metadata": {
        "id": "sDuIH57D2Syg"
      },
      "source": [
        "## Ejercicio 21\n",
        "\n",
        "  Desarrollar un algoritmo para, dado un número natural, determinar si es defectivo.\n",
        "  \n",
        "  **Nota:** usar Google o Wikipedia para saber que es un n\\'umero defectivo."
      ]
    },
    {
      "cell_type": "code",
      "execution_count": null,
      "metadata": {
        "id": "IjCOVnSl2Syg"
      },
      "outputs": [],
      "source": []
    },
    {
      "cell_type": "markdown",
      "metadata": {
        "id": "wyTwXAY-2Syg"
      },
      "source": [
        "## Ejercicio 22\n",
        "\n",
        "Desarrollar un algoritmo para encontrar los n\\'umeros perfectos entre 1 y $N$."
      ]
    },
    {
      "cell_type": "code",
      "execution_count": null,
      "metadata": {
        "id": "WAQWDW0l2Syg"
      },
      "outputs": [],
      "source": []
    }
  ],
  "metadata": {
    "kernelspec": {
      "display_name": "Python 3",
      "language": "python",
      "name": "python3"
    },
    "language_info": {
      "codemirror_mode": {
        "name": "ipython",
        "version": 3
      },
      "file_extension": ".py",
      "mimetype": "text/x-python",
      "name": "python",
      "nbconvert_exporter": "python",
      "pygments_lexer": "ipython3",
      "version": "3.8.3"
    },
    "colab": {
      "provenance": [],
      "include_colab_link": true
    }
  },
  "nbformat": 4,
  "nbformat_minor": 0
}